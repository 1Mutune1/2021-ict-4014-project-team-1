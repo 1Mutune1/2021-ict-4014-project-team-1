{
 "cells": [
  {
   "cell_type": "markdown",
   "metadata": {},
   "source": [
    "# Importing all the required libraries"
   ]
  },
  {
   "cell_type": "code",
   "execution_count": 528,
   "metadata": {},
   "outputs": [],
   "source": [
    "import pandas as pd"
   ]
  },
  {
   "cell_type": "code",
   "execution_count": 529,
   "metadata": {},
   "outputs": [],
   "source": [
    "import numpy as np"
   ]
  },
  {
   "cell_type": "code",
   "execution_count": 530,
   "metadata": {},
   "outputs": [],
   "source": [
    "import matplotlib.pyplot as plt"
   ]
  },
  {
   "cell_type": "code",
   "execution_count": 531,
   "metadata": {},
   "outputs": [],
   "source": [
    "import re"
   ]
  },
  {
   "cell_type": "code",
   "execution_count": 532,
   "metadata": {},
   "outputs": [],
   "source": [
    "import string"
   ]
  },
  {
   "cell_type": "code",
   "execution_count": 533,
   "metadata": {},
   "outputs": [],
   "source": [
    "import string"
   ]
  },
  {
   "cell_type": "code",
   "execution_count": 534,
   "metadata": {},
   "outputs": [],
   "source": [
    "from IPython.core.interactiveshell import InteractiveShell"
   ]
  },
  {
   "cell_type": "code",
   "execution_count": 535,
   "metadata": {},
   "outputs": [],
   "source": [
    "from nltk.corpus import stopwords"
   ]
  },
  {
   "cell_type": "code",
   "execution_count": 536,
   "metadata": {},
   "outputs": [],
   "source": [
    "from nltk.stem.porter import PorterStemmer"
   ]
  },
  {
   "cell_type": "code",
   "execution_count": 537,
   "metadata": {},
   "outputs": [],
   "source": [
    "from sklearn.feature_extraction.text import CountVectorizer"
   ]
  },
  {
   "cell_type": "code",
   "execution_count": 538,
   "metadata": {},
   "outputs": [],
   "source": [
    "from sklearn.feature_extraction.text import TfidfVectorizer"
   ]
  },
  {
   "cell_type": "code",
   "execution_count": 539,
   "metadata": {},
   "outputs": [],
   "source": [
    "InteractiveShell.ast_node_interactivity = \"all\""
   ]
  },
  {
   "cell_type": "code",
   "execution_count": 540,
   "metadata": {},
   "outputs": [],
   "source": [
    "pd.set_option('display.latex.repr', True)"
   ]
  },
  {
   "cell_type": "code",
   "execution_count": 541,
   "metadata": {},
   "outputs": [],
   "source": [
    "pd.set_option('display.latex.longtable', True)"
   ]
  },
  {
   "cell_type": "code",
   "execution_count": 542,
   "metadata": {},
   "outputs": [],
   "source": [
    "from sklearn.model_selection import train_test_split"
   ]
  },
  {
   "cell_type": "code",
   "execution_count": 543,
   "metadata": {},
   "outputs": [],
   "source": [
    "from sklearn.datasets import load_iris"
   ]
  },
  {
   "cell_type": "code",
   "execution_count": 544,
   "metadata": {},
   "outputs": [],
   "source": [
    "from sklearn.linear_model import LogisticRegression"
   ]
  },
  {
   "cell_type": "code",
   "execution_count": 545,
   "metadata": {},
   "outputs": [],
   "source": [
    "from sklearn.ensemble import RandomForestClassifier"
   ]
  },
  {
   "cell_type": "code",
   "execution_count": 546,
   "metadata": {},
   "outputs": [],
   "source": [
    "from sklearn.svm import LinearSVC"
   ]
  },
  {
   "cell_type": "code",
   "execution_count": 547,
   "metadata": {},
   "outputs": [],
   "source": [
    "from sklearn import tree"
   ]
  },
  {
   "cell_type": "code",
   "execution_count": 548,
   "metadata": {},
   "outputs": [],
   "source": [
    "from sklearn.tree import DecisionTreeClassifier"
   ]
  },
  {
   "cell_type": "code",
   "execution_count": 549,
   "metadata": {},
   "outputs": [],
   "source": [
    "from sklearn.metrics import accuracy_score"
   ]
  },
  {
   "cell_type": "code",
   "execution_count": 550,
   "metadata": {},
   "outputs": [],
   "source": [
    "from sklearn.metrics import classification_report"
   ]
  },
  {
   "cell_type": "code",
   "execution_count": 551,
   "metadata": {},
   "outputs": [],
   "source": [
    "from sklearn.metrics import confusion_matrix"
   ]
  },
  {
   "cell_type": "code",
   "execution_count": 552,
   "metadata": {},
   "outputs": [],
   "source": [
    "from sklearn.linear_model import LinearRegression"
   ]
  },
  {
   "cell_type": "code",
   "execution_count": 553,
   "metadata": {},
   "outputs": [],
   "source": [
    "from  sklearn.preprocessing import LabelEncoder"
   ]
  },
  {
   "cell_type": "code",
   "execution_count": 554,
   "metadata": {},
   "outputs": [],
   "source": [
    "from sklearn.metrics import classification_report, confusion_matrix"
   ]
  },
  {
   "cell_type": "code",
   "execution_count": 555,
   "metadata": {},
   "outputs": [],
   "source": [
    "import pickle"
   ]
  },
  {
   "cell_type": "markdown",
   "metadata": {},
   "source": [
    "# Loading the dataset"
   ]
  },
  {
   "cell_type": "code",
   "execution_count": 556,
   "metadata": {},
   "outputs": [],
   "source": [
    "df=pd.read_csv('Reports Demographics1.csv', index_col=\"Computer Number\")"
   ]
  },
  {
   "cell_type": "code",
   "execution_count": 557,
   "metadata": {},
   "outputs": [
    {
     "data": {
      "text/html": [
       "<div>\n",
       "<style scoped>\n",
       "    .dataframe tbody tr th:only-of-type {\n",
       "        vertical-align: middle;\n",
       "    }\n",
       "\n",
       "    .dataframe tbody tr th {\n",
       "        vertical-align: top;\n",
       "    }\n",
       "\n",
       "    .dataframe thead th {\n",
       "        text-align: right;\n",
       "    }\n",
       "</style>\n",
       "<table border=\"1\" class=\"dataframe\">\n",
       "  <thead>\n",
       "    <tr style=\"text-align: right;\">\n",
       "      <th></th>\n",
       "      <th>Gender</th>\n",
       "      <th>Academic Year</th>\n",
       "      <th>Year Of Study</th>\n",
       "      <th>School</th>\n",
       "      <th>Program</th>\n",
       "      <th>MajorDescription</th>\n",
       "      <th>MinorDescription</th>\n",
       "      <th>Total number of courses</th>\n",
       "      <th>Sponsor</th>\n",
       "      <th>Accomodated</th>\n",
       "      <th>Moodle logins</th>\n",
       "      <th>CA + Exam</th>\n",
       "    </tr>\n",
       "    <tr>\n",
       "      <th>Computer Number</th>\n",
       "      <th></th>\n",
       "      <th></th>\n",
       "      <th></th>\n",
       "      <th></th>\n",
       "      <th></th>\n",
       "      <th></th>\n",
       "      <th></th>\n",
       "      <th></th>\n",
       "      <th></th>\n",
       "      <th></th>\n",
       "      <th></th>\n",
       "      <th></th>\n",
       "    </tr>\n",
       "  </thead>\n",
       "  <tbody>\n",
       "    <tr>\n",
       "      <th>2000</th>\n",
       "      <td>F</td>\n",
       "      <td>20201</td>\n",
       "      <td>1st Year</td>\n",
       "      <td>EDUCATION</td>\n",
       "      <td>BACHELOR OF INFORMATION AND COMMUNICATION TECH...</td>\n",
       "      <td>ICTs and Education</td>\n",
       "      <td>MATHEMATICS</td>\n",
       "      <td>4.0</td>\n",
       "      <td>TUITION WAIVER(DEPENDANTS)</td>\n",
       "      <td>No</td>\n",
       "      <td>NaN</td>\n",
       "      <td>NaN</td>\n",
       "    </tr>\n",
       "    <tr>\n",
       "      <th>2001</th>\n",
       "      <td>M</td>\n",
       "      <td>20171</td>\n",
       "      <td>1st Year</td>\n",
       "      <td>EDUCATION</td>\n",
       "      <td>BACHELOR OF INFORMATION AND COMMUNICATION TECH...</td>\n",
       "      <td>ICTs and Education</td>\n",
       "      <td>CIVIC EDUCATION</td>\n",
       "      <td>5.0</td>\n",
       "      <td>TUITION WAIVER(DEPENDANTS)</td>\n",
       "      <td>No</td>\n",
       "      <td>NaN</td>\n",
       "      <td>64.0</td>\n",
       "    </tr>\n",
       "    <tr>\n",
       "      <th>2002</th>\n",
       "      <td>M</td>\n",
       "      <td>20181</td>\n",
       "      <td>1st Year</td>\n",
       "      <td>EDUCATION</td>\n",
       "      <td>BACHELOR OF INFORMATION AND COMMUNICATION TECH...</td>\n",
       "      <td>ICTs and Education</td>\n",
       "      <td>NaN</td>\n",
       "      <td>NaN</td>\n",
       "      <td>SELF-SPONSORED</td>\n",
       "      <td>No</td>\n",
       "      <td>NaN</td>\n",
       "      <td>NaN</td>\n",
       "    </tr>\n",
       "    <tr>\n",
       "      <th>2003</th>\n",
       "      <td>M</td>\n",
       "      <td>20181</td>\n",
       "      <td>1st Year</td>\n",
       "      <td>EDUCATION</td>\n",
       "      <td>BACHELOR OF INFORMATION AND COMMUNICATION TECH...</td>\n",
       "      <td>ICTs and Education</td>\n",
       "      <td>RELIGIOUS STUDIES</td>\n",
       "      <td>4.0</td>\n",
       "      <td>SELF-SPONSORED</td>\n",
       "      <td>No</td>\n",
       "      <td>NaN</td>\n",
       "      <td>NaN</td>\n",
       "    </tr>\n",
       "    <tr>\n",
       "      <th>2004</th>\n",
       "      <td>M</td>\n",
       "      <td>20171</td>\n",
       "      <td>1st Year</td>\n",
       "      <td>EDUCATION</td>\n",
       "      <td>BACHELOR OF INFORMATION AND COMMUNICATION TECH...</td>\n",
       "      <td>ICTs and Education</td>\n",
       "      <td>CURRICULUM STUDIES</td>\n",
       "      <td>4.0</td>\n",
       "      <td>GRZ-FULLY SPONSORED</td>\n",
       "      <td>No</td>\n",
       "      <td>NaN</td>\n",
       "      <td>45.0</td>\n",
       "    </tr>\n",
       "    <tr>\n",
       "      <th>...</th>\n",
       "      <td>...</td>\n",
       "      <td>...</td>\n",
       "      <td>...</td>\n",
       "      <td>...</td>\n",
       "      <td>...</td>\n",
       "      <td>...</td>\n",
       "      <td>...</td>\n",
       "      <td>...</td>\n",
       "      <td>...</td>\n",
       "      <td>...</td>\n",
       "      <td>...</td>\n",
       "      <td>...</td>\n",
       "    </tr>\n",
       "    <tr>\n",
       "      <th>2272</th>\n",
       "      <td>M</td>\n",
       "      <td>20201</td>\n",
       "      <td>1st Year</td>\n",
       "      <td>EDUCATION</td>\n",
       "      <td>BACHELOR OF INFORMATION AND COMMUNICATION TECH...</td>\n",
       "      <td>ICTs and Education</td>\n",
       "      <td>CIVIC EDUCATION</td>\n",
       "      <td>4.0</td>\n",
       "      <td>TUITION WAIVER(DEPENDANTS)</td>\n",
       "      <td>Yes</td>\n",
       "      <td>0.02</td>\n",
       "      <td>56.0</td>\n",
       "    </tr>\n",
       "    <tr>\n",
       "      <th>2273</th>\n",
       "      <td>M</td>\n",
       "      <td>20201</td>\n",
       "      <td>1st Year</td>\n",
       "      <td>EDUCATION</td>\n",
       "      <td>BACHELOR OF INFORMATION AND COMMUNICATION TECH...</td>\n",
       "      <td>ICTs and Education</td>\n",
       "      <td>CIVIC EDUCATION</td>\n",
       "      <td>4.0</td>\n",
       "      <td>GRZ-FULLY SPONSORED</td>\n",
       "      <td>No</td>\n",
       "      <td>0.30</td>\n",
       "      <td>47.0</td>\n",
       "    </tr>\n",
       "    <tr>\n",
       "      <th>2274</th>\n",
       "      <td>F</td>\n",
       "      <td>20201</td>\n",
       "      <td>1st Year</td>\n",
       "      <td>EDUCATION</td>\n",
       "      <td>BACHELOR OF INFORMATION AND COMMUNICATION TECH...</td>\n",
       "      <td>ICTs and Education</td>\n",
       "      <td>FRENCH</td>\n",
       "      <td>4.0</td>\n",
       "      <td>SELF-SPONSORED</td>\n",
       "      <td>No</td>\n",
       "      <td>0.01</td>\n",
       "      <td>35.0</td>\n",
       "    </tr>\n",
       "    <tr>\n",
       "      <th>2275</th>\n",
       "      <td>M</td>\n",
       "      <td>20201</td>\n",
       "      <td>1st Year</td>\n",
       "      <td>EDUCATION</td>\n",
       "      <td>BACHELOR OF INFORMATION AND COMMUNICATION TECH...</td>\n",
       "      <td>ICTs and Education</td>\n",
       "      <td>MATHEMATICS</td>\n",
       "      <td>4.0</td>\n",
       "      <td>GRZ-FULLY SPONSORED</td>\n",
       "      <td>Yes</td>\n",
       "      <td>0.20</td>\n",
       "      <td>38.0</td>\n",
       "    </tr>\n",
       "    <tr>\n",
       "      <th>2276</th>\n",
       "      <td>F</td>\n",
       "      <td>20201</td>\n",
       "      <td>1st Year</td>\n",
       "      <td>EDUCATION</td>\n",
       "      <td>BACHELOR OF INFORMATION AND COMMUNICATION TECH...</td>\n",
       "      <td>ICTs and Education</td>\n",
       "      <td>GEOGRAPHY</td>\n",
       "      <td>4.0</td>\n",
       "      <td>SELF-SPONSORED</td>\n",
       "      <td>No</td>\n",
       "      <td>NaN</td>\n",
       "      <td>NaN</td>\n",
       "    </tr>\n",
       "  </tbody>\n",
       "</table>\n",
       "<p>277 rows × 12 columns</p>\n",
       "</div>"
      ],
      "text/latex": [
       "\\begin{longtable}{llrlllllrllrr}\n",
       "\\toprule\n",
       "{} & Gender &  Academic Year & Year Of Study &     School &                                            Program &    MajorDescription &               MinorDescription &  Total number of courses &                     Sponsor & Accomodated &  Moodle logins &  CA + Exam \\\\\n",
       "Computer Number &        &                &               &            &                                                    &                     &                                &                          &                             &             &                &            \\\\\n",
       "\\midrule\n",
       "\\endfirsthead\n",
       "\n",
       "\\toprule\n",
       "{} & Gender &  Academic Year & Year Of Study &     School &                                            Program &    MajorDescription &               MinorDescription &  Total number of courses &                     Sponsor & Accomodated &  Moodle logins &  CA + Exam \\\\\n",
       "Computer Number &        &                &               &            &                                                    &                     &                                &                          &                             &             &                &            \\\\\n",
       "\\midrule\n",
       "\\endhead\n",
       "\\midrule\n",
       "\\multicolumn{13}{r}{{Continued on next page}} \\\\\n",
       "\\midrule\n",
       "\\endfoot\n",
       "\n",
       "\\bottomrule\n",
       "\\endlastfoot\n",
       "2000            &      F &          20201 &      1st Year &  EDUCATION &  BACHELOR OF INFORMATION AND COMMUNICATION TECH... &  ICTs and Education &                    MATHEMATICS &                      4.0 &  TUITION WAIVER(DEPENDANTS) &          No &            NaN &        NaN \\\\\n",
       "2001            &      M &          20171 &      1st Year &  EDUCATION &  BACHELOR OF INFORMATION AND COMMUNICATION TECH... &  ICTs and Education &                CIVIC EDUCATION &                      5.0 &  TUITION WAIVER(DEPENDANTS) &          No &            NaN &       64.0 \\\\\n",
       "2002            &      M &          20181 &      1st Year &  EDUCATION &  BACHELOR OF INFORMATION AND COMMUNICATION TECH... &  ICTs and Education &                            NaN &                      NaN &              SELF-SPONSORED &          No &            NaN &        NaN \\\\\n",
       "2003            &      M &          20181 &      1st Year &  EDUCATION &  BACHELOR OF INFORMATION AND COMMUNICATION TECH... &  ICTs and Education &              RELIGIOUS STUDIES &                      4.0 &              SELF-SPONSORED &          No &            NaN &        NaN \\\\\n",
       "2004            &      M &          20171 &      1st Year &  EDUCATION &  BACHELOR OF INFORMATION AND COMMUNICATION TECH... &  ICTs and Education &             CURRICULUM STUDIES &                      4.0 &         GRZ-FULLY SPONSORED &          No &            NaN &       45.0 \\\\\n",
       "2005            &      M &          20181 &      1st Year &  EDUCATION &  BACHELOR OF INFORMATION AND COMMUNICATION TECH... &  ICTs and Education &                CIVIC EDUCATION &                      5.0 &              SELF-SPONSORED &          No &            NaN &        NaN \\\\\n",
       "2006            &      F &          20171 &      1st Year &  EDUCATION &  BACHELOR OF INFORMATION AND COMMUNICATION TECH... &  ICTs and Education &                CIVIC EDUCATION &                      5.0 &         GRZ-FULLY SPONSORED &         Yes &            NaN &       45.0 \\\\\n",
       "2007            &      M &          20171 &      1st Year &  EDUCATION &  BACHELOR OF INFORMATION AND COMMUNICATION TECH... &  ICTs and Education &                    MATHEMATICS &                      4.0 &         GRZ-FULLY SPONSORED &          No &            NaN &       56.0 \\\\\n",
       "2008            &      M &          20191 &      1st Year &  EDUCATION &  BACHELOR OF INFORMATION AND COMMUNICATION TECH... &  ICTs and Education &                CIVIC EDUCATION &                      5.0 &              SELF-SPONSORED &          No &            NaN &        NaN \\\\\n",
       "2009            &      F &          20171 &      1st Year &  EDUCATION &  BACHELOR OF INFORMATION AND COMMUNICATION TECH... &  ICTs and Education &                CIVIC EDUCATION &                      5.0 &            GRZ - 75 PERCENT &          No &            NaN &       46.0 \\\\\n",
       "2010            &      F &          20171 &      1st Year &  EDUCATION &  BACHELOR OF INFORMATION AND COMMUNICATION TECH... &  ICTs and Education &                    MATHEMATICS &                      4.0 &            GRZ - 75 PERCENT &          No &            NaN &       59.0 \\\\\n",
       "2011            &      F &          20171 &      1st Year &  EDUCATION &  BACHELOR OF INFORMATION AND COMMUNICATION TECH... &  ICTs and Education &                CIVIC EDUCATION &                      5.0 &         GRZ-FULLY SPONSORED &          No &            NaN &       60.0 \\\\\n",
       "2012            &      M &          20171 &      1st Year &  EDUCATION &  BACHELOR OF INFORMATION AND COMMUNICATION TECH... &  ICTs and Education &                      GEOGRAPHY &                      4.0 &            GRZ - 75 PERCENT &          No &            NaN &       66.0 \\\\\n",
       "2013            &      M &          20171 &      1st Year &  EDUCATION &  BACHELOR OF INFORMATION AND COMMUNICATION TECH... &  ICTs and Education &                        CHINESE &                      4.0 &         GRZ-FULLY SPONSORED &          No &            NaN &       54.0 \\\\\n",
       "2014            &      F &          20171 &      1st Year &  EDUCATION &  BACHELOR OF INFORMATION AND COMMUNICATION TECH... &  ICTs and Education &                CIVIC EDUCATION &                      5.0 &         GRZ-FULLY SPONSORED &          No &            NaN &       59.0 \\\\\n",
       "2015            &      M &          20171 &      1st Year &  EDUCATION &  BACHELOR OF INFORMATION AND COMMUNICATION TECH... &  ICTs and Education &                CIVIC EDUCATION &                      5.0 &         GRZ-FULLY SPONSORED &          No &            NaN &       59.0 \\\\\n",
       "2016            &      M &          20171 &      1st Year &  EDUCATION &  BACHELOR OF INFORMATION AND COMMUNICATION TECH... &  ICTs and Education &                    MATHEMATICS &                      4.0 &         GRZ-FULLY SPONSORED &          No &            NaN &       59.0 \\\\\n",
       "2017            &      F &          20171 &      1st Year &  EDUCATION &  BACHELOR OF INFORMATION AND COMMUNICATION TECH... &  ICTs and Education &                CIVIC EDUCATION &                      5.0 &         GRZ-FULLY SPONSORED &          No &            NaN &       47.0 \\\\\n",
       "2018            &      F &          20171 &      1st Year &  EDUCATION &  BACHELOR OF INFORMATION AND COMMUNICATION TECH... &  ICTs and Education &                CIVIC EDUCATION &                      5.0 &              SELF-SPONSORED &          No &            NaN &       48.0 \\\\\n",
       "2019            &      M &          20171 &      1st Year &  EDUCATION &  BACHELOR OF INFORMATION AND COMMUNICATION TECH... &  ICTs and Education &                CIVIC EDUCATION &                      5.0 &              SELF-SPONSORED &          No &            NaN &       34.0 \\\\\n",
       "2020            &      M &          20171 &      1st Year &  EDUCATION &  BACHELOR OF INFORMATION AND COMMUNICATION TECH... &  ICTs and Education &                      GEOGRAPHY &                      4.0 &         GRZ-FULLY SPONSORED &          No &            NaN &       47.0 \\\\\n",
       "2021            &      M &          20171 &      1st Year &  EDUCATION &  BACHELOR OF INFORMATION AND COMMUNICATION TECH... &  ICTs and Education &                            NaN &                      NaN &              SELF-SPONSORED &          No &            NaN &        NaN \\\\\n",
       "2022            &      M &          20171 &      1st Year &  EDUCATION &  BACHELOR OF INFORMATION AND COMMUNICATION TECH... &  ICTs and Education &                CIVIC EDUCATION &                      5.0 &         GRZ-FULLY SPONSORED &         Yes &            NaN &       61.0 \\\\\n",
       "2023            &      F &          20171 &      1st Year &  EDUCATION &  BACHELOR OF INFORMATION AND COMMUNICATION TECH... &  ICTs and Education &                      GEOGRAPHY &                      4.0 &         GRZ-FULLY SPONSORED &          No &            NaN &       47.0 \\\\\n",
       "2024            &      M &          20171 &      1st Year &  EDUCATION &  BACHELOR OF INFORMATION AND COMMUNICATION TECH... &  ICTs and Education &                CIVIC EDUCATION &                      5.0 &         GRZ-FULLY SPONSORED &          No &            NaN &       55.0 \\\\\n",
       "2025            &      M &          20171 &      1st Year &  EDUCATION &  BACHELOR OF INFORMATION AND COMMUNICATION TECH... &  ICTs and Education &                      GEOGRAPHY &                      4.0 &         GRZ-FULLY SPONSORED &          No &            NaN &       52.0 \\\\\n",
       "2026            &      M &          20171 &      1st Year &  EDUCATION &  BACHELOR OF INFORMATION AND COMMUNICATION TECH... &  ICTs and Education &                    MATHEMATICS &                      4.0 &         GRZ-FULLY SPONSORED &          No &            NaN &       53.0 \\\\\n",
       "2027            &      M &          20171 &      1st Year &  EDUCATION &  BACHELOR OF INFORMATION AND COMMUNICATION TECH... &  ICTs and Education &                        HISTORY &                      4.0 &            GRZ - 75 PERCENT &         Yes &            NaN &       45.0 \\\\\n",
       "2028            &      M &          20171 &      1st Year &  EDUCATION &  BACHELOR OF INFORMATION AND COMMUNICATION TECH... &  ICTs and Education &                CIVIC EDUCATION &                      5.0 &              SELF-SPONSORED &          No &            NaN &       57.0 \\\\\n",
       "2029            &      F &          20171 &      1st Year &  EDUCATION &  BACHELOR OF INFORMATION AND COMMUNICATION TECH... &  ICTs and Education &                        ENGLISH &                      5.0 &            GRZ - 75 PERCENT &          No &            NaN &       45.0 \\\\\n",
       "2030            &      M &          20171 &      1st Year &  EDUCATION &  BACHELOR OF INFORMATION AND COMMUNICATION TECH... &  ICTs and Education &                        HISTORY &                      4.0 &         GRZ-FULLY SPONSORED &         Yes &            NaN &       59.0 \\\\\n",
       "2031            &      M &          20171 &      1st Year &  EDUCATION &  BACHELOR OF INFORMATION AND COMMUNICATION TECH... &  ICTs and Education &                CIVIC EDUCATION &                      5.0 &         GRZ-FULLY SPONSORED &          No &            NaN &       47.0 \\\\\n",
       "2032            &      F &          20171 &      1st Year &  EDUCATION &  BACHELOR OF INFORMATION AND COMMUNICATION TECH... &  ICTs and Education &                CIVIC EDUCATION &                      5.0 &         GRZ-FULLY SPONSORED &          No &            NaN &       45.0 \\\\\n",
       "2033            &      M &          20171 &      1st Year &  EDUCATION &  BACHELOR OF INFORMATION AND COMMUNICATION TECH... &  ICTs and Education &                      GEOGRAPHY &                      4.0 &         GRZ-FULLY SPONSORED &         Yes &            NaN &       63.0 \\\\\n",
       "2034            &      F &          20171 &      1st Year &  EDUCATION &  BACHELOR OF INFORMATION AND COMMUNICATION TECH... &  ICTs and Education &              RELIGIOUS STUDIES &                      4.0 &            GRZ - 75 PERCENT &          No &            NaN &       49.0 \\\\\n",
       "2035            &      M &          20171 &      1st Year &  EDUCATION &  BACHELOR OF INFORMATION AND COMMUNICATION TECH... &  ICTs and Education &                      GEOGRAPHY &                      4.0 &  TUITION WAIVER(DEPENDANTS) &         Yes &            NaN &       40.0 \\\\\n",
       "2036            &      M &          20171 &      1st Year &  EDUCATION &  BACHELOR OF INFORMATION AND COMMUNICATION TECH... &  ICTs and Education &                    MATHEMATICS &                      4.0 &              SELF-SPONSORED &          No &            NaN &        NaN \\\\\n",
       "2037            &      M &          20181 &      1st Year &  EDUCATION &  BACHELOR OF INFORMATION AND COMMUNICATION TECH... &  ICTs and Education &                    MATHEMATICS &                      4.0 &              SELF-SPONSORED &          No &            NaN &        NaN \\\\\n",
       "2038            &      M &          20171 &      1st Year &  EDUCATION &  BACHELOR OF INFORMATION AND COMMUNICATION TECH... &  ICTs and Education &                            NaN &                      NaN &              SELF-SPONSORED &          No &            NaN &        NaN \\\\\n",
       "2039            &      F &          20171 &      1st Year &  EDUCATION &  BACHELOR OF INFORMATION AND COMMUNICATION TECH... &  ICTs and Education &                CIVIC EDUCATION &                      5.0 &              SELF-SPONSORED &          No &            NaN &        NaN \\\\\n",
       "2040            &      F &          20171 &      1st Year &  EDUCATION &  BACHELOR OF INFORMATION AND COMMUNICATION TECH... &  ICTs and Education &                        ENGLISH &                      5.0 &         GRZ-FULLY SPONSORED &          No &            NaN &       48.0 \\\\\n",
       "2041            &      M &          20171 &      1st Year &  EDUCATION &  BACHELOR OF INFORMATION AND COMMUNICATION TECH... &  ICTs and Education &                CIVIC EDUCATION &                      5.0 &              SELF-SPONSORED &         Yes &            NaN &       45.0 \\\\\n",
       "2042            &      M &          20171 &      1st Year &  EDUCATION &  BACHELOR OF INFORMATION AND COMMUNICATION TECH... &  ICTs and Education &                        ENGLISH &                      5.0 &         GRZ-FULLY SPONSORED &         Yes &            NaN &       58.0 \\\\\n",
       "2043            &      M &          20171 &      1st Year &  EDUCATION &  BACHELOR OF INFORMATION AND COMMUNICATION TECH... &  ICTs and Education &                        HISTORY &                      4.0 &         GRZ-FULLY SPONSORED &         Yes &            NaN &       47.0 \\\\\n",
       "2044            &      F &          20171 &      1st Year &  EDUCATION &  BACHELOR OF INFORMATION AND COMMUNICATION TECH... &  ICTs and Education &                CIVIC EDUCATION &                      5.0 &         GRZ-FULLY SPONSORED &          No &            NaN &       51.0 \\\\\n",
       "2045            &      M &          20171 &      1st Year &  EDUCATION &  BACHELOR OF INFORMATION AND COMMUNICATION TECH... &  ICTs and Education &  PHYSICAL EDUCATION AND SPORTS &                      4.0 &         GRZ-FULLY SPONSORED &          No &            NaN &       63.0 \\\\\n",
       "2046            &      M &          20171 &      1st Year &  EDUCATION &  BACHELOR OF INFORMATION AND COMMUNICATION TECH... &  ICTs and Education &                CIVIC EDUCATION &                      5.0 &         GRZ-FULLY SPONSORED &         Yes &           0.07 &       41.0 \\\\\n",
       "2047            &      M &          20171 &      1st Year &  EDUCATION &  BACHELOR OF INFORMATION AND COMMUNICATION TECH... &  ICTs and Education &                        HISTORY &                      4.0 &         GRZ-FULLY SPONSORED &          No &            NaN &       67.0 \\\\\n",
       "2048            &      F &          20171 &      1st Year &  EDUCATION &  BACHELOR OF INFORMATION AND COMMUNICATION TECH... &  ICTs and Education &                        HISTORY &                      4.0 &         GRZ-FULLY SPONSORED &          No &           0.04 &       38.0 \\\\\n",
       "2049            &      F &          20171 &      1st Year &  EDUCATION &  BACHELOR OF INFORMATION AND COMMUNICATION TECH... &  ICTs and Education &                CIVIC EDUCATION &                      5.0 &         GRZ-FULLY SPONSORED &         Yes &            NaN &       52.0 \\\\\n",
       "2050            &      M &          20171 &      1st Year &  EDUCATION &  BACHELOR OF INFORMATION AND COMMUNICATION TECH... &  ICTs and Education &                    MATHEMATICS &                      4.0 &         GRZ-FULLY SPONSORED &         Yes &            NaN &       45.0 \\\\\n",
       "2051            &      F &          20171 &      1st Year &  EDUCATION &  BACHELOR OF INFORMATION AND COMMUNICATION TECH... &  ICTs and Education &                    MATHEMATICS &                      4.0 &            GRZ - 75 PERCENT &          No &            NaN &       57.0 \\\\\n",
       "2052            &      M &          20171 &      1st Year &  EDUCATION &  BACHELOR OF INFORMATION AND COMMUNICATION TECH... &  ICTs and Education &                CIVIC EDUCATION &                      5.0 &         GRZ-FULLY SPONSORED &          No &            NaN &       54.0 \\\\\n",
       "2053            &      M &          20171 &      1st Year &  EDUCATION &  BACHELOR OF INFORMATION AND COMMUNICATION TECH... &  ICTs and Education &                        CHINESE &                      4.0 &         GRZ-FULLY SPONSORED &         Yes &            NaN &       55.0 \\\\\n",
       "2054            &      M &          20171 &      1st Year &  EDUCATION &  BACHELOR OF INFORMATION AND COMMUNICATION TECH... &  ICTs and Education &                      GEOGRAPHY &                      4.0 &         GRZ-FULLY SPONSORED &          No &            NaN &       57.0 \\\\\n",
       "2055            &      M &          20171 &      1st Year &  EDUCATION &  BACHELOR OF INFORMATION AND COMMUNICATION TECH... &  ICTs and Education &                CIVIC EDUCATION &                      5.0 &         GRZ-FULLY SPONSORED &          No &            NaN &       50.0 \\\\\n",
       "2056            &      M &          20171 &      1st Year &  EDUCATION &  BACHELOR OF INFORMATION AND COMMUNICATION TECH... &  ICTs and Education &                CIVIC EDUCATION &                      5.0 &         GRZ-FULLY SPONSORED &         Yes &            NaN &       53.0 \\\\\n",
       "2057            &      F &          20171 &      1st Year &  EDUCATION &  BACHELOR OF INFORMATION AND COMMUNICATION TECH... &  ICTs and Education &              RELIGIOUS STUDIES &                      4.0 &         GRZ-FULLY SPONSORED &          No &            NaN &       34.0 \\\\\n",
       "2058            &      F &          20171 &      1st Year &  EDUCATION &  BACHELOR OF INFORMATION AND COMMUNICATION TECH... &  ICTs and Education &                        ENGLISH &                      5.0 &         GRZ-FULLY SPONSORED &          No &            NaN &       62.0 \\\\\n",
       "2059            &      M &          20171 &      1st Year &  EDUCATION &  BACHELOR OF INFORMATION AND COMMUNICATION TECH... &  ICTs and Education &                CIVIC EDUCATION &                      5.0 &         GRZ-FULLY SPONSORED &          No &            NaN &       46.0 \\\\\n",
       "2060            &      F &          20171 &      1st Year &  EDUCATION &  BACHELOR OF INFORMATION AND COMMUNICATION TECH... &  ICTs and Education &                        HISTORY &                      4.0 &            GRZ - 75 PERCENT &          No &            NaN &       45.0 \\\\\n",
       "2061            &      M &          20171 &      1st Year &  EDUCATION &  BACHELOR OF INFORMATION AND COMMUNICATION TECH... &  ICTs and Education &                      GEOGRAPHY &                      5.0 &         GRZ-FULLY SPONSORED &          No &            NaN &       45.0 \\\\\n",
       "2062            &      M &          20171 &      1st Year &  EDUCATION &  BACHELOR OF INFORMATION AND COMMUNICATION TECH... &  ICTs and Education &                      GEOGRAPHY &                      5.0 &         GRZ-FULLY SPONSORED &          No &            NaN &       47.0 \\\\\n",
       "2063            &      M &          20171 &      1st Year &  EDUCATION &  BACHELOR OF INFORMATION AND COMMUNICATION TECH... &  ICTs and Education &                    MATHEMATICS &                      4.0 &         GRZ-FULLY SPONSORED &          No &            NaN &       56.0 \\\\\n",
       "2064            &      F &          20171 &      1st Year &  EDUCATION &  BACHELOR OF INFORMATION AND COMMUNICATION TECH... &  ICTs and Education &              RELIGIOUS STUDIES &                      4.0 &            GRZ - 75 PERCENT &          No &            NaN &       45.0 \\\\\n",
       "2065            &      M &          20171 &      1st Year &  EDUCATION &  BACHELOR OF INFORMATION AND COMMUNICATION TECH... &  ICTs and Education &                    MATHEMATICS &                      4.0 &         GRZ-FULLY SPONSORED &          No &            NaN &       62.0 \\\\\n",
       "2066            &      M &          20171 &      1st Year &  EDUCATION &  BACHELOR OF INFORMATION AND COMMUNICATION TECH... &  ICTs and Education &                        ENGLISH &                      5.0 &         GRZ-FULLY SPONSORED &          No &            NaN &       54.0 \\\\\n",
       "2067            &      M &          20171 &      1st Year &  EDUCATION &  BACHELOR OF INFORMATION AND COMMUNICATION TECH... &  ICTs and Education &                        HISTORY &                      4.0 &         GRZ-FULLY SPONSORED &         Yes &            NaN &       63.0 \\\\\n",
       "2068            &      F &          20171 &      1st Year &  EDUCATION &  BACHELOR OF INFORMATION AND COMMUNICATION TECH... &  ICTs and Education &              RELIGIOUS STUDIES &                      4.0 &            GRZ - 75 PERCENT &          No &            NaN &       43.0 \\\\\n",
       "2069            &      F &          20171 &      1st Year &  EDUCATION &  BACHELOR OF INFORMATION AND COMMUNICATION TECH... &  ICTs and Education &                         FRENCH &                      4.0 &            GRZ - 75 PERCENT &          No &            NaN &       53.0 \\\\\n",
       "2070            &      F &          20171 &      1st Year &  EDUCATION &  BACHELOR OF INFORMATION AND COMMUNICATION TECH... &  ICTs and Education &                        ENGLISH &                      5.0 &         GRZ-FULLY SPONSORED &          No &            NaN &       47.0 \\\\\n",
       "2071            &      M &          20171 &      1st Year &  EDUCATION &  BACHELOR OF INFORMATION AND COMMUNICATION TECH... &  ICTs and Education &                CIVIC EDUCATION &                      5.0 &         GRZ-FULLY SPONSORED &          No &            NaN &       55.0 \\\\\n",
       "2072            &      M &          20171 &      1st Year &  EDUCATION &  BACHELOR OF INFORMATION AND COMMUNICATION TECH... &  ICTs and Education &              RELIGIOUS STUDIES &                      4.0 &            GRZ - 75 PERCENT &          No &            NaN &       31.0 \\\\\n",
       "2073            &      M &          20171 &      1st Year &  EDUCATION &  BACHELOR OF INFORMATION AND COMMUNICATION TECH... &  ICTs and Education &                    MATHEMATICS &                      5.0 &         GRZ-FULLY SPONSORED &         Yes &            NaN &       59.0 \\\\\n",
       "2074            &      M &          20171 &      1st Year &  EDUCATION &  BACHELOR OF INFORMATION AND COMMUNICATION TECH... &  ICTs and Education &                      GEOGRAPHY &                      4.0 &         GRZ-FULLY SPONSORED &         Yes &           0.00 &       41.0 \\\\\n",
       "2075            &      M &          20171 &      1st Year &  EDUCATION &  BACHELOR OF INFORMATION AND COMMUNICATION TECH... &  ICTs and Education &                      GEOGRAPHY &                      4.0 &         GRZ-FULLY SPONSORED &          No &            NaN &       40.0 \\\\\n",
       "2076            &      M &          20171 &      1st Year &  EDUCATION &  BACHELOR OF INFORMATION AND COMMUNICATION TECH... &  ICTs and Education &                CIVIC EDUCATION &                      5.0 &         GRZ-FULLY SPONSORED &         Yes &            NaN &       53.0 \\\\\n",
       "2077            &      M &          20171 &      1st Year &  EDUCATION &  BACHELOR OF INFORMATION AND COMMUNICATION TECH... &  ICTs and Education &                      GEOGRAPHY &                      4.0 &         GRZ-FULLY SPONSORED &         Yes &            NaN &       51.0 \\\\\n",
       "2078            &      M &          20171 &      1st Year &  EDUCATION &  BACHELOR OF INFORMATION AND COMMUNICATION TECH... &  ICTs and Education &                CIVIC EDUCATION &                      5.0 &         GRZ-FULLY SPONSORED &          No &            NaN &       57.0 \\\\\n",
       "2079            &      F &          20171 &      1st Year &  EDUCATION &  BACHELOR OF INFORMATION AND COMMUNICATION TECH... &  ICTs and Education &                CIVIC EDUCATION &                      5.0 &         GRZ-FULLY SPONSORED &          No &            NaN &       46.0 \\\\\n",
       "2080            &      F &          20171 &      1st Year &  EDUCATION &  BACHELOR OF INFORMATION AND COMMUNICATION TECH... &  ICTs and Education &                CIVIC EDUCATION &                      5.0 &         GRZ-FULLY SPONSORED &          No &            NaN &       21.0 \\\\\n",
       "2081            &      M &          20171 &      1st Year &  EDUCATION &  BACHELOR OF INFORMATION AND COMMUNICATION TECH... &  ICTs and Education &                CIVIC EDUCATION &                      5.0 &         GRZ-FULLY SPONSORED &          No &            NaN &       45.0 \\\\\n",
       "2082            &      M &          20171 &      1st Year &  EDUCATION &  BACHELOR OF INFORMATION AND COMMUNICATION TECH... &  ICTs and Education &                CIVIC EDUCATION &                      5.0 &         GRZ-FULLY SPONSORED &          No &            NaN &       76.0 \\\\\n",
       "2083            &      M &          20171 &      1st Year &  EDUCATION &  BACHELOR OF INFORMATION AND COMMUNICATION TECH... &  ICTs and Education &                        HISTORY &                      4.0 &         GRZ-FULLY SPONSORED &          No &            NaN &       48.0 \\\\\n",
       "2084            &      M &          20171 &      1st Year &  EDUCATION &  BACHELOR OF INFORMATION AND COMMUNICATION TECH... &  ICTs and Education &                CIVIC EDUCATION &                      5.0 &            GRZ - 75 PERCENT &          No &            NaN &       43.0 \\\\\n",
       "2085            &      M &          20171 &      1st Year &  EDUCATION &  BACHELOR OF INFORMATION AND COMMUNICATION TECH... &  ICTs and Education &                CIVIC EDUCATION &                      5.0 &         GRZ-FULLY SPONSORED &          No &            NaN &       45.0 \\\\\n",
       "2086            &      M &          20171 &      1st Year &  EDUCATION &  BACHELOR OF INFORMATION AND COMMUNICATION TECH... &  ICTs and Education &                    MATHEMATICS &                      4.0 &            GRZ - 75 PERCENT &          No &            NaN &       43.0 \\\\\n",
       "2087            &      M &          20171 &      1st Year &  EDUCATION &  BACHELOR OF INFORMATION AND COMMUNICATION TECH... &  ICTs and Education &                    MATHEMATICS &                      4.0 &            GRZ - 75 PERCENT &          No &            NaN &       58.0 \\\\\n",
       "2088            &      F &          20171 &      1st Year &  EDUCATION &  BACHELOR OF INFORMATION AND COMMUNICATION TECH... &  ICTs and Education &                        HISTORY &                      4.0 &         GRZ-FULLY SPONSORED &          No &            NaN &       44.0 \\\\\n",
       "2089            &      M &          20171 &      1st Year &  EDUCATION &  BACHELOR OF INFORMATION AND COMMUNICATION TECH... &  ICTs and Education &  PHYSICAL EDUCATION AND SPORTS &                      4.0 &            GRZ - 75 PERCENT &          No &            NaN &       62.0 \\\\\n",
       "2090            &      F &          20171 &      1st Year &  EDUCATION &  BACHELOR OF INFORMATION AND COMMUNICATION TECH... &  ICTs and Education &                        ENGLISH &                      5.0 &         GRZ-FULLY SPONSORED &          No &            NaN &       46.0 \\\\\n",
       "2091            &      F &          20171 &      1st Year &  EDUCATION &  BACHELOR OF INFORMATION AND COMMUNICATION TECH... &  ICTs and Education &                        ENGLISH &                      5.0 &              SELF-SPONSORED &          No &            NaN &       45.0 \\\\\n",
       "2092            &      M &          20171 &      1st Year &  EDUCATION &  BACHELOR OF INFORMATION AND COMMUNICATION TECH... &  ICTs and Education &                CIVIC EDUCATION &                      5.0 &            GRZ - 75 PERCENT &          No &            NaN &       38.0 \\\\\n",
       "2093            &      M &          20171 &      1st Year &  EDUCATION &  BACHELOR OF INFORMATION AND COMMUNICATION TECH... &  ICTs and Education &                      GEOGRAPHY &                      4.0 &         GRZ-FULLY SPONSORED &         Yes &            NaN &       55.0 \\\\\n",
       "2094            &      M &          20171 &      1st Year &  EDUCATION &  BACHELOR OF INFORMATION AND COMMUNICATION TECH... &  ICTs and Education &                CIVIC EDUCATION &                      5.0 &            GRZ - 75 PERCENT &          No &            NaN &       45.0 \\\\\n",
       "2095            &      M &          20171 &      1st Year &  EDUCATION &  BACHELOR OF INFORMATION AND COMMUNICATION TECH... &  ICTs and Education &                    MATHEMATICS &                      4.0 &         GRZ-FULLY SPONSORED &          No &            NaN &       45.0 \\\\\n",
       "2096            &      M &          20171 &      1st Year &  EDUCATION &  BACHELOR OF INFORMATION AND COMMUNICATION TECH... &  ICTs and Education &                    MATHEMATICS &                      4.0 &         GRZ-FULLY SPONSORED &          No &            NaN &       59.0 \\\\\n",
       "2097            &      F &          20171 &      1st Year &  EDUCATION &  BACHELOR OF INFORMATION AND COMMUNICATION TECH... &  ICTs and Education &                CIVIC EDUCATION &                      5.0 &         GRZ-FULLY SPONSORED &          No &            NaN &       50.0 \\\\\n",
       "2098            &      F &          20171 &      1st Year &  EDUCATION &  BACHELOR OF INFORMATION AND COMMUNICATION TECH... &  ICTs and Education &                         FRENCH &                      4.0 &              SELF-SPONSORED &         Yes &            NaN &       45.0 \\\\\n",
       "2099            &      M &          20171 &      1st Year &  EDUCATION &  BACHELOR OF INFORMATION AND COMMUNICATION TECH... &  ICTs and Education &                CIVIC EDUCATION &                      5.0 &         GRZ-FULLY SPONSORED &          No &            NaN &       75.0 \\\\\n",
       "2100            &      M &          20171 &      1st Year &  EDUCATION &  BACHELOR OF INFORMATION AND COMMUNICATION TECH... &  ICTs and Education &                      GEOGRAPHY &                      4.0 &         GRZ-FULLY SPONSORED &          No &            NaN &       59.0 \\\\\n",
       "2101            &      F &          20181 &      1st Year &  EDUCATION &  BACHELOR OF INFORMATION AND COMMUNICATION TECH... &  ICTs and Education &                            NaN &                      NaN &              SELF-SPONSORED &          No &            NaN &       49.0 \\\\\n",
       "2102            &      F &          20181 &      1st Year &  EDUCATION &  BACHELOR OF INFORMATION AND COMMUNICATION TECH... &  ICTs and Education &                            NaN &                      NaN &         GRZ-FULLY SPONSORED &          No &            NaN &       50.0 \\\\\n",
       "2103            &      F &          20181 &      1st Year &  EDUCATION &  BACHELOR OF INFORMATION AND COMMUNICATION TECH... &  ICTs and Education &                            NaN &                      NaN &         GRZ-FULLY SPONSORED &         Yes &           0.13 &       72.0 \\\\\n",
       "2104            &      M &          20191 &      1st Year &  EDUCATION &  BACHELOR OF INFORMATION AND COMMUNICATION TECH... &  ICTs and Education &                            NaN &                      NaN &                         NaN &          No &            NaN &        NaN \\\\\n",
       "2105            &      F &          20181 &      1st Year &  EDUCATION &  BACHELOR OF INFORMATION AND COMMUNICATION TECH... &  ICTs and Education &                            NaN &                      NaN &         GRZ-FULLY SPONSORED &          No &           0.00 &       14.0 \\\\\n",
       "2106            &      F &          20181 &      1st Year &  EDUCATION &  BACHELOR OF INFORMATION AND COMMUNICATION TECH... &  ICTs and Education &                            NaN &                      NaN &         GRZ-FULLY SPONSORED &         Yes &            NaN &       38.5 \\\\\n",
       "2107            &      M &          20191 &      1st Year &  EDUCATION &  BACHELOR OF INFORMATION AND COMMUNICATION TECH... &  ICTs and Education &                            NaN &                      NaN &              SELF-SPONSORED &          No &            NaN &        NaN \\\\\n",
       "2108            &      M &          20181 &      1st Year &  EDUCATION &  BACHELOR OF INFORMATION AND COMMUNICATION TECH... &  ICTs and Education &                            NaN &                      NaN &         GRZ-FULLY SPONSORED &          No &           0.00 &       49.0 \\\\\n",
       "2109            &      M &          20181 &      1st Year &  EDUCATION &  BACHELOR OF INFORMATION AND COMMUNICATION TECH... &  ICTs and Education &                            NaN &                      NaN &  TUITION WAIVER(DEPENDANTS) &         Yes &           0.25 &       30.0 \\\\\n",
       "2110            &      M &          20181 &      1st Year &  EDUCATION &  BACHELOR OF INFORMATION AND COMMUNICATION TECH... &  ICTs and Education &                        ENGLISH &                      5.0 &         GRZ-FULLY SPONSORED &          No &           0.00 &       63.0 \\\\\n",
       "2111            &      F &          20181 &      1st Year &  EDUCATION &  BACHELOR OF INFORMATION AND COMMUNICATION TECH... &  ICTs and Education &                            NaN &                      NaN &         GRZ-FULLY SPONSORED &         Yes &           0.00 &       52.0 \\\\\n",
       "2112            &      F &          20181 &      1st Year &  EDUCATION &  BACHELOR OF INFORMATION AND COMMUNICATION TECH... &  ICTs and Education &                            NaN &                      NaN &         GRZ-FULLY SPONSORED &         Yes &            NaN &       52.0 \\\\\n",
       "2113            &      M &          20181 &      1st Year &  EDUCATION &  BACHELOR OF INFORMATION AND COMMUNICATION TECH... &  ICTs and Education &                            NaN &                      NaN &         GRZ-FULLY SPONSORED &          No &            NaN &       58.0 \\\\\n",
       "2114            &      F &          20181 &      1st Year &  EDUCATION &  BACHELOR OF INFORMATION AND COMMUNICATION TECH... &  ICTs and Education &                            NaN &                      NaN &         GRZ-FULLY SPONSORED &         Yes &           0.00 &       45.0 \\\\\n",
       "2115            &      F &          20181 &      1st Year &  EDUCATION &  BACHELOR OF INFORMATION AND COMMUNICATION TECH... &  ICTs and Education &                            NaN &                      NaN &         GRZ-FULLY SPONSORED &          No &            NaN &       45.0 \\\\\n",
       "2116            &      M &          20181 &      1st Year &  EDUCATION &  BACHELOR OF INFORMATION AND COMMUNICATION TECH... &  ICTs and Education &                            NaN &                      NaN &         GRZ-FULLY SPONSORED &          No &           0.00 &       73.0 \\\\\n",
       "2117            &      F &          20181 &      1st Year &  EDUCATION &  BACHELOR OF INFORMATION AND COMMUNICATION TECH... &  ICTs and Education &                        HISTORY &                      4.0 &  TUITION WAIVER(DEPENDANTS) &          No &            NaN &       39.0 \\\\\n",
       "2118            &      F &          20181 &      1st Year &  EDUCATION &  BACHELOR OF INFORMATION AND COMMUNICATION TECH... &  ICTs and Education &                            NaN &                      NaN &         GRZ-FULLY SPONSORED &         Yes &           0.00 &       58.0 \\\\\n",
       "2119            &      M &          20181 &      1st Year &  EDUCATION &  BACHELOR OF INFORMATION AND COMMUNICATION TECH... &  ICTs and Education &                            NaN &                      NaN &         GRZ-FULLY SPONSORED &          No &           0.00 &       34.0 \\\\\n",
       "2120            &      M &          20181 &      1st Year &  EDUCATION &  BACHELOR OF INFORMATION AND COMMUNICATION TECH... &  ICTs and Education &                            NaN &                      NaN &         GRZ-FULLY SPONSORED &          No &            NaN &       56.0 \\\\\n",
       "2121            &      F &          20181 &      1st Year &  EDUCATION &  BACHELOR OF INFORMATION AND COMMUNICATION TECH... &  ICTs and Education &                            NaN &                      NaN &         GRZ-FULLY SPONSORED &         Yes &           0.00 &       52.0 \\\\\n",
       "2122            &      F &          20181 &      1st Year &  EDUCATION &  BACHELOR OF INFORMATION AND COMMUNICATION TECH... &  ICTs and Education &                            NaN &                      NaN &         GRZ-FULLY SPONSORED &         Yes &            NaN &       39.0 \\\\\n",
       "2123            &      M &          20181 &      1st Year &  EDUCATION &  BACHELOR OF INFORMATION AND COMMUNICATION TECH... &  ICTs and Education &                        HISTORY &                      4.0 &  TUITION WAIVER(DEPENDANTS) &         Yes &           0.00 &       37.0 \\\\\n",
       "2124            &      M &          20181 &      1st Year &  EDUCATION &  BACHELOR OF INFORMATION AND COMMUNICATION TECH... &  ICTs and Education &                            NaN &                      NaN &         GRZ-FULLY SPONSORED &          No &           0.00 &       73.0 \\\\\n",
       "2125            &      M &          20181 &      1st Year &  EDUCATION &  BACHELOR OF INFORMATION AND COMMUNICATION TECH... &  ICTs and Education &                CIVIC EDUCATION &                      4.0 &         GRZ-FULLY SPONSORED &         Yes &           0.00 &       59.0 \\\\\n",
       "2126            &      M &          20181 &      1st Year &  EDUCATION &  BACHELOR OF INFORMATION AND COMMUNICATION TECH... &  ICTs and Education &                            NaN &                      NaN &              SELF-SPONSORED &          No &            NaN &        NaN \\\\\n",
       "2127            &      M &          20191 &      1st Year &  EDUCATION &  BACHELOR OF INFORMATION AND COMMUNICATION TECH... &  ICTs and Education &                            NaN &                      NaN &              SELF-SPONSORED &          No &            NaN &        NaN \\\\\n",
       "2128            &      F &          20181 &      1st Year &  EDUCATION &  BACHELOR OF INFORMATION AND COMMUNICATION TECH... &  ICTs and Education &                            NaN &                      NaN &         GRZ-FULLY SPONSORED &          No &           0.00 &       56.0 \\\\\n",
       "2129            &      F &          20181 &      1st Year &  EDUCATION &  BACHELOR OF INFORMATION AND COMMUNICATION TECH... &  ICTs and Education &                            NaN &                      NaN &         GRZ-FULLY SPONSORED &         Yes &            NaN &       45.0 \\\\\n",
       "2130            &      F &          20181 &      1st Year &  EDUCATION &  BACHELOR OF INFORMATION AND COMMUNICATION TECH... &  ICTs and Education &                        ENGLISH &                      5.0 &            GRZ - 75 PERCENT &         Yes &           0.00 &       59.0 \\\\\n",
       "2131            &      M &          20181 &      1st Year &  EDUCATION &  BACHELOR OF INFORMATION AND COMMUNICATION TECH... &  ICTs and Education &                            NaN &                      NaN &         GRZ-FULLY SPONSORED &         Yes &           0.00 &       78.0 \\\\\n",
       "2132            &      F &          20181 &      1st Year &  EDUCATION &  BACHELOR OF INFORMATION AND COMMUNICATION TECH... &  ICTs and Education &                            NaN &                      NaN &         GRZ-FULLY SPONSORED &         Yes &           0.00 &       37.0 \\\\\n",
       "2133            &      M &          20181 &      1st Year &  EDUCATION &  BACHELOR OF INFORMATION AND COMMUNICATION TECH... &  ICTs and Education &                            NaN &                      NaN &         GRZ-FULLY SPONSORED &          No &           0.00 &       46.0 \\\\\n",
       "2134            &      F &          20181 &      1st Year &  EDUCATION &  BACHELOR OF INFORMATION AND COMMUNICATION TECH... &  ICTs and Education &                            NaN &                      NaN &         GRZ-FULLY SPONSORED &          No &            NaN &       45.0 \\\\\n",
       "2135            &      F &          20181 &      1st Year &  EDUCATION &  BACHELOR OF INFORMATION AND COMMUNICATION TECH... &  ICTs and Education &                            NaN &                      NaN &            GRZ - 75 PERCENT &          No &            NaN &       45.0 \\\\\n",
       "2136            &      M &          20181 &      1st Year &  EDUCATION &  BACHELOR OF INFORMATION AND COMMUNICATION TECH... &  ICTs and Education &                            NaN &                      NaN &         GRZ-FULLY SPONSORED &         Yes &           0.00 &       58.0 \\\\\n",
       "2137            &      F &          20181 &      1st Year &  EDUCATION &  BACHELOR OF INFORMATION AND COMMUNICATION TECH... &  ICTs and Education &                CIVIC EDUCATION &                      4.0 &            GRZ - 75 PERCENT &          No &           0.00 &       56.0 \\\\\n",
       "2138            &      F &          20181 &      1st Year &  EDUCATION &  BACHELOR OF INFORMATION AND COMMUNICATION TECH... &  ICTs and Education &                            NaN &                      NaN &         GRZ-FULLY SPONSORED &         Yes &            NaN &       54.0 \\\\\n",
       "2139            &      M &          20181 &      1st Year &  EDUCATION &  BACHELOR OF INFORMATION AND COMMUNICATION TECH... &  ICTs and Education &                        ENGLISH &                      5.0 &         GRZ-FULLY SPONSORED &         Yes &            NaN &       54.0 \\\\\n",
       "2140            &      M &          20181 &      1st Year &  EDUCATION &  BACHELOR OF INFORMATION AND COMMUNICATION TECH... &  ICTs and Education &                            NaN &                      NaN &            GRZ - 75 PERCENT &          No &           0.00 &       67.0 \\\\\n",
       "2141            &      M &          20181 &      1st Year &  EDUCATION &  BACHELOR OF INFORMATION AND COMMUNICATION TECH... &  ICTs and Education &                            NaN &                      NaN &         GRZ-FULLY SPONSORED &          No &            NaN &       51.0 \\\\\n",
       "2142            &      M &          20181 &      1st Year &  EDUCATION &  BACHELOR OF INFORMATION AND COMMUNICATION TECH... &  ICTs and Education &                            NaN &                      NaN &         GRZ-FULLY SPONSORED &          No &           0.00 &       63.0 \\\\\n",
       "2143            &      F &          20181 &      1st Year &  EDUCATION &  BACHELOR OF INFORMATION AND COMMUNICATION TECH... &  ICTs and Education &                            NaN &                      NaN &            GRZ - 75 PERCENT &         Yes &            NaN &       47.0 \\\\\n",
       "2144            &      M &          20181 &      1st Year &  EDUCATION &  BACHELOR OF INFORMATION AND COMMUNICATION TECH... &  ICTs and Education &                            NaN &                      NaN &              SELF-SPONSORED &          No &            NaN &        NaN \\\\\n",
       "2145            &      M &          20181 &      1st Year &  EDUCATION &  BACHELOR OF INFORMATION AND COMMUNICATION TECH... &  ICTs and Education &                    MATHEMATICS &                      4.0 &         GRZ-FULLY SPONSORED &          No &           0.00 &       53.0 \\\\\n",
       "2146            &      M &          20181 &      1st Year &  EDUCATION &  BACHELOR OF INFORMATION AND COMMUNICATION TECH... &  ICTs and Education &                            NaN &                      NaN &         GRZ-FULLY SPONSORED &          No &            NaN &       59.0 \\\\\n",
       "2147            &      F &          20181 &      1st Year &  EDUCATION &  BACHELOR OF INFORMATION AND COMMUNICATION TECH... &  ICTs and Education &                            NaN &                      NaN &            GRZ - 75 PERCENT &         Yes &            NaN &       36.0 \\\\\n",
       "2148            &      M &          20181 &      1st Year &  EDUCATION &  BACHELOR OF INFORMATION AND COMMUNICATION TECH... &  ICTs and Education &                         FRENCH &                      4.0 &         GRZ-FULLY SPONSORED &         Yes &           0.00 &       70.0 \\\\\n",
       "2149            &      M &          20181 &      1st Year &  EDUCATION &  BACHELOR OF INFORMATION AND COMMUNICATION TECH... &  ICTs and Education &                            NaN &                      NaN &         GRZ-FULLY SPONSORED &         Yes &           0.00 &       66.0 \\\\\n",
       "2150            &      F &          20181 &      1st Year &  EDUCATION &  BACHELOR OF INFORMATION AND COMMUNICATION TECH... &  ICTs and Education &                            NaN &                      NaN &         GRZ-FULLY SPONSORED &          No &           0.00 &       47.0 \\\\\n",
       "2151            &      M &          20181 &      1st Year &  EDUCATION &  BACHELOR OF INFORMATION AND COMMUNICATION TECH... &  ICTs and Education &                    MATHEMATICS &                      4.0 &              SELF-SPONSORED &         Yes &           0.00 &       49.0 \\\\\n",
       "2152            &      F &          20181 &      1st Year &  EDUCATION &  BACHELOR OF INFORMATION AND COMMUNICATION TECH... &  ICTs and Education &                            NaN &                      NaN &  TUITION WAIVER(DEPENDANTS) &          No &           0.00 &       55.0 \\\\\n",
       "2153            &      M &          20181 &      1st Year &  EDUCATION &  BACHELOR OF INFORMATION AND COMMUNICATION TECH... &  ICTs and Education &                            NaN &                      NaN &  TUITION WAIVER(DEPENDANTS) &          No &            NaN &       45.0 \\\\\n",
       "2154            &      M &          20181 &      1st Year &  EDUCATION &  BACHELOR OF INFORMATION AND COMMUNICATION TECH... &  ICTs and Education &                CIVIC EDUCATION &                      5.0 &              SELF-SPONSORED &          No &           0.00 &       51.0 \\\\\n",
       "2155            &      M &          20181 &      1st Year &  EDUCATION &  BACHELOR OF INFORMATION AND COMMUNICATION TECH... &  ICTs and Education &                            NaN &                      NaN &  TUITION WAIVER(DEPENDANTS) &          No &            NaN &        4.0 \\\\\n",
       "2156            &      M &          20191 &      1st Year &  EDUCATION &  BACHELOR OF INFORMATION AND COMMUNICATION TECH... &  ICTs and Education &                            NaN &                      NaN &  TUITION WAIVER(DEPENDANTS) &          No &            NaN &        NaN \\\\\n",
       "2157            &      F &          20181 &      1st Year &  EDUCATION &  BACHELOR OF INFORMATION AND COMMUNICATION TECH... &  ICTs and Education &                        ENGLISH &                      5.0 &              SELF-SPONSORED &          No &           0.00 &        NaN \\\\\n",
       "2158            &      M &          20181 &      1st Year &  EDUCATION &  BACHELOR OF INFORMATION AND COMMUNICATION TECH... &  ICTs and Education &                    MATHEMATICS &                      4.0 &              SELF-SPONSORED &          No &           0.00 &       45.0 \\\\\n",
       "2159            &      M &          20181 &      1st Year &  EDUCATION &  BACHELOR OF INFORMATION AND COMMUNICATION TECH... &  ICTs and Education &                            NaN &                      NaN &  TUITION WAIVER(DEPENDANTS) &          No &           0.00 &       25.0 \\\\\n",
       "2160            &      M &          20181 &      1st Year &  EDUCATION &  BACHELOR OF INFORMATION AND COMMUNICATION TECH... &  ICTs and Education &                            NaN &                      NaN &              SELF-SPONSORED &          No &           0.00 &       12.0 \\\\\n",
       "2161            &      M &          20191 &      2nd Year &  EDUCATION &  BACHELOR OF INFORMATION AND COMMUNICATION TECH... &  ICTs and Education &                            NaN &                      NaN &              SELF-SPONSORED &          No &           0.00 &       12.0 \\\\\n",
       "2162            &      M &          20181 &      1st Year &  EDUCATION &  BACHELOR OF INFORMATION AND COMMUNICATION TECH... &  ICTs and Education &                CIVIC EDUCATION &                      4.0 &              SELF-SPONSORED &          No &            NaN &       36.0 \\\\\n",
       "2163            &      M &          20181 &      1st Year &  EDUCATION &  BACHELOR OF INFORMATION AND COMMUNICATION TECH... &  ICTs and Education &                CIVIC EDUCATION &                      4.0 &              SELF-SPONSORED &          No &           0.00 &       51.0 \\\\\n",
       "2164            &      M &          20191 &      1st Year &  EDUCATION &  BACHELOR OF INFORMATION AND COMMUNICATION TECH... &  ICTs and Education &                CIVIC EDUCATION &                      4.0 &         GRZ-FULLY SPONSORED &         Yes &           0.00 &       45.0 \\\\\n",
       "2165            &      F &          20191 &      1st Year &  EDUCATION &  BACHELOR OF INFORMATION AND COMMUNICATION TECH... &  ICTs and Education &                            NaN &                      NaN &         GRZ-FULLY SPONSORED &          No &           0.00 &       62.0 \\\\\n",
       "2166            &      M &          20191 &      1st Year &  EDUCATION &  BACHELOR OF INFORMATION AND COMMUNICATION TECH... &  ICTs and Education &                            NaN &                      NaN &         GRZ-FULLY SPONSORED &          No &            NaN &       21.0 \\\\\n",
       "2167            &      F &          20191 &      1st Year &  EDUCATION &  BACHELOR OF INFORMATION AND COMMUNICATION TECH... &  ICTs and Education &                            NaN &                      NaN &            GRZ - 75 PERCENT &          No &            NaN &       41.0 \\\\\n",
       "2168            &      F &          20191 &      1st Year &  EDUCATION &  BACHELOR OF INFORMATION AND COMMUNICATION TECH... &  ICTs and Education &                CIVIC EDUCATION &                      4.0 &         GRZ-FULLY SPONSORED &          No &            NaN &       49.0 \\\\\n",
       "2169            &      F &          20191 &      1st Year &  EDUCATION &  BACHELOR OF INFORMATION AND COMMUNICATION TECH... &  ICTs and Education &                CIVIC EDUCATION &                      4.0 &         GRZ-FULLY SPONSORED &          No &            NaN &       35.0 \\\\\n",
       "2170            &      F &          20191 &      1st Year &  EDUCATION &  BACHELOR OF INFORMATION AND COMMUNICATION TECH... &  ICTs and Education &                            NaN &                      NaN &  TUITION WAIVER(DEPENDANTS) &         Yes &            NaN &       72.0 \\\\\n",
       "2171            &      M &          20191 &      1st Year &  EDUCATION &  BACHELOR OF INFORMATION AND COMMUNICATION TECH... &  ICTs and Education &                            NaN &                      NaN &            GRZ - 75 PERCENT &          No &           0.00 &       50.0 \\\\\n",
       "2172            &      M &          20191 &      1st Year &  EDUCATION &  BACHELOR OF INFORMATION AND COMMUNICATION TECH... &  ICTs and Education &                            NaN &                      NaN &            GRZ - 75 PERCENT &         Yes &            NaN &       56.0 \\\\\n",
       "2173            &      F &          20191 &      1st Year &  EDUCATION &  BACHELOR OF INFORMATION AND COMMUNICATION TECH... &  ICTs and Education &                CIVIC EDUCATION &                      4.0 &  TUITION WAIVER(DEPENDANTS) &         Yes &            NaN &       45.0 \\\\\n",
       "2174            &      M &          20191 &      1st Year &  EDUCATION &  BACHELOR OF INFORMATION AND COMMUNICATION TECH... &  ICTs and Education &                            NaN &                      NaN &  TUITION WAIVER(DEPENDANTS) &         Yes &            NaN &       45.0 \\\\\n",
       "2175            &      M &          20191 &      1st Year &  EDUCATION &  BACHELOR OF INFORMATION AND COMMUNICATION TECH... &  ICTs and Education &                CIVIC EDUCATION &                      4.0 &         GRZ-FULLY SPONSORED &         Yes &           0.03 &       45.0 \\\\\n",
       "2176            &      F &          20191 &      1st Year &  EDUCATION &  BACHELOR OF INFORMATION AND COMMUNICATION TECH... &  ICTs and Education &                            NaN &                      NaN &              SELF-SPONSORED &          No &            NaN &        NaN \\\\\n",
       "2177            &      F &          20191 &      1st Year &  EDUCATION &  BACHELOR OF INFORMATION AND COMMUNICATION TECH... &  ICTs and Education &                CIVIC EDUCATION &                      4.0 &         GRZ-FULLY SPONSORED &          No &           0.00 &       46.0 \\\\\n",
       "2178            &      F &          20191 &      1st Year &  EDUCATION &  BACHELOR OF INFORMATION AND COMMUNICATION TECH... &  ICTs and Education &                CIVIC EDUCATION &                      4.0 &         GRZ-FULLY SPONSORED &          No &           0.00 &       54.0 \\\\\n",
       "2179            &      M &          20191 &      1st Year &  EDUCATION &  BACHELOR OF INFORMATION AND COMMUNICATION TECH... &  ICTs and Education &                            NaN &                      NaN &         GRZ-FULLY SPONSORED &          No &           0.00 &       45.0 \\\\\n",
       "2180            &      M &          20191 &      1st Year &  EDUCATION &  BACHELOR OF INFORMATION AND COMMUNICATION TECH... &  ICTs and Education &         ART AND DESIGN STUDIES &                      4.0 &              SELF-SPONSORED &          No &           0.00 &       45.0 \\\\\n",
       "2181            &      M &          20191 &      1st Year &  EDUCATION &  BACHELOR OF INFORMATION AND COMMUNICATION TECH... &  ICTs and Education &                            NaN &                      NaN &  TUITION WAIVER(DEPENDANTS) &         Yes &           0.07 &       26.0 \\\\\n",
       "2182            &      M &          20191 &      1st Year &  EDUCATION &  BACHELOR OF INFORMATION AND COMMUNICATION TECH... &  ICTs and Education &                            NaN &                      NaN &         GRZ-FULLY SPONSORED &          No &            NaN &       65.0 \\\\\n",
       "2183            &      M &          20191 &      1st Year &  EDUCATION &  BACHELOR OF INFORMATION AND COMMUNICATION TECH... &  ICTs and Education &                    MATHEMATICS &                      4.0 &         GRZ-FULLY SPONSORED &          No &           0.00 &       64.0 \\\\\n",
       "2184            &      M &          20191 &      1st Year &  EDUCATION &  BACHELOR OF INFORMATION AND COMMUNICATION TECH... &  ICTs and Education &                    MATHEMATICS &                      4.0 &              SELF-SPONSORED &          No &           0.00 &        NaN \\\\\n",
       "2185            &      F &          20191 &      1st Year &  EDUCATION &  BACHELOR OF INFORMATION AND COMMUNICATION TECH... &  ICTs and Education &                    MATHEMATICS &                      4.0 &            GRZ - 75 PERCENT &          No &           0.20 &       54.0 \\\\\n",
       "2186            &      M &          20191 &      1st Year &  EDUCATION &  BACHELOR OF INFORMATION AND COMMUNICATION TECH... &  ICTs and Education &                            NaN &                      NaN &            GRZ - 75 PERCENT &          No &           0.05 &       58.0 \\\\\n",
       "2187            &      F &          20191 &      1st Year &  EDUCATION &  BACHELOR OF INFORMATION AND COMMUNICATION TECH... &  ICTs and Education &                      GEOGRAPHY &                      4.0 &              SELF-SPONSORED &          No &           0.05 &       47.0 \\\\\n",
       "2188            &      M &          20191 &      1st Year &  EDUCATION &  BACHELOR OF INFORMATION AND COMMUNICATION TECH... &  ICTs and Education &                CIVIC EDUCATION &                      4.0 &         GRZ-FULLY SPONSORED &         Yes &           0.11 &       64.0 \\\\\n",
       "2189            &      F &          20191 &      1st Year &  EDUCATION &  BACHELOR OF INFORMATION AND COMMUNICATION TECH... &  ICTs and Education &                CIVIC EDUCATION &                      4.0 &         GRZ-FULLY SPONSORED &         Yes &           0.00 &       30.0 \\\\\n",
       "2190            &      F &          20191 &      1st Year &  EDUCATION &  BACHELOR OF INFORMATION AND COMMUNICATION TECH... &  ICTs and Education &                CIVIC EDUCATION &                      4.0 &         GRZ-FULLY SPONSORED &          No &            NaN &       52.0 \\\\\n",
       "2191            &      M &          20191 &      1st Year &  EDUCATION &  BACHELOR OF INFORMATION AND COMMUNICATION TECH... &  ICTs and Education &                      GEOGRAPHY &                      4.0 &         GRZ-FULLY SPONSORED &          No &           0.15 &       45.0 \\\\\n",
       "2192            &      M &          20191 &      1st Year &  EDUCATION &  BACHELOR OF INFORMATION AND COMMUNICATION TECH... &  ICTs and Education &                            NaN &                      NaN &         GRZ-FULLY SPONSORED &          No &           0.00 &       45.0 \\\\\n",
       "2193            &      M &          20191 &      1st Year &  EDUCATION &  BACHELOR OF INFORMATION AND COMMUNICATION TECH... &  ICTs and Education &                CIVIC EDUCATION &                      4.0 &              SELF-SPONSORED &          No &            NaN &       45.0 \\\\\n",
       "2194            &      F &          20191 &      1st Year &  EDUCATION &  BACHELOR OF INFORMATION AND COMMUNICATION TECH... &  ICTs and Education &                            NaN &                      NaN &            GRZ - 75 PERCENT &          No &            NaN &        NaN \\\\\n",
       "2195            &      F &          20191 &      1st Year &  EDUCATION &  BACHELOR OF INFORMATION AND COMMUNICATION TECH... &  ICTs and Education &                CIVIC EDUCATION &                      4.0 &         GRZ-FULLY SPONSORED &         Yes &           0.04 &       39.0 \\\\\n",
       "2196            &      M &          20191 &      1st Year &  EDUCATION &  BACHELOR OF INFORMATION AND COMMUNICATION TECH... &  ICTs and Education &                            NaN &                      NaN &            GRZ - 75 PERCENT &          No &            NaN &       75.0 \\\\\n",
       "2197            &      F &          20191 &      1st Year &  EDUCATION &  BACHELOR OF INFORMATION AND COMMUNICATION TECH... &  ICTs and Education &                            NaN &                      NaN &         GRZ-FULLY SPONSORED &          No &           0.02 &       46.0 \\\\\n",
       "2198            &      M &          20191 &      1st Year &  EDUCATION &  BACHELOR OF INFORMATION AND COMMUNICATION TECH... &  ICTs and Education &                            NaN &                      NaN &              SELF-SPONSORED &          No &           0.00 &        NaN \\\\\n",
       "2199            &      M &          20191 &      1st Year &  EDUCATION &  BACHELOR OF INFORMATION AND COMMUNICATION TECH... &  ICTs and Education &                            NaN &                      NaN &            GRZ - 75 PERCENT &          No &            NaN &       57.0 \\\\\n",
       "2200            &      M &          20191 &      1st Year &  EDUCATION &  BACHELOR OF INFORMATION AND COMMUNICATION TECH... &  ICTs and Education &                CIVIC EDUCATION &                      4.0 &         GRZ-FULLY SPONSORED &          No &           0.01 &       64.0 \\\\\n",
       "2201            &      M &          20191 &      1st Year &  EDUCATION &  BACHELOR OF INFORMATION AND COMMUNICATION TECH... &  ICTs and Education &                CIVIC EDUCATION &                      4.0 &         GRZ-FULLY SPONSORED &         Yes &           0.03 &       55.0 \\\\\n",
       "2202            &      M &          20191 &      1st Year &  EDUCATION &  BACHELOR OF INFORMATION AND COMMUNICATION TECH... &  ICTs and Education &                            NaN &                      NaN &         GRZ-FULLY SPONSORED &          No &           0.00 &       59.0 \\\\\n",
       "2203            &      M &          20191 &      1st Year &  EDUCATION &  BACHELOR OF INFORMATION AND COMMUNICATION TECH... &  ICTs and Education &                            NaN &                      NaN &         GRZ-FULLY SPONSORED &          No &           0.07 &       52.0 \\\\\n",
       "2204            &      M &          20191 &      1st Year &  EDUCATION &  BACHELOR OF INFORMATION AND COMMUNICATION TECH... &  ICTs and Education &                            NaN &                      NaN &         GRZ-FULLY SPONSORED &          No &           0.00 &       30.0 \\\\\n",
       "2205            &      F &          20191 &      1st Year &  EDUCATION &  BACHELOR OF INFORMATION AND COMMUNICATION TECH... &  ICTs and Education &                CIVIC EDUCATION &                      4.0 &            GRZ - 75 PERCENT &          No &           0.01 &       39.0 \\\\\n",
       "2206            &      M &          20191 &      1st Year &  EDUCATION &  BACHELOR OF INFORMATION AND COMMUNICATION TECH... &  ICTs and Education &                    MATHEMATICS &                      4.0 &            GRZ - 75 PERCENT &         Yes &           0.90 &       61.0 \\\\\n",
       "2207            &      M &          20191 &      1st Year &  EDUCATION &  BACHELOR OF INFORMATION AND COMMUNICATION TECH... &  ICTs and Education &                            NaN &                      NaN &              SELF-SPONSORED &          No &            NaN &        NaN \\\\\n",
       "2208            &      M &          20191 &      1st Year &  EDUCATION &  BACHELOR OF INFORMATION AND COMMUNICATION TECH... &  ICTs and Education &                            NaN &                      NaN &         GRZ-FULLY SPONSORED &         Yes &           0.00 &       46.0 \\\\\n",
       "2209            &      M &          20191 &      1st Year &  EDUCATION &  BACHELOR OF INFORMATION AND COMMUNICATION TECH... &  ICTs and Education &                            NaN &                      NaN &         GRZ-FULLY SPONSORED &          No &           0.70 &       67.0 \\\\\n",
       "2210            &      M &          20191 &      1st Year &  EDUCATION &  BACHELOR OF INFORMATION AND COMMUNICATION TECH... &  ICTs and Education &                    MATHEMATICS &                      4.0 &         GRZ-FULLY SPONSORED &          No &           0.11 &       45.0 \\\\\n",
       "2211            &      M &          20191 &      1st Year &  EDUCATION &  BACHELOR OF INFORMATION AND COMMUNICATION TECH... &  ICTs and Education &                    MATHEMATICS &                      4.0 &         GRZ-FULLY SPONSORED &          No &           0.00 &       67.0 \\\\\n",
       "2212            &      F &          20191 &      1st Year &  EDUCATION &  BACHELOR OF INFORMATION AND COMMUNICATION TECH... &  ICTs and Education &                        ENGLISH &                      5.0 &         GRZ-FULLY SPONSORED &          No &           0.00 &       30.0 \\\\\n",
       "2213            &      M &          20191 &      1st Year &  EDUCATION &  BACHELOR OF INFORMATION AND COMMUNICATION TECH... &  ICTs and Education &                            NaN &                      NaN &         GRZ-FULLY SPONSORED &          No &           0.11 &       45.0 \\\\\n",
       "2214            &      M &          20191 &      1st Year &  EDUCATION &  BACHELOR OF INFORMATION AND COMMUNICATION TECH... &  ICTs and Education &                            NaN &                      NaN &              SELF-SPONSORED &          No &            NaN &        NaN \\\\\n",
       "2215            &      F &          20191 &      1st Year &  EDUCATION &  BACHELOR OF INFORMATION AND COMMUNICATION TECH... &  ICTs and Education &                    MATHEMATICS &                      4.0 &         GRZ-FULLY SPONSORED &         Yes &           0.60 &       54.0 \\\\\n",
       "2216            &      F &          20191 &      1st Year &  EDUCATION &  BACHELOR OF INFORMATION AND COMMUNICATION TECH... &  ICTs and Education &                CIVIC EDUCATION &                      4.0 &         GRZ-FULLY SPONSORED &         Yes &           0.01 &       45.0 \\\\\n",
       "2217            &      F &          20191 &      1st Year &  EDUCATION &  BACHELOR OF INFORMATION AND COMMUNICATION TECH... &  ICTs and Education &                CIVIC EDUCATION &                      4.0 &         GRZ-FULLY SPONSORED &         Yes &           3.00 &       45.0 \\\\\n",
       "2218            &      M &          20191 &      1st Year &  EDUCATION &  BACHELOR OF INFORMATION AND COMMUNICATION TECH... &  ICTs and Education &                CIVIC EDUCATION &                      4.0 &         GRZ-FULLY SPONSORED &          No &           0.00 &       49.0 \\\\\n",
       "2219            &      F &          20191 &      1st Year &  EDUCATION &  BACHELOR OF INFORMATION AND COMMUNICATION TECH... &  ICTs and Education &                    MATHEMATICS &                      4.0 &         GRZ-FULLY SPONSORED &          No &           0.00 &       26.0 \\\\\n",
       "2220            &      M &          20191 &      1st Year &  EDUCATION &  BACHELOR OF INFORMATION AND COMMUNICATION TECH... &  ICTs and Education &                            NaN &                      NaN &         GRZ-FULLY SPONSORED &          No &           0.90 &       56.0 \\\\\n",
       "2221            &      M &          20191 &      1st Year &  EDUCATION &  BACHELOR OF INFORMATION AND COMMUNICATION TECH... &  ICTs and Education &                CIVIC EDUCATION &                      4.0 &              SELF-SPONSORED &          No &           0.00 &       48.0 \\\\\n",
       "2222            &      M &          20191 &      1st Year &  EDUCATION &  BACHELOR OF INFORMATION AND COMMUNICATION TECH... &  ICTs and Education &                    MATHEMATICS &                      4.0 &  TUITION WAIVER(DEPENDANTS) &         Yes &           7.00 &       47.0 \\\\\n",
       "2223            &      M &          20191 &      1st Year &  EDUCATION &  BACHELOR OF INFORMATION AND COMMUNICATION TECH... &  ICTs and Education &                CIVIC EDUCATION &                      4.0 &              SELF-SPONSORED &          No &           0.07 &       38.0 \\\\\n",
       "2224            &      M &          20191 &      1st Year &  EDUCATION &  BACHELOR OF INFORMATION AND COMMUNICATION TECH... &  ICTs and Education &                        ENGLISH &                      4.0 &              SELF-SPONSORED &          No &           0.05 &       45.0 \\\\\n",
       "2225            &      F &          20191 &      1st Year &  EDUCATION &  BACHELOR OF INFORMATION AND COMMUNICATION TECH... &  ICTs and Education &                CIVIC EDUCATION &                      4.0 &            GRZ - 75 PERCENT &          No &           0.02 &       58.0 \\\\\n",
       "2226            &      M &          20191 &      1st Year &  EDUCATION &  BACHELOR OF INFORMATION AND COMMUNICATION TECH... &  ICTs and Education &                            NaN &                      NaN &              SELF-SPONSORED &          No &           0.05 &       35.0 \\\\\n",
       "2227            &      F &          20191 &      1st Year &  EDUCATION &  BACHELOR OF INFORMATION AND COMMUNICATION TECH... &  ICTs and Education &                CIVIC EDUCATION &                      4.0 &              SELF-SPONSORED &          No &           0.00 &       45.0 \\\\\n",
       "2228            &      M &          20191 &      1st Year &  EDUCATION &  BACHELOR OF INFORMATION AND COMMUNICATION TECH... &  ICTs and Education &                        HISTORY &                      4.0 &              SELF-SPONSORED &          No &           0.00 &       46.0 \\\\\n",
       "2229            &      M &          20201 &      1st Year &  EDUCATION &  BACHELOR OF INFORMATION AND COMMUNICATION TECH... &  ICTs and Education &                        HISTORY &                      4.0 &                         NaN &          No &           0.00 &        NaN \\\\\n",
       "2230            &      M &          20191 &      1st Year &  EDUCATION &  BACHELOR OF INFORMATION AND COMMUNICATION TECH... &  ICTs and Education &  PHYSICAL EDUCATION AND SPORTS &                      4.0 &              SELF-SPONSORED &          No &           0.00 &        NaN \\\\\n",
       "2231            &      M &          20191 &      1st Year &  EDUCATION &  BACHELOR OF INFORMATION AND COMMUNICATION TECH... &  ICTs and Education &                CIVIC EDUCATION &                      4.0 &  TUITION WAIVER(DEPENDANTS) &          No &           0.00 &       24.0 \\\\\n",
       "2232            &      M &          20191 &      1st Year &  EDUCATION &  BACHELOR OF INFORMATION AND COMMUNICATION TECH... &  ICTs and Education &                            NaN &                      NaN &              SELF-SPONSORED &          No &            NaN &        NaN \\\\\n",
       "2233            &      M &          20191 &      1st Year &  EDUCATION &  BACHELOR OF INFORMATION AND COMMUNICATION TECH... &  ICTs and Education &                CIVIC EDUCATION &                      4.0 &  TUITION WAIVER(DEPENDANTS) &          No &           0.01 &       45.0 \\\\\n",
       "2234            &      M &          20191 &      1st Year &  EDUCATION &  BACHELOR OF INFORMATION AND COMMUNICATION TECH... &  ICTs and Education &                            NaN &                      NaN &  TUITION WAIVER(DEPENDANTS) &          No &           0.02 &       55.0 \\\\\n",
       "2235            &      M &          20201 &      1st Year &  EDUCATION &  BACHELOR OF INFORMATION AND COMMUNICATION TECH... &  ICTs and Education &                    MATHEMATICS &                      4.0 &         GRZ-FULLY SPONSORED &          No &            NaN &        NaN \\\\\n",
       "2236            &      F &          20201 &      1st Year &  EDUCATION &  BACHELOR OF INFORMATION AND COMMUNICATION TECH... &  ICTs and Education &                CIVIC EDUCATION &                      4.0 &         GRZ-FULLY SPONSORED &         Yes &            NaN &        NaN \\\\\n",
       "2237            &      M &          20201 &      1st Year &  EDUCATION &  BACHELOR OF INFORMATION AND COMMUNICATION TECH... &  ICTs and Education &                    MATHEMATICS &                      4.0 &         GRZ-FULLY SPONSORED &         Yes &           0.13 &       45.0 \\\\\n",
       "2238            &      F &          20201 &      1st Year &  EDUCATION &  BACHELOR OF INFORMATION AND COMMUNICATION TECH... &  ICTs and Education &                        ENGLISH &                      5.0 &         GRZ-FULLY SPONSORED &         Yes &            NaN &        NaN \\\\\n",
       "2239            &      M &          20201 &      1st Year &  EDUCATION &  BACHELOR OF INFORMATION AND COMMUNICATION TECH... &  ICTs and Education &                    MATHEMATICS &                      4.0 &         GRZ-FULLY SPONSORED &         Yes &            NaN &        NaN \\\\\n",
       "2240            &      M &          20201 &      1st Year &  EDUCATION &  BACHELOR OF INFORMATION AND COMMUNICATION TECH... &  ICTs and Education &                    MATHEMATICS &                      4.0 &         GRZ-FULLY SPONSORED &         Yes &           0.03 &       54.0 \\\\\n",
       "2241            &      M &          20201 &      1st Year &  EDUCATION &  BACHELOR OF INFORMATION AND COMMUNICATION TECH... &  ICTs and Education &                CIVIC EDUCATION &                      4.0 &         GRZ-FULLY SPONSORED &         Yes &           0.07 &       35.0 \\\\\n",
       "2242            &      M &          20201 &      1st Year &  EDUCATION &  BACHELOR OF INFORMATION AND COMMUNICATION TECH... &  ICTs and Education &                CIVIC EDUCATION &                      4.0 &         GRZ-FULLY SPONSORED &         Yes &            NaN &        NaN \\\\\n",
       "2243            &      M &          20201 &      1st Year &  EDUCATION &  BACHELOR OF INFORMATION AND COMMUNICATION TECH... &  ICTs and Education &                      GEOGRAPHY &                      4.0 &         GRZ-FULLY SPONSORED &          No &           0.03 &       51.0 \\\\\n",
       "2244            &      M &          20201 &      1st Year &  EDUCATION &  BACHELOR OF INFORMATION AND COMMUNICATION TECH... &  ICTs and Education &                CIVIC EDUCATION &                      4.0 &         GRZ-FULLY SPONSORED &          No &            NaN &        NaN \\\\\n",
       "2245            &      M &          20201 &      1st Year &  EDUCATION &  BACHELOR OF INFORMATION AND COMMUNICATION TECH... &  ICTs and Education &                CIVIC EDUCATION &                      4.0 &         GRZ-FULLY SPONSORED &         Yes &           0.11 &       57.0 \\\\\n",
       "2246            &      M &          20201 &      1st Year &  EDUCATION &  BACHELOR OF INFORMATION AND COMMUNICATION TECH... &  ICTs and Education &                        HISTORY &                      4.0 &         GRZ-FULLY SPONSORED &         Yes &            NaN &        NaN \\\\\n",
       "2247            &      M &          20201 &      1st Year &  EDUCATION &  BACHELOR OF INFORMATION AND COMMUNICATION TECH... &  ICTs and Education &                CIVIC EDUCATION &                      4.0 &         GRZ-FULLY SPONSORED &         Yes &            NaN &        NaN \\\\\n",
       "2248            &      M &          20201 &      1st Year &  EDUCATION &  BACHELOR OF INFORMATION AND COMMUNICATION TECH... &  ICTs and Education &                    MATHEMATICS &                      4.0 &         GRZ-FULLY SPONSORED &         Yes &            NaN &        NaN \\\\\n",
       "2249            &      M &          20201 &      1st Year &  EDUCATION &  BACHELOR OF INFORMATION AND COMMUNICATION TECH... &  ICTs and Education &                    MATHEMATICS &                      4.0 &         GRZ-FULLY SPONSORED &          No &            NaN &        NaN \\\\\n",
       "2250            &      M &          20201 &      1st Year &  EDUCATION &  BACHELOR OF INFORMATION AND COMMUNICATION TECH... &  ICTs and Education &                            NaN &                      NaN &         GRZ-FULLY SPONSORED &         Yes &           0.10 &       46.0 \\\\\n",
       "2251            &      F &          20201 &      1st Year &  EDUCATION &  BACHELOR OF INFORMATION AND COMMUNICATION TECH... &  ICTs and Education &                            NaN &                      NaN &         GRZ-FULLY SPONSORED &         Yes &           0.17 &       48.0 \\\\\n",
       "2252            &      M &          20201 &      1st Year &  EDUCATION &  BACHELOR OF INFORMATION AND COMMUNICATION TECH... &  ICTs and Education &                        ENGLISH &                      5.0 &         GRZ-FULLY SPONSORED &          No &           0.10 &       38.0 \\\\\n",
       "2253            &      F &          20201 &      1st Year &  EDUCATION &  BACHELOR OF INFORMATION AND COMMUNICATION TECH... &  ICTs and Education &                        ENGLISH &                      5.0 &         GRZ-FULLY SPONSORED &         Yes &           0.00 &       37.0 \\\\\n",
       "2254            &      M &          20201 &      1st Year &  EDUCATION &  BACHELOR OF INFORMATION AND COMMUNICATION TECH... &  ICTs and Education &                CIVIC EDUCATION &                      4.0 &         GRZ-FULLY SPONSORED &         Yes &           0.25 &       45.0 \\\\\n",
       "2255            &      F &          20201 &      1st Year &  EDUCATION &  BACHELOR OF INFORMATION AND COMMUNICATION TECH... &  ICTs and Education &                CIVIC EDUCATION &                      4.0 &         GRZ-FULLY SPONSORED &         Yes &            NaN &        NaN \\\\\n",
       "2256            &      F &          20201 &      1st Year &  EDUCATION &  BACHELOR OF INFORMATION AND COMMUNICATION TECH... &  ICTs and Education &                        HISTORY &                      4.0 &         GRZ-FULLY SPONSORED &         Yes &           0.07 &       32.0 \\\\\n",
       "2257            &      M &          20201 &      1st Year &  EDUCATION &  BACHELOR OF INFORMATION AND COMMUNICATION TECH... &  ICTs and Education &              RELIGIOUS STUDIES &                      4.0 &         GRZ-FULLY SPONSORED &         Yes &            NaN &        NaN \\\\\n",
       "2258            &      M &          20201 &      1st Year &  EDUCATION &  BACHELOR OF INFORMATION AND COMMUNICATION TECH... &  ICTs and Education &                      GEOGRAPHY &                      4.0 &         GRZ-FULLY SPONSORED &         Yes &            NaN &        NaN \\\\\n",
       "2259            &      F &          20201 &      1st Year &  EDUCATION &  BACHELOR OF INFORMATION AND COMMUNICATION TECH... &  ICTs and Education &                CIVIC EDUCATION &                      4.0 &         GRZ-FULLY SPONSORED &         Yes &           0.02 &       34.0 \\\\\n",
       "2260            &      M &          20201 &      1st Year &  EDUCATION &  BACHELOR OF INFORMATION AND COMMUNICATION TECH... &  ICTs and Education &                CIVIC EDUCATION &                      4.0 &         GRZ-FULLY SPONSORED &         Yes &           0.15 &       53.0 \\\\\n",
       "2261            &      M &          20201 &      1st Year &  EDUCATION &  BACHELOR OF INFORMATION AND COMMUNICATION TECH... &  ICTs and Education &                CIVIC EDUCATION &                      4.0 &         GRZ-FULLY SPONSORED &         Yes &            NaN &        NaN \\\\\n",
       "2262            &      M &          20201 &      1st Year &  EDUCATION &  BACHELOR OF INFORMATION AND COMMUNICATION TECH... &  ICTs and Education &                CIVIC EDUCATION &                      4.0 &         GRZ-FULLY SPONSORED &         Yes &            NaN &        NaN \\\\\n",
       "2263            &      M &          20201 &      1st Year &  EDUCATION &  BACHELOR OF INFORMATION AND COMMUNICATION TECH... &  ICTs and Education &                        ENGLISH &                      5.0 &  TUITION WAIVER(DEPENDANTS) &         Yes &            NaN &        NaN \\\\\n",
       "2264            &      M &          20201 &      1st Year &  EDUCATION &  BACHELOR OF INFORMATION AND COMMUNICATION TECH... &  ICTs and Education &                CIVIC EDUCATION &                      4.0 &         GRZ-FULLY SPONSORED &         Yes &           0.10 &       43.0 \\\\\n",
       "2265            &      M &          20201 &      1st Year &  EDUCATION &  BACHELOR OF INFORMATION AND COMMUNICATION TECH... &  ICTs and Education &                         FRENCH &                      4.0 &         GRZ-FULLY SPONSORED &          No &           0.10 &       45.0 \\\\\n",
       "2266            &      M &          20201 &      1st Year &  EDUCATION &  BACHELOR OF INFORMATION AND COMMUNICATION TECH... &  ICTs and Education &                CIVIC EDUCATION &                      4.0 &         GRZ-FULLY SPONSORED &         Yes &            NaN &        NaN \\\\\n",
       "2267            &      M &          20201 &      1st Year &  EDUCATION &  BACHELOR OF INFORMATION AND COMMUNICATION TECH... &  ICTs and Education &                CIVIC EDUCATION &                      4.0 &         GRZ-FULLY SPONSORED &          No &            NaN &        NaN \\\\\n",
       "2268            &      M &          20201 &      1st Year &  EDUCATION &  BACHELOR OF INFORMATION AND COMMUNICATION TECH... &  ICTs and Education &                CIVIC EDUCATION &                      4.0 &              SELF-SPONSORED &         Yes &            NaN &        NaN \\\\\n",
       "2269            &      M &          20201 &      1st Year &  EDUCATION &  BACHELOR OF INFORMATION AND COMMUNICATION TECH... &  ICTs and Education &                    MATHEMATICS &                      4.0 &         GRZ-FULLY SPONSORED &         Yes &            NaN &        NaN \\\\\n",
       "2270            &      M &          20201 &      1st Year &  EDUCATION &  BACHELOR OF INFORMATION AND COMMUNICATION TECH... &  ICTs and Education &                            NaN &                      NaN &  TUITION WAIVER(DEPENDANTS) &         Yes &            NaN &        NaN \\\\\n",
       "2271            &      F &          20201 &      1st Year &  EDUCATION &  BACHELOR OF INFORMATION AND COMMUNICATION TECH... &  ICTs and Education &                        ENGLISH &                      5.0 &         GRZ-FULLY SPONSORED &         Yes &            NaN &        NaN \\\\\n",
       "2272            &      M &          20201 &      1st Year &  EDUCATION &  BACHELOR OF INFORMATION AND COMMUNICATION TECH... &  ICTs and Education &                CIVIC EDUCATION &                      4.0 &  TUITION WAIVER(DEPENDANTS) &         Yes &           0.02 &       56.0 \\\\\n",
       "2273            &      M &          20201 &      1st Year &  EDUCATION &  BACHELOR OF INFORMATION AND COMMUNICATION TECH... &  ICTs and Education &                CIVIC EDUCATION &                      4.0 &         GRZ-FULLY SPONSORED &          No &           0.30 &       47.0 \\\\\n",
       "2274            &      F &          20201 &      1st Year &  EDUCATION &  BACHELOR OF INFORMATION AND COMMUNICATION TECH... &  ICTs and Education &                         FRENCH &                      4.0 &              SELF-SPONSORED &          No &           0.01 &       35.0 \\\\\n",
       "2275            &      M &          20201 &      1st Year &  EDUCATION &  BACHELOR OF INFORMATION AND COMMUNICATION TECH... &  ICTs and Education &                    MATHEMATICS &                      4.0 &         GRZ-FULLY SPONSORED &         Yes &           0.20 &       38.0 \\\\\n",
       "2276            &      F &          20201 &      1st Year &  EDUCATION &  BACHELOR OF INFORMATION AND COMMUNICATION TECH... &  ICTs and Education &                      GEOGRAPHY &                      4.0 &              SELF-SPONSORED &          No &            NaN &        NaN \\\\\n",
       "\\end{longtable}\n"
      ],
      "text/plain": [
       "                Gender  Academic Year Year Of Study     School  \\\n",
       "Computer Number                                                  \n",
       "2000                 F          20201      1st Year  EDUCATION   \n",
       "2001                 M          20171      1st Year  EDUCATION   \n",
       "2002                 M          20181      1st Year  EDUCATION   \n",
       "2003                 M          20181      1st Year  EDUCATION   \n",
       "2004                 M          20171      1st Year  EDUCATION   \n",
       "...                ...            ...           ...        ...   \n",
       "2272                 M          20201      1st Year  EDUCATION   \n",
       "2273                 M          20201      1st Year  EDUCATION   \n",
       "2274                 F          20201      1st Year  EDUCATION   \n",
       "2275                 M          20201      1st Year  EDUCATION   \n",
       "2276                 F          20201      1st Year  EDUCATION   \n",
       "\n",
       "                                                           Program  \\\n",
       "Computer Number                                                      \n",
       "2000             BACHELOR OF INFORMATION AND COMMUNICATION TECH...   \n",
       "2001             BACHELOR OF INFORMATION AND COMMUNICATION TECH...   \n",
       "2002             BACHELOR OF INFORMATION AND COMMUNICATION TECH...   \n",
       "2003             BACHELOR OF INFORMATION AND COMMUNICATION TECH...   \n",
       "2004             BACHELOR OF INFORMATION AND COMMUNICATION TECH...   \n",
       "...                                                            ...   \n",
       "2272             BACHELOR OF INFORMATION AND COMMUNICATION TECH...   \n",
       "2273             BACHELOR OF INFORMATION AND COMMUNICATION TECH...   \n",
       "2274             BACHELOR OF INFORMATION AND COMMUNICATION TECH...   \n",
       "2275             BACHELOR OF INFORMATION AND COMMUNICATION TECH...   \n",
       "2276             BACHELOR OF INFORMATION AND COMMUNICATION TECH...   \n",
       "\n",
       "                   MajorDescription    MinorDescription  \\\n",
       "Computer Number                                           \n",
       "2000             ICTs and Education         MATHEMATICS   \n",
       "2001             ICTs and Education     CIVIC EDUCATION   \n",
       "2002             ICTs and Education                 NaN   \n",
       "2003             ICTs and Education   RELIGIOUS STUDIES   \n",
       "2004             ICTs and Education  CURRICULUM STUDIES   \n",
       "...                             ...                 ...   \n",
       "2272             ICTs and Education     CIVIC EDUCATION   \n",
       "2273             ICTs and Education     CIVIC EDUCATION   \n",
       "2274             ICTs and Education              FRENCH   \n",
       "2275             ICTs and Education         MATHEMATICS   \n",
       "2276             ICTs and Education           GEOGRAPHY   \n",
       "\n",
       "                 Total number of courses                     Sponsor  \\\n",
       "Computer Number                                                        \n",
       "2000                                 4.0  TUITION WAIVER(DEPENDANTS)   \n",
       "2001                                 5.0  TUITION WAIVER(DEPENDANTS)   \n",
       "2002                                 NaN              SELF-SPONSORED   \n",
       "2003                                 4.0              SELF-SPONSORED   \n",
       "2004                                 4.0         GRZ-FULLY SPONSORED   \n",
       "...                                  ...                         ...   \n",
       "2272                                 4.0  TUITION WAIVER(DEPENDANTS)   \n",
       "2273                                 4.0         GRZ-FULLY SPONSORED   \n",
       "2274                                 4.0              SELF-SPONSORED   \n",
       "2275                                 4.0         GRZ-FULLY SPONSORED   \n",
       "2276                                 4.0              SELF-SPONSORED   \n",
       "\n",
       "                Accomodated  Moodle logins  CA + Exam  \n",
       "Computer Number                                        \n",
       "2000                     No            NaN        NaN  \n",
       "2001                     No            NaN       64.0  \n",
       "2002                     No            NaN        NaN  \n",
       "2003                     No            NaN        NaN  \n",
       "2004                     No            NaN       45.0  \n",
       "...                     ...            ...        ...  \n",
       "2272                    Yes           0.02       56.0  \n",
       "2273                     No           0.30       47.0  \n",
       "2274                     No           0.01       35.0  \n",
       "2275                    Yes           0.20       38.0  \n",
       "2276                     No            NaN        NaN  \n",
       "\n",
       "[277 rows x 12 columns]"
      ]
     },
     "execution_count": 557,
     "metadata": {},
     "output_type": "execute_result"
    }
   ],
   "source": [
    "df"
   ]
  },
  {
   "cell_type": "markdown",
   "metadata": {},
   "source": [
    "# Data preparation"
   ]
  },
  {
   "cell_type": "code",
   "execution_count": 558,
   "metadata": {},
   "outputs": [
    {
     "data": {
      "text/plain": [
       "Index(['Gender', 'Academic Year', 'Year Of Study', 'School', 'Program',\n",
       "       'MajorDescription', 'MinorDescription', 'Total number of courses',\n",
       "       'Sponsor', 'Accomodated', 'Moodle logins', 'CA + Exam'],\n",
       "      dtype='object')"
      ]
     },
     "execution_count": 558,
     "metadata": {},
     "output_type": "execute_result"
    }
   ],
   "source": [
    "df.columns"
   ]
  },
  {
   "cell_type": "code",
   "execution_count": 559,
   "metadata": {},
   "outputs": [],
   "source": [
    "df.rename(columns={\"MajorDescription\": \"Major\",\n",
    "                   \"MinorDescription\": \"Minor\",\n",
    "                   \"Total number of courses\": \"Number of courses\",\n",
    "                   \n",
    "\n",
    "\n",
    "                  },inplace=True)"
   ]
  },
  {
   "cell_type": "code",
   "execution_count": 560,
   "metadata": {},
   "outputs": [
    {
     "data": {
      "text/html": [
       "<div>\n",
       "<style scoped>\n",
       "    .dataframe tbody tr th:only-of-type {\n",
       "        vertical-align: middle;\n",
       "    }\n",
       "\n",
       "    .dataframe tbody tr th {\n",
       "        vertical-align: top;\n",
       "    }\n",
       "\n",
       "    .dataframe thead th {\n",
       "        text-align: right;\n",
       "    }\n",
       "</style>\n",
       "<table border=\"1\" class=\"dataframe\">\n",
       "  <thead>\n",
       "    <tr style=\"text-align: right;\">\n",
       "      <th></th>\n",
       "      <th>Gender</th>\n",
       "      <th>Academic Year</th>\n",
       "      <th>Year Of Study</th>\n",
       "      <th>School</th>\n",
       "      <th>Program</th>\n",
       "      <th>Major</th>\n",
       "      <th>Minor</th>\n",
       "      <th>Number of courses</th>\n",
       "      <th>Sponsor</th>\n",
       "      <th>Accomodated</th>\n",
       "      <th>Moodle logins</th>\n",
       "      <th>CA + Exam</th>\n",
       "    </tr>\n",
       "    <tr>\n",
       "      <th>Computer Number</th>\n",
       "      <th></th>\n",
       "      <th></th>\n",
       "      <th></th>\n",
       "      <th></th>\n",
       "      <th></th>\n",
       "      <th></th>\n",
       "      <th></th>\n",
       "      <th></th>\n",
       "      <th></th>\n",
       "      <th></th>\n",
       "      <th></th>\n",
       "      <th></th>\n",
       "    </tr>\n",
       "  </thead>\n",
       "  <tbody>\n",
       "    <tr>\n",
       "      <th>2000</th>\n",
       "      <td>F</td>\n",
       "      <td>20201</td>\n",
       "      <td>1st Year</td>\n",
       "      <td>EDUCATION</td>\n",
       "      <td>BACHELOR OF INFORMATION AND COMMUNICATION TECH...</td>\n",
       "      <td>ICTs and Education</td>\n",
       "      <td>MATHEMATICS</td>\n",
       "      <td>4.0</td>\n",
       "      <td>TUITION WAIVER(DEPENDANTS)</td>\n",
       "      <td>No</td>\n",
       "      <td>NaN</td>\n",
       "      <td>NaN</td>\n",
       "    </tr>\n",
       "    <tr>\n",
       "      <th>2001</th>\n",
       "      <td>M</td>\n",
       "      <td>20171</td>\n",
       "      <td>1st Year</td>\n",
       "      <td>EDUCATION</td>\n",
       "      <td>BACHELOR OF INFORMATION AND COMMUNICATION TECH...</td>\n",
       "      <td>ICTs and Education</td>\n",
       "      <td>CIVIC EDUCATION</td>\n",
       "      <td>5.0</td>\n",
       "      <td>TUITION WAIVER(DEPENDANTS)</td>\n",
       "      <td>No</td>\n",
       "      <td>NaN</td>\n",
       "      <td>64.0</td>\n",
       "    </tr>\n",
       "    <tr>\n",
       "      <th>2002</th>\n",
       "      <td>M</td>\n",
       "      <td>20181</td>\n",
       "      <td>1st Year</td>\n",
       "      <td>EDUCATION</td>\n",
       "      <td>BACHELOR OF INFORMATION AND COMMUNICATION TECH...</td>\n",
       "      <td>ICTs and Education</td>\n",
       "      <td>NaN</td>\n",
       "      <td>NaN</td>\n",
       "      <td>SELF-SPONSORED</td>\n",
       "      <td>No</td>\n",
       "      <td>NaN</td>\n",
       "      <td>NaN</td>\n",
       "    </tr>\n",
       "    <tr>\n",
       "      <th>2003</th>\n",
       "      <td>M</td>\n",
       "      <td>20181</td>\n",
       "      <td>1st Year</td>\n",
       "      <td>EDUCATION</td>\n",
       "      <td>BACHELOR OF INFORMATION AND COMMUNICATION TECH...</td>\n",
       "      <td>ICTs and Education</td>\n",
       "      <td>RELIGIOUS STUDIES</td>\n",
       "      <td>4.0</td>\n",
       "      <td>SELF-SPONSORED</td>\n",
       "      <td>No</td>\n",
       "      <td>NaN</td>\n",
       "      <td>NaN</td>\n",
       "    </tr>\n",
       "    <tr>\n",
       "      <th>2004</th>\n",
       "      <td>M</td>\n",
       "      <td>20171</td>\n",
       "      <td>1st Year</td>\n",
       "      <td>EDUCATION</td>\n",
       "      <td>BACHELOR OF INFORMATION AND COMMUNICATION TECH...</td>\n",
       "      <td>ICTs and Education</td>\n",
       "      <td>CURRICULUM STUDIES</td>\n",
       "      <td>4.0</td>\n",
       "      <td>GRZ-FULLY SPONSORED</td>\n",
       "      <td>No</td>\n",
       "      <td>NaN</td>\n",
       "      <td>45.0</td>\n",
       "    </tr>\n",
       "    <tr>\n",
       "      <th>...</th>\n",
       "      <td>...</td>\n",
       "      <td>...</td>\n",
       "      <td>...</td>\n",
       "      <td>...</td>\n",
       "      <td>...</td>\n",
       "      <td>...</td>\n",
       "      <td>...</td>\n",
       "      <td>...</td>\n",
       "      <td>...</td>\n",
       "      <td>...</td>\n",
       "      <td>...</td>\n",
       "      <td>...</td>\n",
       "    </tr>\n",
       "    <tr>\n",
       "      <th>2272</th>\n",
       "      <td>M</td>\n",
       "      <td>20201</td>\n",
       "      <td>1st Year</td>\n",
       "      <td>EDUCATION</td>\n",
       "      <td>BACHELOR OF INFORMATION AND COMMUNICATION TECH...</td>\n",
       "      <td>ICTs and Education</td>\n",
       "      <td>CIVIC EDUCATION</td>\n",
       "      <td>4.0</td>\n",
       "      <td>TUITION WAIVER(DEPENDANTS)</td>\n",
       "      <td>Yes</td>\n",
       "      <td>0.02</td>\n",
       "      <td>56.0</td>\n",
       "    </tr>\n",
       "    <tr>\n",
       "      <th>2273</th>\n",
       "      <td>M</td>\n",
       "      <td>20201</td>\n",
       "      <td>1st Year</td>\n",
       "      <td>EDUCATION</td>\n",
       "      <td>BACHELOR OF INFORMATION AND COMMUNICATION TECH...</td>\n",
       "      <td>ICTs and Education</td>\n",
       "      <td>CIVIC EDUCATION</td>\n",
       "      <td>4.0</td>\n",
       "      <td>GRZ-FULLY SPONSORED</td>\n",
       "      <td>No</td>\n",
       "      <td>0.30</td>\n",
       "      <td>47.0</td>\n",
       "    </tr>\n",
       "    <tr>\n",
       "      <th>2274</th>\n",
       "      <td>F</td>\n",
       "      <td>20201</td>\n",
       "      <td>1st Year</td>\n",
       "      <td>EDUCATION</td>\n",
       "      <td>BACHELOR OF INFORMATION AND COMMUNICATION TECH...</td>\n",
       "      <td>ICTs and Education</td>\n",
       "      <td>FRENCH</td>\n",
       "      <td>4.0</td>\n",
       "      <td>SELF-SPONSORED</td>\n",
       "      <td>No</td>\n",
       "      <td>0.01</td>\n",
       "      <td>35.0</td>\n",
       "    </tr>\n",
       "    <tr>\n",
       "      <th>2275</th>\n",
       "      <td>M</td>\n",
       "      <td>20201</td>\n",
       "      <td>1st Year</td>\n",
       "      <td>EDUCATION</td>\n",
       "      <td>BACHELOR OF INFORMATION AND COMMUNICATION TECH...</td>\n",
       "      <td>ICTs and Education</td>\n",
       "      <td>MATHEMATICS</td>\n",
       "      <td>4.0</td>\n",
       "      <td>GRZ-FULLY SPONSORED</td>\n",
       "      <td>Yes</td>\n",
       "      <td>0.20</td>\n",
       "      <td>38.0</td>\n",
       "    </tr>\n",
       "    <tr>\n",
       "      <th>2276</th>\n",
       "      <td>F</td>\n",
       "      <td>20201</td>\n",
       "      <td>1st Year</td>\n",
       "      <td>EDUCATION</td>\n",
       "      <td>BACHELOR OF INFORMATION AND COMMUNICATION TECH...</td>\n",
       "      <td>ICTs and Education</td>\n",
       "      <td>GEOGRAPHY</td>\n",
       "      <td>4.0</td>\n",
       "      <td>SELF-SPONSORED</td>\n",
       "      <td>No</td>\n",
       "      <td>NaN</td>\n",
       "      <td>NaN</td>\n",
       "    </tr>\n",
       "  </tbody>\n",
       "</table>\n",
       "<p>277 rows × 12 columns</p>\n",
       "</div>"
      ],
      "text/latex": [
       "\\begin{longtable}{llrlllllrllrr}\n",
       "\\toprule\n",
       "{} & Gender &  Academic Year & Year Of Study &     School &                                            Program &               Major &                          Minor &  Number of courses &                     Sponsor & Accomodated &  Moodle logins &  CA + Exam \\\\\n",
       "Computer Number &        &                &               &            &                                                    &                     &                                &                    &                             &             &                &            \\\\\n",
       "\\midrule\n",
       "\\endfirsthead\n",
       "\n",
       "\\toprule\n",
       "{} & Gender &  Academic Year & Year Of Study &     School &                                            Program &               Major &                          Minor &  Number of courses &                     Sponsor & Accomodated &  Moodle logins &  CA + Exam \\\\\n",
       "Computer Number &        &                &               &            &                                                    &                     &                                &                    &                             &             &                &            \\\\\n",
       "\\midrule\n",
       "\\endhead\n",
       "\\midrule\n",
       "\\multicolumn{13}{r}{{Continued on next page}} \\\\\n",
       "\\midrule\n",
       "\\endfoot\n",
       "\n",
       "\\bottomrule\n",
       "\\endlastfoot\n",
       "2000            &      F &          20201 &      1st Year &  EDUCATION &  BACHELOR OF INFORMATION AND COMMUNICATION TECH... &  ICTs and Education &                    MATHEMATICS &                4.0 &  TUITION WAIVER(DEPENDANTS) &          No &            NaN &        NaN \\\\\n",
       "2001            &      M &          20171 &      1st Year &  EDUCATION &  BACHELOR OF INFORMATION AND COMMUNICATION TECH... &  ICTs and Education &                CIVIC EDUCATION &                5.0 &  TUITION WAIVER(DEPENDANTS) &          No &            NaN &       64.0 \\\\\n",
       "2002            &      M &          20181 &      1st Year &  EDUCATION &  BACHELOR OF INFORMATION AND COMMUNICATION TECH... &  ICTs and Education &                            NaN &                NaN &              SELF-SPONSORED &          No &            NaN &        NaN \\\\\n",
       "2003            &      M &          20181 &      1st Year &  EDUCATION &  BACHELOR OF INFORMATION AND COMMUNICATION TECH... &  ICTs and Education &              RELIGIOUS STUDIES &                4.0 &              SELF-SPONSORED &          No &            NaN &        NaN \\\\\n",
       "2004            &      M &          20171 &      1st Year &  EDUCATION &  BACHELOR OF INFORMATION AND COMMUNICATION TECH... &  ICTs and Education &             CURRICULUM STUDIES &                4.0 &         GRZ-FULLY SPONSORED &          No &            NaN &       45.0 \\\\\n",
       "2005            &      M &          20181 &      1st Year &  EDUCATION &  BACHELOR OF INFORMATION AND COMMUNICATION TECH... &  ICTs and Education &                CIVIC EDUCATION &                5.0 &              SELF-SPONSORED &          No &            NaN &        NaN \\\\\n",
       "2006            &      F &          20171 &      1st Year &  EDUCATION &  BACHELOR OF INFORMATION AND COMMUNICATION TECH... &  ICTs and Education &                CIVIC EDUCATION &                5.0 &         GRZ-FULLY SPONSORED &         Yes &            NaN &       45.0 \\\\\n",
       "2007            &      M &          20171 &      1st Year &  EDUCATION &  BACHELOR OF INFORMATION AND COMMUNICATION TECH... &  ICTs and Education &                    MATHEMATICS &                4.0 &         GRZ-FULLY SPONSORED &          No &            NaN &       56.0 \\\\\n",
       "2008            &      M &          20191 &      1st Year &  EDUCATION &  BACHELOR OF INFORMATION AND COMMUNICATION TECH... &  ICTs and Education &                CIVIC EDUCATION &                5.0 &              SELF-SPONSORED &          No &            NaN &        NaN \\\\\n",
       "2009            &      F &          20171 &      1st Year &  EDUCATION &  BACHELOR OF INFORMATION AND COMMUNICATION TECH... &  ICTs and Education &                CIVIC EDUCATION &                5.0 &            GRZ - 75 PERCENT &          No &            NaN &       46.0 \\\\\n",
       "2010            &      F &          20171 &      1st Year &  EDUCATION &  BACHELOR OF INFORMATION AND COMMUNICATION TECH... &  ICTs and Education &                    MATHEMATICS &                4.0 &            GRZ - 75 PERCENT &          No &            NaN &       59.0 \\\\\n",
       "2011            &      F &          20171 &      1st Year &  EDUCATION &  BACHELOR OF INFORMATION AND COMMUNICATION TECH... &  ICTs and Education &                CIVIC EDUCATION &                5.0 &         GRZ-FULLY SPONSORED &          No &            NaN &       60.0 \\\\\n",
       "2012            &      M &          20171 &      1st Year &  EDUCATION &  BACHELOR OF INFORMATION AND COMMUNICATION TECH... &  ICTs and Education &                      GEOGRAPHY &                4.0 &            GRZ - 75 PERCENT &          No &            NaN &       66.0 \\\\\n",
       "2013            &      M &          20171 &      1st Year &  EDUCATION &  BACHELOR OF INFORMATION AND COMMUNICATION TECH... &  ICTs and Education &                        CHINESE &                4.0 &         GRZ-FULLY SPONSORED &          No &            NaN &       54.0 \\\\\n",
       "2014            &      F &          20171 &      1st Year &  EDUCATION &  BACHELOR OF INFORMATION AND COMMUNICATION TECH... &  ICTs and Education &                CIVIC EDUCATION &                5.0 &         GRZ-FULLY SPONSORED &          No &            NaN &       59.0 \\\\\n",
       "2015            &      M &          20171 &      1st Year &  EDUCATION &  BACHELOR OF INFORMATION AND COMMUNICATION TECH... &  ICTs and Education &                CIVIC EDUCATION &                5.0 &         GRZ-FULLY SPONSORED &          No &            NaN &       59.0 \\\\\n",
       "2016            &      M &          20171 &      1st Year &  EDUCATION &  BACHELOR OF INFORMATION AND COMMUNICATION TECH... &  ICTs and Education &                    MATHEMATICS &                4.0 &         GRZ-FULLY SPONSORED &          No &            NaN &       59.0 \\\\\n",
       "2017            &      F &          20171 &      1st Year &  EDUCATION &  BACHELOR OF INFORMATION AND COMMUNICATION TECH... &  ICTs and Education &                CIVIC EDUCATION &                5.0 &         GRZ-FULLY SPONSORED &          No &            NaN &       47.0 \\\\\n",
       "2018            &      F &          20171 &      1st Year &  EDUCATION &  BACHELOR OF INFORMATION AND COMMUNICATION TECH... &  ICTs and Education &                CIVIC EDUCATION &                5.0 &              SELF-SPONSORED &          No &            NaN &       48.0 \\\\\n",
       "2019            &      M &          20171 &      1st Year &  EDUCATION &  BACHELOR OF INFORMATION AND COMMUNICATION TECH... &  ICTs and Education &                CIVIC EDUCATION &                5.0 &              SELF-SPONSORED &          No &            NaN &       34.0 \\\\\n",
       "2020            &      M &          20171 &      1st Year &  EDUCATION &  BACHELOR OF INFORMATION AND COMMUNICATION TECH... &  ICTs and Education &                      GEOGRAPHY &                4.0 &         GRZ-FULLY SPONSORED &          No &            NaN &       47.0 \\\\\n",
       "2021            &      M &          20171 &      1st Year &  EDUCATION &  BACHELOR OF INFORMATION AND COMMUNICATION TECH... &  ICTs and Education &                            NaN &                NaN &              SELF-SPONSORED &          No &            NaN &        NaN \\\\\n",
       "2022            &      M &          20171 &      1st Year &  EDUCATION &  BACHELOR OF INFORMATION AND COMMUNICATION TECH... &  ICTs and Education &                CIVIC EDUCATION &                5.0 &         GRZ-FULLY SPONSORED &         Yes &            NaN &       61.0 \\\\\n",
       "2023            &      F &          20171 &      1st Year &  EDUCATION &  BACHELOR OF INFORMATION AND COMMUNICATION TECH... &  ICTs and Education &                      GEOGRAPHY &                4.0 &         GRZ-FULLY SPONSORED &          No &            NaN &       47.0 \\\\\n",
       "2024            &      M &          20171 &      1st Year &  EDUCATION &  BACHELOR OF INFORMATION AND COMMUNICATION TECH... &  ICTs and Education &                CIVIC EDUCATION &                5.0 &         GRZ-FULLY SPONSORED &          No &            NaN &       55.0 \\\\\n",
       "2025            &      M &          20171 &      1st Year &  EDUCATION &  BACHELOR OF INFORMATION AND COMMUNICATION TECH... &  ICTs and Education &                      GEOGRAPHY &                4.0 &         GRZ-FULLY SPONSORED &          No &            NaN &       52.0 \\\\\n",
       "2026            &      M &          20171 &      1st Year &  EDUCATION &  BACHELOR OF INFORMATION AND COMMUNICATION TECH... &  ICTs and Education &                    MATHEMATICS &                4.0 &         GRZ-FULLY SPONSORED &          No &            NaN &       53.0 \\\\\n",
       "2027            &      M &          20171 &      1st Year &  EDUCATION &  BACHELOR OF INFORMATION AND COMMUNICATION TECH... &  ICTs and Education &                        HISTORY &                4.0 &            GRZ - 75 PERCENT &         Yes &            NaN &       45.0 \\\\\n",
       "2028            &      M &          20171 &      1st Year &  EDUCATION &  BACHELOR OF INFORMATION AND COMMUNICATION TECH... &  ICTs and Education &                CIVIC EDUCATION &                5.0 &              SELF-SPONSORED &          No &            NaN &       57.0 \\\\\n",
       "2029            &      F &          20171 &      1st Year &  EDUCATION &  BACHELOR OF INFORMATION AND COMMUNICATION TECH... &  ICTs and Education &                        ENGLISH &                5.0 &            GRZ - 75 PERCENT &          No &            NaN &       45.0 \\\\\n",
       "2030            &      M &          20171 &      1st Year &  EDUCATION &  BACHELOR OF INFORMATION AND COMMUNICATION TECH... &  ICTs and Education &                        HISTORY &                4.0 &         GRZ-FULLY SPONSORED &         Yes &            NaN &       59.0 \\\\\n",
       "2031            &      M &          20171 &      1st Year &  EDUCATION &  BACHELOR OF INFORMATION AND COMMUNICATION TECH... &  ICTs and Education &                CIVIC EDUCATION &                5.0 &         GRZ-FULLY SPONSORED &          No &            NaN &       47.0 \\\\\n",
       "2032            &      F &          20171 &      1st Year &  EDUCATION &  BACHELOR OF INFORMATION AND COMMUNICATION TECH... &  ICTs and Education &                CIVIC EDUCATION &                5.0 &         GRZ-FULLY SPONSORED &          No &            NaN &       45.0 \\\\\n",
       "2033            &      M &          20171 &      1st Year &  EDUCATION &  BACHELOR OF INFORMATION AND COMMUNICATION TECH... &  ICTs and Education &                      GEOGRAPHY &                4.0 &         GRZ-FULLY SPONSORED &         Yes &            NaN &       63.0 \\\\\n",
       "2034            &      F &          20171 &      1st Year &  EDUCATION &  BACHELOR OF INFORMATION AND COMMUNICATION TECH... &  ICTs and Education &              RELIGIOUS STUDIES &                4.0 &            GRZ - 75 PERCENT &          No &            NaN &       49.0 \\\\\n",
       "2035            &      M &          20171 &      1st Year &  EDUCATION &  BACHELOR OF INFORMATION AND COMMUNICATION TECH... &  ICTs and Education &                      GEOGRAPHY &                4.0 &  TUITION WAIVER(DEPENDANTS) &         Yes &            NaN &       40.0 \\\\\n",
       "2036            &      M &          20171 &      1st Year &  EDUCATION &  BACHELOR OF INFORMATION AND COMMUNICATION TECH... &  ICTs and Education &                    MATHEMATICS &                4.0 &              SELF-SPONSORED &          No &            NaN &        NaN \\\\\n",
       "2037            &      M &          20181 &      1st Year &  EDUCATION &  BACHELOR OF INFORMATION AND COMMUNICATION TECH... &  ICTs and Education &                    MATHEMATICS &                4.0 &              SELF-SPONSORED &          No &            NaN &        NaN \\\\\n",
       "2038            &      M &          20171 &      1st Year &  EDUCATION &  BACHELOR OF INFORMATION AND COMMUNICATION TECH... &  ICTs and Education &                            NaN &                NaN &              SELF-SPONSORED &          No &            NaN &        NaN \\\\\n",
       "2039            &      F &          20171 &      1st Year &  EDUCATION &  BACHELOR OF INFORMATION AND COMMUNICATION TECH... &  ICTs and Education &                CIVIC EDUCATION &                5.0 &              SELF-SPONSORED &          No &            NaN &        NaN \\\\\n",
       "2040            &      F &          20171 &      1st Year &  EDUCATION &  BACHELOR OF INFORMATION AND COMMUNICATION TECH... &  ICTs and Education &                        ENGLISH &                5.0 &         GRZ-FULLY SPONSORED &          No &            NaN &       48.0 \\\\\n",
       "2041            &      M &          20171 &      1st Year &  EDUCATION &  BACHELOR OF INFORMATION AND COMMUNICATION TECH... &  ICTs and Education &                CIVIC EDUCATION &                5.0 &              SELF-SPONSORED &         Yes &            NaN &       45.0 \\\\\n",
       "2042            &      M &          20171 &      1st Year &  EDUCATION &  BACHELOR OF INFORMATION AND COMMUNICATION TECH... &  ICTs and Education &                        ENGLISH &                5.0 &         GRZ-FULLY SPONSORED &         Yes &            NaN &       58.0 \\\\\n",
       "2043            &      M &          20171 &      1st Year &  EDUCATION &  BACHELOR OF INFORMATION AND COMMUNICATION TECH... &  ICTs and Education &                        HISTORY &                4.0 &         GRZ-FULLY SPONSORED &         Yes &            NaN &       47.0 \\\\\n",
       "2044            &      F &          20171 &      1st Year &  EDUCATION &  BACHELOR OF INFORMATION AND COMMUNICATION TECH... &  ICTs and Education &                CIVIC EDUCATION &                5.0 &         GRZ-FULLY SPONSORED &          No &            NaN &       51.0 \\\\\n",
       "2045            &      M &          20171 &      1st Year &  EDUCATION &  BACHELOR OF INFORMATION AND COMMUNICATION TECH... &  ICTs and Education &  PHYSICAL EDUCATION AND SPORTS &                4.0 &         GRZ-FULLY SPONSORED &          No &            NaN &       63.0 \\\\\n",
       "2046            &      M &          20171 &      1st Year &  EDUCATION &  BACHELOR OF INFORMATION AND COMMUNICATION TECH... &  ICTs and Education &                CIVIC EDUCATION &                5.0 &         GRZ-FULLY SPONSORED &         Yes &           0.07 &       41.0 \\\\\n",
       "2047            &      M &          20171 &      1st Year &  EDUCATION &  BACHELOR OF INFORMATION AND COMMUNICATION TECH... &  ICTs and Education &                        HISTORY &                4.0 &         GRZ-FULLY SPONSORED &          No &            NaN &       67.0 \\\\\n",
       "2048            &      F &          20171 &      1st Year &  EDUCATION &  BACHELOR OF INFORMATION AND COMMUNICATION TECH... &  ICTs and Education &                        HISTORY &                4.0 &         GRZ-FULLY SPONSORED &          No &           0.04 &       38.0 \\\\\n",
       "2049            &      F &          20171 &      1st Year &  EDUCATION &  BACHELOR OF INFORMATION AND COMMUNICATION TECH... &  ICTs and Education &                CIVIC EDUCATION &                5.0 &         GRZ-FULLY SPONSORED &         Yes &            NaN &       52.0 \\\\\n",
       "2050            &      M &          20171 &      1st Year &  EDUCATION &  BACHELOR OF INFORMATION AND COMMUNICATION TECH... &  ICTs and Education &                    MATHEMATICS &                4.0 &         GRZ-FULLY SPONSORED &         Yes &            NaN &       45.0 \\\\\n",
       "2051            &      F &          20171 &      1st Year &  EDUCATION &  BACHELOR OF INFORMATION AND COMMUNICATION TECH... &  ICTs and Education &                    MATHEMATICS &                4.0 &            GRZ - 75 PERCENT &          No &            NaN &       57.0 \\\\\n",
       "2052            &      M &          20171 &      1st Year &  EDUCATION &  BACHELOR OF INFORMATION AND COMMUNICATION TECH... &  ICTs and Education &                CIVIC EDUCATION &                5.0 &         GRZ-FULLY SPONSORED &          No &            NaN &       54.0 \\\\\n",
       "2053            &      M &          20171 &      1st Year &  EDUCATION &  BACHELOR OF INFORMATION AND COMMUNICATION TECH... &  ICTs and Education &                        CHINESE &                4.0 &         GRZ-FULLY SPONSORED &         Yes &            NaN &       55.0 \\\\\n",
       "2054            &      M &          20171 &      1st Year &  EDUCATION &  BACHELOR OF INFORMATION AND COMMUNICATION TECH... &  ICTs and Education &                      GEOGRAPHY &                4.0 &         GRZ-FULLY SPONSORED &          No &            NaN &       57.0 \\\\\n",
       "2055            &      M &          20171 &      1st Year &  EDUCATION &  BACHELOR OF INFORMATION AND COMMUNICATION TECH... &  ICTs and Education &                CIVIC EDUCATION &                5.0 &         GRZ-FULLY SPONSORED &          No &            NaN &       50.0 \\\\\n",
       "2056            &      M &          20171 &      1st Year &  EDUCATION &  BACHELOR OF INFORMATION AND COMMUNICATION TECH... &  ICTs and Education &                CIVIC EDUCATION &                5.0 &         GRZ-FULLY SPONSORED &         Yes &            NaN &       53.0 \\\\\n",
       "2057            &      F &          20171 &      1st Year &  EDUCATION &  BACHELOR OF INFORMATION AND COMMUNICATION TECH... &  ICTs and Education &              RELIGIOUS STUDIES &                4.0 &         GRZ-FULLY SPONSORED &          No &            NaN &       34.0 \\\\\n",
       "2058            &      F &          20171 &      1st Year &  EDUCATION &  BACHELOR OF INFORMATION AND COMMUNICATION TECH... &  ICTs and Education &                        ENGLISH &                5.0 &         GRZ-FULLY SPONSORED &          No &            NaN &       62.0 \\\\\n",
       "2059            &      M &          20171 &      1st Year &  EDUCATION &  BACHELOR OF INFORMATION AND COMMUNICATION TECH... &  ICTs and Education &                CIVIC EDUCATION &                5.0 &         GRZ-FULLY SPONSORED &          No &            NaN &       46.0 \\\\\n",
       "2060            &      F &          20171 &      1st Year &  EDUCATION &  BACHELOR OF INFORMATION AND COMMUNICATION TECH... &  ICTs and Education &                        HISTORY &                4.0 &            GRZ - 75 PERCENT &          No &            NaN &       45.0 \\\\\n",
       "2061            &      M &          20171 &      1st Year &  EDUCATION &  BACHELOR OF INFORMATION AND COMMUNICATION TECH... &  ICTs and Education &                      GEOGRAPHY &                5.0 &         GRZ-FULLY SPONSORED &          No &            NaN &       45.0 \\\\\n",
       "2062            &      M &          20171 &      1st Year &  EDUCATION &  BACHELOR OF INFORMATION AND COMMUNICATION TECH... &  ICTs and Education &                      GEOGRAPHY &                5.0 &         GRZ-FULLY SPONSORED &          No &            NaN &       47.0 \\\\\n",
       "2063            &      M &          20171 &      1st Year &  EDUCATION &  BACHELOR OF INFORMATION AND COMMUNICATION TECH... &  ICTs and Education &                    MATHEMATICS &                4.0 &         GRZ-FULLY SPONSORED &          No &            NaN &       56.0 \\\\\n",
       "2064            &      F &          20171 &      1st Year &  EDUCATION &  BACHELOR OF INFORMATION AND COMMUNICATION TECH... &  ICTs and Education &              RELIGIOUS STUDIES &                4.0 &            GRZ - 75 PERCENT &          No &            NaN &       45.0 \\\\\n",
       "2065            &      M &          20171 &      1st Year &  EDUCATION &  BACHELOR OF INFORMATION AND COMMUNICATION TECH... &  ICTs and Education &                    MATHEMATICS &                4.0 &         GRZ-FULLY SPONSORED &          No &            NaN &       62.0 \\\\\n",
       "2066            &      M &          20171 &      1st Year &  EDUCATION &  BACHELOR OF INFORMATION AND COMMUNICATION TECH... &  ICTs and Education &                        ENGLISH &                5.0 &         GRZ-FULLY SPONSORED &          No &            NaN &       54.0 \\\\\n",
       "2067            &      M &          20171 &      1st Year &  EDUCATION &  BACHELOR OF INFORMATION AND COMMUNICATION TECH... &  ICTs and Education &                        HISTORY &                4.0 &         GRZ-FULLY SPONSORED &         Yes &            NaN &       63.0 \\\\\n",
       "2068            &      F &          20171 &      1st Year &  EDUCATION &  BACHELOR OF INFORMATION AND COMMUNICATION TECH... &  ICTs and Education &              RELIGIOUS STUDIES &                4.0 &            GRZ - 75 PERCENT &          No &            NaN &       43.0 \\\\\n",
       "2069            &      F &          20171 &      1st Year &  EDUCATION &  BACHELOR OF INFORMATION AND COMMUNICATION TECH... &  ICTs and Education &                         FRENCH &                4.0 &            GRZ - 75 PERCENT &          No &            NaN &       53.0 \\\\\n",
       "2070            &      F &          20171 &      1st Year &  EDUCATION &  BACHELOR OF INFORMATION AND COMMUNICATION TECH... &  ICTs and Education &                        ENGLISH &                5.0 &         GRZ-FULLY SPONSORED &          No &            NaN &       47.0 \\\\\n",
       "2071            &      M &          20171 &      1st Year &  EDUCATION &  BACHELOR OF INFORMATION AND COMMUNICATION TECH... &  ICTs and Education &                CIVIC EDUCATION &                5.0 &         GRZ-FULLY SPONSORED &          No &            NaN &       55.0 \\\\\n",
       "2072            &      M &          20171 &      1st Year &  EDUCATION &  BACHELOR OF INFORMATION AND COMMUNICATION TECH... &  ICTs and Education &              RELIGIOUS STUDIES &                4.0 &            GRZ - 75 PERCENT &          No &            NaN &       31.0 \\\\\n",
       "2073            &      M &          20171 &      1st Year &  EDUCATION &  BACHELOR OF INFORMATION AND COMMUNICATION TECH... &  ICTs and Education &                    MATHEMATICS &                5.0 &         GRZ-FULLY SPONSORED &         Yes &            NaN &       59.0 \\\\\n",
       "2074            &      M &          20171 &      1st Year &  EDUCATION &  BACHELOR OF INFORMATION AND COMMUNICATION TECH... &  ICTs and Education &                      GEOGRAPHY &                4.0 &         GRZ-FULLY SPONSORED &         Yes &           0.00 &       41.0 \\\\\n",
       "2075            &      M &          20171 &      1st Year &  EDUCATION &  BACHELOR OF INFORMATION AND COMMUNICATION TECH... &  ICTs and Education &                      GEOGRAPHY &                4.0 &         GRZ-FULLY SPONSORED &          No &            NaN &       40.0 \\\\\n",
       "2076            &      M &          20171 &      1st Year &  EDUCATION &  BACHELOR OF INFORMATION AND COMMUNICATION TECH... &  ICTs and Education &                CIVIC EDUCATION &                5.0 &         GRZ-FULLY SPONSORED &         Yes &            NaN &       53.0 \\\\\n",
       "2077            &      M &          20171 &      1st Year &  EDUCATION &  BACHELOR OF INFORMATION AND COMMUNICATION TECH... &  ICTs and Education &                      GEOGRAPHY &                4.0 &         GRZ-FULLY SPONSORED &         Yes &            NaN &       51.0 \\\\\n",
       "2078            &      M &          20171 &      1st Year &  EDUCATION &  BACHELOR OF INFORMATION AND COMMUNICATION TECH... &  ICTs and Education &                CIVIC EDUCATION &                5.0 &         GRZ-FULLY SPONSORED &          No &            NaN &       57.0 \\\\\n",
       "2079            &      F &          20171 &      1st Year &  EDUCATION &  BACHELOR OF INFORMATION AND COMMUNICATION TECH... &  ICTs and Education &                CIVIC EDUCATION &                5.0 &         GRZ-FULLY SPONSORED &          No &            NaN &       46.0 \\\\\n",
       "2080            &      F &          20171 &      1st Year &  EDUCATION &  BACHELOR OF INFORMATION AND COMMUNICATION TECH... &  ICTs and Education &                CIVIC EDUCATION &                5.0 &         GRZ-FULLY SPONSORED &          No &            NaN &       21.0 \\\\\n",
       "2081            &      M &          20171 &      1st Year &  EDUCATION &  BACHELOR OF INFORMATION AND COMMUNICATION TECH... &  ICTs and Education &                CIVIC EDUCATION &                5.0 &         GRZ-FULLY SPONSORED &          No &            NaN &       45.0 \\\\\n",
       "2082            &      M &          20171 &      1st Year &  EDUCATION &  BACHELOR OF INFORMATION AND COMMUNICATION TECH... &  ICTs and Education &                CIVIC EDUCATION &                5.0 &         GRZ-FULLY SPONSORED &          No &            NaN &       76.0 \\\\\n",
       "2083            &      M &          20171 &      1st Year &  EDUCATION &  BACHELOR OF INFORMATION AND COMMUNICATION TECH... &  ICTs and Education &                        HISTORY &                4.0 &         GRZ-FULLY SPONSORED &          No &            NaN &       48.0 \\\\\n",
       "2084            &      M &          20171 &      1st Year &  EDUCATION &  BACHELOR OF INFORMATION AND COMMUNICATION TECH... &  ICTs and Education &                CIVIC EDUCATION &                5.0 &            GRZ - 75 PERCENT &          No &            NaN &       43.0 \\\\\n",
       "2085            &      M &          20171 &      1st Year &  EDUCATION &  BACHELOR OF INFORMATION AND COMMUNICATION TECH... &  ICTs and Education &                CIVIC EDUCATION &                5.0 &         GRZ-FULLY SPONSORED &          No &            NaN &       45.0 \\\\\n",
       "2086            &      M &          20171 &      1st Year &  EDUCATION &  BACHELOR OF INFORMATION AND COMMUNICATION TECH... &  ICTs and Education &                    MATHEMATICS &                4.0 &            GRZ - 75 PERCENT &          No &            NaN &       43.0 \\\\\n",
       "2087            &      M &          20171 &      1st Year &  EDUCATION &  BACHELOR OF INFORMATION AND COMMUNICATION TECH... &  ICTs and Education &                    MATHEMATICS &                4.0 &            GRZ - 75 PERCENT &          No &            NaN &       58.0 \\\\\n",
       "2088            &      F &          20171 &      1st Year &  EDUCATION &  BACHELOR OF INFORMATION AND COMMUNICATION TECH... &  ICTs and Education &                        HISTORY &                4.0 &         GRZ-FULLY SPONSORED &          No &            NaN &       44.0 \\\\\n",
       "2089            &      M &          20171 &      1st Year &  EDUCATION &  BACHELOR OF INFORMATION AND COMMUNICATION TECH... &  ICTs and Education &  PHYSICAL EDUCATION AND SPORTS &                4.0 &            GRZ - 75 PERCENT &          No &            NaN &       62.0 \\\\\n",
       "2090            &      F &          20171 &      1st Year &  EDUCATION &  BACHELOR OF INFORMATION AND COMMUNICATION TECH... &  ICTs and Education &                        ENGLISH &                5.0 &         GRZ-FULLY SPONSORED &          No &            NaN &       46.0 \\\\\n",
       "2091            &      F &          20171 &      1st Year &  EDUCATION &  BACHELOR OF INFORMATION AND COMMUNICATION TECH... &  ICTs and Education &                        ENGLISH &                5.0 &              SELF-SPONSORED &          No &            NaN &       45.0 \\\\\n",
       "2092            &      M &          20171 &      1st Year &  EDUCATION &  BACHELOR OF INFORMATION AND COMMUNICATION TECH... &  ICTs and Education &                CIVIC EDUCATION &                5.0 &            GRZ - 75 PERCENT &          No &            NaN &       38.0 \\\\\n",
       "2093            &      M &          20171 &      1st Year &  EDUCATION &  BACHELOR OF INFORMATION AND COMMUNICATION TECH... &  ICTs and Education &                      GEOGRAPHY &                4.0 &         GRZ-FULLY SPONSORED &         Yes &            NaN &       55.0 \\\\\n",
       "2094            &      M &          20171 &      1st Year &  EDUCATION &  BACHELOR OF INFORMATION AND COMMUNICATION TECH... &  ICTs and Education &                CIVIC EDUCATION &                5.0 &            GRZ - 75 PERCENT &          No &            NaN &       45.0 \\\\\n",
       "2095            &      M &          20171 &      1st Year &  EDUCATION &  BACHELOR OF INFORMATION AND COMMUNICATION TECH... &  ICTs and Education &                    MATHEMATICS &                4.0 &         GRZ-FULLY SPONSORED &          No &            NaN &       45.0 \\\\\n",
       "2096            &      M &          20171 &      1st Year &  EDUCATION &  BACHELOR OF INFORMATION AND COMMUNICATION TECH... &  ICTs and Education &                    MATHEMATICS &                4.0 &         GRZ-FULLY SPONSORED &          No &            NaN &       59.0 \\\\\n",
       "2097            &      F &          20171 &      1st Year &  EDUCATION &  BACHELOR OF INFORMATION AND COMMUNICATION TECH... &  ICTs and Education &                CIVIC EDUCATION &                5.0 &         GRZ-FULLY SPONSORED &          No &            NaN &       50.0 \\\\\n",
       "2098            &      F &          20171 &      1st Year &  EDUCATION &  BACHELOR OF INFORMATION AND COMMUNICATION TECH... &  ICTs and Education &                         FRENCH &                4.0 &              SELF-SPONSORED &         Yes &            NaN &       45.0 \\\\\n",
       "2099            &      M &          20171 &      1st Year &  EDUCATION &  BACHELOR OF INFORMATION AND COMMUNICATION TECH... &  ICTs and Education &                CIVIC EDUCATION &                5.0 &         GRZ-FULLY SPONSORED &          No &            NaN &       75.0 \\\\\n",
       "2100            &      M &          20171 &      1st Year &  EDUCATION &  BACHELOR OF INFORMATION AND COMMUNICATION TECH... &  ICTs and Education &                      GEOGRAPHY &                4.0 &         GRZ-FULLY SPONSORED &          No &            NaN &       59.0 \\\\\n",
       "2101            &      F &          20181 &      1st Year &  EDUCATION &  BACHELOR OF INFORMATION AND COMMUNICATION TECH... &  ICTs and Education &                            NaN &                NaN &              SELF-SPONSORED &          No &            NaN &       49.0 \\\\\n",
       "2102            &      F &          20181 &      1st Year &  EDUCATION &  BACHELOR OF INFORMATION AND COMMUNICATION TECH... &  ICTs and Education &                            NaN &                NaN &         GRZ-FULLY SPONSORED &          No &            NaN &       50.0 \\\\\n",
       "2103            &      F &          20181 &      1st Year &  EDUCATION &  BACHELOR OF INFORMATION AND COMMUNICATION TECH... &  ICTs and Education &                            NaN &                NaN &         GRZ-FULLY SPONSORED &         Yes &           0.13 &       72.0 \\\\\n",
       "2104            &      M &          20191 &      1st Year &  EDUCATION &  BACHELOR OF INFORMATION AND COMMUNICATION TECH... &  ICTs and Education &                            NaN &                NaN &                         NaN &          No &            NaN &        NaN \\\\\n",
       "2105            &      F &          20181 &      1st Year &  EDUCATION &  BACHELOR OF INFORMATION AND COMMUNICATION TECH... &  ICTs and Education &                            NaN &                NaN &         GRZ-FULLY SPONSORED &          No &           0.00 &       14.0 \\\\\n",
       "2106            &      F &          20181 &      1st Year &  EDUCATION &  BACHELOR OF INFORMATION AND COMMUNICATION TECH... &  ICTs and Education &                            NaN &                NaN &         GRZ-FULLY SPONSORED &         Yes &            NaN &       38.5 \\\\\n",
       "2107            &      M &          20191 &      1st Year &  EDUCATION &  BACHELOR OF INFORMATION AND COMMUNICATION TECH... &  ICTs and Education &                            NaN &                NaN &              SELF-SPONSORED &          No &            NaN &        NaN \\\\\n",
       "2108            &      M &          20181 &      1st Year &  EDUCATION &  BACHELOR OF INFORMATION AND COMMUNICATION TECH... &  ICTs and Education &                            NaN &                NaN &         GRZ-FULLY SPONSORED &          No &           0.00 &       49.0 \\\\\n",
       "2109            &      M &          20181 &      1st Year &  EDUCATION &  BACHELOR OF INFORMATION AND COMMUNICATION TECH... &  ICTs and Education &                            NaN &                NaN &  TUITION WAIVER(DEPENDANTS) &         Yes &           0.25 &       30.0 \\\\\n",
       "2110            &      M &          20181 &      1st Year &  EDUCATION &  BACHELOR OF INFORMATION AND COMMUNICATION TECH... &  ICTs and Education &                        ENGLISH &                5.0 &         GRZ-FULLY SPONSORED &          No &           0.00 &       63.0 \\\\\n",
       "2111            &      F &          20181 &      1st Year &  EDUCATION &  BACHELOR OF INFORMATION AND COMMUNICATION TECH... &  ICTs and Education &                            NaN &                NaN &         GRZ-FULLY SPONSORED &         Yes &           0.00 &       52.0 \\\\\n",
       "2112            &      F &          20181 &      1st Year &  EDUCATION &  BACHELOR OF INFORMATION AND COMMUNICATION TECH... &  ICTs and Education &                            NaN &                NaN &         GRZ-FULLY SPONSORED &         Yes &            NaN &       52.0 \\\\\n",
       "2113            &      M &          20181 &      1st Year &  EDUCATION &  BACHELOR OF INFORMATION AND COMMUNICATION TECH... &  ICTs and Education &                            NaN &                NaN &         GRZ-FULLY SPONSORED &          No &            NaN &       58.0 \\\\\n",
       "2114            &      F &          20181 &      1st Year &  EDUCATION &  BACHELOR OF INFORMATION AND COMMUNICATION TECH... &  ICTs and Education &                            NaN &                NaN &         GRZ-FULLY SPONSORED &         Yes &           0.00 &       45.0 \\\\\n",
       "2115            &      F &          20181 &      1st Year &  EDUCATION &  BACHELOR OF INFORMATION AND COMMUNICATION TECH... &  ICTs and Education &                            NaN &                NaN &         GRZ-FULLY SPONSORED &          No &            NaN &       45.0 \\\\\n",
       "2116            &      M &          20181 &      1st Year &  EDUCATION &  BACHELOR OF INFORMATION AND COMMUNICATION TECH... &  ICTs and Education &                            NaN &                NaN &         GRZ-FULLY SPONSORED &          No &           0.00 &       73.0 \\\\\n",
       "2117            &      F &          20181 &      1st Year &  EDUCATION &  BACHELOR OF INFORMATION AND COMMUNICATION TECH... &  ICTs and Education &                        HISTORY &                4.0 &  TUITION WAIVER(DEPENDANTS) &          No &            NaN &       39.0 \\\\\n",
       "2118            &      F &          20181 &      1st Year &  EDUCATION &  BACHELOR OF INFORMATION AND COMMUNICATION TECH... &  ICTs and Education &                            NaN &                NaN &         GRZ-FULLY SPONSORED &         Yes &           0.00 &       58.0 \\\\\n",
       "2119            &      M &          20181 &      1st Year &  EDUCATION &  BACHELOR OF INFORMATION AND COMMUNICATION TECH... &  ICTs and Education &                            NaN &                NaN &         GRZ-FULLY SPONSORED &          No &           0.00 &       34.0 \\\\\n",
       "2120            &      M &          20181 &      1st Year &  EDUCATION &  BACHELOR OF INFORMATION AND COMMUNICATION TECH... &  ICTs and Education &                            NaN &                NaN &         GRZ-FULLY SPONSORED &          No &            NaN &       56.0 \\\\\n",
       "2121            &      F &          20181 &      1st Year &  EDUCATION &  BACHELOR OF INFORMATION AND COMMUNICATION TECH... &  ICTs and Education &                            NaN &                NaN &         GRZ-FULLY SPONSORED &         Yes &           0.00 &       52.0 \\\\\n",
       "2122            &      F &          20181 &      1st Year &  EDUCATION &  BACHELOR OF INFORMATION AND COMMUNICATION TECH... &  ICTs and Education &                            NaN &                NaN &         GRZ-FULLY SPONSORED &         Yes &            NaN &       39.0 \\\\\n",
       "2123            &      M &          20181 &      1st Year &  EDUCATION &  BACHELOR OF INFORMATION AND COMMUNICATION TECH... &  ICTs and Education &                        HISTORY &                4.0 &  TUITION WAIVER(DEPENDANTS) &         Yes &           0.00 &       37.0 \\\\\n",
       "2124            &      M &          20181 &      1st Year &  EDUCATION &  BACHELOR OF INFORMATION AND COMMUNICATION TECH... &  ICTs and Education &                            NaN &                NaN &         GRZ-FULLY SPONSORED &          No &           0.00 &       73.0 \\\\\n",
       "2125            &      M &          20181 &      1st Year &  EDUCATION &  BACHELOR OF INFORMATION AND COMMUNICATION TECH... &  ICTs and Education &                CIVIC EDUCATION &                4.0 &         GRZ-FULLY SPONSORED &         Yes &           0.00 &       59.0 \\\\\n",
       "2126            &      M &          20181 &      1st Year &  EDUCATION &  BACHELOR OF INFORMATION AND COMMUNICATION TECH... &  ICTs and Education &                            NaN &                NaN &              SELF-SPONSORED &          No &            NaN &        NaN \\\\\n",
       "2127            &      M &          20191 &      1st Year &  EDUCATION &  BACHELOR OF INFORMATION AND COMMUNICATION TECH... &  ICTs and Education &                            NaN &                NaN &              SELF-SPONSORED &          No &            NaN &        NaN \\\\\n",
       "2128            &      F &          20181 &      1st Year &  EDUCATION &  BACHELOR OF INFORMATION AND COMMUNICATION TECH... &  ICTs and Education &                            NaN &                NaN &         GRZ-FULLY SPONSORED &          No &           0.00 &       56.0 \\\\\n",
       "2129            &      F &          20181 &      1st Year &  EDUCATION &  BACHELOR OF INFORMATION AND COMMUNICATION TECH... &  ICTs and Education &                            NaN &                NaN &         GRZ-FULLY SPONSORED &         Yes &            NaN &       45.0 \\\\\n",
       "2130            &      F &          20181 &      1st Year &  EDUCATION &  BACHELOR OF INFORMATION AND COMMUNICATION TECH... &  ICTs and Education &                        ENGLISH &                5.0 &            GRZ - 75 PERCENT &         Yes &           0.00 &       59.0 \\\\\n",
       "2131            &      M &          20181 &      1st Year &  EDUCATION &  BACHELOR OF INFORMATION AND COMMUNICATION TECH... &  ICTs and Education &                            NaN &                NaN &         GRZ-FULLY SPONSORED &         Yes &           0.00 &       78.0 \\\\\n",
       "2132            &      F &          20181 &      1st Year &  EDUCATION &  BACHELOR OF INFORMATION AND COMMUNICATION TECH... &  ICTs and Education &                            NaN &                NaN &         GRZ-FULLY SPONSORED &         Yes &           0.00 &       37.0 \\\\\n",
       "2133            &      M &          20181 &      1st Year &  EDUCATION &  BACHELOR OF INFORMATION AND COMMUNICATION TECH... &  ICTs and Education &                            NaN &                NaN &         GRZ-FULLY SPONSORED &          No &           0.00 &       46.0 \\\\\n",
       "2134            &      F &          20181 &      1st Year &  EDUCATION &  BACHELOR OF INFORMATION AND COMMUNICATION TECH... &  ICTs and Education &                            NaN &                NaN &         GRZ-FULLY SPONSORED &          No &            NaN &       45.0 \\\\\n",
       "2135            &      F &          20181 &      1st Year &  EDUCATION &  BACHELOR OF INFORMATION AND COMMUNICATION TECH... &  ICTs and Education &                            NaN &                NaN &            GRZ - 75 PERCENT &          No &            NaN &       45.0 \\\\\n",
       "2136            &      M &          20181 &      1st Year &  EDUCATION &  BACHELOR OF INFORMATION AND COMMUNICATION TECH... &  ICTs and Education &                            NaN &                NaN &         GRZ-FULLY SPONSORED &         Yes &           0.00 &       58.0 \\\\\n",
       "2137            &      F &          20181 &      1st Year &  EDUCATION &  BACHELOR OF INFORMATION AND COMMUNICATION TECH... &  ICTs and Education &                CIVIC EDUCATION &                4.0 &            GRZ - 75 PERCENT &          No &           0.00 &       56.0 \\\\\n",
       "2138            &      F &          20181 &      1st Year &  EDUCATION &  BACHELOR OF INFORMATION AND COMMUNICATION TECH... &  ICTs and Education &                            NaN &                NaN &         GRZ-FULLY SPONSORED &         Yes &            NaN &       54.0 \\\\\n",
       "2139            &      M &          20181 &      1st Year &  EDUCATION &  BACHELOR OF INFORMATION AND COMMUNICATION TECH... &  ICTs and Education &                        ENGLISH &                5.0 &         GRZ-FULLY SPONSORED &         Yes &            NaN &       54.0 \\\\\n",
       "2140            &      M &          20181 &      1st Year &  EDUCATION &  BACHELOR OF INFORMATION AND COMMUNICATION TECH... &  ICTs and Education &                            NaN &                NaN &            GRZ - 75 PERCENT &          No &           0.00 &       67.0 \\\\\n",
       "2141            &      M &          20181 &      1st Year &  EDUCATION &  BACHELOR OF INFORMATION AND COMMUNICATION TECH... &  ICTs and Education &                            NaN &                NaN &         GRZ-FULLY SPONSORED &          No &            NaN &       51.0 \\\\\n",
       "2142            &      M &          20181 &      1st Year &  EDUCATION &  BACHELOR OF INFORMATION AND COMMUNICATION TECH... &  ICTs and Education &                            NaN &                NaN &         GRZ-FULLY SPONSORED &          No &           0.00 &       63.0 \\\\\n",
       "2143            &      F &          20181 &      1st Year &  EDUCATION &  BACHELOR OF INFORMATION AND COMMUNICATION TECH... &  ICTs and Education &                            NaN &                NaN &            GRZ - 75 PERCENT &         Yes &            NaN &       47.0 \\\\\n",
       "2144            &      M &          20181 &      1st Year &  EDUCATION &  BACHELOR OF INFORMATION AND COMMUNICATION TECH... &  ICTs and Education &                            NaN &                NaN &              SELF-SPONSORED &          No &            NaN &        NaN \\\\\n",
       "2145            &      M &          20181 &      1st Year &  EDUCATION &  BACHELOR OF INFORMATION AND COMMUNICATION TECH... &  ICTs and Education &                    MATHEMATICS &                4.0 &         GRZ-FULLY SPONSORED &          No &           0.00 &       53.0 \\\\\n",
       "2146            &      M &          20181 &      1st Year &  EDUCATION &  BACHELOR OF INFORMATION AND COMMUNICATION TECH... &  ICTs and Education &                            NaN &                NaN &         GRZ-FULLY SPONSORED &          No &            NaN &       59.0 \\\\\n",
       "2147            &      F &          20181 &      1st Year &  EDUCATION &  BACHELOR OF INFORMATION AND COMMUNICATION TECH... &  ICTs and Education &                            NaN &                NaN &            GRZ - 75 PERCENT &         Yes &            NaN &       36.0 \\\\\n",
       "2148            &      M &          20181 &      1st Year &  EDUCATION &  BACHELOR OF INFORMATION AND COMMUNICATION TECH... &  ICTs and Education &                         FRENCH &                4.0 &         GRZ-FULLY SPONSORED &         Yes &           0.00 &       70.0 \\\\\n",
       "2149            &      M &          20181 &      1st Year &  EDUCATION &  BACHELOR OF INFORMATION AND COMMUNICATION TECH... &  ICTs and Education &                            NaN &                NaN &         GRZ-FULLY SPONSORED &         Yes &           0.00 &       66.0 \\\\\n",
       "2150            &      F &          20181 &      1st Year &  EDUCATION &  BACHELOR OF INFORMATION AND COMMUNICATION TECH... &  ICTs and Education &                            NaN &                NaN &         GRZ-FULLY SPONSORED &          No &           0.00 &       47.0 \\\\\n",
       "2151            &      M &          20181 &      1st Year &  EDUCATION &  BACHELOR OF INFORMATION AND COMMUNICATION TECH... &  ICTs and Education &                    MATHEMATICS &                4.0 &              SELF-SPONSORED &         Yes &           0.00 &       49.0 \\\\\n",
       "2152            &      F &          20181 &      1st Year &  EDUCATION &  BACHELOR OF INFORMATION AND COMMUNICATION TECH... &  ICTs and Education &                            NaN &                NaN &  TUITION WAIVER(DEPENDANTS) &          No &           0.00 &       55.0 \\\\\n",
       "2153            &      M &          20181 &      1st Year &  EDUCATION &  BACHELOR OF INFORMATION AND COMMUNICATION TECH... &  ICTs and Education &                            NaN &                NaN &  TUITION WAIVER(DEPENDANTS) &          No &            NaN &       45.0 \\\\\n",
       "2154            &      M &          20181 &      1st Year &  EDUCATION &  BACHELOR OF INFORMATION AND COMMUNICATION TECH... &  ICTs and Education &                CIVIC EDUCATION &                5.0 &              SELF-SPONSORED &          No &           0.00 &       51.0 \\\\\n",
       "2155            &      M &          20181 &      1st Year &  EDUCATION &  BACHELOR OF INFORMATION AND COMMUNICATION TECH... &  ICTs and Education &                            NaN &                NaN &  TUITION WAIVER(DEPENDANTS) &          No &            NaN &        4.0 \\\\\n",
       "2156            &      M &          20191 &      1st Year &  EDUCATION &  BACHELOR OF INFORMATION AND COMMUNICATION TECH... &  ICTs and Education &                            NaN &                NaN &  TUITION WAIVER(DEPENDANTS) &          No &            NaN &        NaN \\\\\n",
       "2157            &      F &          20181 &      1st Year &  EDUCATION &  BACHELOR OF INFORMATION AND COMMUNICATION TECH... &  ICTs and Education &                        ENGLISH &                5.0 &              SELF-SPONSORED &          No &           0.00 &        NaN \\\\\n",
       "2158            &      M &          20181 &      1st Year &  EDUCATION &  BACHELOR OF INFORMATION AND COMMUNICATION TECH... &  ICTs and Education &                    MATHEMATICS &                4.0 &              SELF-SPONSORED &          No &           0.00 &       45.0 \\\\\n",
       "2159            &      M &          20181 &      1st Year &  EDUCATION &  BACHELOR OF INFORMATION AND COMMUNICATION TECH... &  ICTs and Education &                            NaN &                NaN &  TUITION WAIVER(DEPENDANTS) &          No &           0.00 &       25.0 \\\\\n",
       "2160            &      M &          20181 &      1st Year &  EDUCATION &  BACHELOR OF INFORMATION AND COMMUNICATION TECH... &  ICTs and Education &                            NaN &                NaN &              SELF-SPONSORED &          No &           0.00 &       12.0 \\\\\n",
       "2161            &      M &          20191 &      2nd Year &  EDUCATION &  BACHELOR OF INFORMATION AND COMMUNICATION TECH... &  ICTs and Education &                            NaN &                NaN &              SELF-SPONSORED &          No &           0.00 &       12.0 \\\\\n",
       "2162            &      M &          20181 &      1st Year &  EDUCATION &  BACHELOR OF INFORMATION AND COMMUNICATION TECH... &  ICTs and Education &                CIVIC EDUCATION &                4.0 &              SELF-SPONSORED &          No &            NaN &       36.0 \\\\\n",
       "2163            &      M &          20181 &      1st Year &  EDUCATION &  BACHELOR OF INFORMATION AND COMMUNICATION TECH... &  ICTs and Education &                CIVIC EDUCATION &                4.0 &              SELF-SPONSORED &          No &           0.00 &       51.0 \\\\\n",
       "2164            &      M &          20191 &      1st Year &  EDUCATION &  BACHELOR OF INFORMATION AND COMMUNICATION TECH... &  ICTs and Education &                CIVIC EDUCATION &                4.0 &         GRZ-FULLY SPONSORED &         Yes &           0.00 &       45.0 \\\\\n",
       "2165            &      F &          20191 &      1st Year &  EDUCATION &  BACHELOR OF INFORMATION AND COMMUNICATION TECH... &  ICTs and Education &                            NaN &                NaN &         GRZ-FULLY SPONSORED &          No &           0.00 &       62.0 \\\\\n",
       "2166            &      M &          20191 &      1st Year &  EDUCATION &  BACHELOR OF INFORMATION AND COMMUNICATION TECH... &  ICTs and Education &                            NaN &                NaN &         GRZ-FULLY SPONSORED &          No &            NaN &       21.0 \\\\\n",
       "2167            &      F &          20191 &      1st Year &  EDUCATION &  BACHELOR OF INFORMATION AND COMMUNICATION TECH... &  ICTs and Education &                            NaN &                NaN &            GRZ - 75 PERCENT &          No &            NaN &       41.0 \\\\\n",
       "2168            &      F &          20191 &      1st Year &  EDUCATION &  BACHELOR OF INFORMATION AND COMMUNICATION TECH... &  ICTs and Education &                CIVIC EDUCATION &                4.0 &         GRZ-FULLY SPONSORED &          No &            NaN &       49.0 \\\\\n",
       "2169            &      F &          20191 &      1st Year &  EDUCATION &  BACHELOR OF INFORMATION AND COMMUNICATION TECH... &  ICTs and Education &                CIVIC EDUCATION &                4.0 &         GRZ-FULLY SPONSORED &          No &            NaN &       35.0 \\\\\n",
       "2170            &      F &          20191 &      1st Year &  EDUCATION &  BACHELOR OF INFORMATION AND COMMUNICATION TECH... &  ICTs and Education &                            NaN &                NaN &  TUITION WAIVER(DEPENDANTS) &         Yes &            NaN &       72.0 \\\\\n",
       "2171            &      M &          20191 &      1st Year &  EDUCATION &  BACHELOR OF INFORMATION AND COMMUNICATION TECH... &  ICTs and Education &                            NaN &                NaN &            GRZ - 75 PERCENT &          No &           0.00 &       50.0 \\\\\n",
       "2172            &      M &          20191 &      1st Year &  EDUCATION &  BACHELOR OF INFORMATION AND COMMUNICATION TECH... &  ICTs and Education &                            NaN &                NaN &            GRZ - 75 PERCENT &         Yes &            NaN &       56.0 \\\\\n",
       "2173            &      F &          20191 &      1st Year &  EDUCATION &  BACHELOR OF INFORMATION AND COMMUNICATION TECH... &  ICTs and Education &                CIVIC EDUCATION &                4.0 &  TUITION WAIVER(DEPENDANTS) &         Yes &            NaN &       45.0 \\\\\n",
       "2174            &      M &          20191 &      1st Year &  EDUCATION &  BACHELOR OF INFORMATION AND COMMUNICATION TECH... &  ICTs and Education &                            NaN &                NaN &  TUITION WAIVER(DEPENDANTS) &         Yes &            NaN &       45.0 \\\\\n",
       "2175            &      M &          20191 &      1st Year &  EDUCATION &  BACHELOR OF INFORMATION AND COMMUNICATION TECH... &  ICTs and Education &                CIVIC EDUCATION &                4.0 &         GRZ-FULLY SPONSORED &         Yes &           0.03 &       45.0 \\\\\n",
       "2176            &      F &          20191 &      1st Year &  EDUCATION &  BACHELOR OF INFORMATION AND COMMUNICATION TECH... &  ICTs and Education &                            NaN &                NaN &              SELF-SPONSORED &          No &            NaN &        NaN \\\\\n",
       "2177            &      F &          20191 &      1st Year &  EDUCATION &  BACHELOR OF INFORMATION AND COMMUNICATION TECH... &  ICTs and Education &                CIVIC EDUCATION &                4.0 &         GRZ-FULLY SPONSORED &          No &           0.00 &       46.0 \\\\\n",
       "2178            &      F &          20191 &      1st Year &  EDUCATION &  BACHELOR OF INFORMATION AND COMMUNICATION TECH... &  ICTs and Education &                CIVIC EDUCATION &                4.0 &         GRZ-FULLY SPONSORED &          No &           0.00 &       54.0 \\\\\n",
       "2179            &      M &          20191 &      1st Year &  EDUCATION &  BACHELOR OF INFORMATION AND COMMUNICATION TECH... &  ICTs and Education &                            NaN &                NaN &         GRZ-FULLY SPONSORED &          No &           0.00 &       45.0 \\\\\n",
       "2180            &      M &          20191 &      1st Year &  EDUCATION &  BACHELOR OF INFORMATION AND COMMUNICATION TECH... &  ICTs and Education &         ART AND DESIGN STUDIES &                4.0 &              SELF-SPONSORED &          No &           0.00 &       45.0 \\\\\n",
       "2181            &      M &          20191 &      1st Year &  EDUCATION &  BACHELOR OF INFORMATION AND COMMUNICATION TECH... &  ICTs and Education &                            NaN &                NaN &  TUITION WAIVER(DEPENDANTS) &         Yes &           0.07 &       26.0 \\\\\n",
       "2182            &      M &          20191 &      1st Year &  EDUCATION &  BACHELOR OF INFORMATION AND COMMUNICATION TECH... &  ICTs and Education &                            NaN &                NaN &         GRZ-FULLY SPONSORED &          No &            NaN &       65.0 \\\\\n",
       "2183            &      M &          20191 &      1st Year &  EDUCATION &  BACHELOR OF INFORMATION AND COMMUNICATION TECH... &  ICTs and Education &                    MATHEMATICS &                4.0 &         GRZ-FULLY SPONSORED &          No &           0.00 &       64.0 \\\\\n",
       "2184            &      M &          20191 &      1st Year &  EDUCATION &  BACHELOR OF INFORMATION AND COMMUNICATION TECH... &  ICTs and Education &                    MATHEMATICS &                4.0 &              SELF-SPONSORED &          No &           0.00 &        NaN \\\\\n",
       "2185            &      F &          20191 &      1st Year &  EDUCATION &  BACHELOR OF INFORMATION AND COMMUNICATION TECH... &  ICTs and Education &                    MATHEMATICS &                4.0 &            GRZ - 75 PERCENT &          No &           0.20 &       54.0 \\\\\n",
       "2186            &      M &          20191 &      1st Year &  EDUCATION &  BACHELOR OF INFORMATION AND COMMUNICATION TECH... &  ICTs and Education &                            NaN &                NaN &            GRZ - 75 PERCENT &          No &           0.05 &       58.0 \\\\\n",
       "2187            &      F &          20191 &      1st Year &  EDUCATION &  BACHELOR OF INFORMATION AND COMMUNICATION TECH... &  ICTs and Education &                      GEOGRAPHY &                4.0 &              SELF-SPONSORED &          No &           0.05 &       47.0 \\\\\n",
       "2188            &      M &          20191 &      1st Year &  EDUCATION &  BACHELOR OF INFORMATION AND COMMUNICATION TECH... &  ICTs and Education &                CIVIC EDUCATION &                4.0 &         GRZ-FULLY SPONSORED &         Yes &           0.11 &       64.0 \\\\\n",
       "2189            &      F &          20191 &      1st Year &  EDUCATION &  BACHELOR OF INFORMATION AND COMMUNICATION TECH... &  ICTs and Education &                CIVIC EDUCATION &                4.0 &         GRZ-FULLY SPONSORED &         Yes &           0.00 &       30.0 \\\\\n",
       "2190            &      F &          20191 &      1st Year &  EDUCATION &  BACHELOR OF INFORMATION AND COMMUNICATION TECH... &  ICTs and Education &                CIVIC EDUCATION &                4.0 &         GRZ-FULLY SPONSORED &          No &            NaN &       52.0 \\\\\n",
       "2191            &      M &          20191 &      1st Year &  EDUCATION &  BACHELOR OF INFORMATION AND COMMUNICATION TECH... &  ICTs and Education &                      GEOGRAPHY &                4.0 &         GRZ-FULLY SPONSORED &          No &           0.15 &       45.0 \\\\\n",
       "2192            &      M &          20191 &      1st Year &  EDUCATION &  BACHELOR OF INFORMATION AND COMMUNICATION TECH... &  ICTs and Education &                            NaN &                NaN &         GRZ-FULLY SPONSORED &          No &           0.00 &       45.0 \\\\\n",
       "2193            &      M &          20191 &      1st Year &  EDUCATION &  BACHELOR OF INFORMATION AND COMMUNICATION TECH... &  ICTs and Education &                CIVIC EDUCATION &                4.0 &              SELF-SPONSORED &          No &            NaN &       45.0 \\\\\n",
       "2194            &      F &          20191 &      1st Year &  EDUCATION &  BACHELOR OF INFORMATION AND COMMUNICATION TECH... &  ICTs and Education &                            NaN &                NaN &            GRZ - 75 PERCENT &          No &            NaN &        NaN \\\\\n",
       "2195            &      F &          20191 &      1st Year &  EDUCATION &  BACHELOR OF INFORMATION AND COMMUNICATION TECH... &  ICTs and Education &                CIVIC EDUCATION &                4.0 &         GRZ-FULLY SPONSORED &         Yes &           0.04 &       39.0 \\\\\n",
       "2196            &      M &          20191 &      1st Year &  EDUCATION &  BACHELOR OF INFORMATION AND COMMUNICATION TECH... &  ICTs and Education &                            NaN &                NaN &            GRZ - 75 PERCENT &          No &            NaN &       75.0 \\\\\n",
       "2197            &      F &          20191 &      1st Year &  EDUCATION &  BACHELOR OF INFORMATION AND COMMUNICATION TECH... &  ICTs and Education &                            NaN &                NaN &         GRZ-FULLY SPONSORED &          No &           0.02 &       46.0 \\\\\n",
       "2198            &      M &          20191 &      1st Year &  EDUCATION &  BACHELOR OF INFORMATION AND COMMUNICATION TECH... &  ICTs and Education &                            NaN &                NaN &              SELF-SPONSORED &          No &           0.00 &        NaN \\\\\n",
       "2199            &      M &          20191 &      1st Year &  EDUCATION &  BACHELOR OF INFORMATION AND COMMUNICATION TECH... &  ICTs and Education &                            NaN &                NaN &            GRZ - 75 PERCENT &          No &            NaN &       57.0 \\\\\n",
       "2200            &      M &          20191 &      1st Year &  EDUCATION &  BACHELOR OF INFORMATION AND COMMUNICATION TECH... &  ICTs and Education &                CIVIC EDUCATION &                4.0 &         GRZ-FULLY SPONSORED &          No &           0.01 &       64.0 \\\\\n",
       "2201            &      M &          20191 &      1st Year &  EDUCATION &  BACHELOR OF INFORMATION AND COMMUNICATION TECH... &  ICTs and Education &                CIVIC EDUCATION &                4.0 &         GRZ-FULLY SPONSORED &         Yes &           0.03 &       55.0 \\\\\n",
       "2202            &      M &          20191 &      1st Year &  EDUCATION &  BACHELOR OF INFORMATION AND COMMUNICATION TECH... &  ICTs and Education &                            NaN &                NaN &         GRZ-FULLY SPONSORED &          No &           0.00 &       59.0 \\\\\n",
       "2203            &      M &          20191 &      1st Year &  EDUCATION &  BACHELOR OF INFORMATION AND COMMUNICATION TECH... &  ICTs and Education &                            NaN &                NaN &         GRZ-FULLY SPONSORED &          No &           0.07 &       52.0 \\\\\n",
       "2204            &      M &          20191 &      1st Year &  EDUCATION &  BACHELOR OF INFORMATION AND COMMUNICATION TECH... &  ICTs and Education &                            NaN &                NaN &         GRZ-FULLY SPONSORED &          No &           0.00 &       30.0 \\\\\n",
       "2205            &      F &          20191 &      1st Year &  EDUCATION &  BACHELOR OF INFORMATION AND COMMUNICATION TECH... &  ICTs and Education &                CIVIC EDUCATION &                4.0 &            GRZ - 75 PERCENT &          No &           0.01 &       39.0 \\\\\n",
       "2206            &      M &          20191 &      1st Year &  EDUCATION &  BACHELOR OF INFORMATION AND COMMUNICATION TECH... &  ICTs and Education &                    MATHEMATICS &                4.0 &            GRZ - 75 PERCENT &         Yes &           0.90 &       61.0 \\\\\n",
       "2207            &      M &          20191 &      1st Year &  EDUCATION &  BACHELOR OF INFORMATION AND COMMUNICATION TECH... &  ICTs and Education &                            NaN &                NaN &              SELF-SPONSORED &          No &            NaN &        NaN \\\\\n",
       "2208            &      M &          20191 &      1st Year &  EDUCATION &  BACHELOR OF INFORMATION AND COMMUNICATION TECH... &  ICTs and Education &                            NaN &                NaN &         GRZ-FULLY SPONSORED &         Yes &           0.00 &       46.0 \\\\\n",
       "2209            &      M &          20191 &      1st Year &  EDUCATION &  BACHELOR OF INFORMATION AND COMMUNICATION TECH... &  ICTs and Education &                            NaN &                NaN &         GRZ-FULLY SPONSORED &          No &           0.70 &       67.0 \\\\\n",
       "2210            &      M &          20191 &      1st Year &  EDUCATION &  BACHELOR OF INFORMATION AND COMMUNICATION TECH... &  ICTs and Education &                    MATHEMATICS &                4.0 &         GRZ-FULLY SPONSORED &          No &           0.11 &       45.0 \\\\\n",
       "2211            &      M &          20191 &      1st Year &  EDUCATION &  BACHELOR OF INFORMATION AND COMMUNICATION TECH... &  ICTs and Education &                    MATHEMATICS &                4.0 &         GRZ-FULLY SPONSORED &          No &           0.00 &       67.0 \\\\\n",
       "2212            &      F &          20191 &      1st Year &  EDUCATION &  BACHELOR OF INFORMATION AND COMMUNICATION TECH... &  ICTs and Education &                        ENGLISH &                5.0 &         GRZ-FULLY SPONSORED &          No &           0.00 &       30.0 \\\\\n",
       "2213            &      M &          20191 &      1st Year &  EDUCATION &  BACHELOR OF INFORMATION AND COMMUNICATION TECH... &  ICTs and Education &                            NaN &                NaN &         GRZ-FULLY SPONSORED &          No &           0.11 &       45.0 \\\\\n",
       "2214            &      M &          20191 &      1st Year &  EDUCATION &  BACHELOR OF INFORMATION AND COMMUNICATION TECH... &  ICTs and Education &                            NaN &                NaN &              SELF-SPONSORED &          No &            NaN &        NaN \\\\\n",
       "2215            &      F &          20191 &      1st Year &  EDUCATION &  BACHELOR OF INFORMATION AND COMMUNICATION TECH... &  ICTs and Education &                    MATHEMATICS &                4.0 &         GRZ-FULLY SPONSORED &         Yes &           0.60 &       54.0 \\\\\n",
       "2216            &      F &          20191 &      1st Year &  EDUCATION &  BACHELOR OF INFORMATION AND COMMUNICATION TECH... &  ICTs and Education &                CIVIC EDUCATION &                4.0 &         GRZ-FULLY SPONSORED &         Yes &           0.01 &       45.0 \\\\\n",
       "2217            &      F &          20191 &      1st Year &  EDUCATION &  BACHELOR OF INFORMATION AND COMMUNICATION TECH... &  ICTs and Education &                CIVIC EDUCATION &                4.0 &         GRZ-FULLY SPONSORED &         Yes &           3.00 &       45.0 \\\\\n",
       "2218            &      M &          20191 &      1st Year &  EDUCATION &  BACHELOR OF INFORMATION AND COMMUNICATION TECH... &  ICTs and Education &                CIVIC EDUCATION &                4.0 &         GRZ-FULLY SPONSORED &          No &           0.00 &       49.0 \\\\\n",
       "2219            &      F &          20191 &      1st Year &  EDUCATION &  BACHELOR OF INFORMATION AND COMMUNICATION TECH... &  ICTs and Education &                    MATHEMATICS &                4.0 &         GRZ-FULLY SPONSORED &          No &           0.00 &       26.0 \\\\\n",
       "2220            &      M &          20191 &      1st Year &  EDUCATION &  BACHELOR OF INFORMATION AND COMMUNICATION TECH... &  ICTs and Education &                            NaN &                NaN &         GRZ-FULLY SPONSORED &          No &           0.90 &       56.0 \\\\\n",
       "2221            &      M &          20191 &      1st Year &  EDUCATION &  BACHELOR OF INFORMATION AND COMMUNICATION TECH... &  ICTs and Education &                CIVIC EDUCATION &                4.0 &              SELF-SPONSORED &          No &           0.00 &       48.0 \\\\\n",
       "2222            &      M &          20191 &      1st Year &  EDUCATION &  BACHELOR OF INFORMATION AND COMMUNICATION TECH... &  ICTs and Education &                    MATHEMATICS &                4.0 &  TUITION WAIVER(DEPENDANTS) &         Yes &           7.00 &       47.0 \\\\\n",
       "2223            &      M &          20191 &      1st Year &  EDUCATION &  BACHELOR OF INFORMATION AND COMMUNICATION TECH... &  ICTs and Education &                CIVIC EDUCATION &                4.0 &              SELF-SPONSORED &          No &           0.07 &       38.0 \\\\\n",
       "2224            &      M &          20191 &      1st Year &  EDUCATION &  BACHELOR OF INFORMATION AND COMMUNICATION TECH... &  ICTs and Education &                        ENGLISH &                4.0 &              SELF-SPONSORED &          No &           0.05 &       45.0 \\\\\n",
       "2225            &      F &          20191 &      1st Year &  EDUCATION &  BACHELOR OF INFORMATION AND COMMUNICATION TECH... &  ICTs and Education &                CIVIC EDUCATION &                4.0 &            GRZ - 75 PERCENT &          No &           0.02 &       58.0 \\\\\n",
       "2226            &      M &          20191 &      1st Year &  EDUCATION &  BACHELOR OF INFORMATION AND COMMUNICATION TECH... &  ICTs and Education &                            NaN &                NaN &              SELF-SPONSORED &          No &           0.05 &       35.0 \\\\\n",
       "2227            &      F &          20191 &      1st Year &  EDUCATION &  BACHELOR OF INFORMATION AND COMMUNICATION TECH... &  ICTs and Education &                CIVIC EDUCATION &                4.0 &              SELF-SPONSORED &          No &           0.00 &       45.0 \\\\\n",
       "2228            &      M &          20191 &      1st Year &  EDUCATION &  BACHELOR OF INFORMATION AND COMMUNICATION TECH... &  ICTs and Education &                        HISTORY &                4.0 &              SELF-SPONSORED &          No &           0.00 &       46.0 \\\\\n",
       "2229            &      M &          20201 &      1st Year &  EDUCATION &  BACHELOR OF INFORMATION AND COMMUNICATION TECH... &  ICTs and Education &                        HISTORY &                4.0 &                         NaN &          No &           0.00 &        NaN \\\\\n",
       "2230            &      M &          20191 &      1st Year &  EDUCATION &  BACHELOR OF INFORMATION AND COMMUNICATION TECH... &  ICTs and Education &  PHYSICAL EDUCATION AND SPORTS &                4.0 &              SELF-SPONSORED &          No &           0.00 &        NaN \\\\\n",
       "2231            &      M &          20191 &      1st Year &  EDUCATION &  BACHELOR OF INFORMATION AND COMMUNICATION TECH... &  ICTs and Education &                CIVIC EDUCATION &                4.0 &  TUITION WAIVER(DEPENDANTS) &          No &           0.00 &       24.0 \\\\\n",
       "2232            &      M &          20191 &      1st Year &  EDUCATION &  BACHELOR OF INFORMATION AND COMMUNICATION TECH... &  ICTs and Education &                            NaN &                NaN &              SELF-SPONSORED &          No &            NaN &        NaN \\\\\n",
       "2233            &      M &          20191 &      1st Year &  EDUCATION &  BACHELOR OF INFORMATION AND COMMUNICATION TECH... &  ICTs and Education &                CIVIC EDUCATION &                4.0 &  TUITION WAIVER(DEPENDANTS) &          No &           0.01 &       45.0 \\\\\n",
       "2234            &      M &          20191 &      1st Year &  EDUCATION &  BACHELOR OF INFORMATION AND COMMUNICATION TECH... &  ICTs and Education &                            NaN &                NaN &  TUITION WAIVER(DEPENDANTS) &          No &           0.02 &       55.0 \\\\\n",
       "2235            &      M &          20201 &      1st Year &  EDUCATION &  BACHELOR OF INFORMATION AND COMMUNICATION TECH... &  ICTs and Education &                    MATHEMATICS &                4.0 &         GRZ-FULLY SPONSORED &          No &            NaN &        NaN \\\\\n",
       "2236            &      F &          20201 &      1st Year &  EDUCATION &  BACHELOR OF INFORMATION AND COMMUNICATION TECH... &  ICTs and Education &                CIVIC EDUCATION &                4.0 &         GRZ-FULLY SPONSORED &         Yes &            NaN &        NaN \\\\\n",
       "2237            &      M &          20201 &      1st Year &  EDUCATION &  BACHELOR OF INFORMATION AND COMMUNICATION TECH... &  ICTs and Education &                    MATHEMATICS &                4.0 &         GRZ-FULLY SPONSORED &         Yes &           0.13 &       45.0 \\\\\n",
       "2238            &      F &          20201 &      1st Year &  EDUCATION &  BACHELOR OF INFORMATION AND COMMUNICATION TECH... &  ICTs and Education &                        ENGLISH &                5.0 &         GRZ-FULLY SPONSORED &         Yes &            NaN &        NaN \\\\\n",
       "2239            &      M &          20201 &      1st Year &  EDUCATION &  BACHELOR OF INFORMATION AND COMMUNICATION TECH... &  ICTs and Education &                    MATHEMATICS &                4.0 &         GRZ-FULLY SPONSORED &         Yes &            NaN &        NaN \\\\\n",
       "2240            &      M &          20201 &      1st Year &  EDUCATION &  BACHELOR OF INFORMATION AND COMMUNICATION TECH... &  ICTs and Education &                    MATHEMATICS &                4.0 &         GRZ-FULLY SPONSORED &         Yes &           0.03 &       54.0 \\\\\n",
       "2241            &      M &          20201 &      1st Year &  EDUCATION &  BACHELOR OF INFORMATION AND COMMUNICATION TECH... &  ICTs and Education &                CIVIC EDUCATION &                4.0 &         GRZ-FULLY SPONSORED &         Yes &           0.07 &       35.0 \\\\\n",
       "2242            &      M &          20201 &      1st Year &  EDUCATION &  BACHELOR OF INFORMATION AND COMMUNICATION TECH... &  ICTs and Education &                CIVIC EDUCATION &                4.0 &         GRZ-FULLY SPONSORED &         Yes &            NaN &        NaN \\\\\n",
       "2243            &      M &          20201 &      1st Year &  EDUCATION &  BACHELOR OF INFORMATION AND COMMUNICATION TECH... &  ICTs and Education &                      GEOGRAPHY &                4.0 &         GRZ-FULLY SPONSORED &          No &           0.03 &       51.0 \\\\\n",
       "2244            &      M &          20201 &      1st Year &  EDUCATION &  BACHELOR OF INFORMATION AND COMMUNICATION TECH... &  ICTs and Education &                CIVIC EDUCATION &                4.0 &         GRZ-FULLY SPONSORED &          No &            NaN &        NaN \\\\\n",
       "2245            &      M &          20201 &      1st Year &  EDUCATION &  BACHELOR OF INFORMATION AND COMMUNICATION TECH... &  ICTs and Education &                CIVIC EDUCATION &                4.0 &         GRZ-FULLY SPONSORED &         Yes &           0.11 &       57.0 \\\\\n",
       "2246            &      M &          20201 &      1st Year &  EDUCATION &  BACHELOR OF INFORMATION AND COMMUNICATION TECH... &  ICTs and Education &                        HISTORY &                4.0 &         GRZ-FULLY SPONSORED &         Yes &            NaN &        NaN \\\\\n",
       "2247            &      M &          20201 &      1st Year &  EDUCATION &  BACHELOR OF INFORMATION AND COMMUNICATION TECH... &  ICTs and Education &                CIVIC EDUCATION &                4.0 &         GRZ-FULLY SPONSORED &         Yes &            NaN &        NaN \\\\\n",
       "2248            &      M &          20201 &      1st Year &  EDUCATION &  BACHELOR OF INFORMATION AND COMMUNICATION TECH... &  ICTs and Education &                    MATHEMATICS &                4.0 &         GRZ-FULLY SPONSORED &         Yes &            NaN &        NaN \\\\\n",
       "2249            &      M &          20201 &      1st Year &  EDUCATION &  BACHELOR OF INFORMATION AND COMMUNICATION TECH... &  ICTs and Education &                    MATHEMATICS &                4.0 &         GRZ-FULLY SPONSORED &          No &            NaN &        NaN \\\\\n",
       "2250            &      M &          20201 &      1st Year &  EDUCATION &  BACHELOR OF INFORMATION AND COMMUNICATION TECH... &  ICTs and Education &                            NaN &                NaN &         GRZ-FULLY SPONSORED &         Yes &           0.10 &       46.0 \\\\\n",
       "2251            &      F &          20201 &      1st Year &  EDUCATION &  BACHELOR OF INFORMATION AND COMMUNICATION TECH... &  ICTs and Education &                            NaN &                NaN &         GRZ-FULLY SPONSORED &         Yes &           0.17 &       48.0 \\\\\n",
       "2252            &      M &          20201 &      1st Year &  EDUCATION &  BACHELOR OF INFORMATION AND COMMUNICATION TECH... &  ICTs and Education &                        ENGLISH &                5.0 &         GRZ-FULLY SPONSORED &          No &           0.10 &       38.0 \\\\\n",
       "2253            &      F &          20201 &      1st Year &  EDUCATION &  BACHELOR OF INFORMATION AND COMMUNICATION TECH... &  ICTs and Education &                        ENGLISH &                5.0 &         GRZ-FULLY SPONSORED &         Yes &           0.00 &       37.0 \\\\\n",
       "2254            &      M &          20201 &      1st Year &  EDUCATION &  BACHELOR OF INFORMATION AND COMMUNICATION TECH... &  ICTs and Education &                CIVIC EDUCATION &                4.0 &         GRZ-FULLY SPONSORED &         Yes &           0.25 &       45.0 \\\\\n",
       "2255            &      F &          20201 &      1st Year &  EDUCATION &  BACHELOR OF INFORMATION AND COMMUNICATION TECH... &  ICTs and Education &                CIVIC EDUCATION &                4.0 &         GRZ-FULLY SPONSORED &         Yes &            NaN &        NaN \\\\\n",
       "2256            &      F &          20201 &      1st Year &  EDUCATION &  BACHELOR OF INFORMATION AND COMMUNICATION TECH... &  ICTs and Education &                        HISTORY &                4.0 &         GRZ-FULLY SPONSORED &         Yes &           0.07 &       32.0 \\\\\n",
       "2257            &      M &          20201 &      1st Year &  EDUCATION &  BACHELOR OF INFORMATION AND COMMUNICATION TECH... &  ICTs and Education &              RELIGIOUS STUDIES &                4.0 &         GRZ-FULLY SPONSORED &         Yes &            NaN &        NaN \\\\\n",
       "2258            &      M &          20201 &      1st Year &  EDUCATION &  BACHELOR OF INFORMATION AND COMMUNICATION TECH... &  ICTs and Education &                      GEOGRAPHY &                4.0 &         GRZ-FULLY SPONSORED &         Yes &            NaN &        NaN \\\\\n",
       "2259            &      F &          20201 &      1st Year &  EDUCATION &  BACHELOR OF INFORMATION AND COMMUNICATION TECH... &  ICTs and Education &                CIVIC EDUCATION &                4.0 &         GRZ-FULLY SPONSORED &         Yes &           0.02 &       34.0 \\\\\n",
       "2260            &      M &          20201 &      1st Year &  EDUCATION &  BACHELOR OF INFORMATION AND COMMUNICATION TECH... &  ICTs and Education &                CIVIC EDUCATION &                4.0 &         GRZ-FULLY SPONSORED &         Yes &           0.15 &       53.0 \\\\\n",
       "2261            &      M &          20201 &      1st Year &  EDUCATION &  BACHELOR OF INFORMATION AND COMMUNICATION TECH... &  ICTs and Education &                CIVIC EDUCATION &                4.0 &         GRZ-FULLY SPONSORED &         Yes &            NaN &        NaN \\\\\n",
       "2262            &      M &          20201 &      1st Year &  EDUCATION &  BACHELOR OF INFORMATION AND COMMUNICATION TECH... &  ICTs and Education &                CIVIC EDUCATION &                4.0 &         GRZ-FULLY SPONSORED &         Yes &            NaN &        NaN \\\\\n",
       "2263            &      M &          20201 &      1st Year &  EDUCATION &  BACHELOR OF INFORMATION AND COMMUNICATION TECH... &  ICTs and Education &                        ENGLISH &                5.0 &  TUITION WAIVER(DEPENDANTS) &         Yes &            NaN &        NaN \\\\\n",
       "2264            &      M &          20201 &      1st Year &  EDUCATION &  BACHELOR OF INFORMATION AND COMMUNICATION TECH... &  ICTs and Education &                CIVIC EDUCATION &                4.0 &         GRZ-FULLY SPONSORED &         Yes &           0.10 &       43.0 \\\\\n",
       "2265            &      M &          20201 &      1st Year &  EDUCATION &  BACHELOR OF INFORMATION AND COMMUNICATION TECH... &  ICTs and Education &                         FRENCH &                4.0 &         GRZ-FULLY SPONSORED &          No &           0.10 &       45.0 \\\\\n",
       "2266            &      M &          20201 &      1st Year &  EDUCATION &  BACHELOR OF INFORMATION AND COMMUNICATION TECH... &  ICTs and Education &                CIVIC EDUCATION &                4.0 &         GRZ-FULLY SPONSORED &         Yes &            NaN &        NaN \\\\\n",
       "2267            &      M &          20201 &      1st Year &  EDUCATION &  BACHELOR OF INFORMATION AND COMMUNICATION TECH... &  ICTs and Education &                CIVIC EDUCATION &                4.0 &         GRZ-FULLY SPONSORED &          No &            NaN &        NaN \\\\\n",
       "2268            &      M &          20201 &      1st Year &  EDUCATION &  BACHELOR OF INFORMATION AND COMMUNICATION TECH... &  ICTs and Education &                CIVIC EDUCATION &                4.0 &              SELF-SPONSORED &         Yes &            NaN &        NaN \\\\\n",
       "2269            &      M &          20201 &      1st Year &  EDUCATION &  BACHELOR OF INFORMATION AND COMMUNICATION TECH... &  ICTs and Education &                    MATHEMATICS &                4.0 &         GRZ-FULLY SPONSORED &         Yes &            NaN &        NaN \\\\\n",
       "2270            &      M &          20201 &      1st Year &  EDUCATION &  BACHELOR OF INFORMATION AND COMMUNICATION TECH... &  ICTs and Education &                            NaN &                NaN &  TUITION WAIVER(DEPENDANTS) &         Yes &            NaN &        NaN \\\\\n",
       "2271            &      F &          20201 &      1st Year &  EDUCATION &  BACHELOR OF INFORMATION AND COMMUNICATION TECH... &  ICTs and Education &                        ENGLISH &                5.0 &         GRZ-FULLY SPONSORED &         Yes &            NaN &        NaN \\\\\n",
       "2272            &      M &          20201 &      1st Year &  EDUCATION &  BACHELOR OF INFORMATION AND COMMUNICATION TECH... &  ICTs and Education &                CIVIC EDUCATION &                4.0 &  TUITION WAIVER(DEPENDANTS) &         Yes &           0.02 &       56.0 \\\\\n",
       "2273            &      M &          20201 &      1st Year &  EDUCATION &  BACHELOR OF INFORMATION AND COMMUNICATION TECH... &  ICTs and Education &                CIVIC EDUCATION &                4.0 &         GRZ-FULLY SPONSORED &          No &           0.30 &       47.0 \\\\\n",
       "2274            &      F &          20201 &      1st Year &  EDUCATION &  BACHELOR OF INFORMATION AND COMMUNICATION TECH... &  ICTs and Education &                         FRENCH &                4.0 &              SELF-SPONSORED &          No &           0.01 &       35.0 \\\\\n",
       "2275            &      M &          20201 &      1st Year &  EDUCATION &  BACHELOR OF INFORMATION AND COMMUNICATION TECH... &  ICTs and Education &                    MATHEMATICS &                4.0 &         GRZ-FULLY SPONSORED &         Yes &           0.20 &       38.0 \\\\\n",
       "2276            &      F &          20201 &      1st Year &  EDUCATION &  BACHELOR OF INFORMATION AND COMMUNICATION TECH... &  ICTs and Education &                      GEOGRAPHY &                4.0 &              SELF-SPONSORED &          No &            NaN &        NaN \\\\\n",
       "\\end{longtable}\n"
      ],
      "text/plain": [
       "                Gender  Academic Year Year Of Study     School  \\\n",
       "Computer Number                                                  \n",
       "2000                 F          20201      1st Year  EDUCATION   \n",
       "2001                 M          20171      1st Year  EDUCATION   \n",
       "2002                 M          20181      1st Year  EDUCATION   \n",
       "2003                 M          20181      1st Year  EDUCATION   \n",
       "2004                 M          20171      1st Year  EDUCATION   \n",
       "...                ...            ...           ...        ...   \n",
       "2272                 M          20201      1st Year  EDUCATION   \n",
       "2273                 M          20201      1st Year  EDUCATION   \n",
       "2274                 F          20201      1st Year  EDUCATION   \n",
       "2275                 M          20201      1st Year  EDUCATION   \n",
       "2276                 F          20201      1st Year  EDUCATION   \n",
       "\n",
       "                                                           Program  \\\n",
       "Computer Number                                                      \n",
       "2000             BACHELOR OF INFORMATION AND COMMUNICATION TECH...   \n",
       "2001             BACHELOR OF INFORMATION AND COMMUNICATION TECH...   \n",
       "2002             BACHELOR OF INFORMATION AND COMMUNICATION TECH...   \n",
       "2003             BACHELOR OF INFORMATION AND COMMUNICATION TECH...   \n",
       "2004             BACHELOR OF INFORMATION AND COMMUNICATION TECH...   \n",
       "...                                                            ...   \n",
       "2272             BACHELOR OF INFORMATION AND COMMUNICATION TECH...   \n",
       "2273             BACHELOR OF INFORMATION AND COMMUNICATION TECH...   \n",
       "2274             BACHELOR OF INFORMATION AND COMMUNICATION TECH...   \n",
       "2275             BACHELOR OF INFORMATION AND COMMUNICATION TECH...   \n",
       "2276             BACHELOR OF INFORMATION AND COMMUNICATION TECH...   \n",
       "\n",
       "                              Major               Minor  Number of courses  \\\n",
       "Computer Number                                                              \n",
       "2000             ICTs and Education         MATHEMATICS                4.0   \n",
       "2001             ICTs and Education     CIVIC EDUCATION                5.0   \n",
       "2002             ICTs and Education                 NaN                NaN   \n",
       "2003             ICTs and Education   RELIGIOUS STUDIES                4.0   \n",
       "2004             ICTs and Education  CURRICULUM STUDIES                4.0   \n",
       "...                             ...                 ...                ...   \n",
       "2272             ICTs and Education     CIVIC EDUCATION                4.0   \n",
       "2273             ICTs and Education     CIVIC EDUCATION                4.0   \n",
       "2274             ICTs and Education              FRENCH                4.0   \n",
       "2275             ICTs and Education         MATHEMATICS                4.0   \n",
       "2276             ICTs and Education           GEOGRAPHY                4.0   \n",
       "\n",
       "                                    Sponsor Accomodated  Moodle logins  \\\n",
       "Computer Number                                                          \n",
       "2000             TUITION WAIVER(DEPENDANTS)          No            NaN   \n",
       "2001             TUITION WAIVER(DEPENDANTS)          No            NaN   \n",
       "2002                         SELF-SPONSORED          No            NaN   \n",
       "2003                         SELF-SPONSORED          No            NaN   \n",
       "2004                    GRZ-FULLY SPONSORED          No            NaN   \n",
       "...                                     ...         ...            ...   \n",
       "2272             TUITION WAIVER(DEPENDANTS)         Yes           0.02   \n",
       "2273                    GRZ-FULLY SPONSORED          No           0.30   \n",
       "2274                         SELF-SPONSORED          No           0.01   \n",
       "2275                    GRZ-FULLY SPONSORED         Yes           0.20   \n",
       "2276                         SELF-SPONSORED          No            NaN   \n",
       "\n",
       "                 CA + Exam  \n",
       "Computer Number             \n",
       "2000                   NaN  \n",
       "2001                  64.0  \n",
       "2002                   NaN  \n",
       "2003                   NaN  \n",
       "2004                  45.0  \n",
       "...                    ...  \n",
       "2272                  56.0  \n",
       "2273                  47.0  \n",
       "2274                  35.0  \n",
       "2275                  38.0  \n",
       "2276                   NaN  \n",
       "\n",
       "[277 rows x 12 columns]"
      ]
     },
     "execution_count": 560,
     "metadata": {},
     "output_type": "execute_result"
    }
   ],
   "source": [
    "df"
   ]
  },
  {
   "cell_type": "code",
   "execution_count": 561,
   "metadata": {},
   "outputs": [],
   "source": [
    "#Checking for null values"
   ]
  },
  {
   "cell_type": "code",
   "execution_count": 562,
   "metadata": {},
   "outputs": [
    {
     "data": {
      "text/html": [
       "<div>\n",
       "<style scoped>\n",
       "    .dataframe tbody tr th:only-of-type {\n",
       "        vertical-align: middle;\n",
       "    }\n",
       "\n",
       "    .dataframe tbody tr th {\n",
       "        vertical-align: top;\n",
       "    }\n",
       "\n",
       "    .dataframe thead th {\n",
       "        text-align: right;\n",
       "    }\n",
       "</style>\n",
       "<table border=\"1\" class=\"dataframe\">\n",
       "  <thead>\n",
       "    <tr style=\"text-align: right;\">\n",
       "      <th></th>\n",
       "      <th>Gender</th>\n",
       "      <th>Academic Year</th>\n",
       "      <th>Year Of Study</th>\n",
       "      <th>School</th>\n",
       "      <th>Program</th>\n",
       "      <th>Major</th>\n",
       "      <th>Minor</th>\n",
       "      <th>Number of courses</th>\n",
       "      <th>Sponsor</th>\n",
       "      <th>Accomodated</th>\n",
       "      <th>Moodle logins</th>\n",
       "      <th>CA + Exam</th>\n",
       "    </tr>\n",
       "    <tr>\n",
       "      <th>Computer Number</th>\n",
       "      <th></th>\n",
       "      <th></th>\n",
       "      <th></th>\n",
       "      <th></th>\n",
       "      <th></th>\n",
       "      <th></th>\n",
       "      <th></th>\n",
       "      <th></th>\n",
       "      <th></th>\n",
       "      <th></th>\n",
       "      <th></th>\n",
       "      <th></th>\n",
       "    </tr>\n",
       "  </thead>\n",
       "  <tbody>\n",
       "    <tr>\n",
       "      <th>2000</th>\n",
       "      <td>False</td>\n",
       "      <td>False</td>\n",
       "      <td>False</td>\n",
       "      <td>False</td>\n",
       "      <td>False</td>\n",
       "      <td>False</td>\n",
       "      <td>False</td>\n",
       "      <td>False</td>\n",
       "      <td>False</td>\n",
       "      <td>False</td>\n",
       "      <td>True</td>\n",
       "      <td>True</td>\n",
       "    </tr>\n",
       "    <tr>\n",
       "      <th>2001</th>\n",
       "      <td>False</td>\n",
       "      <td>False</td>\n",
       "      <td>False</td>\n",
       "      <td>False</td>\n",
       "      <td>False</td>\n",
       "      <td>False</td>\n",
       "      <td>False</td>\n",
       "      <td>False</td>\n",
       "      <td>False</td>\n",
       "      <td>False</td>\n",
       "      <td>True</td>\n",
       "      <td>False</td>\n",
       "    </tr>\n",
       "    <tr>\n",
       "      <th>2002</th>\n",
       "      <td>False</td>\n",
       "      <td>False</td>\n",
       "      <td>False</td>\n",
       "      <td>False</td>\n",
       "      <td>False</td>\n",
       "      <td>False</td>\n",
       "      <td>True</td>\n",
       "      <td>True</td>\n",
       "      <td>False</td>\n",
       "      <td>False</td>\n",
       "      <td>True</td>\n",
       "      <td>True</td>\n",
       "    </tr>\n",
       "    <tr>\n",
       "      <th>2003</th>\n",
       "      <td>False</td>\n",
       "      <td>False</td>\n",
       "      <td>False</td>\n",
       "      <td>False</td>\n",
       "      <td>False</td>\n",
       "      <td>False</td>\n",
       "      <td>False</td>\n",
       "      <td>False</td>\n",
       "      <td>False</td>\n",
       "      <td>False</td>\n",
       "      <td>True</td>\n",
       "      <td>True</td>\n",
       "    </tr>\n",
       "    <tr>\n",
       "      <th>2004</th>\n",
       "      <td>False</td>\n",
       "      <td>False</td>\n",
       "      <td>False</td>\n",
       "      <td>False</td>\n",
       "      <td>False</td>\n",
       "      <td>False</td>\n",
       "      <td>False</td>\n",
       "      <td>False</td>\n",
       "      <td>False</td>\n",
       "      <td>False</td>\n",
       "      <td>True</td>\n",
       "      <td>False</td>\n",
       "    </tr>\n",
       "    <tr>\n",
       "      <th>...</th>\n",
       "      <td>...</td>\n",
       "      <td>...</td>\n",
       "      <td>...</td>\n",
       "      <td>...</td>\n",
       "      <td>...</td>\n",
       "      <td>...</td>\n",
       "      <td>...</td>\n",
       "      <td>...</td>\n",
       "      <td>...</td>\n",
       "      <td>...</td>\n",
       "      <td>...</td>\n",
       "      <td>...</td>\n",
       "    </tr>\n",
       "    <tr>\n",
       "      <th>2272</th>\n",
       "      <td>False</td>\n",
       "      <td>False</td>\n",
       "      <td>False</td>\n",
       "      <td>False</td>\n",
       "      <td>False</td>\n",
       "      <td>False</td>\n",
       "      <td>False</td>\n",
       "      <td>False</td>\n",
       "      <td>False</td>\n",
       "      <td>False</td>\n",
       "      <td>False</td>\n",
       "      <td>False</td>\n",
       "    </tr>\n",
       "    <tr>\n",
       "      <th>2273</th>\n",
       "      <td>False</td>\n",
       "      <td>False</td>\n",
       "      <td>False</td>\n",
       "      <td>False</td>\n",
       "      <td>False</td>\n",
       "      <td>False</td>\n",
       "      <td>False</td>\n",
       "      <td>False</td>\n",
       "      <td>False</td>\n",
       "      <td>False</td>\n",
       "      <td>False</td>\n",
       "      <td>False</td>\n",
       "    </tr>\n",
       "    <tr>\n",
       "      <th>2274</th>\n",
       "      <td>False</td>\n",
       "      <td>False</td>\n",
       "      <td>False</td>\n",
       "      <td>False</td>\n",
       "      <td>False</td>\n",
       "      <td>False</td>\n",
       "      <td>False</td>\n",
       "      <td>False</td>\n",
       "      <td>False</td>\n",
       "      <td>False</td>\n",
       "      <td>False</td>\n",
       "      <td>False</td>\n",
       "    </tr>\n",
       "    <tr>\n",
       "      <th>2275</th>\n",
       "      <td>False</td>\n",
       "      <td>False</td>\n",
       "      <td>False</td>\n",
       "      <td>False</td>\n",
       "      <td>False</td>\n",
       "      <td>False</td>\n",
       "      <td>False</td>\n",
       "      <td>False</td>\n",
       "      <td>False</td>\n",
       "      <td>False</td>\n",
       "      <td>False</td>\n",
       "      <td>False</td>\n",
       "    </tr>\n",
       "    <tr>\n",
       "      <th>2276</th>\n",
       "      <td>False</td>\n",
       "      <td>False</td>\n",
       "      <td>False</td>\n",
       "      <td>False</td>\n",
       "      <td>False</td>\n",
       "      <td>False</td>\n",
       "      <td>False</td>\n",
       "      <td>False</td>\n",
       "      <td>False</td>\n",
       "      <td>False</td>\n",
       "      <td>True</td>\n",
       "      <td>True</td>\n",
       "    </tr>\n",
       "  </tbody>\n",
       "</table>\n",
       "<p>277 rows × 12 columns</p>\n",
       "</div>"
      ],
      "text/latex": [
       "\\begin{longtable}{lllllllllllll}\n",
       "\\toprule\n",
       "{} &  Gender &  Academic Year &  Year Of Study &  School &  Program &  Major &  Minor &  Number of courses &  Sponsor &  Accomodated &  Moodle logins &  CA + Exam \\\\\n",
       "Computer Number &         &                &                &         &          &        &        &                    &          &              &                &            \\\\\n",
       "\\midrule\n",
       "\\endfirsthead\n",
       "\n",
       "\\toprule\n",
       "{} &  Gender &  Academic Year &  Year Of Study &  School &  Program &  Major &  Minor &  Number of courses &  Sponsor &  Accomodated &  Moodle logins &  CA + Exam \\\\\n",
       "Computer Number &         &                &                &         &          &        &        &                    &          &              &                &            \\\\\n",
       "\\midrule\n",
       "\\endhead\n",
       "\\midrule\n",
       "\\multicolumn{13}{r}{{Continued on next page}} \\\\\n",
       "\\midrule\n",
       "\\endfoot\n",
       "\n",
       "\\bottomrule\n",
       "\\endlastfoot\n",
       "2000            &   False &          False &          False &   False &    False &  False &  False &              False &    False &        False &           True &       True \\\\\n",
       "2001            &   False &          False &          False &   False &    False &  False &  False &              False &    False &        False &           True &      False \\\\\n",
       "2002            &   False &          False &          False &   False &    False &  False &   True &               True &    False &        False &           True &       True \\\\\n",
       "2003            &   False &          False &          False &   False &    False &  False &  False &              False &    False &        False &           True &       True \\\\\n",
       "2004            &   False &          False &          False &   False &    False &  False &  False &              False &    False &        False &           True &      False \\\\\n",
       "2005            &   False &          False &          False &   False &    False &  False &  False &              False &    False &        False &           True &       True \\\\\n",
       "2006            &   False &          False &          False &   False &    False &  False &  False &              False &    False &        False &           True &      False \\\\\n",
       "2007            &   False &          False &          False &   False &    False &  False &  False &              False &    False &        False &           True &      False \\\\\n",
       "2008            &   False &          False &          False &   False &    False &  False &  False &              False &    False &        False &           True &       True \\\\\n",
       "2009            &   False &          False &          False &   False &    False &  False &  False &              False &    False &        False &           True &      False \\\\\n",
       "2010            &   False &          False &          False &   False &    False &  False &  False &              False &    False &        False &           True &      False \\\\\n",
       "2011            &   False &          False &          False &   False &    False &  False &  False &              False &    False &        False &           True &      False \\\\\n",
       "2012            &   False &          False &          False &   False &    False &  False &  False &              False &    False &        False &           True &      False \\\\\n",
       "2013            &   False &          False &          False &   False &    False &  False &  False &              False &    False &        False &           True &      False \\\\\n",
       "2014            &   False &          False &          False &   False &    False &  False &  False &              False &    False &        False &           True &      False \\\\\n",
       "2015            &   False &          False &          False &   False &    False &  False &  False &              False &    False &        False &           True &      False \\\\\n",
       "2016            &   False &          False &          False &   False &    False &  False &  False &              False &    False &        False &           True &      False \\\\\n",
       "2017            &   False &          False &          False &   False &    False &  False &  False &              False &    False &        False &           True &      False \\\\\n",
       "2018            &   False &          False &          False &   False &    False &  False &  False &              False &    False &        False &           True &      False \\\\\n",
       "2019            &   False &          False &          False &   False &    False &  False &  False &              False &    False &        False &           True &      False \\\\\n",
       "2020            &   False &          False &          False &   False &    False &  False &  False &              False &    False &        False &           True &      False \\\\\n",
       "2021            &   False &          False &          False &   False &    False &  False &   True &               True &    False &        False &           True &       True \\\\\n",
       "2022            &   False &          False &          False &   False &    False &  False &  False &              False &    False &        False &           True &      False \\\\\n",
       "2023            &   False &          False &          False &   False &    False &  False &  False &              False &    False &        False &           True &      False \\\\\n",
       "2024            &   False &          False &          False &   False &    False &  False &  False &              False &    False &        False &           True &      False \\\\\n",
       "2025            &   False &          False &          False &   False &    False &  False &  False &              False &    False &        False &           True &      False \\\\\n",
       "2026            &   False &          False &          False &   False &    False &  False &  False &              False &    False &        False &           True &      False \\\\\n",
       "2027            &   False &          False &          False &   False &    False &  False &  False &              False &    False &        False &           True &      False \\\\\n",
       "2028            &   False &          False &          False &   False &    False &  False &  False &              False &    False &        False &           True &      False \\\\\n",
       "2029            &   False &          False &          False &   False &    False &  False &  False &              False &    False &        False &           True &      False \\\\\n",
       "2030            &   False &          False &          False &   False &    False &  False &  False &              False &    False &        False &           True &      False \\\\\n",
       "2031            &   False &          False &          False &   False &    False &  False &  False &              False &    False &        False &           True &      False \\\\\n",
       "2032            &   False &          False &          False &   False &    False &  False &  False &              False &    False &        False &           True &      False \\\\\n",
       "2033            &   False &          False &          False &   False &    False &  False &  False &              False &    False &        False &           True &      False \\\\\n",
       "2034            &   False &          False &          False &   False &    False &  False &  False &              False &    False &        False &           True &      False \\\\\n",
       "2035            &   False &          False &          False &   False &    False &  False &  False &              False &    False &        False &           True &      False \\\\\n",
       "2036            &   False &          False &          False &   False &    False &  False &  False &              False &    False &        False &           True &       True \\\\\n",
       "2037            &   False &          False &          False &   False &    False &  False &  False &              False &    False &        False &           True &       True \\\\\n",
       "2038            &   False &          False &          False &   False &    False &  False &   True &               True &    False &        False &           True &       True \\\\\n",
       "2039            &   False &          False &          False &   False &    False &  False &  False &              False &    False &        False &           True &       True \\\\\n",
       "2040            &   False &          False &          False &   False &    False &  False &  False &              False &    False &        False &           True &      False \\\\\n",
       "2041            &   False &          False &          False &   False &    False &  False &  False &              False &    False &        False &           True &      False \\\\\n",
       "2042            &   False &          False &          False &   False &    False &  False &  False &              False &    False &        False &           True &      False \\\\\n",
       "2043            &   False &          False &          False &   False &    False &  False &  False &              False &    False &        False &           True &      False \\\\\n",
       "2044            &   False &          False &          False &   False &    False &  False &  False &              False &    False &        False &           True &      False \\\\\n",
       "2045            &   False &          False &          False &   False &    False &  False &  False &              False &    False &        False &           True &      False \\\\\n",
       "2046            &   False &          False &          False &   False &    False &  False &  False &              False &    False &        False &          False &      False \\\\\n",
       "2047            &   False &          False &          False &   False &    False &  False &  False &              False &    False &        False &           True &      False \\\\\n",
       "2048            &   False &          False &          False &   False &    False &  False &  False &              False &    False &        False &          False &      False \\\\\n",
       "2049            &   False &          False &          False &   False &    False &  False &  False &              False &    False &        False &           True &      False \\\\\n",
       "2050            &   False &          False &          False &   False &    False &  False &  False &              False &    False &        False &           True &      False \\\\\n",
       "2051            &   False &          False &          False &   False &    False &  False &  False &              False &    False &        False &           True &      False \\\\\n",
       "2052            &   False &          False &          False &   False &    False &  False &  False &              False &    False &        False &           True &      False \\\\\n",
       "2053            &   False &          False &          False &   False &    False &  False &  False &              False &    False &        False &           True &      False \\\\\n",
       "2054            &   False &          False &          False &   False &    False &  False &  False &              False &    False &        False &           True &      False \\\\\n",
       "2055            &   False &          False &          False &   False &    False &  False &  False &              False &    False &        False &           True &      False \\\\\n",
       "2056            &   False &          False &          False &   False &    False &  False &  False &              False &    False &        False &           True &      False \\\\\n",
       "2057            &   False &          False &          False &   False &    False &  False &  False &              False &    False &        False &           True &      False \\\\\n",
       "2058            &   False &          False &          False &   False &    False &  False &  False &              False &    False &        False &           True &      False \\\\\n",
       "2059            &   False &          False &          False &   False &    False &  False &  False &              False &    False &        False &           True &      False \\\\\n",
       "2060            &   False &          False &          False &   False &    False &  False &  False &              False &    False &        False &           True &      False \\\\\n",
       "2061            &   False &          False &          False &   False &    False &  False &  False &              False &    False &        False &           True &      False \\\\\n",
       "2062            &   False &          False &          False &   False &    False &  False &  False &              False &    False &        False &           True &      False \\\\\n",
       "2063            &   False &          False &          False &   False &    False &  False &  False &              False &    False &        False &           True &      False \\\\\n",
       "2064            &   False &          False &          False &   False &    False &  False &  False &              False &    False &        False &           True &      False \\\\\n",
       "2065            &   False &          False &          False &   False &    False &  False &  False &              False &    False &        False &           True &      False \\\\\n",
       "2066            &   False &          False &          False &   False &    False &  False &  False &              False &    False &        False &           True &      False \\\\\n",
       "2067            &   False &          False &          False &   False &    False &  False &  False &              False &    False &        False &           True &      False \\\\\n",
       "2068            &   False &          False &          False &   False &    False &  False &  False &              False &    False &        False &           True &      False \\\\\n",
       "2069            &   False &          False &          False &   False &    False &  False &  False &              False &    False &        False &           True &      False \\\\\n",
       "2070            &   False &          False &          False &   False &    False &  False &  False &              False &    False &        False &           True &      False \\\\\n",
       "2071            &   False &          False &          False &   False &    False &  False &  False &              False &    False &        False &           True &      False \\\\\n",
       "2072            &   False &          False &          False &   False &    False &  False &  False &              False &    False &        False &           True &      False \\\\\n",
       "2073            &   False &          False &          False &   False &    False &  False &  False &              False &    False &        False &           True &      False \\\\\n",
       "2074            &   False &          False &          False &   False &    False &  False &  False &              False &    False &        False &          False &      False \\\\\n",
       "2075            &   False &          False &          False &   False &    False &  False &  False &              False &    False &        False &           True &      False \\\\\n",
       "2076            &   False &          False &          False &   False &    False &  False &  False &              False &    False &        False &           True &      False \\\\\n",
       "2077            &   False &          False &          False &   False &    False &  False &  False &              False &    False &        False &           True &      False \\\\\n",
       "2078            &   False &          False &          False &   False &    False &  False &  False &              False &    False &        False &           True &      False \\\\\n",
       "2079            &   False &          False &          False &   False &    False &  False &  False &              False &    False &        False &           True &      False \\\\\n",
       "2080            &   False &          False &          False &   False &    False &  False &  False &              False &    False &        False &           True &      False \\\\\n",
       "2081            &   False &          False &          False &   False &    False &  False &  False &              False &    False &        False &           True &      False \\\\\n",
       "2082            &   False &          False &          False &   False &    False &  False &  False &              False &    False &        False &           True &      False \\\\\n",
       "2083            &   False &          False &          False &   False &    False &  False &  False &              False &    False &        False &           True &      False \\\\\n",
       "2084            &   False &          False &          False &   False &    False &  False &  False &              False &    False &        False &           True &      False \\\\\n",
       "2085            &   False &          False &          False &   False &    False &  False &  False &              False &    False &        False &           True &      False \\\\\n",
       "2086            &   False &          False &          False &   False &    False &  False &  False &              False &    False &        False &           True &      False \\\\\n",
       "2087            &   False &          False &          False &   False &    False &  False &  False &              False &    False &        False &           True &      False \\\\\n",
       "2088            &   False &          False &          False &   False &    False &  False &  False &              False &    False &        False &           True &      False \\\\\n",
       "2089            &   False &          False &          False &   False &    False &  False &  False &              False &    False &        False &           True &      False \\\\\n",
       "2090            &   False &          False &          False &   False &    False &  False &  False &              False &    False &        False &           True &      False \\\\\n",
       "2091            &   False &          False &          False &   False &    False &  False &  False &              False &    False &        False &           True &      False \\\\\n",
       "2092            &   False &          False &          False &   False &    False &  False &  False &              False &    False &        False &           True &      False \\\\\n",
       "2093            &   False &          False &          False &   False &    False &  False &  False &              False &    False &        False &           True &      False \\\\\n",
       "2094            &   False &          False &          False &   False &    False &  False &  False &              False &    False &        False &           True &      False \\\\\n",
       "2095            &   False &          False &          False &   False &    False &  False &  False &              False &    False &        False &           True &      False \\\\\n",
       "2096            &   False &          False &          False &   False &    False &  False &  False &              False &    False &        False &           True &      False \\\\\n",
       "2097            &   False &          False &          False &   False &    False &  False &  False &              False &    False &        False &           True &      False \\\\\n",
       "2098            &   False &          False &          False &   False &    False &  False &  False &              False &    False &        False &           True &      False \\\\\n",
       "2099            &   False &          False &          False &   False &    False &  False &  False &              False &    False &        False &           True &      False \\\\\n",
       "2100            &   False &          False &          False &   False &    False &  False &  False &              False &    False &        False &           True &      False \\\\\n",
       "2101            &   False &          False &          False &   False &    False &  False &   True &               True &    False &        False &           True &      False \\\\\n",
       "2102            &   False &          False &          False &   False &    False &  False &   True &               True &    False &        False &           True &      False \\\\\n",
       "2103            &   False &          False &          False &   False &    False &  False &   True &               True &    False &        False &          False &      False \\\\\n",
       "2104            &   False &          False &          False &   False &    False &  False &   True &               True &     True &        False &           True &       True \\\\\n",
       "2105            &   False &          False &          False &   False &    False &  False &   True &               True &    False &        False &          False &      False \\\\\n",
       "2106            &   False &          False &          False &   False &    False &  False &   True &               True &    False &        False &           True &      False \\\\\n",
       "2107            &   False &          False &          False &   False &    False &  False &   True &               True &    False &        False &           True &       True \\\\\n",
       "2108            &   False &          False &          False &   False &    False &  False &   True &               True &    False &        False &          False &      False \\\\\n",
       "2109            &   False &          False &          False &   False &    False &  False &   True &               True &    False &        False &          False &      False \\\\\n",
       "2110            &   False &          False &          False &   False &    False &  False &  False &              False &    False &        False &          False &      False \\\\\n",
       "2111            &   False &          False &          False &   False &    False &  False &   True &               True &    False &        False &          False &      False \\\\\n",
       "2112            &   False &          False &          False &   False &    False &  False &   True &               True &    False &        False &           True &      False \\\\\n",
       "2113            &   False &          False &          False &   False &    False &  False &   True &               True &    False &        False &           True &      False \\\\\n",
       "2114            &   False &          False &          False &   False &    False &  False &   True &               True &    False &        False &          False &      False \\\\\n",
       "2115            &   False &          False &          False &   False &    False &  False &   True &               True &    False &        False &           True &      False \\\\\n",
       "2116            &   False &          False &          False &   False &    False &  False &   True &               True &    False &        False &          False &      False \\\\\n",
       "2117            &   False &          False &          False &   False &    False &  False &  False &              False &    False &        False &           True &      False \\\\\n",
       "2118            &   False &          False &          False &   False &    False &  False &   True &               True &    False &        False &          False &      False \\\\\n",
       "2119            &   False &          False &          False &   False &    False &  False &   True &               True &    False &        False &          False &      False \\\\\n",
       "2120            &   False &          False &          False &   False &    False &  False &   True &               True &    False &        False &           True &      False \\\\\n",
       "2121            &   False &          False &          False &   False &    False &  False &   True &               True &    False &        False &          False &      False \\\\\n",
       "2122            &   False &          False &          False &   False &    False &  False &   True &               True &    False &        False &           True &      False \\\\\n",
       "2123            &   False &          False &          False &   False &    False &  False &  False &              False &    False &        False &          False &      False \\\\\n",
       "2124            &   False &          False &          False &   False &    False &  False &   True &               True &    False &        False &          False &      False \\\\\n",
       "2125            &   False &          False &          False &   False &    False &  False &  False &              False &    False &        False &          False &      False \\\\\n",
       "2126            &   False &          False &          False &   False &    False &  False &   True &               True &    False &        False &           True &       True \\\\\n",
       "2127            &   False &          False &          False &   False &    False &  False &   True &               True &    False &        False &           True &       True \\\\\n",
       "2128            &   False &          False &          False &   False &    False &  False &   True &               True &    False &        False &          False &      False \\\\\n",
       "2129            &   False &          False &          False &   False &    False &  False &   True &               True &    False &        False &           True &      False \\\\\n",
       "2130            &   False &          False &          False &   False &    False &  False &  False &              False &    False &        False &          False &      False \\\\\n",
       "2131            &   False &          False &          False &   False &    False &  False &   True &               True &    False &        False &          False &      False \\\\\n",
       "2132            &   False &          False &          False &   False &    False &  False &   True &               True &    False &        False &          False &      False \\\\\n",
       "2133            &   False &          False &          False &   False &    False &  False &   True &               True &    False &        False &          False &      False \\\\\n",
       "2134            &   False &          False &          False &   False &    False &  False &   True &               True &    False &        False &           True &      False \\\\\n",
       "2135            &   False &          False &          False &   False &    False &  False &   True &               True &    False &        False &           True &      False \\\\\n",
       "2136            &   False &          False &          False &   False &    False &  False &   True &               True &    False &        False &          False &      False \\\\\n",
       "2137            &   False &          False &          False &   False &    False &  False &  False &              False &    False &        False &          False &      False \\\\\n",
       "2138            &   False &          False &          False &   False &    False &  False &   True &               True &    False &        False &           True &      False \\\\\n",
       "2139            &   False &          False &          False &   False &    False &  False &  False &              False &    False &        False &           True &      False \\\\\n",
       "2140            &   False &          False &          False &   False &    False &  False &   True &               True &    False &        False &          False &      False \\\\\n",
       "2141            &   False &          False &          False &   False &    False &  False &   True &               True &    False &        False &           True &      False \\\\\n",
       "2142            &   False &          False &          False &   False &    False &  False &   True &               True &    False &        False &          False &      False \\\\\n",
       "2143            &   False &          False &          False &   False &    False &  False &   True &               True &    False &        False &           True &      False \\\\\n",
       "2144            &   False &          False &          False &   False &    False &  False &   True &               True &    False &        False &           True &       True \\\\\n",
       "2145            &   False &          False &          False &   False &    False &  False &  False &              False &    False &        False &          False &      False \\\\\n",
       "2146            &   False &          False &          False &   False &    False &  False &   True &               True &    False &        False &           True &      False \\\\\n",
       "2147            &   False &          False &          False &   False &    False &  False &   True &               True &    False &        False &           True &      False \\\\\n",
       "2148            &   False &          False &          False &   False &    False &  False &  False &              False &    False &        False &          False &      False \\\\\n",
       "2149            &   False &          False &          False &   False &    False &  False &   True &               True &    False &        False &          False &      False \\\\\n",
       "2150            &   False &          False &          False &   False &    False &  False &   True &               True &    False &        False &          False &      False \\\\\n",
       "2151            &   False &          False &          False &   False &    False &  False &  False &              False &    False &        False &          False &      False \\\\\n",
       "2152            &   False &          False &          False &   False &    False &  False &   True &               True &    False &        False &          False &      False \\\\\n",
       "2153            &   False &          False &          False &   False &    False &  False &   True &               True &    False &        False &           True &      False \\\\\n",
       "2154            &   False &          False &          False &   False &    False &  False &  False &              False &    False &        False &          False &      False \\\\\n",
       "2155            &   False &          False &          False &   False &    False &  False &   True &               True &    False &        False &           True &      False \\\\\n",
       "2156            &   False &          False &          False &   False &    False &  False &   True &               True &    False &        False &           True &       True \\\\\n",
       "2157            &   False &          False &          False &   False &    False &  False &  False &              False &    False &        False &          False &       True \\\\\n",
       "2158            &   False &          False &          False &   False &    False &  False &  False &              False &    False &        False &          False &      False \\\\\n",
       "2159            &   False &          False &          False &   False &    False &  False &   True &               True &    False &        False &          False &      False \\\\\n",
       "2160            &   False &          False &          False &   False &    False &  False &   True &               True &    False &        False &          False &      False \\\\\n",
       "2161            &   False &          False &          False &   False &    False &  False &   True &               True &    False &        False &          False &      False \\\\\n",
       "2162            &   False &          False &          False &   False &    False &  False &  False &              False &    False &        False &           True &      False \\\\\n",
       "2163            &   False &          False &          False &   False &    False &  False &  False &              False &    False &        False &          False &      False \\\\\n",
       "2164            &   False &          False &          False &   False &    False &  False &  False &              False &    False &        False &          False &      False \\\\\n",
       "2165            &   False &          False &          False &   False &    False &  False &   True &               True &    False &        False &          False &      False \\\\\n",
       "2166            &   False &          False &          False &   False &    False &  False &   True &               True &    False &        False &           True &      False \\\\\n",
       "2167            &   False &          False &          False &   False &    False &  False &   True &               True &    False &        False &           True &      False \\\\\n",
       "2168            &   False &          False &          False &   False &    False &  False &  False &              False &    False &        False &           True &      False \\\\\n",
       "2169            &   False &          False &          False &   False &    False &  False &  False &              False &    False &        False &           True &      False \\\\\n",
       "2170            &   False &          False &          False &   False &    False &  False &   True &               True &    False &        False &           True &      False \\\\\n",
       "2171            &   False &          False &          False &   False &    False &  False &   True &               True &    False &        False &          False &      False \\\\\n",
       "2172            &   False &          False &          False &   False &    False &  False &   True &               True &    False &        False &           True &      False \\\\\n",
       "2173            &   False &          False &          False &   False &    False &  False &  False &              False &    False &        False &           True &      False \\\\\n",
       "2174            &   False &          False &          False &   False &    False &  False &   True &               True &    False &        False &           True &      False \\\\\n",
       "2175            &   False &          False &          False &   False &    False &  False &  False &              False &    False &        False &          False &      False \\\\\n",
       "2176            &   False &          False &          False &   False &    False &  False &   True &               True &    False &        False &           True &       True \\\\\n",
       "2177            &   False &          False &          False &   False &    False &  False &  False &              False &    False &        False &          False &      False \\\\\n",
       "2178            &   False &          False &          False &   False &    False &  False &  False &              False &    False &        False &          False &      False \\\\\n",
       "2179            &   False &          False &          False &   False &    False &  False &   True &               True &    False &        False &          False &      False \\\\\n",
       "2180            &   False &          False &          False &   False &    False &  False &  False &              False &    False &        False &          False &      False \\\\\n",
       "2181            &   False &          False &          False &   False &    False &  False &   True &               True &    False &        False &          False &      False \\\\\n",
       "2182            &   False &          False &          False &   False &    False &  False &   True &               True &    False &        False &           True &      False \\\\\n",
       "2183            &   False &          False &          False &   False &    False &  False &  False &              False &    False &        False &          False &      False \\\\\n",
       "2184            &   False &          False &          False &   False &    False &  False &  False &              False &    False &        False &          False &       True \\\\\n",
       "2185            &   False &          False &          False &   False &    False &  False &  False &              False &    False &        False &          False &      False \\\\\n",
       "2186            &   False &          False &          False &   False &    False &  False &   True &               True &    False &        False &          False &      False \\\\\n",
       "2187            &   False &          False &          False &   False &    False &  False &  False &              False &    False &        False &          False &      False \\\\\n",
       "2188            &   False &          False &          False &   False &    False &  False &  False &              False &    False &        False &          False &      False \\\\\n",
       "2189            &   False &          False &          False &   False &    False &  False &  False &              False &    False &        False &          False &      False \\\\\n",
       "2190            &   False &          False &          False &   False &    False &  False &  False &              False &    False &        False &           True &      False \\\\\n",
       "2191            &   False &          False &          False &   False &    False &  False &  False &              False &    False &        False &          False &      False \\\\\n",
       "2192            &   False &          False &          False &   False &    False &  False &   True &               True &    False &        False &          False &      False \\\\\n",
       "2193            &   False &          False &          False &   False &    False &  False &  False &              False &    False &        False &           True &      False \\\\\n",
       "2194            &   False &          False &          False &   False &    False &  False &   True &               True &    False &        False &           True &       True \\\\\n",
       "2195            &   False &          False &          False &   False &    False &  False &  False &              False &    False &        False &          False &      False \\\\\n",
       "2196            &   False &          False &          False &   False &    False &  False &   True &               True &    False &        False &           True &      False \\\\\n",
       "2197            &   False &          False &          False &   False &    False &  False &   True &               True &    False &        False &          False &      False \\\\\n",
       "2198            &   False &          False &          False &   False &    False &  False &   True &               True &    False &        False &          False &       True \\\\\n",
       "2199            &   False &          False &          False &   False &    False &  False &   True &               True &    False &        False &           True &      False \\\\\n",
       "2200            &   False &          False &          False &   False &    False &  False &  False &              False &    False &        False &          False &      False \\\\\n",
       "2201            &   False &          False &          False &   False &    False &  False &  False &              False &    False &        False &          False &      False \\\\\n",
       "2202            &   False &          False &          False &   False &    False &  False &   True &               True &    False &        False &          False &      False \\\\\n",
       "2203            &   False &          False &          False &   False &    False &  False &   True &               True &    False &        False &          False &      False \\\\\n",
       "2204            &   False &          False &          False &   False &    False &  False &   True &               True &    False &        False &          False &      False \\\\\n",
       "2205            &   False &          False &          False &   False &    False &  False &  False &              False &    False &        False &          False &      False \\\\\n",
       "2206            &   False &          False &          False &   False &    False &  False &  False &              False &    False &        False &          False &      False \\\\\n",
       "2207            &   False &          False &          False &   False &    False &  False &   True &               True &    False &        False &           True &       True \\\\\n",
       "2208            &   False &          False &          False &   False &    False &  False &   True &               True &    False &        False &          False &      False \\\\\n",
       "2209            &   False &          False &          False &   False &    False &  False &   True &               True &    False &        False &          False &      False \\\\\n",
       "2210            &   False &          False &          False &   False &    False &  False &  False &              False &    False &        False &          False &      False \\\\\n",
       "2211            &   False &          False &          False &   False &    False &  False &  False &              False &    False &        False &          False &      False \\\\\n",
       "2212            &   False &          False &          False &   False &    False &  False &  False &              False &    False &        False &          False &      False \\\\\n",
       "2213            &   False &          False &          False &   False &    False &  False &   True &               True &    False &        False &          False &      False \\\\\n",
       "2214            &   False &          False &          False &   False &    False &  False &   True &               True &    False &        False &           True &       True \\\\\n",
       "2215            &   False &          False &          False &   False &    False &  False &  False &              False &    False &        False &          False &      False \\\\\n",
       "2216            &   False &          False &          False &   False &    False &  False &  False &              False &    False &        False &          False &      False \\\\\n",
       "2217            &   False &          False &          False &   False &    False &  False &  False &              False &    False &        False &          False &      False \\\\\n",
       "2218            &   False &          False &          False &   False &    False &  False &  False &              False &    False &        False &          False &      False \\\\\n",
       "2219            &   False &          False &          False &   False &    False &  False &  False &              False &    False &        False &          False &      False \\\\\n",
       "2220            &   False &          False &          False &   False &    False &  False &   True &               True &    False &        False &          False &      False \\\\\n",
       "2221            &   False &          False &          False &   False &    False &  False &  False &              False &    False &        False &          False &      False \\\\\n",
       "2222            &   False &          False &          False &   False &    False &  False &  False &              False &    False &        False &          False &      False \\\\\n",
       "2223            &   False &          False &          False &   False &    False &  False &  False &              False &    False &        False &          False &      False \\\\\n",
       "2224            &   False &          False &          False &   False &    False &  False &  False &              False &    False &        False &          False &      False \\\\\n",
       "2225            &   False &          False &          False &   False &    False &  False &  False &              False &    False &        False &          False &      False \\\\\n",
       "2226            &   False &          False &          False &   False &    False &  False &   True &               True &    False &        False &          False &      False \\\\\n",
       "2227            &   False &          False &          False &   False &    False &  False &  False &              False &    False &        False &          False &      False \\\\\n",
       "2228            &   False &          False &          False &   False &    False &  False &  False &              False &    False &        False &          False &      False \\\\\n",
       "2229            &   False &          False &          False &   False &    False &  False &  False &              False &     True &        False &          False &       True \\\\\n",
       "2230            &   False &          False &          False &   False &    False &  False &  False &              False &    False &        False &          False &       True \\\\\n",
       "2231            &   False &          False &          False &   False &    False &  False &  False &              False &    False &        False &          False &      False \\\\\n",
       "2232            &   False &          False &          False &   False &    False &  False &   True &               True &    False &        False &           True &       True \\\\\n",
       "2233            &   False &          False &          False &   False &    False &  False &  False &              False &    False &        False &          False &      False \\\\\n",
       "2234            &   False &          False &          False &   False &    False &  False &   True &               True &    False &        False &          False &      False \\\\\n",
       "2235            &   False &          False &          False &   False &    False &  False &  False &              False &    False &        False &           True &       True \\\\\n",
       "2236            &   False &          False &          False &   False &    False &  False &  False &              False &    False &        False &           True &       True \\\\\n",
       "2237            &   False &          False &          False &   False &    False &  False &  False &              False &    False &        False &          False &      False \\\\\n",
       "2238            &   False &          False &          False &   False &    False &  False &  False &              False &    False &        False &           True &       True \\\\\n",
       "2239            &   False &          False &          False &   False &    False &  False &  False &              False &    False &        False &           True &       True \\\\\n",
       "2240            &   False &          False &          False &   False &    False &  False &  False &              False &    False &        False &          False &      False \\\\\n",
       "2241            &   False &          False &          False &   False &    False &  False &  False &              False &    False &        False &          False &      False \\\\\n",
       "2242            &   False &          False &          False &   False &    False &  False &  False &              False &    False &        False &           True &       True \\\\\n",
       "2243            &   False &          False &          False &   False &    False &  False &  False &              False &    False &        False &          False &      False \\\\\n",
       "2244            &   False &          False &          False &   False &    False &  False &  False &              False &    False &        False &           True &       True \\\\\n",
       "2245            &   False &          False &          False &   False &    False &  False &  False &              False &    False &        False &          False &      False \\\\\n",
       "2246            &   False &          False &          False &   False &    False &  False &  False &              False &    False &        False &           True &       True \\\\\n",
       "2247            &   False &          False &          False &   False &    False &  False &  False &              False &    False &        False &           True &       True \\\\\n",
       "2248            &   False &          False &          False &   False &    False &  False &  False &              False &    False &        False &           True &       True \\\\\n",
       "2249            &   False &          False &          False &   False &    False &  False &  False &              False &    False &        False &           True &       True \\\\\n",
       "2250            &   False &          False &          False &   False &    False &  False &   True &               True &    False &        False &          False &      False \\\\\n",
       "2251            &   False &          False &          False &   False &    False &  False &   True &               True &    False &        False &          False &      False \\\\\n",
       "2252            &   False &          False &          False &   False &    False &  False &  False &              False &    False &        False &          False &      False \\\\\n",
       "2253            &   False &          False &          False &   False &    False &  False &  False &              False &    False &        False &          False &      False \\\\\n",
       "2254            &   False &          False &          False &   False &    False &  False &  False &              False &    False &        False &          False &      False \\\\\n",
       "2255            &   False &          False &          False &   False &    False &  False &  False &              False &    False &        False &           True &       True \\\\\n",
       "2256            &   False &          False &          False &   False &    False &  False &  False &              False &    False &        False &          False &      False \\\\\n",
       "2257            &   False &          False &          False &   False &    False &  False &  False &              False &    False &        False &           True &       True \\\\\n",
       "2258            &   False &          False &          False &   False &    False &  False &  False &              False &    False &        False &           True &       True \\\\\n",
       "2259            &   False &          False &          False &   False &    False &  False &  False &              False &    False &        False &          False &      False \\\\\n",
       "2260            &   False &          False &          False &   False &    False &  False &  False &              False &    False &        False &          False &      False \\\\\n",
       "2261            &   False &          False &          False &   False &    False &  False &  False &              False &    False &        False &           True &       True \\\\\n",
       "2262            &   False &          False &          False &   False &    False &  False &  False &              False &    False &        False &           True &       True \\\\\n",
       "2263            &   False &          False &          False &   False &    False &  False &  False &              False &    False &        False &           True &       True \\\\\n",
       "2264            &   False &          False &          False &   False &    False &  False &  False &              False &    False &        False &          False &      False \\\\\n",
       "2265            &   False &          False &          False &   False &    False &  False &  False &              False &    False &        False &          False &      False \\\\\n",
       "2266            &   False &          False &          False &   False &    False &  False &  False &              False &    False &        False &           True &       True \\\\\n",
       "2267            &   False &          False &          False &   False &    False &  False &  False &              False &    False &        False &           True &       True \\\\\n",
       "2268            &   False &          False &          False &   False &    False &  False &  False &              False &    False &        False &           True &       True \\\\\n",
       "2269            &   False &          False &          False &   False &    False &  False &  False &              False &    False &        False &           True &       True \\\\\n",
       "2270            &   False &          False &          False &   False &    False &  False &   True &               True &    False &        False &           True &       True \\\\\n",
       "2271            &   False &          False &          False &   False &    False &  False &  False &              False &    False &        False &           True &       True \\\\\n",
       "2272            &   False &          False &          False &   False &    False &  False &  False &              False &    False &        False &          False &      False \\\\\n",
       "2273            &   False &          False &          False &   False &    False &  False &  False &              False &    False &        False &          False &      False \\\\\n",
       "2274            &   False &          False &          False &   False &    False &  False &  False &              False &    False &        False &          False &      False \\\\\n",
       "2275            &   False &          False &          False &   False &    False &  False &  False &              False &    False &        False &          False &      False \\\\\n",
       "2276            &   False &          False &          False &   False &    False &  False &  False &              False &    False &        False &           True &       True \\\\\n",
       "\\end{longtable}\n"
      ],
      "text/plain": [
       "                 Gender  Academic Year  Year Of Study  School  Program  Major  \\\n",
       "Computer Number                                                                 \n",
       "2000              False          False          False   False    False  False   \n",
       "2001              False          False          False   False    False  False   \n",
       "2002              False          False          False   False    False  False   \n",
       "2003              False          False          False   False    False  False   \n",
       "2004              False          False          False   False    False  False   \n",
       "...                 ...            ...            ...     ...      ...    ...   \n",
       "2272              False          False          False   False    False  False   \n",
       "2273              False          False          False   False    False  False   \n",
       "2274              False          False          False   False    False  False   \n",
       "2275              False          False          False   False    False  False   \n",
       "2276              False          False          False   False    False  False   \n",
       "\n",
       "                 Minor  Number of courses  Sponsor  Accomodated  \\\n",
       "Computer Number                                                   \n",
       "2000             False              False    False        False   \n",
       "2001             False              False    False        False   \n",
       "2002              True               True    False        False   \n",
       "2003             False              False    False        False   \n",
       "2004             False              False    False        False   \n",
       "...                ...                ...      ...          ...   \n",
       "2272             False              False    False        False   \n",
       "2273             False              False    False        False   \n",
       "2274             False              False    False        False   \n",
       "2275             False              False    False        False   \n",
       "2276             False              False    False        False   \n",
       "\n",
       "                 Moodle logins  CA + Exam  \n",
       "Computer Number                            \n",
       "2000                      True       True  \n",
       "2001                      True      False  \n",
       "2002                      True       True  \n",
       "2003                      True       True  \n",
       "2004                      True      False  \n",
       "...                        ...        ...  \n",
       "2272                     False      False  \n",
       "2273                     False      False  \n",
       "2274                     False      False  \n",
       "2275                     False      False  \n",
       "2276                      True       True  \n",
       "\n",
       "[277 rows x 12 columns]"
      ]
     },
     "execution_count": 562,
     "metadata": {},
     "output_type": "execute_result"
    }
   ],
   "source": [
    "df.isnull()"
   ]
  },
  {
   "cell_type": "code",
   "execution_count": 563,
   "metadata": {},
   "outputs": [
    {
     "data": {
      "text/plain": [
       "Index(['Gender', 'Academic Year', 'Year Of Study', 'School', 'Program',\n",
       "       'Major', 'Minor', 'Number of courses', 'Sponsor', 'Accomodated',\n",
       "       'Moodle logins', 'CA + Exam'],\n",
       "      dtype='object')"
      ]
     },
     "execution_count": 563,
     "metadata": {},
     "output_type": "execute_result"
    }
   ],
   "source": [
    "df.columns"
   ]
  },
  {
   "cell_type": "code",
   "execution_count": 564,
   "metadata": {},
   "outputs": [],
   "source": [
    "#Dropping columns with null values"
   ]
  },
  {
   "cell_type": "code",
   "execution_count": 565,
   "metadata": {},
   "outputs": [
    {
     "ename": "KeyError",
     "evalue": "['Computer Number']",
     "output_type": "error",
     "traceback": [
      "\u001b[1;31m---------------------------------------------------------------------------\u001b[0m",
      "\u001b[1;31mKeyError\u001b[0m                                  Traceback (most recent call last)",
      "\u001b[1;32m<ipython-input-565-be39095ba0a7>\u001b[0m in \u001b[0;36m<module>\u001b[1;34m\u001b[0m\n\u001b[1;32m----> 1\u001b[1;33m \u001b[0mdf\u001b[0m\u001b[1;33m.\u001b[0m\u001b[0mdropna\u001b[0m\u001b[1;33m(\u001b[0m\u001b[0msubset\u001b[0m\u001b[1;33m=\u001b[0m\u001b[1;33m[\u001b[0m\u001b[1;34m\"Computer Number\"\u001b[0m\u001b[1;33m]\u001b[0m\u001b[1;33m,\u001b[0m \u001b[0minplace\u001b[0m\u001b[1;33m=\u001b[0m\u001b[1;32mTrue\u001b[0m\u001b[1;33m)\u001b[0m\u001b[1;33m\u001b[0m\u001b[1;33m\u001b[0m\u001b[0m\n\u001b[0m",
      "\u001b[1;32mD:\\conda\\lib\\site-packages\\pandas\\core\\frame.py\u001b[0m in \u001b[0;36mdropna\u001b[1;34m(self, axis, how, thresh, subset, inplace)\u001b[0m\n\u001b[0;32m   5160\u001b[0m             \u001b[0mcheck\u001b[0m \u001b[1;33m=\u001b[0m \u001b[0mindices\u001b[0m \u001b[1;33m==\u001b[0m \u001b[1;33m-\u001b[0m\u001b[1;36m1\u001b[0m\u001b[1;33m\u001b[0m\u001b[1;33m\u001b[0m\u001b[0m\n\u001b[0;32m   5161\u001b[0m             \u001b[1;32mif\u001b[0m \u001b[0mcheck\u001b[0m\u001b[1;33m.\u001b[0m\u001b[0many\u001b[0m\u001b[1;33m(\u001b[0m\u001b[1;33m)\u001b[0m\u001b[1;33m:\u001b[0m\u001b[1;33m\u001b[0m\u001b[1;33m\u001b[0m\u001b[0m\n\u001b[1;32m-> 5162\u001b[1;33m                 \u001b[1;32mraise\u001b[0m \u001b[0mKeyError\u001b[0m\u001b[1;33m(\u001b[0m\u001b[0mlist\u001b[0m\u001b[1;33m(\u001b[0m\u001b[0mnp\u001b[0m\u001b[1;33m.\u001b[0m\u001b[0mcompress\u001b[0m\u001b[1;33m(\u001b[0m\u001b[0mcheck\u001b[0m\u001b[1;33m,\u001b[0m \u001b[0msubset\u001b[0m\u001b[1;33m)\u001b[0m\u001b[1;33m)\u001b[0m\u001b[1;33m)\u001b[0m\u001b[1;33m\u001b[0m\u001b[1;33m\u001b[0m\u001b[0m\n\u001b[0m\u001b[0;32m   5163\u001b[0m             \u001b[0magg_obj\u001b[0m \u001b[1;33m=\u001b[0m \u001b[0mself\u001b[0m\u001b[1;33m.\u001b[0m\u001b[0mtake\u001b[0m\u001b[1;33m(\u001b[0m\u001b[0mindices\u001b[0m\u001b[1;33m,\u001b[0m \u001b[0maxis\u001b[0m\u001b[1;33m=\u001b[0m\u001b[0magg_axis\u001b[0m\u001b[1;33m)\u001b[0m\u001b[1;33m\u001b[0m\u001b[1;33m\u001b[0m\u001b[0m\n\u001b[0;32m   5164\u001b[0m \u001b[1;33m\u001b[0m\u001b[0m\n",
      "\u001b[1;31mKeyError\u001b[0m: ['Computer Number']"
     ]
    }
   ],
   "source": [
    "# df.dropna(subset=[\"Computer Number\"], inplace=True)"
   ]
  },
  {
   "cell_type": "code",
   "execution_count": null,
   "metadata": {},
   "outputs": [],
   "source": [
    "df.dropna(subset=[\"Gender\"], inplace=True)"
   ]
  },
  {
   "cell_type": "code",
   "execution_count": null,
   "metadata": {},
   "outputs": [],
   "source": [
    "df.dropna(subset=[\"Academic Year\"], inplace=True)"
   ]
  },
  {
   "cell_type": "code",
   "execution_count": null,
   "metadata": {},
   "outputs": [],
   "source": [
    "df.dropna(subset=[\"Year Of Study\"], inplace=True)"
   ]
  },
  {
   "cell_type": "code",
   "execution_count": null,
   "metadata": {},
   "outputs": [],
   "source": [
    "df.dropna(subset=[\"School\"], inplace=True)"
   ]
  },
  {
   "cell_type": "code",
   "execution_count": null,
   "metadata": {},
   "outputs": [],
   "source": [
    "df.dropna(subset=[\"Program\"], inplace=True)"
   ]
  },
  {
   "cell_type": "code",
   "execution_count": null,
   "metadata": {},
   "outputs": [],
   "source": [
    "df.dropna(subset=[\"Major\"], inplace=True)"
   ]
  },
  {
   "cell_type": "code",
   "execution_count": null,
   "metadata": {},
   "outputs": [],
   "source": [
    "df.dropna(subset=[\"Minor\"], inplace=True)"
   ]
  },
  {
   "cell_type": "code",
   "execution_count": null,
   "metadata": {},
   "outputs": [],
   "source": [
    "df.dropna(subset=[\"Number of courses\"], inplace=True)"
   ]
  },
  {
   "cell_type": "code",
   "execution_count": null,
   "metadata": {},
   "outputs": [],
   "source": [
    "df.dropna(subset=[\"Sponsor\"], inplace=True)"
   ]
  },
  {
   "cell_type": "code",
   "execution_count": null,
   "metadata": {},
   "outputs": [],
   "source": [
    "df.dropna(subset=[\"Accomodated\"], inplace=True)"
   ]
  },
  {
   "cell_type": "code",
   "execution_count": null,
   "metadata": {},
   "outputs": [],
   "source": [
    "df.dropna(subset=[\"CA + Exam\"], inplace=True)"
   ]
  },
  {
   "cell_type": "code",
   "execution_count": null,
   "metadata": {},
   "outputs": [],
   "source": [
    "df"
   ]
  },
  {
   "cell_type": "code",
   "execution_count": null,
   "metadata": {},
   "outputs": [],
   "source": [
    "#Checking for duplicates"
   ]
  },
  {
   "cell_type": "code",
   "execution_count": null,
   "metadata": {},
   "outputs": [],
   "source": [
    "df.duplicated()"
   ]
  },
  {
   "cell_type": "code",
   "execution_count": null,
   "metadata": {},
   "outputs": [],
   "source": [
    "len(df)"
   ]
  },
  {
   "cell_type": "code",
   "execution_count": null,
   "metadata": {},
   "outputs": [],
   "source": [
    "df.drop_duplicates([\"Computer Number\"], keep=\"first\", inplace=True)"
   ]
  },
  {
   "cell_type": "code",
   "execution_count": null,
   "metadata": {},
   "outputs": [],
   "source": [
    "len(df)"
   ]
  },
  {
   "cell_type": "markdown",
   "metadata": {},
   "source": [
    "# Exploratory data analysis"
   ]
  },
  {
   "cell_type": "code",
   "execution_count": null,
   "metadata": {},
   "outputs": [],
   "source": [
    "df[\"Gender\"].unique()"
   ]
  },
  {
   "cell_type": "code",
   "execution_count": null,
   "metadata": {},
   "outputs": [],
   "source": [
    "df[\"Gender\"].count()"
   ]
  },
  {
   "cell_type": "code",
   "execution_count": null,
   "metadata": {},
   "outputs": [],
   "source": [
    "df[\"Gender\"].value_counts().plot(kind=\"barh\", title=\"The gender of ict 1110 students\", color=\"blue\")"
   ]
  },
  {
   "cell_type": "markdown",
   "metadata": {},
   "source": [
    "# Data transformation"
   ]
  },
  {
   "cell_type": "code",
   "execution_count": 567,
   "metadata": {},
   "outputs": [],
   "source": [
    "def fxn_quiz_status(var_grade):\n",
    "    \n",
    "    if(var_grade>=45):\n",
    "        return \"Pass\"\n",
    "    else:\n",
    "        return \"fail\""
   ]
  },
  {
   "cell_type": "code",
   "execution_count": 568,
   "metadata": {},
   "outputs": [],
   "source": [
    " df[\"Examination status\"] = df[\"CA + Exam\"].apply(fxn_quiz_status)"
   ]
  },
  {
   "cell_type": "code",
   "execution_count": 572,
   "metadata": {},
   "outputs": [
    {
     "data": {
      "text/html": [
       "<div>\n",
       "<style scoped>\n",
       "    .dataframe tbody tr th:only-of-type {\n",
       "        vertical-align: middle;\n",
       "    }\n",
       "\n",
       "    .dataframe tbody tr th {\n",
       "        vertical-align: top;\n",
       "    }\n",
       "\n",
       "    .dataframe thead th {\n",
       "        text-align: right;\n",
       "    }\n",
       "</style>\n",
       "<table border=\"1\" class=\"dataframe\">\n",
       "  <thead>\n",
       "    <tr style=\"text-align: right;\">\n",
       "      <th></th>\n",
       "      <th>Gender</th>\n",
       "      <th>Academic Year</th>\n",
       "      <th>Year Of Study</th>\n",
       "      <th>School</th>\n",
       "      <th>Program</th>\n",
       "      <th>Major</th>\n",
       "      <th>Minor</th>\n",
       "      <th>Number of courses</th>\n",
       "      <th>Sponsor</th>\n",
       "      <th>Accomodated</th>\n",
       "      <th>Moodle logins</th>\n",
       "      <th>CA + Exam</th>\n",
       "      <th>Examination status</th>\n",
       "    </tr>\n",
       "    <tr>\n",
       "      <th>Computer Number</th>\n",
       "      <th></th>\n",
       "      <th></th>\n",
       "      <th></th>\n",
       "      <th></th>\n",
       "      <th></th>\n",
       "      <th></th>\n",
       "      <th></th>\n",
       "      <th></th>\n",
       "      <th></th>\n",
       "      <th></th>\n",
       "      <th></th>\n",
       "      <th></th>\n",
       "      <th></th>\n",
       "    </tr>\n",
       "  </thead>\n",
       "  <tbody>\n",
       "    <tr>\n",
       "      <th>2000</th>\n",
       "      <td>F</td>\n",
       "      <td>20201</td>\n",
       "      <td>1st Year</td>\n",
       "      <td>EDUCATION</td>\n",
       "      <td>BACHELOR OF INFORMATION AND COMMUNICATION TECH...</td>\n",
       "      <td>ICTs and Education</td>\n",
       "      <td>MATHEMATICS</td>\n",
       "      <td>4.0</td>\n",
       "      <td>TUITION WAIVER(DEPENDANTS)</td>\n",
       "      <td>No</td>\n",
       "      <td>NaN</td>\n",
       "      <td>NaN</td>\n",
       "      <td>fail</td>\n",
       "    </tr>\n",
       "    <tr>\n",
       "      <th>2001</th>\n",
       "      <td>M</td>\n",
       "      <td>20171</td>\n",
       "      <td>1st Year</td>\n",
       "      <td>EDUCATION</td>\n",
       "      <td>BACHELOR OF INFORMATION AND COMMUNICATION TECH...</td>\n",
       "      <td>ICTs and Education</td>\n",
       "      <td>CIVIC EDUCATION</td>\n",
       "      <td>5.0</td>\n",
       "      <td>TUITION WAIVER(DEPENDANTS)</td>\n",
       "      <td>No</td>\n",
       "      <td>NaN</td>\n",
       "      <td>64.0</td>\n",
       "      <td>Pass</td>\n",
       "    </tr>\n",
       "    <tr>\n",
       "      <th>2002</th>\n",
       "      <td>M</td>\n",
       "      <td>20181</td>\n",
       "      <td>1st Year</td>\n",
       "      <td>EDUCATION</td>\n",
       "      <td>BACHELOR OF INFORMATION AND COMMUNICATION TECH...</td>\n",
       "      <td>ICTs and Education</td>\n",
       "      <td>NaN</td>\n",
       "      <td>NaN</td>\n",
       "      <td>SELF-SPONSORED</td>\n",
       "      <td>No</td>\n",
       "      <td>NaN</td>\n",
       "      <td>NaN</td>\n",
       "      <td>fail</td>\n",
       "    </tr>\n",
       "    <tr>\n",
       "      <th>2003</th>\n",
       "      <td>M</td>\n",
       "      <td>20181</td>\n",
       "      <td>1st Year</td>\n",
       "      <td>EDUCATION</td>\n",
       "      <td>BACHELOR OF INFORMATION AND COMMUNICATION TECH...</td>\n",
       "      <td>ICTs and Education</td>\n",
       "      <td>RELIGIOUS STUDIES</td>\n",
       "      <td>4.0</td>\n",
       "      <td>SELF-SPONSORED</td>\n",
       "      <td>No</td>\n",
       "      <td>NaN</td>\n",
       "      <td>NaN</td>\n",
       "      <td>fail</td>\n",
       "    </tr>\n",
       "    <tr>\n",
       "      <th>2004</th>\n",
       "      <td>M</td>\n",
       "      <td>20171</td>\n",
       "      <td>1st Year</td>\n",
       "      <td>EDUCATION</td>\n",
       "      <td>BACHELOR OF INFORMATION AND COMMUNICATION TECH...</td>\n",
       "      <td>ICTs and Education</td>\n",
       "      <td>CURRICULUM STUDIES</td>\n",
       "      <td>4.0</td>\n",
       "      <td>GRZ-FULLY SPONSORED</td>\n",
       "      <td>No</td>\n",
       "      <td>NaN</td>\n",
       "      <td>45.0</td>\n",
       "      <td>Pass</td>\n",
       "    </tr>\n",
       "    <tr>\n",
       "      <th>...</th>\n",
       "      <td>...</td>\n",
       "      <td>...</td>\n",
       "      <td>...</td>\n",
       "      <td>...</td>\n",
       "      <td>...</td>\n",
       "      <td>...</td>\n",
       "      <td>...</td>\n",
       "      <td>...</td>\n",
       "      <td>...</td>\n",
       "      <td>...</td>\n",
       "      <td>...</td>\n",
       "      <td>...</td>\n",
       "      <td>...</td>\n",
       "    </tr>\n",
       "    <tr>\n",
       "      <th>2272</th>\n",
       "      <td>M</td>\n",
       "      <td>20201</td>\n",
       "      <td>1st Year</td>\n",
       "      <td>EDUCATION</td>\n",
       "      <td>BACHELOR OF INFORMATION AND COMMUNICATION TECH...</td>\n",
       "      <td>ICTs and Education</td>\n",
       "      <td>CIVIC EDUCATION</td>\n",
       "      <td>4.0</td>\n",
       "      <td>TUITION WAIVER(DEPENDANTS)</td>\n",
       "      <td>Yes</td>\n",
       "      <td>0.02</td>\n",
       "      <td>56.0</td>\n",
       "      <td>Pass</td>\n",
       "    </tr>\n",
       "    <tr>\n",
       "      <th>2273</th>\n",
       "      <td>M</td>\n",
       "      <td>20201</td>\n",
       "      <td>1st Year</td>\n",
       "      <td>EDUCATION</td>\n",
       "      <td>BACHELOR OF INFORMATION AND COMMUNICATION TECH...</td>\n",
       "      <td>ICTs and Education</td>\n",
       "      <td>CIVIC EDUCATION</td>\n",
       "      <td>4.0</td>\n",
       "      <td>GRZ-FULLY SPONSORED</td>\n",
       "      <td>No</td>\n",
       "      <td>0.30</td>\n",
       "      <td>47.0</td>\n",
       "      <td>Pass</td>\n",
       "    </tr>\n",
       "    <tr>\n",
       "      <th>2274</th>\n",
       "      <td>F</td>\n",
       "      <td>20201</td>\n",
       "      <td>1st Year</td>\n",
       "      <td>EDUCATION</td>\n",
       "      <td>BACHELOR OF INFORMATION AND COMMUNICATION TECH...</td>\n",
       "      <td>ICTs and Education</td>\n",
       "      <td>FRENCH</td>\n",
       "      <td>4.0</td>\n",
       "      <td>SELF-SPONSORED</td>\n",
       "      <td>No</td>\n",
       "      <td>0.01</td>\n",
       "      <td>35.0</td>\n",
       "      <td>fail</td>\n",
       "    </tr>\n",
       "    <tr>\n",
       "      <th>2275</th>\n",
       "      <td>M</td>\n",
       "      <td>20201</td>\n",
       "      <td>1st Year</td>\n",
       "      <td>EDUCATION</td>\n",
       "      <td>BACHELOR OF INFORMATION AND COMMUNICATION TECH...</td>\n",
       "      <td>ICTs and Education</td>\n",
       "      <td>MATHEMATICS</td>\n",
       "      <td>4.0</td>\n",
       "      <td>GRZ-FULLY SPONSORED</td>\n",
       "      <td>Yes</td>\n",
       "      <td>0.20</td>\n",
       "      <td>38.0</td>\n",
       "      <td>fail</td>\n",
       "    </tr>\n",
       "    <tr>\n",
       "      <th>2276</th>\n",
       "      <td>F</td>\n",
       "      <td>20201</td>\n",
       "      <td>1st Year</td>\n",
       "      <td>EDUCATION</td>\n",
       "      <td>BACHELOR OF INFORMATION AND COMMUNICATION TECH...</td>\n",
       "      <td>ICTs and Education</td>\n",
       "      <td>GEOGRAPHY</td>\n",
       "      <td>4.0</td>\n",
       "      <td>SELF-SPONSORED</td>\n",
       "      <td>No</td>\n",
       "      <td>NaN</td>\n",
       "      <td>NaN</td>\n",
       "      <td>fail</td>\n",
       "    </tr>\n",
       "  </tbody>\n",
       "</table>\n",
       "<p>277 rows × 13 columns</p>\n",
       "</div>"
      ],
      "text/latex": [
       "\\begin{longtable}{llrlllllrllrrl}\n",
       "\\toprule\n",
       "{} & Gender &  Academic Year & Year Of Study &     School &                                            Program &               Major &                          Minor &  Number of courses &                     Sponsor & Accomodated &  Moodle logins &  CA + Exam & Examination status \\\\\n",
       "Computer Number &        &                &               &            &                                                    &                     &                                &                    &                             &             &                &            &                    \\\\\n",
       "\\midrule\n",
       "\\endfirsthead\n",
       "\n",
       "\\toprule\n",
       "{} & Gender &  Academic Year & Year Of Study &     School &                                            Program &               Major &                          Minor &  Number of courses &                     Sponsor & Accomodated &  Moodle logins &  CA + Exam & Examination status \\\\\n",
       "Computer Number &        &                &               &            &                                                    &                     &                                &                    &                             &             &                &            &                    \\\\\n",
       "\\midrule\n",
       "\\endhead\n",
       "\\midrule\n",
       "\\multicolumn{14}{r}{{Continued on next page}} \\\\\n",
       "\\midrule\n",
       "\\endfoot\n",
       "\n",
       "\\bottomrule\n",
       "\\endlastfoot\n",
       "2000            &      F &          20201 &      1st Year &  EDUCATION &  BACHELOR OF INFORMATION AND COMMUNICATION TECH... &  ICTs and Education &                    MATHEMATICS &                4.0 &  TUITION WAIVER(DEPENDANTS) &          No &            NaN &        NaN &               fail \\\\\n",
       "2001            &      M &          20171 &      1st Year &  EDUCATION &  BACHELOR OF INFORMATION AND COMMUNICATION TECH... &  ICTs and Education &                CIVIC EDUCATION &                5.0 &  TUITION WAIVER(DEPENDANTS) &          No &            NaN &       64.0 &               Pass \\\\\n",
       "2002            &      M &          20181 &      1st Year &  EDUCATION &  BACHELOR OF INFORMATION AND COMMUNICATION TECH... &  ICTs and Education &                            NaN &                NaN &              SELF-SPONSORED &          No &            NaN &        NaN &               fail \\\\\n",
       "2003            &      M &          20181 &      1st Year &  EDUCATION &  BACHELOR OF INFORMATION AND COMMUNICATION TECH... &  ICTs and Education &              RELIGIOUS STUDIES &                4.0 &              SELF-SPONSORED &          No &            NaN &        NaN &               fail \\\\\n",
       "2004            &      M &          20171 &      1st Year &  EDUCATION &  BACHELOR OF INFORMATION AND COMMUNICATION TECH... &  ICTs and Education &             CURRICULUM STUDIES &                4.0 &         GRZ-FULLY SPONSORED &          No &            NaN &       45.0 &               Pass \\\\\n",
       "2005            &      M &          20181 &      1st Year &  EDUCATION &  BACHELOR OF INFORMATION AND COMMUNICATION TECH... &  ICTs and Education &                CIVIC EDUCATION &                5.0 &              SELF-SPONSORED &          No &            NaN &        NaN &               fail \\\\\n",
       "2006            &      F &          20171 &      1st Year &  EDUCATION &  BACHELOR OF INFORMATION AND COMMUNICATION TECH... &  ICTs and Education &                CIVIC EDUCATION &                5.0 &         GRZ-FULLY SPONSORED &         Yes &            NaN &       45.0 &               Pass \\\\\n",
       "2007            &      M &          20171 &      1st Year &  EDUCATION &  BACHELOR OF INFORMATION AND COMMUNICATION TECH... &  ICTs and Education &                    MATHEMATICS &                4.0 &         GRZ-FULLY SPONSORED &          No &            NaN &       56.0 &               Pass \\\\\n",
       "2008            &      M &          20191 &      1st Year &  EDUCATION &  BACHELOR OF INFORMATION AND COMMUNICATION TECH... &  ICTs and Education &                CIVIC EDUCATION &                5.0 &              SELF-SPONSORED &          No &            NaN &        NaN &               fail \\\\\n",
       "2009            &      F &          20171 &      1st Year &  EDUCATION &  BACHELOR OF INFORMATION AND COMMUNICATION TECH... &  ICTs and Education &                CIVIC EDUCATION &                5.0 &            GRZ - 75 PERCENT &          No &            NaN &       46.0 &               Pass \\\\\n",
       "2010            &      F &          20171 &      1st Year &  EDUCATION &  BACHELOR OF INFORMATION AND COMMUNICATION TECH... &  ICTs and Education &                    MATHEMATICS &                4.0 &            GRZ - 75 PERCENT &          No &            NaN &       59.0 &               Pass \\\\\n",
       "2011            &      F &          20171 &      1st Year &  EDUCATION &  BACHELOR OF INFORMATION AND COMMUNICATION TECH... &  ICTs and Education &                CIVIC EDUCATION &                5.0 &         GRZ-FULLY SPONSORED &          No &            NaN &       60.0 &               Pass \\\\\n",
       "2012            &      M &          20171 &      1st Year &  EDUCATION &  BACHELOR OF INFORMATION AND COMMUNICATION TECH... &  ICTs and Education &                      GEOGRAPHY &                4.0 &            GRZ - 75 PERCENT &          No &            NaN &       66.0 &               Pass \\\\\n",
       "2013            &      M &          20171 &      1st Year &  EDUCATION &  BACHELOR OF INFORMATION AND COMMUNICATION TECH... &  ICTs and Education &                        CHINESE &                4.0 &         GRZ-FULLY SPONSORED &          No &            NaN &       54.0 &               Pass \\\\\n",
       "2014            &      F &          20171 &      1st Year &  EDUCATION &  BACHELOR OF INFORMATION AND COMMUNICATION TECH... &  ICTs and Education &                CIVIC EDUCATION &                5.0 &         GRZ-FULLY SPONSORED &          No &            NaN &       59.0 &               Pass \\\\\n",
       "2015            &      M &          20171 &      1st Year &  EDUCATION &  BACHELOR OF INFORMATION AND COMMUNICATION TECH... &  ICTs and Education &                CIVIC EDUCATION &                5.0 &         GRZ-FULLY SPONSORED &          No &            NaN &       59.0 &               Pass \\\\\n",
       "2016            &      M &          20171 &      1st Year &  EDUCATION &  BACHELOR OF INFORMATION AND COMMUNICATION TECH... &  ICTs and Education &                    MATHEMATICS &                4.0 &         GRZ-FULLY SPONSORED &          No &            NaN &       59.0 &               Pass \\\\\n",
       "2017            &      F &          20171 &      1st Year &  EDUCATION &  BACHELOR OF INFORMATION AND COMMUNICATION TECH... &  ICTs and Education &                CIVIC EDUCATION &                5.0 &         GRZ-FULLY SPONSORED &          No &            NaN &       47.0 &               Pass \\\\\n",
       "2018            &      F &          20171 &      1st Year &  EDUCATION &  BACHELOR OF INFORMATION AND COMMUNICATION TECH... &  ICTs and Education &                CIVIC EDUCATION &                5.0 &              SELF-SPONSORED &          No &            NaN &       48.0 &               Pass \\\\\n",
       "2019            &      M &          20171 &      1st Year &  EDUCATION &  BACHELOR OF INFORMATION AND COMMUNICATION TECH... &  ICTs and Education &                CIVIC EDUCATION &                5.0 &              SELF-SPONSORED &          No &            NaN &       34.0 &               fail \\\\\n",
       "2020            &      M &          20171 &      1st Year &  EDUCATION &  BACHELOR OF INFORMATION AND COMMUNICATION TECH... &  ICTs and Education &                      GEOGRAPHY &                4.0 &         GRZ-FULLY SPONSORED &          No &            NaN &       47.0 &               Pass \\\\\n",
       "2021            &      M &          20171 &      1st Year &  EDUCATION &  BACHELOR OF INFORMATION AND COMMUNICATION TECH... &  ICTs and Education &                            NaN &                NaN &              SELF-SPONSORED &          No &            NaN &        NaN &               fail \\\\\n",
       "2022            &      M &          20171 &      1st Year &  EDUCATION &  BACHELOR OF INFORMATION AND COMMUNICATION TECH... &  ICTs and Education &                CIVIC EDUCATION &                5.0 &         GRZ-FULLY SPONSORED &         Yes &            NaN &       61.0 &               Pass \\\\\n",
       "2023            &      F &          20171 &      1st Year &  EDUCATION &  BACHELOR OF INFORMATION AND COMMUNICATION TECH... &  ICTs and Education &                      GEOGRAPHY &                4.0 &         GRZ-FULLY SPONSORED &          No &            NaN &       47.0 &               Pass \\\\\n",
       "2024            &      M &          20171 &      1st Year &  EDUCATION &  BACHELOR OF INFORMATION AND COMMUNICATION TECH... &  ICTs and Education &                CIVIC EDUCATION &                5.0 &         GRZ-FULLY SPONSORED &          No &            NaN &       55.0 &               Pass \\\\\n",
       "2025            &      M &          20171 &      1st Year &  EDUCATION &  BACHELOR OF INFORMATION AND COMMUNICATION TECH... &  ICTs and Education &                      GEOGRAPHY &                4.0 &         GRZ-FULLY SPONSORED &          No &            NaN &       52.0 &               Pass \\\\\n",
       "2026            &      M &          20171 &      1st Year &  EDUCATION &  BACHELOR OF INFORMATION AND COMMUNICATION TECH... &  ICTs and Education &                    MATHEMATICS &                4.0 &         GRZ-FULLY SPONSORED &          No &            NaN &       53.0 &               Pass \\\\\n",
       "2027            &      M &          20171 &      1st Year &  EDUCATION &  BACHELOR OF INFORMATION AND COMMUNICATION TECH... &  ICTs and Education &                        HISTORY &                4.0 &            GRZ - 75 PERCENT &         Yes &            NaN &       45.0 &               Pass \\\\\n",
       "2028            &      M &          20171 &      1st Year &  EDUCATION &  BACHELOR OF INFORMATION AND COMMUNICATION TECH... &  ICTs and Education &                CIVIC EDUCATION &                5.0 &              SELF-SPONSORED &          No &            NaN &       57.0 &               Pass \\\\\n",
       "2029            &      F &          20171 &      1st Year &  EDUCATION &  BACHELOR OF INFORMATION AND COMMUNICATION TECH... &  ICTs and Education &                        ENGLISH &                5.0 &            GRZ - 75 PERCENT &          No &            NaN &       45.0 &               Pass \\\\\n",
       "2030            &      M &          20171 &      1st Year &  EDUCATION &  BACHELOR OF INFORMATION AND COMMUNICATION TECH... &  ICTs and Education &                        HISTORY &                4.0 &         GRZ-FULLY SPONSORED &         Yes &            NaN &       59.0 &               Pass \\\\\n",
       "2031            &      M &          20171 &      1st Year &  EDUCATION &  BACHELOR OF INFORMATION AND COMMUNICATION TECH... &  ICTs and Education &                CIVIC EDUCATION &                5.0 &         GRZ-FULLY SPONSORED &          No &            NaN &       47.0 &               Pass \\\\\n",
       "2032            &      F &          20171 &      1st Year &  EDUCATION &  BACHELOR OF INFORMATION AND COMMUNICATION TECH... &  ICTs and Education &                CIVIC EDUCATION &                5.0 &         GRZ-FULLY SPONSORED &          No &            NaN &       45.0 &               Pass \\\\\n",
       "2033            &      M &          20171 &      1st Year &  EDUCATION &  BACHELOR OF INFORMATION AND COMMUNICATION TECH... &  ICTs and Education &                      GEOGRAPHY &                4.0 &         GRZ-FULLY SPONSORED &         Yes &            NaN &       63.0 &               Pass \\\\\n",
       "2034            &      F &          20171 &      1st Year &  EDUCATION &  BACHELOR OF INFORMATION AND COMMUNICATION TECH... &  ICTs and Education &              RELIGIOUS STUDIES &                4.0 &            GRZ - 75 PERCENT &          No &            NaN &       49.0 &               Pass \\\\\n",
       "2035            &      M &          20171 &      1st Year &  EDUCATION &  BACHELOR OF INFORMATION AND COMMUNICATION TECH... &  ICTs and Education &                      GEOGRAPHY &                4.0 &  TUITION WAIVER(DEPENDANTS) &         Yes &            NaN &       40.0 &               fail \\\\\n",
       "2036            &      M &          20171 &      1st Year &  EDUCATION &  BACHELOR OF INFORMATION AND COMMUNICATION TECH... &  ICTs and Education &                    MATHEMATICS &                4.0 &              SELF-SPONSORED &          No &            NaN &        NaN &               fail \\\\\n",
       "2037            &      M &          20181 &      1st Year &  EDUCATION &  BACHELOR OF INFORMATION AND COMMUNICATION TECH... &  ICTs and Education &                    MATHEMATICS &                4.0 &              SELF-SPONSORED &          No &            NaN &        NaN &               fail \\\\\n",
       "2038            &      M &          20171 &      1st Year &  EDUCATION &  BACHELOR OF INFORMATION AND COMMUNICATION TECH... &  ICTs and Education &                            NaN &                NaN &              SELF-SPONSORED &          No &            NaN &        NaN &               fail \\\\\n",
       "2039            &      F &          20171 &      1st Year &  EDUCATION &  BACHELOR OF INFORMATION AND COMMUNICATION TECH... &  ICTs and Education &                CIVIC EDUCATION &                5.0 &              SELF-SPONSORED &          No &            NaN &        NaN &               fail \\\\\n",
       "2040            &      F &          20171 &      1st Year &  EDUCATION &  BACHELOR OF INFORMATION AND COMMUNICATION TECH... &  ICTs and Education &                        ENGLISH &                5.0 &         GRZ-FULLY SPONSORED &          No &            NaN &       48.0 &               Pass \\\\\n",
       "2041            &      M &          20171 &      1st Year &  EDUCATION &  BACHELOR OF INFORMATION AND COMMUNICATION TECH... &  ICTs and Education &                CIVIC EDUCATION &                5.0 &              SELF-SPONSORED &         Yes &            NaN &       45.0 &               Pass \\\\\n",
       "2042            &      M &          20171 &      1st Year &  EDUCATION &  BACHELOR OF INFORMATION AND COMMUNICATION TECH... &  ICTs and Education &                        ENGLISH &                5.0 &         GRZ-FULLY SPONSORED &         Yes &            NaN &       58.0 &               Pass \\\\\n",
       "2043            &      M &          20171 &      1st Year &  EDUCATION &  BACHELOR OF INFORMATION AND COMMUNICATION TECH... &  ICTs and Education &                        HISTORY &                4.0 &         GRZ-FULLY SPONSORED &         Yes &            NaN &       47.0 &               Pass \\\\\n",
       "2044            &      F &          20171 &      1st Year &  EDUCATION &  BACHELOR OF INFORMATION AND COMMUNICATION TECH... &  ICTs and Education &                CIVIC EDUCATION &                5.0 &         GRZ-FULLY SPONSORED &          No &            NaN &       51.0 &               Pass \\\\\n",
       "2045            &      M &          20171 &      1st Year &  EDUCATION &  BACHELOR OF INFORMATION AND COMMUNICATION TECH... &  ICTs and Education &  PHYSICAL EDUCATION AND SPORTS &                4.0 &         GRZ-FULLY SPONSORED &          No &            NaN &       63.0 &               Pass \\\\\n",
       "2046            &      M &          20171 &      1st Year &  EDUCATION &  BACHELOR OF INFORMATION AND COMMUNICATION TECH... &  ICTs and Education &                CIVIC EDUCATION &                5.0 &         GRZ-FULLY SPONSORED &         Yes &           0.07 &       41.0 &               fail \\\\\n",
       "2047            &      M &          20171 &      1st Year &  EDUCATION &  BACHELOR OF INFORMATION AND COMMUNICATION TECH... &  ICTs and Education &                        HISTORY &                4.0 &         GRZ-FULLY SPONSORED &          No &            NaN &       67.0 &               Pass \\\\\n",
       "2048            &      F &          20171 &      1st Year &  EDUCATION &  BACHELOR OF INFORMATION AND COMMUNICATION TECH... &  ICTs and Education &                        HISTORY &                4.0 &         GRZ-FULLY SPONSORED &          No &           0.04 &       38.0 &               fail \\\\\n",
       "2049            &      F &          20171 &      1st Year &  EDUCATION &  BACHELOR OF INFORMATION AND COMMUNICATION TECH... &  ICTs and Education &                CIVIC EDUCATION &                5.0 &         GRZ-FULLY SPONSORED &         Yes &            NaN &       52.0 &               Pass \\\\\n",
       "2050            &      M &          20171 &      1st Year &  EDUCATION &  BACHELOR OF INFORMATION AND COMMUNICATION TECH... &  ICTs and Education &                    MATHEMATICS &                4.0 &         GRZ-FULLY SPONSORED &         Yes &            NaN &       45.0 &               Pass \\\\\n",
       "2051            &      F &          20171 &      1st Year &  EDUCATION &  BACHELOR OF INFORMATION AND COMMUNICATION TECH... &  ICTs and Education &                    MATHEMATICS &                4.0 &            GRZ - 75 PERCENT &          No &            NaN &       57.0 &               Pass \\\\\n",
       "2052            &      M &          20171 &      1st Year &  EDUCATION &  BACHELOR OF INFORMATION AND COMMUNICATION TECH... &  ICTs and Education &                CIVIC EDUCATION &                5.0 &         GRZ-FULLY SPONSORED &          No &            NaN &       54.0 &               Pass \\\\\n",
       "2053            &      M &          20171 &      1st Year &  EDUCATION &  BACHELOR OF INFORMATION AND COMMUNICATION TECH... &  ICTs and Education &                        CHINESE &                4.0 &         GRZ-FULLY SPONSORED &         Yes &            NaN &       55.0 &               Pass \\\\\n",
       "2054            &      M &          20171 &      1st Year &  EDUCATION &  BACHELOR OF INFORMATION AND COMMUNICATION TECH... &  ICTs and Education &                      GEOGRAPHY &                4.0 &         GRZ-FULLY SPONSORED &          No &            NaN &       57.0 &               Pass \\\\\n",
       "2055            &      M &          20171 &      1st Year &  EDUCATION &  BACHELOR OF INFORMATION AND COMMUNICATION TECH... &  ICTs and Education &                CIVIC EDUCATION &                5.0 &         GRZ-FULLY SPONSORED &          No &            NaN &       50.0 &               Pass \\\\\n",
       "2056            &      M &          20171 &      1st Year &  EDUCATION &  BACHELOR OF INFORMATION AND COMMUNICATION TECH... &  ICTs and Education &                CIVIC EDUCATION &                5.0 &         GRZ-FULLY SPONSORED &         Yes &            NaN &       53.0 &               Pass \\\\\n",
       "2057            &      F &          20171 &      1st Year &  EDUCATION &  BACHELOR OF INFORMATION AND COMMUNICATION TECH... &  ICTs and Education &              RELIGIOUS STUDIES &                4.0 &         GRZ-FULLY SPONSORED &          No &            NaN &       34.0 &               fail \\\\\n",
       "2058            &      F &          20171 &      1st Year &  EDUCATION &  BACHELOR OF INFORMATION AND COMMUNICATION TECH... &  ICTs and Education &                        ENGLISH &                5.0 &         GRZ-FULLY SPONSORED &          No &            NaN &       62.0 &               Pass \\\\\n",
       "2059            &      M &          20171 &      1st Year &  EDUCATION &  BACHELOR OF INFORMATION AND COMMUNICATION TECH... &  ICTs and Education &                CIVIC EDUCATION &                5.0 &         GRZ-FULLY SPONSORED &          No &            NaN &       46.0 &               Pass \\\\\n",
       "2060            &      F &          20171 &      1st Year &  EDUCATION &  BACHELOR OF INFORMATION AND COMMUNICATION TECH... &  ICTs and Education &                        HISTORY &                4.0 &            GRZ - 75 PERCENT &          No &            NaN &       45.0 &               Pass \\\\\n",
       "2061            &      M &          20171 &      1st Year &  EDUCATION &  BACHELOR OF INFORMATION AND COMMUNICATION TECH... &  ICTs and Education &                      GEOGRAPHY &                5.0 &         GRZ-FULLY SPONSORED &          No &            NaN &       45.0 &               Pass \\\\\n",
       "2062            &      M &          20171 &      1st Year &  EDUCATION &  BACHELOR OF INFORMATION AND COMMUNICATION TECH... &  ICTs and Education &                      GEOGRAPHY &                5.0 &         GRZ-FULLY SPONSORED &          No &            NaN &       47.0 &               Pass \\\\\n",
       "2063            &      M &          20171 &      1st Year &  EDUCATION &  BACHELOR OF INFORMATION AND COMMUNICATION TECH... &  ICTs and Education &                    MATHEMATICS &                4.0 &         GRZ-FULLY SPONSORED &          No &            NaN &       56.0 &               Pass \\\\\n",
       "2064            &      F &          20171 &      1st Year &  EDUCATION &  BACHELOR OF INFORMATION AND COMMUNICATION TECH... &  ICTs and Education &              RELIGIOUS STUDIES &                4.0 &            GRZ - 75 PERCENT &          No &            NaN &       45.0 &               Pass \\\\\n",
       "2065            &      M &          20171 &      1st Year &  EDUCATION &  BACHELOR OF INFORMATION AND COMMUNICATION TECH... &  ICTs and Education &                    MATHEMATICS &                4.0 &         GRZ-FULLY SPONSORED &          No &            NaN &       62.0 &               Pass \\\\\n",
       "2066            &      M &          20171 &      1st Year &  EDUCATION &  BACHELOR OF INFORMATION AND COMMUNICATION TECH... &  ICTs and Education &                        ENGLISH &                5.0 &         GRZ-FULLY SPONSORED &          No &            NaN &       54.0 &               Pass \\\\\n",
       "2067            &      M &          20171 &      1st Year &  EDUCATION &  BACHELOR OF INFORMATION AND COMMUNICATION TECH... &  ICTs and Education &                        HISTORY &                4.0 &         GRZ-FULLY SPONSORED &         Yes &            NaN &       63.0 &               Pass \\\\\n",
       "2068            &      F &          20171 &      1st Year &  EDUCATION &  BACHELOR OF INFORMATION AND COMMUNICATION TECH... &  ICTs and Education &              RELIGIOUS STUDIES &                4.0 &            GRZ - 75 PERCENT &          No &            NaN &       43.0 &               fail \\\\\n",
       "2069            &      F &          20171 &      1st Year &  EDUCATION &  BACHELOR OF INFORMATION AND COMMUNICATION TECH... &  ICTs and Education &                         FRENCH &                4.0 &            GRZ - 75 PERCENT &          No &            NaN &       53.0 &               Pass \\\\\n",
       "2070            &      F &          20171 &      1st Year &  EDUCATION &  BACHELOR OF INFORMATION AND COMMUNICATION TECH... &  ICTs and Education &                        ENGLISH &                5.0 &         GRZ-FULLY SPONSORED &          No &            NaN &       47.0 &               Pass \\\\\n",
       "2071            &      M &          20171 &      1st Year &  EDUCATION &  BACHELOR OF INFORMATION AND COMMUNICATION TECH... &  ICTs and Education &                CIVIC EDUCATION &                5.0 &         GRZ-FULLY SPONSORED &          No &            NaN &       55.0 &               Pass \\\\\n",
       "2072            &      M &          20171 &      1st Year &  EDUCATION &  BACHELOR OF INFORMATION AND COMMUNICATION TECH... &  ICTs and Education &              RELIGIOUS STUDIES &                4.0 &            GRZ - 75 PERCENT &          No &            NaN &       31.0 &               fail \\\\\n",
       "2073            &      M &          20171 &      1st Year &  EDUCATION &  BACHELOR OF INFORMATION AND COMMUNICATION TECH... &  ICTs and Education &                    MATHEMATICS &                5.0 &         GRZ-FULLY SPONSORED &         Yes &            NaN &       59.0 &               Pass \\\\\n",
       "2074            &      M &          20171 &      1st Year &  EDUCATION &  BACHELOR OF INFORMATION AND COMMUNICATION TECH... &  ICTs and Education &                      GEOGRAPHY &                4.0 &         GRZ-FULLY SPONSORED &         Yes &           0.00 &       41.0 &               fail \\\\\n",
       "2075            &      M &          20171 &      1st Year &  EDUCATION &  BACHELOR OF INFORMATION AND COMMUNICATION TECH... &  ICTs and Education &                      GEOGRAPHY &                4.0 &         GRZ-FULLY SPONSORED &          No &            NaN &       40.0 &               fail \\\\\n",
       "2076            &      M &          20171 &      1st Year &  EDUCATION &  BACHELOR OF INFORMATION AND COMMUNICATION TECH... &  ICTs and Education &                CIVIC EDUCATION &                5.0 &         GRZ-FULLY SPONSORED &         Yes &            NaN &       53.0 &               Pass \\\\\n",
       "2077            &      M &          20171 &      1st Year &  EDUCATION &  BACHELOR OF INFORMATION AND COMMUNICATION TECH... &  ICTs and Education &                      GEOGRAPHY &                4.0 &         GRZ-FULLY SPONSORED &         Yes &            NaN &       51.0 &               Pass \\\\\n",
       "2078            &      M &          20171 &      1st Year &  EDUCATION &  BACHELOR OF INFORMATION AND COMMUNICATION TECH... &  ICTs and Education &                CIVIC EDUCATION &                5.0 &         GRZ-FULLY SPONSORED &          No &            NaN &       57.0 &               Pass \\\\\n",
       "2079            &      F &          20171 &      1st Year &  EDUCATION &  BACHELOR OF INFORMATION AND COMMUNICATION TECH... &  ICTs and Education &                CIVIC EDUCATION &                5.0 &         GRZ-FULLY SPONSORED &          No &            NaN &       46.0 &               Pass \\\\\n",
       "2080            &      F &          20171 &      1st Year &  EDUCATION &  BACHELOR OF INFORMATION AND COMMUNICATION TECH... &  ICTs and Education &                CIVIC EDUCATION &                5.0 &         GRZ-FULLY SPONSORED &          No &            NaN &       21.0 &               fail \\\\\n",
       "2081            &      M &          20171 &      1st Year &  EDUCATION &  BACHELOR OF INFORMATION AND COMMUNICATION TECH... &  ICTs and Education &                CIVIC EDUCATION &                5.0 &         GRZ-FULLY SPONSORED &          No &            NaN &       45.0 &               Pass \\\\\n",
       "2082            &      M &          20171 &      1st Year &  EDUCATION &  BACHELOR OF INFORMATION AND COMMUNICATION TECH... &  ICTs and Education &                CIVIC EDUCATION &                5.0 &         GRZ-FULLY SPONSORED &          No &            NaN &       76.0 &               Pass \\\\\n",
       "2083            &      M &          20171 &      1st Year &  EDUCATION &  BACHELOR OF INFORMATION AND COMMUNICATION TECH... &  ICTs and Education &                        HISTORY &                4.0 &         GRZ-FULLY SPONSORED &          No &            NaN &       48.0 &               Pass \\\\\n",
       "2084            &      M &          20171 &      1st Year &  EDUCATION &  BACHELOR OF INFORMATION AND COMMUNICATION TECH... &  ICTs and Education &                CIVIC EDUCATION &                5.0 &            GRZ - 75 PERCENT &          No &            NaN &       43.0 &               fail \\\\\n",
       "2085            &      M &          20171 &      1st Year &  EDUCATION &  BACHELOR OF INFORMATION AND COMMUNICATION TECH... &  ICTs and Education &                CIVIC EDUCATION &                5.0 &         GRZ-FULLY SPONSORED &          No &            NaN &       45.0 &               Pass \\\\\n",
       "2086            &      M &          20171 &      1st Year &  EDUCATION &  BACHELOR OF INFORMATION AND COMMUNICATION TECH... &  ICTs and Education &                    MATHEMATICS &                4.0 &            GRZ - 75 PERCENT &          No &            NaN &       43.0 &               fail \\\\\n",
       "2087            &      M &          20171 &      1st Year &  EDUCATION &  BACHELOR OF INFORMATION AND COMMUNICATION TECH... &  ICTs and Education &                    MATHEMATICS &                4.0 &            GRZ - 75 PERCENT &          No &            NaN &       58.0 &               Pass \\\\\n",
       "2088            &      F &          20171 &      1st Year &  EDUCATION &  BACHELOR OF INFORMATION AND COMMUNICATION TECH... &  ICTs and Education &                        HISTORY &                4.0 &         GRZ-FULLY SPONSORED &          No &            NaN &       44.0 &               fail \\\\\n",
       "2089            &      M &          20171 &      1st Year &  EDUCATION &  BACHELOR OF INFORMATION AND COMMUNICATION TECH... &  ICTs and Education &  PHYSICAL EDUCATION AND SPORTS &                4.0 &            GRZ - 75 PERCENT &          No &            NaN &       62.0 &               Pass \\\\\n",
       "2090            &      F &          20171 &      1st Year &  EDUCATION &  BACHELOR OF INFORMATION AND COMMUNICATION TECH... &  ICTs and Education &                        ENGLISH &                5.0 &         GRZ-FULLY SPONSORED &          No &            NaN &       46.0 &               Pass \\\\\n",
       "2091            &      F &          20171 &      1st Year &  EDUCATION &  BACHELOR OF INFORMATION AND COMMUNICATION TECH... &  ICTs and Education &                        ENGLISH &                5.0 &              SELF-SPONSORED &          No &            NaN &       45.0 &               Pass \\\\\n",
       "2092            &      M &          20171 &      1st Year &  EDUCATION &  BACHELOR OF INFORMATION AND COMMUNICATION TECH... &  ICTs and Education &                CIVIC EDUCATION &                5.0 &            GRZ - 75 PERCENT &          No &            NaN &       38.0 &               fail \\\\\n",
       "2093            &      M &          20171 &      1st Year &  EDUCATION &  BACHELOR OF INFORMATION AND COMMUNICATION TECH... &  ICTs and Education &                      GEOGRAPHY &                4.0 &         GRZ-FULLY SPONSORED &         Yes &            NaN &       55.0 &               Pass \\\\\n",
       "2094            &      M &          20171 &      1st Year &  EDUCATION &  BACHELOR OF INFORMATION AND COMMUNICATION TECH... &  ICTs and Education &                CIVIC EDUCATION &                5.0 &            GRZ - 75 PERCENT &          No &            NaN &       45.0 &               Pass \\\\\n",
       "2095            &      M &          20171 &      1st Year &  EDUCATION &  BACHELOR OF INFORMATION AND COMMUNICATION TECH... &  ICTs and Education &                    MATHEMATICS &                4.0 &         GRZ-FULLY SPONSORED &          No &            NaN &       45.0 &               Pass \\\\\n",
       "2096            &      M &          20171 &      1st Year &  EDUCATION &  BACHELOR OF INFORMATION AND COMMUNICATION TECH... &  ICTs and Education &                    MATHEMATICS &                4.0 &         GRZ-FULLY SPONSORED &          No &            NaN &       59.0 &               Pass \\\\\n",
       "2097            &      F &          20171 &      1st Year &  EDUCATION &  BACHELOR OF INFORMATION AND COMMUNICATION TECH... &  ICTs and Education &                CIVIC EDUCATION &                5.0 &         GRZ-FULLY SPONSORED &          No &            NaN &       50.0 &               Pass \\\\\n",
       "2098            &      F &          20171 &      1st Year &  EDUCATION &  BACHELOR OF INFORMATION AND COMMUNICATION TECH... &  ICTs and Education &                         FRENCH &                4.0 &              SELF-SPONSORED &         Yes &            NaN &       45.0 &               Pass \\\\\n",
       "2099            &      M &          20171 &      1st Year &  EDUCATION &  BACHELOR OF INFORMATION AND COMMUNICATION TECH... &  ICTs and Education &                CIVIC EDUCATION &                5.0 &         GRZ-FULLY SPONSORED &          No &            NaN &       75.0 &               Pass \\\\\n",
       "2100            &      M &          20171 &      1st Year &  EDUCATION &  BACHELOR OF INFORMATION AND COMMUNICATION TECH... &  ICTs and Education &                      GEOGRAPHY &                4.0 &         GRZ-FULLY SPONSORED &          No &            NaN &       59.0 &               Pass \\\\\n",
       "2101            &      F &          20181 &      1st Year &  EDUCATION &  BACHELOR OF INFORMATION AND COMMUNICATION TECH... &  ICTs and Education &                            NaN &                NaN &              SELF-SPONSORED &          No &            NaN &       49.0 &               Pass \\\\\n",
       "2102            &      F &          20181 &      1st Year &  EDUCATION &  BACHELOR OF INFORMATION AND COMMUNICATION TECH... &  ICTs and Education &                            NaN &                NaN &         GRZ-FULLY SPONSORED &          No &            NaN &       50.0 &               Pass \\\\\n",
       "2103            &      F &          20181 &      1st Year &  EDUCATION &  BACHELOR OF INFORMATION AND COMMUNICATION TECH... &  ICTs and Education &                            NaN &                NaN &         GRZ-FULLY SPONSORED &         Yes &           0.13 &       72.0 &               Pass \\\\\n",
       "2104            &      M &          20191 &      1st Year &  EDUCATION &  BACHELOR OF INFORMATION AND COMMUNICATION TECH... &  ICTs and Education &                            NaN &                NaN &                         NaN &          No &            NaN &        NaN &               fail \\\\\n",
       "2105            &      F &          20181 &      1st Year &  EDUCATION &  BACHELOR OF INFORMATION AND COMMUNICATION TECH... &  ICTs and Education &                            NaN &                NaN &         GRZ-FULLY SPONSORED &          No &           0.00 &       14.0 &               fail \\\\\n",
       "2106            &      F &          20181 &      1st Year &  EDUCATION &  BACHELOR OF INFORMATION AND COMMUNICATION TECH... &  ICTs and Education &                            NaN &                NaN &         GRZ-FULLY SPONSORED &         Yes &            NaN &       38.5 &               fail \\\\\n",
       "2107            &      M &          20191 &      1st Year &  EDUCATION &  BACHELOR OF INFORMATION AND COMMUNICATION TECH... &  ICTs and Education &                            NaN &                NaN &              SELF-SPONSORED &          No &            NaN &        NaN &               fail \\\\\n",
       "2108            &      M &          20181 &      1st Year &  EDUCATION &  BACHELOR OF INFORMATION AND COMMUNICATION TECH... &  ICTs and Education &                            NaN &                NaN &         GRZ-FULLY SPONSORED &          No &           0.00 &       49.0 &               Pass \\\\\n",
       "2109            &      M &          20181 &      1st Year &  EDUCATION &  BACHELOR OF INFORMATION AND COMMUNICATION TECH... &  ICTs and Education &                            NaN &                NaN &  TUITION WAIVER(DEPENDANTS) &         Yes &           0.25 &       30.0 &               fail \\\\\n",
       "2110            &      M &          20181 &      1st Year &  EDUCATION &  BACHELOR OF INFORMATION AND COMMUNICATION TECH... &  ICTs and Education &                        ENGLISH &                5.0 &         GRZ-FULLY SPONSORED &          No &           0.00 &       63.0 &               Pass \\\\\n",
       "2111            &      F &          20181 &      1st Year &  EDUCATION &  BACHELOR OF INFORMATION AND COMMUNICATION TECH... &  ICTs and Education &                            NaN &                NaN &         GRZ-FULLY SPONSORED &         Yes &           0.00 &       52.0 &               Pass \\\\\n",
       "2112            &      F &          20181 &      1st Year &  EDUCATION &  BACHELOR OF INFORMATION AND COMMUNICATION TECH... &  ICTs and Education &                            NaN &                NaN &         GRZ-FULLY SPONSORED &         Yes &            NaN &       52.0 &               Pass \\\\\n",
       "2113            &      M &          20181 &      1st Year &  EDUCATION &  BACHELOR OF INFORMATION AND COMMUNICATION TECH... &  ICTs and Education &                            NaN &                NaN &         GRZ-FULLY SPONSORED &          No &            NaN &       58.0 &               Pass \\\\\n",
       "2114            &      F &          20181 &      1st Year &  EDUCATION &  BACHELOR OF INFORMATION AND COMMUNICATION TECH... &  ICTs and Education &                            NaN &                NaN &         GRZ-FULLY SPONSORED &         Yes &           0.00 &       45.0 &               Pass \\\\\n",
       "2115            &      F &          20181 &      1st Year &  EDUCATION &  BACHELOR OF INFORMATION AND COMMUNICATION TECH... &  ICTs and Education &                            NaN &                NaN &         GRZ-FULLY SPONSORED &          No &            NaN &       45.0 &               Pass \\\\\n",
       "2116            &      M &          20181 &      1st Year &  EDUCATION &  BACHELOR OF INFORMATION AND COMMUNICATION TECH... &  ICTs and Education &                            NaN &                NaN &         GRZ-FULLY SPONSORED &          No &           0.00 &       73.0 &               Pass \\\\\n",
       "2117            &      F &          20181 &      1st Year &  EDUCATION &  BACHELOR OF INFORMATION AND COMMUNICATION TECH... &  ICTs and Education &                        HISTORY &                4.0 &  TUITION WAIVER(DEPENDANTS) &          No &            NaN &       39.0 &               fail \\\\\n",
       "2118            &      F &          20181 &      1st Year &  EDUCATION &  BACHELOR OF INFORMATION AND COMMUNICATION TECH... &  ICTs and Education &                            NaN &                NaN &         GRZ-FULLY SPONSORED &         Yes &           0.00 &       58.0 &               Pass \\\\\n",
       "2119            &      M &          20181 &      1st Year &  EDUCATION &  BACHELOR OF INFORMATION AND COMMUNICATION TECH... &  ICTs and Education &                            NaN &                NaN &         GRZ-FULLY SPONSORED &          No &           0.00 &       34.0 &               fail \\\\\n",
       "2120            &      M &          20181 &      1st Year &  EDUCATION &  BACHELOR OF INFORMATION AND COMMUNICATION TECH... &  ICTs and Education &                            NaN &                NaN &         GRZ-FULLY SPONSORED &          No &            NaN &       56.0 &               Pass \\\\\n",
       "2121            &      F &          20181 &      1st Year &  EDUCATION &  BACHELOR OF INFORMATION AND COMMUNICATION TECH... &  ICTs and Education &                            NaN &                NaN &         GRZ-FULLY SPONSORED &         Yes &           0.00 &       52.0 &               Pass \\\\\n",
       "2122            &      F &          20181 &      1st Year &  EDUCATION &  BACHELOR OF INFORMATION AND COMMUNICATION TECH... &  ICTs and Education &                            NaN &                NaN &         GRZ-FULLY SPONSORED &         Yes &            NaN &       39.0 &               fail \\\\\n",
       "2123            &      M &          20181 &      1st Year &  EDUCATION &  BACHELOR OF INFORMATION AND COMMUNICATION TECH... &  ICTs and Education &                        HISTORY &                4.0 &  TUITION WAIVER(DEPENDANTS) &         Yes &           0.00 &       37.0 &               fail \\\\\n",
       "2124            &      M &          20181 &      1st Year &  EDUCATION &  BACHELOR OF INFORMATION AND COMMUNICATION TECH... &  ICTs and Education &                            NaN &                NaN &         GRZ-FULLY SPONSORED &          No &           0.00 &       73.0 &               Pass \\\\\n",
       "2125            &      M &          20181 &      1st Year &  EDUCATION &  BACHELOR OF INFORMATION AND COMMUNICATION TECH... &  ICTs and Education &                CIVIC EDUCATION &                4.0 &         GRZ-FULLY SPONSORED &         Yes &           0.00 &       59.0 &               Pass \\\\\n",
       "2126            &      M &          20181 &      1st Year &  EDUCATION &  BACHELOR OF INFORMATION AND COMMUNICATION TECH... &  ICTs and Education &                            NaN &                NaN &              SELF-SPONSORED &          No &            NaN &        NaN &               fail \\\\\n",
       "2127            &      M &          20191 &      1st Year &  EDUCATION &  BACHELOR OF INFORMATION AND COMMUNICATION TECH... &  ICTs and Education &                            NaN &                NaN &              SELF-SPONSORED &          No &            NaN &        NaN &               fail \\\\\n",
       "2128            &      F &          20181 &      1st Year &  EDUCATION &  BACHELOR OF INFORMATION AND COMMUNICATION TECH... &  ICTs and Education &                            NaN &                NaN &         GRZ-FULLY SPONSORED &          No &           0.00 &       56.0 &               Pass \\\\\n",
       "2129            &      F &          20181 &      1st Year &  EDUCATION &  BACHELOR OF INFORMATION AND COMMUNICATION TECH... &  ICTs and Education &                            NaN &                NaN &         GRZ-FULLY SPONSORED &         Yes &            NaN &       45.0 &               Pass \\\\\n",
       "2130            &      F &          20181 &      1st Year &  EDUCATION &  BACHELOR OF INFORMATION AND COMMUNICATION TECH... &  ICTs and Education &                        ENGLISH &                5.0 &            GRZ - 75 PERCENT &         Yes &           0.00 &       59.0 &               Pass \\\\\n",
       "2131            &      M &          20181 &      1st Year &  EDUCATION &  BACHELOR OF INFORMATION AND COMMUNICATION TECH... &  ICTs and Education &                            NaN &                NaN &         GRZ-FULLY SPONSORED &         Yes &           0.00 &       78.0 &               Pass \\\\\n",
       "2132            &      F &          20181 &      1st Year &  EDUCATION &  BACHELOR OF INFORMATION AND COMMUNICATION TECH... &  ICTs and Education &                            NaN &                NaN &         GRZ-FULLY SPONSORED &         Yes &           0.00 &       37.0 &               fail \\\\\n",
       "2133            &      M &          20181 &      1st Year &  EDUCATION &  BACHELOR OF INFORMATION AND COMMUNICATION TECH... &  ICTs and Education &                            NaN &                NaN &         GRZ-FULLY SPONSORED &          No &           0.00 &       46.0 &               Pass \\\\\n",
       "2134            &      F &          20181 &      1st Year &  EDUCATION &  BACHELOR OF INFORMATION AND COMMUNICATION TECH... &  ICTs and Education &                            NaN &                NaN &         GRZ-FULLY SPONSORED &          No &            NaN &       45.0 &               Pass \\\\\n",
       "2135            &      F &          20181 &      1st Year &  EDUCATION &  BACHELOR OF INFORMATION AND COMMUNICATION TECH... &  ICTs and Education &                            NaN &                NaN &            GRZ - 75 PERCENT &          No &            NaN &       45.0 &               Pass \\\\\n",
       "2136            &      M &          20181 &      1st Year &  EDUCATION &  BACHELOR OF INFORMATION AND COMMUNICATION TECH... &  ICTs and Education &                            NaN &                NaN &         GRZ-FULLY SPONSORED &         Yes &           0.00 &       58.0 &               Pass \\\\\n",
       "2137            &      F &          20181 &      1st Year &  EDUCATION &  BACHELOR OF INFORMATION AND COMMUNICATION TECH... &  ICTs and Education &                CIVIC EDUCATION &                4.0 &            GRZ - 75 PERCENT &          No &           0.00 &       56.0 &               Pass \\\\\n",
       "2138            &      F &          20181 &      1st Year &  EDUCATION &  BACHELOR OF INFORMATION AND COMMUNICATION TECH... &  ICTs and Education &                            NaN &                NaN &         GRZ-FULLY SPONSORED &         Yes &            NaN &       54.0 &               Pass \\\\\n",
       "2139            &      M &          20181 &      1st Year &  EDUCATION &  BACHELOR OF INFORMATION AND COMMUNICATION TECH... &  ICTs and Education &                        ENGLISH &                5.0 &         GRZ-FULLY SPONSORED &         Yes &            NaN &       54.0 &               Pass \\\\\n",
       "2140            &      M &          20181 &      1st Year &  EDUCATION &  BACHELOR OF INFORMATION AND COMMUNICATION TECH... &  ICTs and Education &                            NaN &                NaN &            GRZ - 75 PERCENT &          No &           0.00 &       67.0 &               Pass \\\\\n",
       "2141            &      M &          20181 &      1st Year &  EDUCATION &  BACHELOR OF INFORMATION AND COMMUNICATION TECH... &  ICTs and Education &                            NaN &                NaN &         GRZ-FULLY SPONSORED &          No &            NaN &       51.0 &               Pass \\\\\n",
       "2142            &      M &          20181 &      1st Year &  EDUCATION &  BACHELOR OF INFORMATION AND COMMUNICATION TECH... &  ICTs and Education &                            NaN &                NaN &         GRZ-FULLY SPONSORED &          No &           0.00 &       63.0 &               Pass \\\\\n",
       "2143            &      F &          20181 &      1st Year &  EDUCATION &  BACHELOR OF INFORMATION AND COMMUNICATION TECH... &  ICTs and Education &                            NaN &                NaN &            GRZ - 75 PERCENT &         Yes &            NaN &       47.0 &               Pass \\\\\n",
       "2144            &      M &          20181 &      1st Year &  EDUCATION &  BACHELOR OF INFORMATION AND COMMUNICATION TECH... &  ICTs and Education &                            NaN &                NaN &              SELF-SPONSORED &          No &            NaN &        NaN &               fail \\\\\n",
       "2145            &      M &          20181 &      1st Year &  EDUCATION &  BACHELOR OF INFORMATION AND COMMUNICATION TECH... &  ICTs and Education &                    MATHEMATICS &                4.0 &         GRZ-FULLY SPONSORED &          No &           0.00 &       53.0 &               Pass \\\\\n",
       "2146            &      M &          20181 &      1st Year &  EDUCATION &  BACHELOR OF INFORMATION AND COMMUNICATION TECH... &  ICTs and Education &                            NaN &                NaN &         GRZ-FULLY SPONSORED &          No &            NaN &       59.0 &               Pass \\\\\n",
       "2147            &      F &          20181 &      1st Year &  EDUCATION &  BACHELOR OF INFORMATION AND COMMUNICATION TECH... &  ICTs and Education &                            NaN &                NaN &            GRZ - 75 PERCENT &         Yes &            NaN &       36.0 &               fail \\\\\n",
       "2148            &      M &          20181 &      1st Year &  EDUCATION &  BACHELOR OF INFORMATION AND COMMUNICATION TECH... &  ICTs and Education &                         FRENCH &                4.0 &         GRZ-FULLY SPONSORED &         Yes &           0.00 &       70.0 &               Pass \\\\\n",
       "2149            &      M &          20181 &      1st Year &  EDUCATION &  BACHELOR OF INFORMATION AND COMMUNICATION TECH... &  ICTs and Education &                            NaN &                NaN &         GRZ-FULLY SPONSORED &         Yes &           0.00 &       66.0 &               Pass \\\\\n",
       "2150            &      F &          20181 &      1st Year &  EDUCATION &  BACHELOR OF INFORMATION AND COMMUNICATION TECH... &  ICTs and Education &                            NaN &                NaN &         GRZ-FULLY SPONSORED &          No &           0.00 &       47.0 &               Pass \\\\\n",
       "2151            &      M &          20181 &      1st Year &  EDUCATION &  BACHELOR OF INFORMATION AND COMMUNICATION TECH... &  ICTs and Education &                    MATHEMATICS &                4.0 &              SELF-SPONSORED &         Yes &           0.00 &       49.0 &               Pass \\\\\n",
       "2152            &      F &          20181 &      1st Year &  EDUCATION &  BACHELOR OF INFORMATION AND COMMUNICATION TECH... &  ICTs and Education &                            NaN &                NaN &  TUITION WAIVER(DEPENDANTS) &          No &           0.00 &       55.0 &               Pass \\\\\n",
       "2153            &      M &          20181 &      1st Year &  EDUCATION &  BACHELOR OF INFORMATION AND COMMUNICATION TECH... &  ICTs and Education &                            NaN &                NaN &  TUITION WAIVER(DEPENDANTS) &          No &            NaN &       45.0 &               Pass \\\\\n",
       "2154            &      M &          20181 &      1st Year &  EDUCATION &  BACHELOR OF INFORMATION AND COMMUNICATION TECH... &  ICTs and Education &                CIVIC EDUCATION &                5.0 &              SELF-SPONSORED &          No &           0.00 &       51.0 &               Pass \\\\\n",
       "2155            &      M &          20181 &      1st Year &  EDUCATION &  BACHELOR OF INFORMATION AND COMMUNICATION TECH... &  ICTs and Education &                            NaN &                NaN &  TUITION WAIVER(DEPENDANTS) &          No &            NaN &        4.0 &               fail \\\\\n",
       "2156            &      M &          20191 &      1st Year &  EDUCATION &  BACHELOR OF INFORMATION AND COMMUNICATION TECH... &  ICTs and Education &                            NaN &                NaN &  TUITION WAIVER(DEPENDANTS) &          No &            NaN &        NaN &               fail \\\\\n",
       "2157            &      F &          20181 &      1st Year &  EDUCATION &  BACHELOR OF INFORMATION AND COMMUNICATION TECH... &  ICTs and Education &                        ENGLISH &                5.0 &              SELF-SPONSORED &          No &           0.00 &        NaN &               fail \\\\\n",
       "2158            &      M &          20181 &      1st Year &  EDUCATION &  BACHELOR OF INFORMATION AND COMMUNICATION TECH... &  ICTs and Education &                    MATHEMATICS &                4.0 &              SELF-SPONSORED &          No &           0.00 &       45.0 &               Pass \\\\\n",
       "2159            &      M &          20181 &      1st Year &  EDUCATION &  BACHELOR OF INFORMATION AND COMMUNICATION TECH... &  ICTs and Education &                            NaN &                NaN &  TUITION WAIVER(DEPENDANTS) &          No &           0.00 &       25.0 &               fail \\\\\n",
       "2160            &      M &          20181 &      1st Year &  EDUCATION &  BACHELOR OF INFORMATION AND COMMUNICATION TECH... &  ICTs and Education &                            NaN &                NaN &              SELF-SPONSORED &          No &           0.00 &       12.0 &               fail \\\\\n",
       "2161            &      M &          20191 &      2nd Year &  EDUCATION &  BACHELOR OF INFORMATION AND COMMUNICATION TECH... &  ICTs and Education &                            NaN &                NaN &              SELF-SPONSORED &          No &           0.00 &       12.0 &               fail \\\\\n",
       "2162            &      M &          20181 &      1st Year &  EDUCATION &  BACHELOR OF INFORMATION AND COMMUNICATION TECH... &  ICTs and Education &                CIVIC EDUCATION &                4.0 &              SELF-SPONSORED &          No &            NaN &       36.0 &               fail \\\\\n",
       "2163            &      M &          20181 &      1st Year &  EDUCATION &  BACHELOR OF INFORMATION AND COMMUNICATION TECH... &  ICTs and Education &                CIVIC EDUCATION &                4.0 &              SELF-SPONSORED &          No &           0.00 &       51.0 &               Pass \\\\\n",
       "2164            &      M &          20191 &      1st Year &  EDUCATION &  BACHELOR OF INFORMATION AND COMMUNICATION TECH... &  ICTs and Education &                CIVIC EDUCATION &                4.0 &         GRZ-FULLY SPONSORED &         Yes &           0.00 &       45.0 &               Pass \\\\\n",
       "2165            &      F &          20191 &      1st Year &  EDUCATION &  BACHELOR OF INFORMATION AND COMMUNICATION TECH... &  ICTs and Education &                            NaN &                NaN &         GRZ-FULLY SPONSORED &          No &           0.00 &       62.0 &               Pass \\\\\n",
       "2166            &      M &          20191 &      1st Year &  EDUCATION &  BACHELOR OF INFORMATION AND COMMUNICATION TECH... &  ICTs and Education &                            NaN &                NaN &         GRZ-FULLY SPONSORED &          No &            NaN &       21.0 &               fail \\\\\n",
       "2167            &      F &          20191 &      1st Year &  EDUCATION &  BACHELOR OF INFORMATION AND COMMUNICATION TECH... &  ICTs and Education &                            NaN &                NaN &            GRZ - 75 PERCENT &          No &            NaN &       41.0 &               fail \\\\\n",
       "2168            &      F &          20191 &      1st Year &  EDUCATION &  BACHELOR OF INFORMATION AND COMMUNICATION TECH... &  ICTs and Education &                CIVIC EDUCATION &                4.0 &         GRZ-FULLY SPONSORED &          No &            NaN &       49.0 &               Pass \\\\\n",
       "2169            &      F &          20191 &      1st Year &  EDUCATION &  BACHELOR OF INFORMATION AND COMMUNICATION TECH... &  ICTs and Education &                CIVIC EDUCATION &                4.0 &         GRZ-FULLY SPONSORED &          No &            NaN &       35.0 &               fail \\\\\n",
       "2170            &      F &          20191 &      1st Year &  EDUCATION &  BACHELOR OF INFORMATION AND COMMUNICATION TECH... &  ICTs and Education &                            NaN &                NaN &  TUITION WAIVER(DEPENDANTS) &         Yes &            NaN &       72.0 &               Pass \\\\\n",
       "2171            &      M &          20191 &      1st Year &  EDUCATION &  BACHELOR OF INFORMATION AND COMMUNICATION TECH... &  ICTs and Education &                            NaN &                NaN &            GRZ - 75 PERCENT &          No &           0.00 &       50.0 &               Pass \\\\\n",
       "2172            &      M &          20191 &      1st Year &  EDUCATION &  BACHELOR OF INFORMATION AND COMMUNICATION TECH... &  ICTs and Education &                            NaN &                NaN &            GRZ - 75 PERCENT &         Yes &            NaN &       56.0 &               Pass \\\\\n",
       "2173            &      F &          20191 &      1st Year &  EDUCATION &  BACHELOR OF INFORMATION AND COMMUNICATION TECH... &  ICTs and Education &                CIVIC EDUCATION &                4.0 &  TUITION WAIVER(DEPENDANTS) &         Yes &            NaN &       45.0 &               Pass \\\\\n",
       "2174            &      M &          20191 &      1st Year &  EDUCATION &  BACHELOR OF INFORMATION AND COMMUNICATION TECH... &  ICTs and Education &                            NaN &                NaN &  TUITION WAIVER(DEPENDANTS) &         Yes &            NaN &       45.0 &               Pass \\\\\n",
       "2175            &      M &          20191 &      1st Year &  EDUCATION &  BACHELOR OF INFORMATION AND COMMUNICATION TECH... &  ICTs and Education &                CIVIC EDUCATION &                4.0 &         GRZ-FULLY SPONSORED &         Yes &           0.03 &       45.0 &               Pass \\\\\n",
       "2176            &      F &          20191 &      1st Year &  EDUCATION &  BACHELOR OF INFORMATION AND COMMUNICATION TECH... &  ICTs and Education &                            NaN &                NaN &              SELF-SPONSORED &          No &            NaN &        NaN &               fail \\\\\n",
       "2177            &      F &          20191 &      1st Year &  EDUCATION &  BACHELOR OF INFORMATION AND COMMUNICATION TECH... &  ICTs and Education &                CIVIC EDUCATION &                4.0 &         GRZ-FULLY SPONSORED &          No &           0.00 &       46.0 &               Pass \\\\\n",
       "2178            &      F &          20191 &      1st Year &  EDUCATION &  BACHELOR OF INFORMATION AND COMMUNICATION TECH... &  ICTs and Education &                CIVIC EDUCATION &                4.0 &         GRZ-FULLY SPONSORED &          No &           0.00 &       54.0 &               Pass \\\\\n",
       "2179            &      M &          20191 &      1st Year &  EDUCATION &  BACHELOR OF INFORMATION AND COMMUNICATION TECH... &  ICTs and Education &                            NaN &                NaN &         GRZ-FULLY SPONSORED &          No &           0.00 &       45.0 &               Pass \\\\\n",
       "2180            &      M &          20191 &      1st Year &  EDUCATION &  BACHELOR OF INFORMATION AND COMMUNICATION TECH... &  ICTs and Education &         ART AND DESIGN STUDIES &                4.0 &              SELF-SPONSORED &          No &           0.00 &       45.0 &               Pass \\\\\n",
       "2181            &      M &          20191 &      1st Year &  EDUCATION &  BACHELOR OF INFORMATION AND COMMUNICATION TECH... &  ICTs and Education &                            NaN &                NaN &  TUITION WAIVER(DEPENDANTS) &         Yes &           0.07 &       26.0 &               fail \\\\\n",
       "2182            &      M &          20191 &      1st Year &  EDUCATION &  BACHELOR OF INFORMATION AND COMMUNICATION TECH... &  ICTs and Education &                            NaN &                NaN &         GRZ-FULLY SPONSORED &          No &            NaN &       65.0 &               Pass \\\\\n",
       "2183            &      M &          20191 &      1st Year &  EDUCATION &  BACHELOR OF INFORMATION AND COMMUNICATION TECH... &  ICTs and Education &                    MATHEMATICS &                4.0 &         GRZ-FULLY SPONSORED &          No &           0.00 &       64.0 &               Pass \\\\\n",
       "2184            &      M &          20191 &      1st Year &  EDUCATION &  BACHELOR OF INFORMATION AND COMMUNICATION TECH... &  ICTs and Education &                    MATHEMATICS &                4.0 &              SELF-SPONSORED &          No &           0.00 &        NaN &               fail \\\\\n",
       "2185            &      F &          20191 &      1st Year &  EDUCATION &  BACHELOR OF INFORMATION AND COMMUNICATION TECH... &  ICTs and Education &                    MATHEMATICS &                4.0 &            GRZ - 75 PERCENT &          No &           0.20 &       54.0 &               Pass \\\\\n",
       "2186            &      M &          20191 &      1st Year &  EDUCATION &  BACHELOR OF INFORMATION AND COMMUNICATION TECH... &  ICTs and Education &                            NaN &                NaN &            GRZ - 75 PERCENT &          No &           0.05 &       58.0 &               Pass \\\\\n",
       "2187            &      F &          20191 &      1st Year &  EDUCATION &  BACHELOR OF INFORMATION AND COMMUNICATION TECH... &  ICTs and Education &                      GEOGRAPHY &                4.0 &              SELF-SPONSORED &          No &           0.05 &       47.0 &               Pass \\\\\n",
       "2188            &      M &          20191 &      1st Year &  EDUCATION &  BACHELOR OF INFORMATION AND COMMUNICATION TECH... &  ICTs and Education &                CIVIC EDUCATION &                4.0 &         GRZ-FULLY SPONSORED &         Yes &           0.11 &       64.0 &               Pass \\\\\n",
       "2189            &      F &          20191 &      1st Year &  EDUCATION &  BACHELOR OF INFORMATION AND COMMUNICATION TECH... &  ICTs and Education &                CIVIC EDUCATION &                4.0 &         GRZ-FULLY SPONSORED &         Yes &           0.00 &       30.0 &               fail \\\\\n",
       "2190            &      F &          20191 &      1st Year &  EDUCATION &  BACHELOR OF INFORMATION AND COMMUNICATION TECH... &  ICTs and Education &                CIVIC EDUCATION &                4.0 &         GRZ-FULLY SPONSORED &          No &            NaN &       52.0 &               Pass \\\\\n",
       "2191            &      M &          20191 &      1st Year &  EDUCATION &  BACHELOR OF INFORMATION AND COMMUNICATION TECH... &  ICTs and Education &                      GEOGRAPHY &                4.0 &         GRZ-FULLY SPONSORED &          No &           0.15 &       45.0 &               Pass \\\\\n",
       "2192            &      M &          20191 &      1st Year &  EDUCATION &  BACHELOR OF INFORMATION AND COMMUNICATION TECH... &  ICTs and Education &                            NaN &                NaN &         GRZ-FULLY SPONSORED &          No &           0.00 &       45.0 &               Pass \\\\\n",
       "2193            &      M &          20191 &      1st Year &  EDUCATION &  BACHELOR OF INFORMATION AND COMMUNICATION TECH... &  ICTs and Education &                CIVIC EDUCATION &                4.0 &              SELF-SPONSORED &          No &            NaN &       45.0 &               Pass \\\\\n",
       "2194            &      F &          20191 &      1st Year &  EDUCATION &  BACHELOR OF INFORMATION AND COMMUNICATION TECH... &  ICTs and Education &                            NaN &                NaN &            GRZ - 75 PERCENT &          No &            NaN &        NaN &               fail \\\\\n",
       "2195            &      F &          20191 &      1st Year &  EDUCATION &  BACHELOR OF INFORMATION AND COMMUNICATION TECH... &  ICTs and Education &                CIVIC EDUCATION &                4.0 &         GRZ-FULLY SPONSORED &         Yes &           0.04 &       39.0 &               fail \\\\\n",
       "2196            &      M &          20191 &      1st Year &  EDUCATION &  BACHELOR OF INFORMATION AND COMMUNICATION TECH... &  ICTs and Education &                            NaN &                NaN &            GRZ - 75 PERCENT &          No &            NaN &       75.0 &               Pass \\\\\n",
       "2197            &      F &          20191 &      1st Year &  EDUCATION &  BACHELOR OF INFORMATION AND COMMUNICATION TECH... &  ICTs and Education &                            NaN &                NaN &         GRZ-FULLY SPONSORED &          No &           0.02 &       46.0 &               Pass \\\\\n",
       "2198            &      M &          20191 &      1st Year &  EDUCATION &  BACHELOR OF INFORMATION AND COMMUNICATION TECH... &  ICTs and Education &                            NaN &                NaN &              SELF-SPONSORED &          No &           0.00 &        NaN &               fail \\\\\n",
       "2199            &      M &          20191 &      1st Year &  EDUCATION &  BACHELOR OF INFORMATION AND COMMUNICATION TECH... &  ICTs and Education &                            NaN &                NaN &            GRZ - 75 PERCENT &          No &            NaN &       57.0 &               Pass \\\\\n",
       "2200            &      M &          20191 &      1st Year &  EDUCATION &  BACHELOR OF INFORMATION AND COMMUNICATION TECH... &  ICTs and Education &                CIVIC EDUCATION &                4.0 &         GRZ-FULLY SPONSORED &          No &           0.01 &       64.0 &               Pass \\\\\n",
       "2201            &      M &          20191 &      1st Year &  EDUCATION &  BACHELOR OF INFORMATION AND COMMUNICATION TECH... &  ICTs and Education &                CIVIC EDUCATION &                4.0 &         GRZ-FULLY SPONSORED &         Yes &           0.03 &       55.0 &               Pass \\\\\n",
       "2202            &      M &          20191 &      1st Year &  EDUCATION &  BACHELOR OF INFORMATION AND COMMUNICATION TECH... &  ICTs and Education &                            NaN &                NaN &         GRZ-FULLY SPONSORED &          No &           0.00 &       59.0 &               Pass \\\\\n",
       "2203            &      M &          20191 &      1st Year &  EDUCATION &  BACHELOR OF INFORMATION AND COMMUNICATION TECH... &  ICTs and Education &                            NaN &                NaN &         GRZ-FULLY SPONSORED &          No &           0.07 &       52.0 &               Pass \\\\\n",
       "2204            &      M &          20191 &      1st Year &  EDUCATION &  BACHELOR OF INFORMATION AND COMMUNICATION TECH... &  ICTs and Education &                            NaN &                NaN &         GRZ-FULLY SPONSORED &          No &           0.00 &       30.0 &               fail \\\\\n",
       "2205            &      F &          20191 &      1st Year &  EDUCATION &  BACHELOR OF INFORMATION AND COMMUNICATION TECH... &  ICTs and Education &                CIVIC EDUCATION &                4.0 &            GRZ - 75 PERCENT &          No &           0.01 &       39.0 &               fail \\\\\n",
       "2206            &      M &          20191 &      1st Year &  EDUCATION &  BACHELOR OF INFORMATION AND COMMUNICATION TECH... &  ICTs and Education &                    MATHEMATICS &                4.0 &            GRZ - 75 PERCENT &         Yes &           0.90 &       61.0 &               Pass \\\\\n",
       "2207            &      M &          20191 &      1st Year &  EDUCATION &  BACHELOR OF INFORMATION AND COMMUNICATION TECH... &  ICTs and Education &                            NaN &                NaN &              SELF-SPONSORED &          No &            NaN &        NaN &               fail \\\\\n",
       "2208            &      M &          20191 &      1st Year &  EDUCATION &  BACHELOR OF INFORMATION AND COMMUNICATION TECH... &  ICTs and Education &                            NaN &                NaN &         GRZ-FULLY SPONSORED &         Yes &           0.00 &       46.0 &               Pass \\\\\n",
       "2209            &      M &          20191 &      1st Year &  EDUCATION &  BACHELOR OF INFORMATION AND COMMUNICATION TECH... &  ICTs and Education &                            NaN &                NaN &         GRZ-FULLY SPONSORED &          No &           0.70 &       67.0 &               Pass \\\\\n",
       "2210            &      M &          20191 &      1st Year &  EDUCATION &  BACHELOR OF INFORMATION AND COMMUNICATION TECH... &  ICTs and Education &                    MATHEMATICS &                4.0 &         GRZ-FULLY SPONSORED &          No &           0.11 &       45.0 &               Pass \\\\\n",
       "2211            &      M &          20191 &      1st Year &  EDUCATION &  BACHELOR OF INFORMATION AND COMMUNICATION TECH... &  ICTs and Education &                    MATHEMATICS &                4.0 &         GRZ-FULLY SPONSORED &          No &           0.00 &       67.0 &               Pass \\\\\n",
       "2212            &      F &          20191 &      1st Year &  EDUCATION &  BACHELOR OF INFORMATION AND COMMUNICATION TECH... &  ICTs and Education &                        ENGLISH &                5.0 &         GRZ-FULLY SPONSORED &          No &           0.00 &       30.0 &               fail \\\\\n",
       "2213            &      M &          20191 &      1st Year &  EDUCATION &  BACHELOR OF INFORMATION AND COMMUNICATION TECH... &  ICTs and Education &                            NaN &                NaN &         GRZ-FULLY SPONSORED &          No &           0.11 &       45.0 &               Pass \\\\\n",
       "2214            &      M &          20191 &      1st Year &  EDUCATION &  BACHELOR OF INFORMATION AND COMMUNICATION TECH... &  ICTs and Education &                            NaN &                NaN &              SELF-SPONSORED &          No &            NaN &        NaN &               fail \\\\\n",
       "2215            &      F &          20191 &      1st Year &  EDUCATION &  BACHELOR OF INFORMATION AND COMMUNICATION TECH... &  ICTs and Education &                    MATHEMATICS &                4.0 &         GRZ-FULLY SPONSORED &         Yes &           0.60 &       54.0 &               Pass \\\\\n",
       "2216            &      F &          20191 &      1st Year &  EDUCATION &  BACHELOR OF INFORMATION AND COMMUNICATION TECH... &  ICTs and Education &                CIVIC EDUCATION &                4.0 &         GRZ-FULLY SPONSORED &         Yes &           0.01 &       45.0 &               Pass \\\\\n",
       "2217            &      F &          20191 &      1st Year &  EDUCATION &  BACHELOR OF INFORMATION AND COMMUNICATION TECH... &  ICTs and Education &                CIVIC EDUCATION &                4.0 &         GRZ-FULLY SPONSORED &         Yes &           3.00 &       45.0 &               Pass \\\\\n",
       "2218            &      M &          20191 &      1st Year &  EDUCATION &  BACHELOR OF INFORMATION AND COMMUNICATION TECH... &  ICTs and Education &                CIVIC EDUCATION &                4.0 &         GRZ-FULLY SPONSORED &          No &           0.00 &       49.0 &               Pass \\\\\n",
       "2219            &      F &          20191 &      1st Year &  EDUCATION &  BACHELOR OF INFORMATION AND COMMUNICATION TECH... &  ICTs and Education &                    MATHEMATICS &                4.0 &         GRZ-FULLY SPONSORED &          No &           0.00 &       26.0 &               fail \\\\\n",
       "2220            &      M &          20191 &      1st Year &  EDUCATION &  BACHELOR OF INFORMATION AND COMMUNICATION TECH... &  ICTs and Education &                            NaN &                NaN &         GRZ-FULLY SPONSORED &          No &           0.90 &       56.0 &               Pass \\\\\n",
       "2221            &      M &          20191 &      1st Year &  EDUCATION &  BACHELOR OF INFORMATION AND COMMUNICATION TECH... &  ICTs and Education &                CIVIC EDUCATION &                4.0 &              SELF-SPONSORED &          No &           0.00 &       48.0 &               Pass \\\\\n",
       "2222            &      M &          20191 &      1st Year &  EDUCATION &  BACHELOR OF INFORMATION AND COMMUNICATION TECH... &  ICTs and Education &                    MATHEMATICS &                4.0 &  TUITION WAIVER(DEPENDANTS) &         Yes &           7.00 &       47.0 &               Pass \\\\\n",
       "2223            &      M &          20191 &      1st Year &  EDUCATION &  BACHELOR OF INFORMATION AND COMMUNICATION TECH... &  ICTs and Education &                CIVIC EDUCATION &                4.0 &              SELF-SPONSORED &          No &           0.07 &       38.0 &               fail \\\\\n",
       "2224            &      M &          20191 &      1st Year &  EDUCATION &  BACHELOR OF INFORMATION AND COMMUNICATION TECH... &  ICTs and Education &                        ENGLISH &                4.0 &              SELF-SPONSORED &          No &           0.05 &       45.0 &               Pass \\\\\n",
       "2225            &      F &          20191 &      1st Year &  EDUCATION &  BACHELOR OF INFORMATION AND COMMUNICATION TECH... &  ICTs and Education &                CIVIC EDUCATION &                4.0 &            GRZ - 75 PERCENT &          No &           0.02 &       58.0 &               Pass \\\\\n",
       "2226            &      M &          20191 &      1st Year &  EDUCATION &  BACHELOR OF INFORMATION AND COMMUNICATION TECH... &  ICTs and Education &                            NaN &                NaN &              SELF-SPONSORED &          No &           0.05 &       35.0 &               fail \\\\\n",
       "2227            &      F &          20191 &      1st Year &  EDUCATION &  BACHELOR OF INFORMATION AND COMMUNICATION TECH... &  ICTs and Education &                CIVIC EDUCATION &                4.0 &              SELF-SPONSORED &          No &           0.00 &       45.0 &               Pass \\\\\n",
       "2228            &      M &          20191 &      1st Year &  EDUCATION &  BACHELOR OF INFORMATION AND COMMUNICATION TECH... &  ICTs and Education &                        HISTORY &                4.0 &              SELF-SPONSORED &          No &           0.00 &       46.0 &               Pass \\\\\n",
       "2229            &      M &          20201 &      1st Year &  EDUCATION &  BACHELOR OF INFORMATION AND COMMUNICATION TECH... &  ICTs and Education &                        HISTORY &                4.0 &                         NaN &          No &           0.00 &        NaN &               fail \\\\\n",
       "2230            &      M &          20191 &      1st Year &  EDUCATION &  BACHELOR OF INFORMATION AND COMMUNICATION TECH... &  ICTs and Education &  PHYSICAL EDUCATION AND SPORTS &                4.0 &              SELF-SPONSORED &          No &           0.00 &        NaN &               fail \\\\\n",
       "2231            &      M &          20191 &      1st Year &  EDUCATION &  BACHELOR OF INFORMATION AND COMMUNICATION TECH... &  ICTs and Education &                CIVIC EDUCATION &                4.0 &  TUITION WAIVER(DEPENDANTS) &          No &           0.00 &       24.0 &               fail \\\\\n",
       "2232            &      M &          20191 &      1st Year &  EDUCATION &  BACHELOR OF INFORMATION AND COMMUNICATION TECH... &  ICTs and Education &                            NaN &                NaN &              SELF-SPONSORED &          No &            NaN &        NaN &               fail \\\\\n",
       "2233            &      M &          20191 &      1st Year &  EDUCATION &  BACHELOR OF INFORMATION AND COMMUNICATION TECH... &  ICTs and Education &                CIVIC EDUCATION &                4.0 &  TUITION WAIVER(DEPENDANTS) &          No &           0.01 &       45.0 &               Pass \\\\\n",
       "2234            &      M &          20191 &      1st Year &  EDUCATION &  BACHELOR OF INFORMATION AND COMMUNICATION TECH... &  ICTs and Education &                            NaN &                NaN &  TUITION WAIVER(DEPENDANTS) &          No &           0.02 &       55.0 &               Pass \\\\\n",
       "2235            &      M &          20201 &      1st Year &  EDUCATION &  BACHELOR OF INFORMATION AND COMMUNICATION TECH... &  ICTs and Education &                    MATHEMATICS &                4.0 &         GRZ-FULLY SPONSORED &          No &            NaN &        NaN &               fail \\\\\n",
       "2236            &      F &          20201 &      1st Year &  EDUCATION &  BACHELOR OF INFORMATION AND COMMUNICATION TECH... &  ICTs and Education &                CIVIC EDUCATION &                4.0 &         GRZ-FULLY SPONSORED &         Yes &            NaN &        NaN &               fail \\\\\n",
       "2237            &      M &          20201 &      1st Year &  EDUCATION &  BACHELOR OF INFORMATION AND COMMUNICATION TECH... &  ICTs and Education &                    MATHEMATICS &                4.0 &         GRZ-FULLY SPONSORED &         Yes &           0.13 &       45.0 &               Pass \\\\\n",
       "2238            &      F &          20201 &      1st Year &  EDUCATION &  BACHELOR OF INFORMATION AND COMMUNICATION TECH... &  ICTs and Education &                        ENGLISH &                5.0 &         GRZ-FULLY SPONSORED &         Yes &            NaN &        NaN &               fail \\\\\n",
       "2239            &      M &          20201 &      1st Year &  EDUCATION &  BACHELOR OF INFORMATION AND COMMUNICATION TECH... &  ICTs and Education &                    MATHEMATICS &                4.0 &         GRZ-FULLY SPONSORED &         Yes &            NaN &        NaN &               fail \\\\\n",
       "2240            &      M &          20201 &      1st Year &  EDUCATION &  BACHELOR OF INFORMATION AND COMMUNICATION TECH... &  ICTs and Education &                    MATHEMATICS &                4.0 &         GRZ-FULLY SPONSORED &         Yes &           0.03 &       54.0 &               Pass \\\\\n",
       "2241            &      M &          20201 &      1st Year &  EDUCATION &  BACHELOR OF INFORMATION AND COMMUNICATION TECH... &  ICTs and Education &                CIVIC EDUCATION &                4.0 &         GRZ-FULLY SPONSORED &         Yes &           0.07 &       35.0 &               fail \\\\\n",
       "2242            &      M &          20201 &      1st Year &  EDUCATION &  BACHELOR OF INFORMATION AND COMMUNICATION TECH... &  ICTs and Education &                CIVIC EDUCATION &                4.0 &         GRZ-FULLY SPONSORED &         Yes &            NaN &        NaN &               fail \\\\\n",
       "2243            &      M &          20201 &      1st Year &  EDUCATION &  BACHELOR OF INFORMATION AND COMMUNICATION TECH... &  ICTs and Education &                      GEOGRAPHY &                4.0 &         GRZ-FULLY SPONSORED &          No &           0.03 &       51.0 &               Pass \\\\\n",
       "2244            &      M &          20201 &      1st Year &  EDUCATION &  BACHELOR OF INFORMATION AND COMMUNICATION TECH... &  ICTs and Education &                CIVIC EDUCATION &                4.0 &         GRZ-FULLY SPONSORED &          No &            NaN &        NaN &               fail \\\\\n",
       "2245            &      M &          20201 &      1st Year &  EDUCATION &  BACHELOR OF INFORMATION AND COMMUNICATION TECH... &  ICTs and Education &                CIVIC EDUCATION &                4.0 &         GRZ-FULLY SPONSORED &         Yes &           0.11 &       57.0 &               Pass \\\\\n",
       "2246            &      M &          20201 &      1st Year &  EDUCATION &  BACHELOR OF INFORMATION AND COMMUNICATION TECH... &  ICTs and Education &                        HISTORY &                4.0 &         GRZ-FULLY SPONSORED &         Yes &            NaN &        NaN &               fail \\\\\n",
       "2247            &      M &          20201 &      1st Year &  EDUCATION &  BACHELOR OF INFORMATION AND COMMUNICATION TECH... &  ICTs and Education &                CIVIC EDUCATION &                4.0 &         GRZ-FULLY SPONSORED &         Yes &            NaN &        NaN &               fail \\\\\n",
       "2248            &      M &          20201 &      1st Year &  EDUCATION &  BACHELOR OF INFORMATION AND COMMUNICATION TECH... &  ICTs and Education &                    MATHEMATICS &                4.0 &         GRZ-FULLY SPONSORED &         Yes &            NaN &        NaN &               fail \\\\\n",
       "2249            &      M &          20201 &      1st Year &  EDUCATION &  BACHELOR OF INFORMATION AND COMMUNICATION TECH... &  ICTs and Education &                    MATHEMATICS &                4.0 &         GRZ-FULLY SPONSORED &          No &            NaN &        NaN &               fail \\\\\n",
       "2250            &      M &          20201 &      1st Year &  EDUCATION &  BACHELOR OF INFORMATION AND COMMUNICATION TECH... &  ICTs and Education &                            NaN &                NaN &         GRZ-FULLY SPONSORED &         Yes &           0.10 &       46.0 &               Pass \\\\\n",
       "2251            &      F &          20201 &      1st Year &  EDUCATION &  BACHELOR OF INFORMATION AND COMMUNICATION TECH... &  ICTs and Education &                            NaN &                NaN &         GRZ-FULLY SPONSORED &         Yes &           0.17 &       48.0 &               Pass \\\\\n",
       "2252            &      M &          20201 &      1st Year &  EDUCATION &  BACHELOR OF INFORMATION AND COMMUNICATION TECH... &  ICTs and Education &                        ENGLISH &                5.0 &         GRZ-FULLY SPONSORED &          No &           0.10 &       38.0 &               fail \\\\\n",
       "2253            &      F &          20201 &      1st Year &  EDUCATION &  BACHELOR OF INFORMATION AND COMMUNICATION TECH... &  ICTs and Education &                        ENGLISH &                5.0 &         GRZ-FULLY SPONSORED &         Yes &           0.00 &       37.0 &               fail \\\\\n",
       "2254            &      M &          20201 &      1st Year &  EDUCATION &  BACHELOR OF INFORMATION AND COMMUNICATION TECH... &  ICTs and Education &                CIVIC EDUCATION &                4.0 &         GRZ-FULLY SPONSORED &         Yes &           0.25 &       45.0 &               Pass \\\\\n",
       "2255            &      F &          20201 &      1st Year &  EDUCATION &  BACHELOR OF INFORMATION AND COMMUNICATION TECH... &  ICTs and Education &                CIVIC EDUCATION &                4.0 &         GRZ-FULLY SPONSORED &         Yes &            NaN &        NaN &               fail \\\\\n",
       "2256            &      F &          20201 &      1st Year &  EDUCATION &  BACHELOR OF INFORMATION AND COMMUNICATION TECH... &  ICTs and Education &                        HISTORY &                4.0 &         GRZ-FULLY SPONSORED &         Yes &           0.07 &       32.0 &               fail \\\\\n",
       "2257            &      M &          20201 &      1st Year &  EDUCATION &  BACHELOR OF INFORMATION AND COMMUNICATION TECH... &  ICTs and Education &              RELIGIOUS STUDIES &                4.0 &         GRZ-FULLY SPONSORED &         Yes &            NaN &        NaN &               fail \\\\\n",
       "2258            &      M &          20201 &      1st Year &  EDUCATION &  BACHELOR OF INFORMATION AND COMMUNICATION TECH... &  ICTs and Education &                      GEOGRAPHY &                4.0 &         GRZ-FULLY SPONSORED &         Yes &            NaN &        NaN &               fail \\\\\n",
       "2259            &      F &          20201 &      1st Year &  EDUCATION &  BACHELOR OF INFORMATION AND COMMUNICATION TECH... &  ICTs and Education &                CIVIC EDUCATION &                4.0 &         GRZ-FULLY SPONSORED &         Yes &           0.02 &       34.0 &               fail \\\\\n",
       "2260            &      M &          20201 &      1st Year &  EDUCATION &  BACHELOR OF INFORMATION AND COMMUNICATION TECH... &  ICTs and Education &                CIVIC EDUCATION &                4.0 &         GRZ-FULLY SPONSORED &         Yes &           0.15 &       53.0 &               Pass \\\\\n",
       "2261            &      M &          20201 &      1st Year &  EDUCATION &  BACHELOR OF INFORMATION AND COMMUNICATION TECH... &  ICTs and Education &                CIVIC EDUCATION &                4.0 &         GRZ-FULLY SPONSORED &         Yes &            NaN &        NaN &               fail \\\\\n",
       "2262            &      M &          20201 &      1st Year &  EDUCATION &  BACHELOR OF INFORMATION AND COMMUNICATION TECH... &  ICTs and Education &                CIVIC EDUCATION &                4.0 &         GRZ-FULLY SPONSORED &         Yes &            NaN &        NaN &               fail \\\\\n",
       "2263            &      M &          20201 &      1st Year &  EDUCATION &  BACHELOR OF INFORMATION AND COMMUNICATION TECH... &  ICTs and Education &                        ENGLISH &                5.0 &  TUITION WAIVER(DEPENDANTS) &         Yes &            NaN &        NaN &               fail \\\\\n",
       "2264            &      M &          20201 &      1st Year &  EDUCATION &  BACHELOR OF INFORMATION AND COMMUNICATION TECH... &  ICTs and Education &                CIVIC EDUCATION &                4.0 &         GRZ-FULLY SPONSORED &         Yes &           0.10 &       43.0 &               fail \\\\\n",
       "2265            &      M &          20201 &      1st Year &  EDUCATION &  BACHELOR OF INFORMATION AND COMMUNICATION TECH... &  ICTs and Education &                         FRENCH &                4.0 &         GRZ-FULLY SPONSORED &          No &           0.10 &       45.0 &               Pass \\\\\n",
       "2266            &      M &          20201 &      1st Year &  EDUCATION &  BACHELOR OF INFORMATION AND COMMUNICATION TECH... &  ICTs and Education &                CIVIC EDUCATION &                4.0 &         GRZ-FULLY SPONSORED &         Yes &            NaN &        NaN &               fail \\\\\n",
       "2267            &      M &          20201 &      1st Year &  EDUCATION &  BACHELOR OF INFORMATION AND COMMUNICATION TECH... &  ICTs and Education &                CIVIC EDUCATION &                4.0 &         GRZ-FULLY SPONSORED &          No &            NaN &        NaN &               fail \\\\\n",
       "2268            &      M &          20201 &      1st Year &  EDUCATION &  BACHELOR OF INFORMATION AND COMMUNICATION TECH... &  ICTs and Education &                CIVIC EDUCATION &                4.0 &              SELF-SPONSORED &         Yes &            NaN &        NaN &               fail \\\\\n",
       "2269            &      M &          20201 &      1st Year &  EDUCATION &  BACHELOR OF INFORMATION AND COMMUNICATION TECH... &  ICTs and Education &                    MATHEMATICS &                4.0 &         GRZ-FULLY SPONSORED &         Yes &            NaN &        NaN &               fail \\\\\n",
       "2270            &      M &          20201 &      1st Year &  EDUCATION &  BACHELOR OF INFORMATION AND COMMUNICATION TECH... &  ICTs and Education &                            NaN &                NaN &  TUITION WAIVER(DEPENDANTS) &         Yes &            NaN &        NaN &               fail \\\\\n",
       "2271            &      F &          20201 &      1st Year &  EDUCATION &  BACHELOR OF INFORMATION AND COMMUNICATION TECH... &  ICTs and Education &                        ENGLISH &                5.0 &         GRZ-FULLY SPONSORED &         Yes &            NaN &        NaN &               fail \\\\\n",
       "2272            &      M &          20201 &      1st Year &  EDUCATION &  BACHELOR OF INFORMATION AND COMMUNICATION TECH... &  ICTs and Education &                CIVIC EDUCATION &                4.0 &  TUITION WAIVER(DEPENDANTS) &         Yes &           0.02 &       56.0 &               Pass \\\\\n",
       "2273            &      M &          20201 &      1st Year &  EDUCATION &  BACHELOR OF INFORMATION AND COMMUNICATION TECH... &  ICTs and Education &                CIVIC EDUCATION &                4.0 &         GRZ-FULLY SPONSORED &          No &           0.30 &       47.0 &               Pass \\\\\n",
       "2274            &      F &          20201 &      1st Year &  EDUCATION &  BACHELOR OF INFORMATION AND COMMUNICATION TECH... &  ICTs and Education &                         FRENCH &                4.0 &              SELF-SPONSORED &          No &           0.01 &       35.0 &               fail \\\\\n",
       "2275            &      M &          20201 &      1st Year &  EDUCATION &  BACHELOR OF INFORMATION AND COMMUNICATION TECH... &  ICTs and Education &                    MATHEMATICS &                4.0 &         GRZ-FULLY SPONSORED &         Yes &           0.20 &       38.0 &               fail \\\\\n",
       "2276            &      F &          20201 &      1st Year &  EDUCATION &  BACHELOR OF INFORMATION AND COMMUNICATION TECH... &  ICTs and Education &                      GEOGRAPHY &                4.0 &              SELF-SPONSORED &          No &            NaN &        NaN &               fail \\\\\n",
       "\\end{longtable}\n"
      ],
      "text/plain": [
       "                Gender  Academic Year Year Of Study     School  \\\n",
       "Computer Number                                                  \n",
       "2000                 F          20201      1st Year  EDUCATION   \n",
       "2001                 M          20171      1st Year  EDUCATION   \n",
       "2002                 M          20181      1st Year  EDUCATION   \n",
       "2003                 M          20181      1st Year  EDUCATION   \n",
       "2004                 M          20171      1st Year  EDUCATION   \n",
       "...                ...            ...           ...        ...   \n",
       "2272                 M          20201      1st Year  EDUCATION   \n",
       "2273                 M          20201      1st Year  EDUCATION   \n",
       "2274                 F          20201      1st Year  EDUCATION   \n",
       "2275                 M          20201      1st Year  EDUCATION   \n",
       "2276                 F          20201      1st Year  EDUCATION   \n",
       "\n",
       "                                                           Program  \\\n",
       "Computer Number                                                      \n",
       "2000             BACHELOR OF INFORMATION AND COMMUNICATION TECH...   \n",
       "2001             BACHELOR OF INFORMATION AND COMMUNICATION TECH...   \n",
       "2002             BACHELOR OF INFORMATION AND COMMUNICATION TECH...   \n",
       "2003             BACHELOR OF INFORMATION AND COMMUNICATION TECH...   \n",
       "2004             BACHELOR OF INFORMATION AND COMMUNICATION TECH...   \n",
       "...                                                            ...   \n",
       "2272             BACHELOR OF INFORMATION AND COMMUNICATION TECH...   \n",
       "2273             BACHELOR OF INFORMATION AND COMMUNICATION TECH...   \n",
       "2274             BACHELOR OF INFORMATION AND COMMUNICATION TECH...   \n",
       "2275             BACHELOR OF INFORMATION AND COMMUNICATION TECH...   \n",
       "2276             BACHELOR OF INFORMATION AND COMMUNICATION TECH...   \n",
       "\n",
       "                              Major               Minor  Number of courses  \\\n",
       "Computer Number                                                              \n",
       "2000             ICTs and Education         MATHEMATICS                4.0   \n",
       "2001             ICTs and Education     CIVIC EDUCATION                5.0   \n",
       "2002             ICTs and Education                 NaN                NaN   \n",
       "2003             ICTs and Education   RELIGIOUS STUDIES                4.0   \n",
       "2004             ICTs and Education  CURRICULUM STUDIES                4.0   \n",
       "...                             ...                 ...                ...   \n",
       "2272             ICTs and Education     CIVIC EDUCATION                4.0   \n",
       "2273             ICTs and Education     CIVIC EDUCATION                4.0   \n",
       "2274             ICTs and Education              FRENCH                4.0   \n",
       "2275             ICTs and Education         MATHEMATICS                4.0   \n",
       "2276             ICTs and Education           GEOGRAPHY                4.0   \n",
       "\n",
       "                                    Sponsor Accomodated  Moodle logins  \\\n",
       "Computer Number                                                          \n",
       "2000             TUITION WAIVER(DEPENDANTS)          No            NaN   \n",
       "2001             TUITION WAIVER(DEPENDANTS)          No            NaN   \n",
       "2002                         SELF-SPONSORED          No            NaN   \n",
       "2003                         SELF-SPONSORED          No            NaN   \n",
       "2004                    GRZ-FULLY SPONSORED          No            NaN   \n",
       "...                                     ...         ...            ...   \n",
       "2272             TUITION WAIVER(DEPENDANTS)         Yes           0.02   \n",
       "2273                    GRZ-FULLY SPONSORED          No           0.30   \n",
       "2274                         SELF-SPONSORED          No           0.01   \n",
       "2275                    GRZ-FULLY SPONSORED         Yes           0.20   \n",
       "2276                         SELF-SPONSORED          No            NaN   \n",
       "\n",
       "                 CA + Exam Examination status  \n",
       "Computer Number                                \n",
       "2000                   NaN               fail  \n",
       "2001                  64.0               Pass  \n",
       "2002                   NaN               fail  \n",
       "2003                   NaN               fail  \n",
       "2004                  45.0               Pass  \n",
       "...                    ...                ...  \n",
       "2272                  56.0               Pass  \n",
       "2273                  47.0               Pass  \n",
       "2274                  35.0               fail  \n",
       "2275                  38.0               fail  \n",
       "2276                   NaN               fail  \n",
       "\n",
       "[277 rows x 13 columns]"
      ]
     },
     "execution_count": 572,
     "metadata": {},
     "output_type": "execute_result"
    }
   ],
   "source": [
    "x=df\n",
    "x"
   ]
  },
  {
   "cell_type": "markdown",
   "metadata": {},
   "source": [
    "# Modeling"
   ]
  },
  {
   "cell_type": "code",
   "execution_count": null,
   "metadata": {},
   "outputs": [],
   "source": [
    "df_gender_exam_input = df[[\"Gender\",\"Examination status\"]]"
   ]
  },
  {
   "cell_type": "code",
   "execution_count": null,
   "metadata": {},
   "outputs": [],
   "source": [
    "df_gender_exam_input"
   ]
  },
  {
   "cell_type": "code",
   "execution_count": null,
   "metadata": {},
   "outputs": [],
   "source": [
    "#Apply label encodes to X"
   ]
  },
  {
   "cell_type": "code",
   "execution_count": null,
   "metadata": {},
   "outputs": [],
   "source": [
    "df_gender_exam_input.replace({'M': 1, 'F': 0}, inplace=True)"
   ]
  },
  {
   "cell_type": "code",
   "execution_count": null,
   "metadata": {},
   "outputs": [],
   "source": [
    "df_gender_exam_input"
   ]
  },
  {
   "cell_type": "code",
   "execution_count": null,
   "metadata": {},
   "outputs": [],
   "source": [
    "#Apply label encodes to y"
   ]
  },
  {
   "cell_type": "code",
   "execution_count": null,
   "metadata": {},
   "outputs": [],
   "source": [
    "df_gender_exam_input.replace({\"Pass\": 1, \"fail\": 0}, inplace=True)"
   ]
  },
  {
   "cell_type": "code",
   "execution_count": null,
   "metadata": {},
   "outputs": [],
   "source": [
    "df_gender_exam_input"
   ]
  },
  {
   "cell_type": "markdown",
   "metadata": {},
   "source": [
    "# Create train/test sets"
   ]
  },
  {
   "cell_type": "code",
   "execution_count": null,
   "metadata": {},
   "outputs": [],
   "source": [
    "#Input x"
   ]
  },
  {
   "cell_type": "code",
   "execution_count": null,
   "metadata": {},
   "outputs": [],
   "source": [
    "x=np.array(df[\"Gender\"]).reshape(-1,1)"
   ]
  },
  {
   "cell_type": "code",
   "execution_count": null,
   "metadata": {},
   "outputs": [],
   "source": [
    "x.shape"
   ]
  },
  {
   "cell_type": "code",
   "execution_count": null,
   "metadata": {},
   "outputs": [],
   "source": [
    "#Output y"
   ]
  },
  {
   "cell_type": "code",
   "execution_count": null,
   "metadata": {},
   "outputs": [],
   "source": [
    "y=np.array(df[\"Examination status\"]).reshape(-1,1)"
   ]
  },
  {
   "cell_type": "code",
   "execution_count": null,
   "metadata": {},
   "outputs": [],
   "source": [
    "y.shape"
   ]
  },
  {
   "cell_type": "code",
   "execution_count": null,
   "metadata": {},
   "outputs": [],
   "source": [
    "#Splitting"
   ]
  },
  {
   "cell_type": "code",
   "execution_count": null,
   "metadata": {},
   "outputs": [],
   "source": [
    "x_train,x_test, y_train, y_test = train_test_split(df_gender_exam_input[\"Gender\"],\n",
    "   df_gender_exam_input [\"Examination status\"], test_size=0.20)"
   ]
  },
  {
   "cell_type": "code",
   "execution_count": null,
   "metadata": {},
   "outputs": [],
   "source": [
    "len(x_train)\n",
    "len(y_train)"
   ]
  },
  {
   "cell_type": "code",
   "execution_count": null,
   "metadata": {},
   "outputs": [],
   "source": [
    "len(x_test)\n",
    "len(y_test)"
   ]
  },
  {
   "cell_type": "markdown",
   "metadata": {},
   "source": [
    "# Model implementation using decision tree classifier"
   ]
  },
  {
   "cell_type": "code",
   "execution_count": null,
   "metadata": {},
   "outputs": [],
   "source": [
    "Gender = DecisionTreeClassifier()"
   ]
  },
  {
   "cell_type": "code",
   "execution_count": null,
   "metadata": {},
   "outputs": [],
   "source": [
    "Gender.fit (x_train.values.reshape(-1,1), y_train.values.reshape(-1,1))"
   ]
  },
  {
   "cell_type": "markdown",
   "metadata": {},
   "source": [
    "# Making predictions using training and test data"
   ]
  },
  {
   "cell_type": "code",
   "execution_count": null,
   "metadata": {},
   "outputs": [],
   "source": [
    "#What the model has predicted"
   ]
  },
  {
   "cell_type": "code",
   "execution_count": null,
   "metadata": {},
   "outputs": [],
   "source": [
    "Gender.predict(x_test.values.reshape(-1,1))"
   ]
  },
  {
   "cell_type": "code",
   "execution_count": null,
   "metadata": {},
   "outputs": [],
   "source": [
    "#The actual values"
   ]
  },
  {
   "cell_type": "code",
   "execution_count": null,
   "metadata": {},
   "outputs": [],
   "source": [
    "y_test.values"
   ]
  },
  {
   "cell_type": "markdown",
   "metadata": {},
   "source": [
    "# Model accuracy for gender"
   ]
  },
  {
   "cell_type": "code",
   "execution_count": null,
   "metadata": {},
   "outputs": [],
   "source": [
    "Gender.score(x_test.values.reshape(-1,1),y_test.values.reshape(-1,1))"
   ]
  },
  {
   "cell_type": "markdown",
   "metadata": {},
   "source": [
    "# Confusion matrix"
   ]
  },
  {
   "cell_type": "code",
   "execution_count": null,
   "metadata": {},
   "outputs": [],
   "source": [
    "Gender.predict(x_test.values.reshape(-1,1))"
   ]
  },
  {
   "cell_type": "code",
   "execution_count": null,
   "metadata": {},
   "outputs": [],
   "source": [
    "y_test.values"
   ]
  },
  {
   "cell_type": "code",
   "execution_count": null,
   "metadata": {},
   "outputs": [],
   "source": [
    "#confusion_matrix(Gender.predict(x_test.values.reshape(-1,1),y_test.values)) "
   ]
  },
  {
   "cell_type": "markdown",
   "metadata": {},
   "source": [
    "# Classification report"
   ]
  },
  {
   "cell_type": "code",
   "execution_count": null,
   "metadata": {},
   "outputs": [],
   "source": [
    "target_names=['B+','B','C+','C','D+']"
   ]
  },
  {
   "cell_type": "code",
   "execution_count": null,
   "metadata": {},
   "outputs": [],
   "source": [
    "#print(classification_report(y_test, Gender.predict(x_test.values.reshape(1,-1))),target_names=target_names)"
   ]
  },
  {
   "cell_type": "markdown",
   "metadata": {},
   "source": [
    "# Loading the dataset for minor"
   ]
  },
  {
   "cell_type": "code",
   "execution_count": null,
   "metadata": {},
   "outputs": [],
   "source": [
    "df"
   ]
  },
  {
   "cell_type": "markdown",
   "metadata": {},
   "source": [
    "# Data preparation"
   ]
  },
  {
   "cell_type": "code",
   "execution_count": null,
   "metadata": {},
   "outputs": [],
   "source": [
    "#Checking for nul values"
   ]
  },
  {
   "cell_type": "code",
   "execution_count": null,
   "metadata": {},
   "outputs": [],
   "source": [
    "df.isnull()"
   ]
  },
  {
   "cell_type": "markdown",
   "metadata": {},
   "source": [
    "# Exploratory data analysis"
   ]
  },
  {
   "cell_type": "code",
   "execution_count": null,
   "metadata": {},
   "outputs": [],
   "source": [
    "df[\"Minor\"].unique()"
   ]
  },
  {
   "cell_type": "code",
   "execution_count": null,
   "metadata": {},
   "outputs": [],
   "source": [
    "df[\"Minor\"].count()"
   ]
  },
  {
   "cell_type": "code",
   "execution_count": null,
   "metadata": {},
   "outputs": [],
   "source": [
    "df[\"Minor\"].value_counts()"
   ]
  },
  {
   "cell_type": "code",
   "execution_count": null,
   "metadata": {},
   "outputs": [],
   "source": [
    "df[\"Minor\"].value_counts().plot(kind=\"barh\",title=\"Minor Courses\")"
   ]
  },
  {
   "cell_type": "markdown",
   "metadata": {},
   "source": [
    "# Data traansformation using one hot encoding"
   ]
  },
  {
   "cell_type": "code",
   "execution_count": null,
   "metadata": {},
   "outputs": [],
   "source": [
    "def fxn_quiz_status(var_grade):\n",
    "    if (var_grade >= 90):\n",
    "        return \"A+\"\n",
    "    elif (var_grade >= 80):\n",
    "          return (\"A\")\n",
    "    elif (var_grade >= 70):\n",
    "          return (\"B+\")\n",
    "    elif (var_grade >= 60):\n",
    "          return (\"B\")\n",
    "    elif (var_grade >= 50):\n",
    "          return (\"C+\")\n",
    "    elif (var_grade >= 45):\n",
    "          return (\"C\")\n",
    "    elif (var_grade >= 40):\n",
    "          return (\"D+\")\n",
    "    else:\n",
    "          return (\"D\")"
   ]
  },
  {
   "cell_type": "code",
   "execution_count": null,
   "metadata": {},
   "outputs": [],
   "source": [
    "df[\"Examination status\"] = df[\"CA + Exam\"].apply(fxn_quiz_status)"
   ]
  },
  {
   "cell_type": "code",
   "execution_count": null,
   "metadata": {},
   "outputs": [],
   "source": [
    "df"
   ]
  },
  {
   "cell_type": "markdown",
   "metadata": {},
   "source": [
    "# Modeling"
   ]
  },
  {
   "cell_type": "code",
   "execution_count": null,
   "metadata": {},
   "outputs": [],
   "source": [
    "df_minor_exam_input = df[[\"Minor\",\"Examination status\"]]"
   ]
  },
  {
   "cell_type": "code",
   "execution_count": null,
   "metadata": {},
   "outputs": [],
   "source": [
    "df_minor_exam_input.head(110)"
   ]
  },
  {
   "cell_type": "code",
   "execution_count": null,
   "metadata": {},
   "outputs": [],
   "source": [
    "df_minor_exam_input=pd.get_dummies(df_minor_exam_input,columns=[\"Minor\"])"
   ]
  },
  {
   "cell_type": "code",
   "execution_count": null,
   "metadata": {},
   "outputs": [],
   "source": [
    "df_minor_exam_input"
   ]
  },
  {
   "cell_type": "code",
   "execution_count": null,
   "metadata": {},
   "outputs": [],
   "source": [
    "#Apply label encoders to labels"
   ]
  },
  {
   "cell_type": "code",
   "execution_count": null,
   "metadata": {},
   "outputs": [],
   "source": [
    "minor_exam_encoder=LabelEncoder()"
   ]
  },
  {
   "cell_type": "code",
   "execution_count": null,
   "metadata": {},
   "outputs": [],
   "source": [
    "minor_exam_encoder.fit(df_minor_exam_input[\"Examination status\"])"
   ]
  },
  {
   "cell_type": "code",
   "execution_count": null,
   "metadata": {},
   "outputs": [],
   "source": [
    "minor_exam_encoder.classes_"
   ]
  },
  {
   "cell_type": "code",
   "execution_count": null,
   "metadata": {},
   "outputs": [],
   "source": [
    "minor_exam_encoder.fit(df_minor_exam_input[\"Examination status\"])"
   ]
  },
  {
   "cell_type": "code",
   "execution_count": null,
   "metadata": {},
   "outputs": [],
   "source": [
    "minor_exam_encoder.classes_"
   ]
  },
  {
   "cell_type": "code",
   "execution_count": null,
   "metadata": {},
   "outputs": [],
   "source": [
    "df_minor_exam_input.head(60)"
   ]
  },
  {
   "cell_type": "code",
   "execution_count": null,
   "metadata": {},
   "outputs": [],
   "source": [
    "df_minor_exam_input[\"ExaminationGrade\"]=minor_exam_encoder.transform(df_minor_exam_input[\"Examination status\"])"
   ]
  },
  {
   "cell_type": "code",
   "execution_count": null,
   "metadata": {},
   "outputs": [],
   "source": [
    "df_minor_exam_input"
   ]
  },
  {
   "cell_type": "markdown",
   "metadata": {},
   "source": [
    "# Create/train tests"
   ]
  },
  {
   "cell_type": "code",
   "execution_count": null,
   "metadata": {},
   "outputs": [],
   "source": [
    "df_minor_exam_input.iloc[:, 1:10]"
   ]
  },
  {
   "cell_type": "code",
   "execution_count": null,
   "metadata": {},
   "outputs": [],
   "source": [
    "#Splitting"
   ]
  },
  {
   "cell_type": "code",
   "execution_count": null,
   "metadata": {},
   "outputs": [],
   "source": [
    "x_train, x_test, y_train, y_test = train_test_split(df_minor_exam_input.iloc[:, 1:10],\n",
    "df_minor_exam_input[\"ExaminationGrade\"], test_size=0.20)"
   ]
  },
  {
   "cell_type": "code",
   "execution_count": null,
   "metadata": {},
   "outputs": [],
   "source": [
    "# x input"
   ]
  },
  {
   "cell_type": "code",
   "execution_count": null,
   "metadata": {},
   "outputs": [],
   "source": [
    "x=np.array(df[\"Minor\"]).reshape(-1,1)"
   ]
  },
  {
   "cell_type": "code",
   "execution_count": null,
   "metadata": {},
   "outputs": [],
   "source": [
    "x.shape"
   ]
  },
  {
   "cell_type": "code",
   "execution_count": null,
   "metadata": {},
   "outputs": [],
   "source": [
    "# Y output"
   ]
  },
  {
   "cell_type": "code",
   "execution_count": null,
   "metadata": {},
   "outputs": [],
   "source": [
    "y=np.array(df[\"Examination status\"]).reshape(-1,1)"
   ]
  },
  {
   "cell_type": "code",
   "execution_count": null,
   "metadata": {},
   "outputs": [],
   "source": [
    "y.shape"
   ]
  },
  {
   "cell_type": "code",
   "execution_count": null,
   "metadata": {},
   "outputs": [],
   "source": [
    "len(x_train)\n",
    "len(y_train)"
   ]
  },
  {
   "cell_type": "code",
   "execution_count": null,
   "metadata": {},
   "outputs": [],
   "source": [
    "len(x_test)\n",
    "len(y_test)"
   ]
  },
  {
   "cell_type": "markdown",
   "metadata": {},
   "source": [
    "# Model implementation using random forest"
   ]
  },
  {
   "cell_type": "code",
   "execution_count": null,
   "metadata": {},
   "outputs": [],
   "source": [
    "Minor= LogisticRegression()"
   ]
  },
  {
   "cell_type": "code",
   "execution_count": null,
   "metadata": {},
   "outputs": [],
   "source": [
    "Minor.fit (x_train.values, y_train.values.reshape(-1,1))"
   ]
  },
  {
   "cell_type": "markdown",
   "metadata": {},
   "source": [
    "# Making predictions using training and test data"
   ]
  },
  {
   "cell_type": "code",
   "execution_count": null,
   "metadata": {},
   "outputs": [],
   "source": [
    "#What the model has predicted"
   ]
  },
  {
   "cell_type": "code",
   "execution_count": null,
   "metadata": {},
   "outputs": [],
   "source": [
    "Minor.predict(x_test.values)"
   ]
  },
  {
   "cell_type": "code",
   "execution_count": null,
   "metadata": {},
   "outputs": [],
   "source": [
    "#Actual values"
   ]
  },
  {
   "cell_type": "code",
   "execution_count": null,
   "metadata": {},
   "outputs": [],
   "source": [
    "y_test.values"
   ]
  },
  {
   "cell_type": "markdown",
   "metadata": {},
   "source": [
    "# Model accuracy for minor"
   ]
  },
  {
   "cell_type": "code",
   "execution_count": null,
   "metadata": {},
   "outputs": [],
   "source": [
    "Minor.score(x_test.values, y_test.values.reshape(-1,1))"
   ]
  },
  {
   "cell_type": "markdown",
   "metadata": {},
   "source": [
    "# Confusion matrix"
   ]
  },
  {
   "cell_type": "markdown",
   "metadata": {},
   "source": [
    "# Classification report"
   ]
  },
  {
   "cell_type": "code",
   "execution_count": null,
   "metadata": {},
   "outputs": [],
   "source": [
    "target_names=['B', 'B+', 'C', 'C+', 'D', 'D+']"
   ]
  },
  {
   "cell_type": "code",
   "execution_count": null,
   "metadata": {},
   "outputs": [],
   "source": [
    "#print(classification_report(y_test, Minor.predict(x_test.values),target_names=target_names))"
   ]
  },
  {
   "cell_type": "markdown",
   "metadata": {},
   "source": [
    "# Loading the dataset for workload"
   ]
  },
  {
   "cell_type": "code",
   "execution_count": null,
   "metadata": {},
   "outputs": [],
   "source": [
    "df"
   ]
  },
  {
   "cell_type": "markdown",
   "metadata": {},
   "source": [
    "# Data preparation"
   ]
  },
  {
   "cell_type": "code",
   "execution_count": null,
   "metadata": {},
   "outputs": [],
   "source": [
    "df.isnull()"
   ]
  },
  {
   "cell_type": "code",
   "execution_count": null,
   "metadata": {},
   "outputs": [],
   "source": [
    "df.duplicated()"
   ]
  },
  {
   "cell_type": "code",
   "execution_count": null,
   "metadata": {},
   "outputs": [],
   "source": [
    "len(df)"
   ]
  },
  {
   "cell_type": "code",
   "execution_count": null,
   "metadata": {},
   "outputs": [],
   "source": [
    "df.drop_duplicates([\"Computer Number\"], keep=\"first\", inplace=True)"
   ]
  },
  {
   "cell_type": "code",
   "execution_count": null,
   "metadata": {},
   "outputs": [],
   "source": [
    "len(df)"
   ]
  },
  {
   "cell_type": "markdown",
   "metadata": {},
   "source": [
    "# Exploratory data analysis"
   ]
  },
  {
   "cell_type": "code",
   "execution_count": null,
   "metadata": {},
   "outputs": [],
   "source": [
    "df[\"Number of courses\"].unique()"
   ]
  },
  {
   "cell_type": "code",
   "execution_count": null,
   "metadata": {},
   "outputs": [],
   "source": [
    "df[\"Number of courses\"].count()"
   ]
  },
  {
   "cell_type": "code",
   "execution_count": null,
   "metadata": {},
   "outputs": [],
   "source": [
    "df[\"Number of courses\"].value_counts()"
   ]
  },
  {
   "cell_type": "code",
   "execution_count": null,
   "metadata": {},
   "outputs": [],
   "source": [
    "df[\"Number of courses\"].value_counts().plot(kind=\"barh\", title=\"Each student's number of courses\", color=\"blue\")"
   ]
  },
  {
   "cell_type": "markdown",
   "metadata": {},
   "source": [
    "# Data transformation"
   ]
  },
  {
   "cell_type": "code",
   "execution_count": null,
   "metadata": {},
   "outputs": [],
   "source": [
    "def fxn_quiz_status(var_grade):\n",
    "    \n",
    "    if(var_grade>=45):\n",
    "        return \"Pass\"\n",
    "    else:\n",
    "        return \"fail\""
   ]
  },
  {
   "cell_type": "code",
   "execution_count": null,
   "metadata": {},
   "outputs": [],
   "source": [
    "df[\"Examination status\"] = df[\"CA + Exam\"].apply(fxn_quiz_status)"
   ]
  },
  {
   "cell_type": "code",
   "execution_count": null,
   "metadata": {},
   "outputs": [],
   "source": [
    "df"
   ]
  },
  {
   "cell_type": "markdown",
   "metadata": {},
   "source": [
    "# Modeling"
   ]
  },
  {
   "cell_type": "code",
   "execution_count": null,
   "metadata": {},
   "outputs": [],
   "source": [
    "df_workload_exam_input= df[[\"Number of courses\",\"Examination status\"]]"
   ]
  },
  {
   "cell_type": "code",
   "execution_count": null,
   "metadata": {},
   "outputs": [],
   "source": [
    "df_workload_exam_input"
   ]
  },
  {
   "cell_type": "code",
   "execution_count": null,
   "metadata": {},
   "outputs": [],
   "source": [
    "#Apply label encodes  to x values"
   ]
  },
  {
   "cell_type": "code",
   "execution_count": null,
   "metadata": {},
   "outputs": [],
   "source": [
    "df_workload_exam_input.replace({5.0: 1, 4.0: 0}, inplace=True)"
   ]
  },
  {
   "cell_type": "code",
   "execution_count": null,
   "metadata": {},
   "outputs": [],
   "source": [
    "df_workload_exam_input"
   ]
  },
  {
   "cell_type": "code",
   "execution_count": null,
   "metadata": {},
   "outputs": [],
   "source": [
    "#Apply label encodes  to y values"
   ]
  },
  {
   "cell_type": "code",
   "execution_count": null,
   "metadata": {},
   "outputs": [],
   "source": [
    "df_workload_exam_input.replace({\"Pass\": 1, \"fail\": 0}, inplace=True)"
   ]
  },
  {
   "cell_type": "code",
   "execution_count": null,
   "metadata": {},
   "outputs": [],
   "source": [
    "df_workload_exam_input"
   ]
  },
  {
   "cell_type": "markdown",
   "metadata": {},
   "source": [
    "# Create/train tests"
   ]
  },
  {
   "cell_type": "code",
   "execution_count": null,
   "metadata": {},
   "outputs": [],
   "source": [
    "#Input x"
   ]
  },
  {
   "cell_type": "code",
   "execution_count": null,
   "metadata": {},
   "outputs": [],
   "source": [
    "X=np.array(df[\"Number of courses\"]).reshape(-1,1)"
   ]
  },
  {
   "cell_type": "code",
   "execution_count": null,
   "metadata": {},
   "outputs": [],
   "source": [
    "X.shape"
   ]
  },
  {
   "cell_type": "code",
   "execution_count": null,
   "metadata": {},
   "outputs": [],
   "source": [
    "#Output y"
   ]
  },
  {
   "cell_type": "code",
   "execution_count": null,
   "metadata": {},
   "outputs": [],
   "source": [
    "Y=np.array(df[\"Examination status\"]).reshape(-1,1)"
   ]
  },
  {
   "cell_type": "code",
   "execution_count": null,
   "metadata": {},
   "outputs": [],
   "source": [
    "Y.shape"
   ]
  },
  {
   "cell_type": "code",
   "execution_count": null,
   "metadata": {},
   "outputs": [],
   "source": [
    "#Splitting"
   ]
  },
  {
   "cell_type": "code",
   "execution_count": null,
   "metadata": {},
   "outputs": [],
   "source": [
    "x_train,x_test, y_train, y_test = train_test_split(df_workload_exam_input[\"Number of courses\"],\n",
    "   df_workload_exam_input [\"Examination status\"], test_size=0.20)"
   ]
  },
  {
   "cell_type": "code",
   "execution_count": null,
   "metadata": {},
   "outputs": [],
   "source": [
    "len(x_train)\n",
    "len(y_train)"
   ]
  },
  {
   "cell_type": "code",
   "execution_count": null,
   "metadata": {},
   "outputs": [],
   "source": [
    "len(x_test)\n",
    "len(y_test)"
   ]
  },
  {
   "cell_type": "markdown",
   "metadata": {},
   "source": [
    "# Model implementation using logistic regression"
   ]
  },
  {
   "cell_type": "code",
   "execution_count": null,
   "metadata": {},
   "outputs": [],
   "source": [
    "workload = LogisticRegression()"
   ]
  },
  {
   "cell_type": "code",
   "execution_count": null,
   "metadata": {},
   "outputs": [],
   "source": [
    "workload.fit (x_train.values.reshape(-1,1), y_train.values.reshape(-1,1))"
   ]
  },
  {
   "cell_type": "markdown",
   "metadata": {},
   "source": [
    "# Model implementation using training and test data"
   ]
  },
  {
   "cell_type": "code",
   "execution_count": null,
   "metadata": {},
   "outputs": [],
   "source": [
    "#What the model has predicted"
   ]
  },
  {
   "cell_type": "code",
   "execution_count": null,
   "metadata": {},
   "outputs": [],
   "source": [
    "workload.predict(x_test.values.reshape(-1,1))"
   ]
  },
  {
   "cell_type": "code",
   "execution_count": null,
   "metadata": {},
   "outputs": [],
   "source": [
    "#The actual values"
   ]
  },
  {
   "cell_type": "code",
   "execution_count": null,
   "metadata": {},
   "outputs": [],
   "source": [
    "y_test.values"
   ]
  },
  {
   "cell_type": "markdown",
   "metadata": {},
   "source": [
    "# Model accuracy for workload"
   ]
  },
  {
   "cell_type": "code",
   "execution_count": null,
   "metadata": {},
   "outputs": [],
   "source": [
    "workload.score(x_test.values.reshape(-1,1),y_test.values.reshape(-1,1))"
   ]
  },
  {
   "cell_type": "markdown",
   "metadata": {},
   "source": [
    "# Confusion matrix"
   ]
  },
  {
   "cell_type": "code",
   "execution_count": null,
   "metadata": {},
   "outputs": [],
   "source": [
    "#confusion_matrix"
   ]
  },
  {
   "cell_type": "markdown",
   "metadata": {},
   "source": [
    "# Classification report"
   ]
  },
  {
   "cell_type": "code",
   "execution_count": null,
   "metadata": {},
   "outputs": [],
   "source": [
    "target_names=['B', 'B+', 'C', 'C+', 'D', 'D+']"
   ]
  },
  {
   "cell_type": "code",
   "execution_count": null,
   "metadata": {},
   "outputs": [],
   "source": [
    "#print(classification_report(y_test, workload.predict(x_test.values),target_names=target_names))"
   ]
  },
  {
   "cell_type": "markdown",
   "metadata": {},
   "source": [
    "# Loading dataset for sponsor"
   ]
  },
  {
   "cell_type": "code",
   "execution_count": null,
   "metadata": {},
   "outputs": [],
   "source": [
    "df\n",
    "ds = df\n"
   ]
  },
  {
   "cell_type": "markdown",
   "metadata": {},
   "source": [
    "# Data preparation"
   ]
  },
  {
   "cell_type": "code",
   "execution_count": null,
   "metadata": {},
   "outputs": [],
   "source": [
    "df.isnull()"
   ]
  },
  {
   "cell_type": "code",
   "execution_count": null,
   "metadata": {},
   "outputs": [],
   "source": [
    "df.duplicated()"
   ]
  },
  {
   "cell_type": "code",
   "execution_count": null,
   "metadata": {},
   "outputs": [],
   "source": [
    "len(df)"
   ]
  },
  {
   "cell_type": "code",
   "execution_count": null,
   "metadata": {},
   "outputs": [],
   "source": [
    "# df.drop_duplicates([\"Computer Number\"], keep=\"first\", inplace=True)"
   ]
  },
  {
   "cell_type": "code",
   "execution_count": null,
   "metadata": {},
   "outputs": [],
   "source": [
    "len(df)"
   ]
  },
  {
   "cell_type": "markdown",
   "metadata": {},
   "source": [
    "# Exploratory data analysis"
   ]
  },
  {
   "cell_type": "code",
   "execution_count": null,
   "metadata": {},
   "outputs": [],
   "source": [
    "df[\"Sponsor\"].unique()"
   ]
  },
  {
   "cell_type": "code",
   "execution_count": null,
   "metadata": {},
   "outputs": [],
   "source": [
    "df[\"Sponsor\"].count()"
   ]
  },
  {
   "cell_type": "code",
   "execution_count": null,
   "metadata": {},
   "outputs": [],
   "source": [
    "df[\"Sponsor\"].value_counts()"
   ]
  },
  {
   "cell_type": "code",
   "execution_count": null,
   "metadata": {},
   "outputs": [],
   "source": [
    "df[\"Sponsor\"].value_counts().plot(kind=\"barh\",title=\"Sponsorship status\")"
   ]
  },
  {
   "cell_type": "markdown",
   "metadata": {},
   "source": [
    "# Data transformation using one hot encoding"
   ]
  },
  {
   "cell_type": "code",
   "execution_count": null,
   "metadata": {},
   "outputs": [],
   "source": [
    "def fxn_quiz_status(var_grade):\n",
    "\n",
    "    if (var_grade >= 90):\n",
    "        return \"A+\"\n",
    "    elif (var_grade >= 80):\n",
    "          return (\"A\")\n",
    "    elif (var_grade >= 70):\n",
    "          return (\"B+\")\n",
    "    elif (var_grade >= 60):\n",
    "          return (\"B\")\n",
    "    elif (var_grade >= 50):\n",
    "          return (\"C+\")\n",
    "    elif (var_grade >= 45):\n",
    "          return (\"C\")\n",
    "    elif (var_grade >= 40):\n",
    "          return (\"D+\")\n",
    "    else:\n",
    "          return (\"D\")"
   ]
  },
  {
   "cell_type": "code",
   "execution_count": null,
   "metadata": {},
   "outputs": [],
   "source": [
    "df[\"Examination status\"] = df[\"CA + Exam\"].apply(fxn_quiz_status)"
   ]
  },
  {
   "cell_type": "code",
   "execution_count": null,
   "metadata": {},
   "outputs": [],
   "source": [
    "df"
   ]
  },
  {
   "cell_type": "markdown",
   "metadata": {},
   "source": [
    "# Modeling"
   ]
  },
  {
   "cell_type": "code",
   "execution_count": null,
   "metadata": {},
   "outputs": [],
   "source": [
    "df_sponsor_exam_input = df[[\"Sponsor\",\"Examination status\"]]"
   ]
  },
  {
   "cell_type": "code",
   "execution_count": null,
   "metadata": {},
   "outputs": [],
   "source": [
    "df_sponsor_exam_input"
   ]
  },
  {
   "cell_type": "code",
   "execution_count": null,
   "metadata": {},
   "outputs": [],
   "source": [
    "df_sponsor_exam_input=pd.get_dummies(df_sponsor_exam_input,columns=[\"Sponsor\"])"
   ]
  },
  {
   "cell_type": "code",
   "execution_count": null,
   "metadata": {},
   "outputs": [],
   "source": [
    "df_sponsor_exam_input"
   ]
  },
  {
   "cell_type": "code",
   "execution_count": null,
   "metadata": {},
   "outputs": [],
   "source": [
    "#Apply label encoders to labels"
   ]
  },
  {
   "cell_type": "code",
   "execution_count": null,
   "metadata": {},
   "outputs": [],
   "source": [
    "sponsor_exam_encoder=LabelEncoder()"
   ]
  },
  {
   "cell_type": "code",
   "execution_count": null,
   "metadata": {},
   "outputs": [],
   "source": [
    "sponsor_exam_encoder.fit(df_minor_exam_input[\"Examination status\"])"
   ]
  },
  {
   "cell_type": "code",
   "execution_count": null,
   "metadata": {},
   "outputs": [],
   "source": [
    "sponsor_exam_encoder.classes_"
   ]
  },
  {
   "cell_type": "code",
   "execution_count": null,
   "metadata": {},
   "outputs": [],
   "source": [
    "sponsor_exam_encoder.fit(df_minor_exam_input[\"Examination status\"])"
   ]
  },
  {
   "cell_type": "code",
   "execution_count": null,
   "metadata": {},
   "outputs": [],
   "source": [
    "sponsor_exam_encoder.classes_"
   ]
  },
  {
   "cell_type": "code",
   "execution_count": null,
   "metadata": {},
   "outputs": [],
   "source": [
    "df_sponsor_exam_input"
   ]
  },
  {
   "cell_type": "code",
   "execution_count": null,
   "metadata": {},
   "outputs": [],
   "source": [
    "df_sponsor_exam_input[\"ExaminationGrade\"]=sponsor_exam_encoder.transform(df_minor_exam_input[\"Examination status\"])"
   ]
  },
  {
   "cell_type": "code",
   "execution_count": null,
   "metadata": {},
   "outputs": [],
   "source": [
    "df_sponsor_exam_input"
   ]
  },
  {
   "cell_type": "markdown",
   "metadata": {},
   "source": [
    "# Create train/train tests"
   ]
  },
  {
   "cell_type": "code",
   "execution_count": null,
   "metadata": {},
   "outputs": [],
   "source": [
    "df_sponsor_exam_input"
   ]
  },
  {
   "cell_type": "code",
   "execution_count": null,
   "metadata": {},
   "outputs": [],
   "source": [
    "#Splitting"
   ]
  },
  {
   "cell_type": "code",
   "execution_count": null,
   "metadata": {},
   "outputs": [],
   "source": [
    "x_train, x_test, y_train, y_test = train_test_split(df_sponsor_exam_input.iloc[:, 1:10],\n",
    "df_sponsor_exam_input[\"ExaminationGrade\"], test_size=0.20)"
   ]
  },
  {
   "cell_type": "code",
   "execution_count": null,
   "metadata": {},
   "outputs": [],
   "source": [
    "#Input x"
   ]
  },
  {
   "cell_type": "code",
   "execution_count": null,
   "metadata": {},
   "outputs": [],
   "source": [
    "x=np.array(df[\"Sponsor\"]).reshape(-1,1)"
   ]
  },
  {
   "cell_type": "code",
   "execution_count": null,
   "metadata": {},
   "outputs": [],
   "source": [
    "x.shape"
   ]
  },
  {
   "cell_type": "code",
   "execution_count": null,
   "metadata": {},
   "outputs": [],
   "source": [
    "# output y"
   ]
  },
  {
   "cell_type": "code",
   "execution_count": null,
   "metadata": {},
   "outputs": [],
   "source": [
    "y=np.array(df[\"Examination status\"]).reshape(-1,1)"
   ]
  },
  {
   "cell_type": "code",
   "execution_count": null,
   "metadata": {},
   "outputs": [],
   "source": [
    "y.shape"
   ]
  },
  {
   "cell_type": "code",
   "execution_count": null,
   "metadata": {},
   "outputs": [],
   "source": [
    "len(x_train)\n",
    "len(y_train)"
   ]
  },
  {
   "cell_type": "code",
   "execution_count": null,
   "metadata": {},
   "outputs": [],
   "source": [
    "len(x_test)\n",
    "len(y_test)"
   ]
  },
  {
   "cell_type": "markdown",
   "metadata": {},
   "source": [
    "# Model implementation using logistic regression"
   ]
  },
  {
   "cell_type": "code",
   "execution_count": null,
   "metadata": {},
   "outputs": [],
   "source": [
    "sponsor_exam = LogisticRegression()"
   ]
  },
  {
   "cell_type": "code",
   "execution_count": null,
   "metadata": {},
   "outputs": [],
   "source": [
    "sponsor_exam.fit (x_train.values, y_train.values.reshape(-1,1))"
   ]
  },
  {
   "cell_type": "markdown",
   "metadata": {},
   "source": [
    "# Making predictions using model and test data"
   ]
  },
  {
   "cell_type": "code",
   "execution_count": null,
   "metadata": {},
   "outputs": [],
   "source": [
    "#Model prediction"
   ]
  },
  {
   "cell_type": "code",
   "execution_count": null,
   "metadata": {},
   "outputs": [],
   "source": [
    "sponsor_exam.predict(x_test.values)"
   ]
  },
  {
   "cell_type": "code",
   "execution_count": null,
   "metadata": {},
   "outputs": [],
   "source": [
    "#Actual values"
   ]
  },
  {
   "cell_type": "code",
   "execution_count": null,
   "metadata": {},
   "outputs": [],
   "source": [
    "y_test.values"
   ]
  },
  {
   "cell_type": "markdown",
   "metadata": {},
   "source": [
    "# Model accuracy for sponsorship"
   ]
  },
  {
   "cell_type": "code",
   "execution_count": null,
   "metadata": {},
   "outputs": [],
   "source": [
    "sponsor_exam.score(x_test.values, y_test.values.reshape(-1,1))"
   ]
  },
  {
   "cell_type": "markdown",
   "metadata": {},
   "source": [
    "# Classification report"
   ]
  },
  {
   "cell_type": "code",
   "execution_count": null,
   "metadata": {},
   "outputs": [],
   "source": [
    "target_names=['B', 'B+', 'C', 'C+', 'D','D+']"
   ]
  },
  {
   "cell_type": "code",
   "execution_count": null,
   "metadata": {},
   "outputs": [],
   "source": [
    "#print(classification_report(y_test,sponsor_exam.predict(x_test.values),target_names=target_names))"
   ]
  },
  {
   "cell_type": "markdown",
   "metadata": {},
   "source": [
    "# Loading the dataset for accomodation"
   ]
  },
  {
   "cell_type": "code",
   "execution_count": null,
   "metadata": {},
   "outputs": [],
   "source": [
    "df"
   ]
  },
  {
   "cell_type": "markdown",
   "metadata": {},
   "source": [
    "# Data preparation"
   ]
  },
  {
   "cell_type": "code",
   "execution_count": null,
   "metadata": {},
   "outputs": [],
   "source": [
    "df.isnull()"
   ]
  },
  {
   "cell_type": "code",
   "execution_count": null,
   "metadata": {},
   "outputs": [],
   "source": [
    "df.duplicated()"
   ]
  },
  {
   "cell_type": "code",
   "execution_count": null,
   "metadata": {},
   "outputs": [],
   "source": [
    "len(df)"
   ]
  },
  {
   "cell_type": "code",
   "execution_count": null,
   "metadata": {},
   "outputs": [],
   "source": [
    "# df.drop_duplicates([\"Computer Number\"], keep=\"first\", inplace=True)"
   ]
  },
  {
   "cell_type": "code",
   "execution_count": null,
   "metadata": {},
   "outputs": [],
   "source": [
    "len(df)"
   ]
  },
  {
   "cell_type": "markdown",
   "metadata": {},
   "source": [
    "# Exploratory data analysis"
   ]
  },
  {
   "cell_type": "code",
   "execution_count": null,
   "metadata": {},
   "outputs": [],
   "source": [
    "df[\"Accomodated\"].unique()"
   ]
  },
  {
   "cell_type": "code",
   "execution_count": null,
   "metadata": {},
   "outputs": [],
   "source": [
    "df[\"Accomodated\"].unique()"
   ]
  },
  {
   "cell_type": "code",
   "execution_count": null,
   "metadata": {},
   "outputs": [],
   "source": [
    "df[\"Accomodated\"].value_counts()"
   ]
  },
  {
   "cell_type": "code",
   "execution_count": null,
   "metadata": {},
   "outputs": [],
   "source": [
    "df[\"Accomodated\"].value_counts().plot(kind=\"barh\", title=\"Students accomodation status\", color=\"blue\")"
   ]
  },
  {
   "cell_type": "markdown",
   "metadata": {},
   "source": [
    "# Data transformation"
   ]
  },
  {
   "cell_type": "code",
   "execution_count": null,
   "metadata": {},
   "outputs": [],
   "source": [
    "def fxn_quiz_status(var_grade):\n",
    "    \n",
    "    if(var_grade>=45):\n",
    "        return \"Pass\"\n",
    "    else:\n",
    "        return \"fail\""
   ]
  },
  {
   "cell_type": "code",
   "execution_count": null,
   "metadata": {},
   "outputs": [],
   "source": [
    "df[\"Examination status\"] = df[\"CA + Exam\"].apply(fxn_quiz_status)"
   ]
  },
  {
   "cell_type": "code",
   "execution_count": null,
   "metadata": {},
   "outputs": [],
   "source": [
    "\n",
    "data_set = df\n",
    "data_set"
   ]
  },
  {
   "cell_type": "markdown",
   "metadata": {},
   "source": [
    "# Modeling"
   ]
  },
  {
   "cell_type": "code",
   "execution_count": null,
   "metadata": {},
   "outputs": [],
   "source": [
    "df_accomodation_exam_input = df[[\"Accomodated\",\"Examination status\"]]"
   ]
  },
  {
   "cell_type": "code",
   "execution_count": null,
   "metadata": {},
   "outputs": [],
   "source": [
    "df_accomodation_exam_input"
   ]
  },
  {
   "cell_type": "code",
   "execution_count": null,
   "metadata": {},
   "outputs": [],
   "source": [
    "#Apply label encodes  to x values"
   ]
  },
  {
   "cell_type": "code",
   "execution_count": null,
   "metadata": {},
   "outputs": [],
   "source": [
    "df_accomodation_exam_input.replace({\"Yes\": 1, \"No\": 0}, inplace=True)"
   ]
  },
  {
   "cell_type": "code",
   "execution_count": null,
   "metadata": {},
   "outputs": [],
   "source": [
    "df_accomodation_exam_input"
   ]
  },
  {
   "cell_type": "code",
   "execution_count": null,
   "metadata": {},
   "outputs": [],
   "source": [
    "#Apply label encodes  to y values"
   ]
  },
  {
   "cell_type": "code",
   "execution_count": null,
   "metadata": {},
   "outputs": [],
   "source": [
    "df_accomodation_exam_input.replace({\"Pass\": 1, \"fail\": 0}, inplace=True)"
   ]
  },
  {
   "cell_type": "code",
   "execution_count": null,
   "metadata": {},
   "outputs": [],
   "source": [
    "df_accomodation_exam_input"
   ]
  },
  {
   "cell_type": "markdown",
   "metadata": {},
   "source": [
    "# Create train/train tests"
   ]
  },
  {
   "cell_type": "code",
   "execution_count": null,
   "metadata": {},
   "outputs": [],
   "source": [
    "#Input x"
   ]
  },
  {
   "cell_type": "code",
   "execution_count": null,
   "metadata": {},
   "outputs": [],
   "source": [
    "X=np.array(df[\"Accomodated\"]).reshape(-1,1)"
   ]
  },
  {
   "cell_type": "code",
   "execution_count": null,
   "metadata": {},
   "outputs": [],
   "source": [
    "X.shape"
   ]
  },
  {
   "cell_type": "code",
   "execution_count": null,
   "metadata": {},
   "outputs": [],
   "source": [
    "#Output y"
   ]
  },
  {
   "cell_type": "code",
   "execution_count": null,
   "metadata": {},
   "outputs": [],
   "source": [
    "Y=np.array(df[\"Examination status\"]).reshape(-1,1)"
   ]
  },
  {
   "cell_type": "code",
   "execution_count": null,
   "metadata": {},
   "outputs": [],
   "source": [
    "Y.shape"
   ]
  },
  {
   "cell_type": "code",
   "execution_count": null,
   "metadata": {},
   "outputs": [],
   "source": [
    "#Splitting"
   ]
  },
  {
   "cell_type": "code",
   "execution_count": null,
   "metadata": {},
   "outputs": [],
   "source": [
    "x_train,x_test, y_train, y_test = train_test_split(df_accomodation_exam_input[\"Accomodated\"],\n",
    "   df_accomodation_exam_input [\"Examination status\"], test_size=0.20)"
   ]
  },
  {
   "cell_type": "code",
   "execution_count": null,
   "metadata": {},
   "outputs": [],
   "source": [
    "len(x_train)\n",
    "len(y_train)"
   ]
  },
  {
   "cell_type": "code",
   "execution_count": null,
   "metadata": {},
   "outputs": [],
   "source": [
    "len(x_test)\n",
    "len(y_test)"
   ]
  },
  {
   "cell_type": "markdown",
   "metadata": {},
   "source": [
    "# Model implementation"
   ]
  },
  {
   "cell_type": "code",
   "execution_count": null,
   "metadata": {},
   "outputs": [],
   "source": [
    "accomodation = DecisionTreeClassifier()"
   ]
  },
  {
   "cell_type": "code",
   "execution_count": null,
   "metadata": {},
   "outputs": [],
   "source": [
    "accomodation.fit (x_train.values.reshape(-1,1), y_train.values.reshape(-1,1))"
   ]
  },
  {
   "cell_type": "markdown",
   "metadata": {},
   "source": [
    "# Making training and test data"
   ]
  },
  {
   "cell_type": "code",
   "execution_count": null,
   "metadata": {},
   "outputs": [],
   "source": [
    "#What the model has predicted"
   ]
  },
  {
   "cell_type": "code",
   "execution_count": null,
   "metadata": {},
   "outputs": [],
   "source": [
    "accomodation.predict(x_test.values.reshape(-1,1))"
   ]
  },
  {
   "cell_type": "code",
   "execution_count": null,
   "metadata": {},
   "outputs": [],
   "source": [
    "#The actual values"
   ]
  },
  {
   "cell_type": "code",
   "execution_count": null,
   "metadata": {},
   "outputs": [],
   "source": [
    "y_test.values"
   ]
  },
  {
   "cell_type": "markdown",
   "metadata": {},
   "source": [
    "# Model accuracy for accomodation"
   ]
  },
  {
   "cell_type": "code",
   "execution_count": null,
   "metadata": {},
   "outputs": [],
   "source": [
    "accomodation.score(x_test.values.reshape(-1,1),y_test.values.reshape(-1,1))"
   ]
  },
  {
   "cell_type": "markdown",
   "metadata": {},
   "source": [
    "# Classification report"
   ]
  },
  {
   "cell_type": "code",
   "execution_count": null,
   "metadata": {},
   "outputs": [],
   "source": [
    "target_names=['B','B+','C','C+','D+','D']"
   ]
  },
  {
   "cell_type": "code",
   "execution_count": null,
   "metadata": {},
   "outputs": [],
   "source": [
    "#(classification_report(accomodation.predict(x_test.values),y_test.values.reshape(-1,1))"
   ]
  },
  {
   "cell_type": "markdown",
   "metadata": {},
   "source": [
    "# Loading the moodle logins dataset"
   ]
  },
  {
   "cell_type": "code",
   "execution_count": null,
   "metadata": {},
   "outputs": [],
   "source": [
    "df"
   ]
  },
  {
   "cell_type": "markdown",
   "metadata": {},
   "source": [
    "# Data preparation"
   ]
  },
  {
   "cell_type": "code",
   "execution_count": null,
   "metadata": {},
   "outputs": [],
   "source": [
    "df.isnull()"
   ]
  },
  {
   "cell_type": "code",
   "execution_count": null,
   "metadata": {},
   "outputs": [],
   "source": [
    "df.duplicated()"
   ]
  },
  {
   "cell_type": "code",
   "execution_count": null,
   "metadata": {},
   "outputs": [],
   "source": [
    "len(df)"
   ]
  },
  {
   "cell_type": "code",
   "execution_count": null,
   "metadata": {},
   "outputs": [],
   "source": [
    "# df.drop_duplicates([\"Computer Number\"], keep=\"first\", inplace=True)"
   ]
  },
  {
   "cell_type": "code",
   "execution_count": null,
   "metadata": {},
   "outputs": [],
   "source": [
    "len(df)"
   ]
  },
  {
   "cell_type": "markdown",
   "metadata": {},
   "source": [
    "# Exploratory data analysis"
   ]
  },
  {
   "cell_type": "code",
   "execution_count": null,
   "metadata": {},
   "outputs": [],
   "source": [
    "df[\"Moodle logins\"].unique()"
   ]
  },
  {
   "cell_type": "code",
   "execution_count": null,
   "metadata": {},
   "outputs": [],
   "source": [
    "df[\"Moodle logins\"].count()"
   ]
  },
  {
   "cell_type": "code",
   "execution_count": null,
   "metadata": {},
   "outputs": [],
   "source": [
    "df[\"Moodle logins\"].value_counts()"
   ]
  },
  {
   "cell_type": "code",
   "execution_count": null,
   "metadata": {},
   "outputs": [],
   "source": [
    "df[\"Moodle logins\"].value_counts().plot(kind=\"barh\",title=\"Moodle login status\")"
   ]
  },
  {
   "cell_type": "markdown",
   "metadata": {},
   "source": [
    "# Data transformation using one hot encoding"
   ]
  },
  {
   "cell_type": "code",
   "execution_count": null,
   "metadata": {},
   "outputs": [],
   "source": [
    "def fxn_quiz_status(var_grade):\n",
    "    if (var_grade >= 90):\n",
    "        return \"A+\"\n",
    "    elif (var_grade >= 80):\n",
    "          return (\"A\")\n",
    "    elif (var_grade >= 70):\n",
    "          return (\"B+\")\n",
    "    elif (var_grade >= 60):\n",
    "          return (\"B\")\n",
    "    elif (var_grade >= 50):\n",
    "          return (\"C+\")\n",
    "    elif (var_grade >= 45):\n",
    "          return (\"C\")\n",
    "    elif (var_grade >= 40):\n",
    "          return (\"D+\")\n",
    "    else:\n",
    "          return (\"D\")"
   ]
  },
  {
   "cell_type": "code",
   "execution_count": null,
   "metadata": {},
   "outputs": [],
   "source": [
    "df[\"Examination status\"] = df[\"CA + Exam\"].apply(fxn_quiz_status)"
   ]
  },
  {
   "cell_type": "code",
   "execution_count": null,
   "metadata": {},
   "outputs": [],
   "source": [
    "df"
   ]
  },
  {
   "cell_type": "markdown",
   "metadata": {},
   "source": [
    "# Modeling"
   ]
  },
  {
   "cell_type": "code",
   "execution_count": null,
   "metadata": {},
   "outputs": [],
   "source": [
    "df_moodle_exam_input = df[[\"Moodle logins\",\"Examination status\"]]"
   ]
  },
  {
   "cell_type": "code",
   "execution_count": null,
   "metadata": {},
   "outputs": [],
   "source": [
    "df_moodle_exam_input"
   ]
  },
  {
   "cell_type": "code",
   "execution_count": null,
   "metadata": {},
   "outputs": [],
   "source": [
    "df_moodle_exam_input=pd.get_dummies(df_moodle_exam_input,columns=[\"Moodle logins\"])"
   ]
  },
  {
   "cell_type": "code",
   "execution_count": null,
   "metadata": {},
   "outputs": [],
   "source": [
    "df_moodle_exam_input"
   ]
  },
  {
   "cell_type": "code",
   "execution_count": null,
   "metadata": {},
   "outputs": [],
   "source": [
    "#Apply label encoders to labels"
   ]
  },
  {
   "cell_type": "code",
   "execution_count": null,
   "metadata": {},
   "outputs": [],
   "source": [
    "moodle_exam_encoder=LabelEncoder()"
   ]
  },
  {
   "cell_type": "code",
   "execution_count": null,
   "metadata": {},
   "outputs": [],
   "source": [
    "moodle_exam_encoder.fit(df_minor_exam_input[\"Examination status\"])"
   ]
  },
  {
   "cell_type": "code",
   "execution_count": null,
   "metadata": {},
   "outputs": [],
   "source": [
    "LabelEncoder()"
   ]
  },
  {
   "cell_type": "code",
   "execution_count": null,
   "metadata": {},
   "outputs": [],
   "source": [
    "moodle_exam_encoder.classes_"
   ]
  },
  {
   "cell_type": "code",
   "execution_count": null,
   "metadata": {},
   "outputs": [],
   "source": [
    "moodle_exam_encoder.fit(df_minor_exam_input[\"Examination status\"])"
   ]
  },
  {
   "cell_type": "code",
   "execution_count": null,
   "metadata": {},
   "outputs": [],
   "source": [
    "moodle_exam_encoder.classes_"
   ]
  },
  {
   "cell_type": "code",
   "execution_count": null,
   "metadata": {},
   "outputs": [],
   "source": [
    "df_moodle_exam_input.head(30)"
   ]
  },
  {
   "cell_type": "code",
   "execution_count": null,
   "metadata": {},
   "outputs": [],
   "source": [
    "df_moodle_exam_input[\"ExaminationGrade\"]=moodle_exam_encoder.transform(df_moodle_exam_input[\"Examination status\"])"
   ]
  },
  {
   "cell_type": "code",
   "execution_count": null,
   "metadata": {},
   "outputs": [],
   "source": [
    "df_moodle_exam_input"
   ]
  },
  {
   "cell_type": "markdown",
   "metadata": {},
   "source": [
    "# Create/train sets"
   ]
  },
  {
   "cell_type": "code",
   "execution_count": null,
   "metadata": {},
   "outputs": [],
   "source": [
    "df_minor_exam_input.iloc[:, 1:10]"
   ]
  },
  {
   "cell_type": "code",
   "execution_count": null,
   "metadata": {},
   "outputs": [],
   "source": [
    "#Splitting"
   ]
  },
  {
   "cell_type": "code",
   "execution_count": null,
   "metadata": {},
   "outputs": [],
   "source": [
    "x_train, x_test, y_train, y_test = train_test_split(df_moodle_exam_input.iloc[:, 1:10],\n",
    "df_moodle_exam_input[\"ExaminationGrade\"], test_size=0.20)"
   ]
  },
  {
   "cell_type": "code",
   "execution_count": null,
   "metadata": {},
   "outputs": [],
   "source": [
    "# x input"
   ]
  },
  {
   "cell_type": "code",
   "execution_count": null,
   "metadata": {},
   "outputs": [],
   "source": [
    "x=np.array(df[\"Moodle logins\"]).reshape(-1,1)"
   ]
  },
  {
   "cell_type": "code",
   "execution_count": null,
   "metadata": {},
   "outputs": [],
   "source": [
    "x.shape"
   ]
  },
  {
   "cell_type": "code",
   "execution_count": null,
   "metadata": {},
   "outputs": [],
   "source": [
    "# Y output"
   ]
  },
  {
   "cell_type": "code",
   "execution_count": null,
   "metadata": {},
   "outputs": [],
   "source": [
    "y=np.array(df[\"Examination status\"]).reshape(-1,1)"
   ]
  },
  {
   "cell_type": "code",
   "execution_count": null,
   "metadata": {},
   "outputs": [],
   "source": [
    "y.shape"
   ]
  },
  {
   "cell_type": "code",
   "execution_count": null,
   "metadata": {},
   "outputs": [],
   "source": [
    "len(x_train)\n",
    "len(y_train)"
   ]
  },
  {
   "cell_type": "code",
   "execution_count": null,
   "metadata": {},
   "outputs": [],
   "source": [
    "len(x_test)\n",
    "len(y_test)"
   ]
  },
  {
   "cell_type": "markdown",
   "metadata": {},
   "source": [
    "# Model implementation"
   ]
  },
  {
   "cell_type": "code",
   "execution_count": null,
   "metadata": {},
   "outputs": [],
   "source": [
    "moodle_exam = LogisticRegression()"
   ]
  },
  {
   "cell_type": "code",
   "execution_count": null,
   "metadata": {},
   "outputs": [],
   "source": [
    "moodle_exam.fit (x_train.values, y_train.values.reshape(-1,1))"
   ]
  },
  {
   "cell_type": "markdown",
   "metadata": {},
   "source": [
    "# Making predictions using training and test data"
   ]
  },
  {
   "cell_type": "code",
   "execution_count": null,
   "metadata": {},
   "outputs": [],
   "source": [
    "#What the model has predicted"
   ]
  },
  {
   "cell_type": "code",
   "execution_count": null,
   "metadata": {},
   "outputs": [],
   "source": [
    "moodle_exam.predict(x_test.values)"
   ]
  },
  {
   "cell_type": "code",
   "execution_count": null,
   "metadata": {},
   "outputs": [],
   "source": [
    "#Actual values"
   ]
  },
  {
   "cell_type": "code",
   "execution_count": null,
   "metadata": {},
   "outputs": [],
   "source": [
    "y_test.values"
   ]
  },
  {
   "cell_type": "markdown",
   "metadata": {},
   "source": [
    "# Model accuracy for moodle logins"
   ]
  },
  {
   "cell_type": "code",
   "execution_count": null,
   "metadata": {},
   "outputs": [],
   "source": [
    "moodle_exam.score(x_test.values, y_test.values.reshape(-1,1))"
   ]
  },
  {
   "cell_type": "markdown",
   "metadata": {},
   "source": [
    "# Classification report"
   ]
  },
  {
   "cell_type": "code",
   "execution_count": null,
   "metadata": {},
   "outputs": [],
   "source": [
    "target_names=['B', 'B+', 'C', 'C+', 'D']"
   ]
  },
  {
   "cell_type": "code",
   "execution_count": null,
   "metadata": {},
   "outputs": [],
   "source": [
    "#print(classification_report(y_test, moodle_exam.predict(x_test.values),target_names=target_names))"
   ]
  },
  {
   "cell_type": "code",
   "execution_count": null,
   "metadata": {},
   "outputs": [],
   "source": [
    "#Merging"
   ]
  },
  {
   "cell_type": "code",
   "execution_count": null,
   "metadata": {},
   "outputs": [],
   "source": [
    "#df.columns"
   ]
  },
  {
   "cell_type": "code",
   "execution_count": null,
   "metadata": {},
   "outputs": [],
   "source": [
    "#df=[Gender,Minor,Sponsor,Accomodated,Moodle logins]"
   ]
  },
  {
   "cell_type": "code",
   "execution_count": null,
   "metadata": {},
   "outputs": [],
   "source": [
    "# df"
   ]
  },
  {
   "cell_type": "code",
   "execution_count": null,
   "metadata": {},
   "outputs": [],
   "source": [
    "# df2 = df.columns\n"
   ]
  },
  {
   "cell_type": "code",
   "execution_count": null,
   "metadata": {},
   "outputs": [],
   "source": [
    "# df2"
   ]
  },
  {
   "cell_type": "code",
   "execution_count": null,
   "metadata": {},
   "outputs": [],
   "source": [
    "# df2 = df.iloc[:,[0,13]]\n",
    "# df2"
   ]
  },
  {
   "cell_type": "code",
   "execution_count": null,
   "metadata": {},
   "outputs": [],
   "source": [
    "for res in df2:\n",
    "    print(res)"
   ]
  },
  {
   "cell_type": "code",
   "execution_count": 576,
   "metadata": {},
   "outputs": [],
   "source": [
    "def predictML(v):\n",
    "    data = x.loc[v]\n",
    "    print(data)"
   ]
  },
  {
   "cell_type": "code",
   "execution_count": 577,
   "metadata": {},
   "outputs": [
    {
     "name": "stdout",
     "output_type": "stream",
     "text": [
      "Gender                                                                M\n",
      "Academic Year                                                     20181\n",
      "Year Of Study                                                  1st Year\n",
      "School                                                        EDUCATION\n",
      "Program               BACHELOR OF INFORMATION AND COMMUNICATION TECH...\n",
      "Major                                                ICTs and Education\n",
      "Minor                                                   CIVIC EDUCATION\n",
      "Number of courses                                                   5.0\n",
      "Sponsor                                                  SELF-SPONSORED\n",
      "Accomodated                                                          No\n",
      "Moodle logins                                                       NaN\n",
      "CA + Exam                                                           NaN\n",
      "Examination status                                                 fail\n",
      "Name: 2005, dtype: object\n"
     ]
    }
   ],
   "source": [
    "predictML(2005)"
   ]
  },
  {
   "cell_type": "code",
   "execution_count": null,
   "metadata": {},
   "outputs": [],
   "source": []
  }
 ],
 "metadata": {
  "kernelspec": {
   "display_name": "Python 3",
   "language": "python",
   "name": "python3"
  },
  "language_info": {
   "codemirror_mode": {
    "name": "ipython",
    "version": 3
   },
   "file_extension": ".py",
   "mimetype": "text/x-python",
   "name": "python",
   "nbconvert_exporter": "python",
   "pygments_lexer": "ipython3",
   "version": "3.8.8"
  }
 },
 "nbformat": 4,
 "nbformat_minor": 4
}
